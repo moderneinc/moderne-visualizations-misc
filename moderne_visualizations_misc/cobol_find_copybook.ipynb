{
 "cells": [
  {
   "cell_type": "code",
   "execution_count": null,
   "id": "3ec2bc7b-86ad-44fa-afba-b737251e93a3",
   "metadata": {},
   "outputs": [],
   "source": [
    "import graphviz\n",
    "from code_data_science import data_table as dt\n",
    "\n",
    "df = dt.read_csv(\"../samples/cobol_find_copybook.csv\")"
   ]
  },
  {
   "cell_type": "code",
   "execution_count": null,
   "id": "def9e15f-7027-4ca6-88c0-84e67ca9417b",
   "metadata": {
    "is_executing": true
   },
   "outputs": [],
   "source": [
    "graphviz.set_jupyter_format(\"svg\")\n",
    "graphviz.set_default_engine(\"sfdp\")\n",
    "dot = graphviz.Digraph(\"copybook-usage\", comment=\"Usage of COBOL copybooks\")\n",
    "\n",
    "\n",
    "def style_node(value):\n",
    "    if value == \"MISSING_SOURCE\":\n",
    "        return \"red\"\n",
    "    return \"white\"\n",
    "\n",
    "\n",
    "def describe_node(value):\n",
    "    if value == \"MISSING_SOURCE\":\n",
    "        return \"missing copybook\"\n",
    "    return \"copybook\"\n",
    "\n",
    "\n",
    "def map_copybook_to_source(row):\n",
    "    dot.node(row[\"source\"])\n",
    "    dot.node(\n",
    "        row[\"copybookName\"],\n",
    "        style=\"filled\",\n",
    "        fillcolor=style_node(row[\"resolutionStatus\"]),\n",
    "    )\n",
    "    dot.edge(\n",
    "        row[\"source\"], row[\"copybookName\"], describe_node((row[\"resolutionStatus\"]))\n",
    "    )\n",
    "\n",
    "\n",
    "df.apply(map_copybook_to_source, axis=1)\n",
    "\n",
    "dot"
   ]
  }
 ],
 "metadata": {
  "kernelspec": {
   "display_name": "Python 3 (ipykernel)",
   "language": "python",
   "name": "python3"
  },
  "language_info": {
   "codemirror_mode": {
    "name": "ipython",
    "version": 3
   },
   "file_extension": ".py",
   "mimetype": "text/x-python",
   "name": "python",
   "nbconvert_exporter": "python",
   "pygments_lexer": "ipython3",
   "version": "3.9.17"
  }
 },
 "nbformat": 4,
 "nbformat_minor": 5
}
