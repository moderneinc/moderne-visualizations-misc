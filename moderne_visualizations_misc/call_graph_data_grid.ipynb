{
 "cells": [
  {
   "cell_type": "code",
   "execution_count": null,
   "metadata": {
    "tags": [
     "parameters"
    ]
   },
   "outputs": [],
   "source": [
    "filter_by_fqn: str = \"org.openrewrite.sql.SqlDetector\"\n",
    "filter_by_method_name: str = \"\""
   ]
  },
  {
   "cell_type": "markdown",
   "metadata": {},
   "source": [
    "Bring in data table and do initial cleaning"
   ]
  },
  {
   "cell_type": "code",
   "execution_count": null,
   "metadata": {},
   "outputs": [],
   "source": [
    "from code_data_science import data_table as dt\n",
    "\n",
    "df = dt.read_csv(\"../samples/call_graph.csv\")\n",
    "\n",
    "if filter_by_fqn:\n",
    "    df = df[(df[\"fromClass\"] == filter_by_fqn) | (df[\"toClass\"] == filter_by_fqn)]\n",
    "\n",
    "if filter_by_method_name:\n",
    "    df = df[\n",
    "        (df[\"fromName\"] == filter_by_method_name)\n",
    "        | (df[\"toName\"] == filter_by_method_name)\n",
    "    ]\n",
    "\n",
    "# rename columns to use sentence casing\n",
    "df = df.rename(\n",
    "    columns={\n",
    "        \"repositoryOrigin\": \"Origin\",\n",
    "        \"repositoryPath\": \"Path\",\n",
    "        \"repositoryBranch\": \"Branch\",\n",
    "        \"fromClass\": \"From class\",\n",
    "        \"fromName\": \"From method\",\n",
    "        \"fromArguments\": \"From arguments\",\n",
    "        \"fromType\": \"From type\",\n",
    "        \"action\": \"Action\",\n",
    "        \"toClass\": \"To class\",\n",
    "        \"toName\": \"To method\",\n",
    "        \"toArguments\": \"To arguments\",\n",
    "        \"toType\": \"To type\",\n",
    "    }\n",
    ")"
   ]
  },
  {
   "cell_type": "code",
   "execution_count": null,
   "metadata": {},
   "outputs": [],
   "source": [
    "df"
   ]
  },
  {
   "cell_type": "code",
   "execution_count": null,
   "metadata": {},
   "outputs": [],
   "source": [
    "from code_data_science import data_grid as moderne_data_grid\n",
    "\n",
    "moderne_data_grid.display(df)"
   ]
  }
 ],
 "metadata": {
  "kernelspec": {
   "display_name": "Python 3",
   "language": "python",
   "name": "python3"
  },
  "language_info": {
   "codemirror_mode": {
    "name": "ipython",
    "version": 3
   },
   "file_extension": ".py",
   "mimetype": "text/x-python",
   "name": "python",
   "nbconvert_exporter": "python",
   "pygments_lexer": "ipython3",
   "version": "3.11.4"
  },
  "orig_nbformat": 4
 },
 "nbformat": 4,
 "nbformat_minor": 2
}
