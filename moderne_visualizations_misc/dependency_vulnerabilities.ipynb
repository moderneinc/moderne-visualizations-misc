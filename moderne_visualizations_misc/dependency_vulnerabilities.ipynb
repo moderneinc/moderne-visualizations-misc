{
 "cells": [
  {
   "cell_type": "code",
   "execution_count": 5,
   "metadata": {
    "tags": [
     "parameters"
    ]
   },
   "outputs": [],
   "source": [
    "repository_filter: list[str] = []"
   ]
  },
  {
   "cell_type": "code",
   "execution_count": 6,
   "metadata": {},
   "outputs": [
    {
     "data": {
      "application/vnd.plotly.v1+json": {
       "config": {
        "plotlyServerURL": "https://plot.ly"
       },
       "data": [
        {
         "alignmentgroup": "True",
         "customdata": [
          [
           21.8,
           52.9,
           25.1,
           0.3
          ],
          [
           27,
           55.7,
           15.2,
           2
          ],
          [
           21.8,
           27.3,
           49.1,
           1.8
          ],
          [
           37.3,
           31.4,
           11.8,
           19.6
          ]
         ],
         "hovertemplate": "<b>%{hovertext}</b><br><br>Severity=Critical<br>Type of version required to fix vulnerability=%{x}<br>value=%{y}<br>Critical %=%{customdata[0]}<br>High %=%{customdata[1]}<br>Moderate %=%{customdata[2]}<br>Low %=%{customdata[3]}<extra></extra>",
         "hovertext": [
          "Patch",
          "Minor",
          "Major",
          "No fixed version"
         ],
         "legendgroup": "Critical",
         "marker": {
          "color": "#FF5B5B",
          "pattern": {
           "shape": ""
          }
         },
         "name": "Critical",
         "offsetgroup": "Critical",
         "orientation": "v",
         "showlegend": true,
         "textposition": "auto",
         "type": "bar",
         "width": 0.33,
         "x": [
          "Patch",
          "Minor",
          "Major",
          "No fixed version"
         ],
         "xaxis": "x",
         "y": [
          79,
          66,
          12,
          19
         ],
         "yaxis": "y"
        },
        {
         "alignmentgroup": "True",
         "customdata": [
          [
           21.8,
           52.9,
           25.1,
           0.3
          ],
          [
           27,
           55.7,
           15.2,
           2
          ],
          [
           21.8,
           27.3,
           49.1,
           1.8
          ],
          [
           37.3,
           31.4,
           11.8,
           19.6
          ]
         ],
         "hovertemplate": "<b>%{hovertext}</b><br><br>Severity=High<br>Type of version required to fix vulnerability=%{x}<br>value=%{y}<br>Critical %=%{customdata[0]}<br>High %=%{customdata[1]}<br>Moderate %=%{customdata[2]}<br>Low %=%{customdata[3]}<extra></extra>",
         "hovertext": [
          "Patch",
          "Minor",
          "Major",
          "No fixed version"
         ],
         "legendgroup": "High",
         "marker": {
          "color": "#FABA49",
          "pattern": {
           "shape": ""
          }
         },
         "name": "High",
         "offsetgroup": "High",
         "orientation": "v",
         "showlegend": true,
         "textposition": "auto",
         "type": "bar",
         "width": 0.33,
         "x": [
          "Patch",
          "Minor",
          "Major",
          "No fixed version"
         ],
         "xaxis": "x",
         "y": [
          192,
          136,
          15,
          16
         ],
         "yaxis": "y"
        },
        {
         "alignmentgroup": "True",
         "customdata": [
          [
           21.8,
           52.9,
           25.1,
           0.3
          ],
          [
           27,
           55.7,
           15.2,
           2
          ],
          [
           21.8,
           27.3,
           49.1,
           1.8
          ],
          [
           37.3,
           31.4,
           11.8,
           19.6
          ]
         ],
         "hovertemplate": "<b>%{hovertext}</b><br><br>Severity=Moderate<br>Type of version required to fix vulnerability=%{x}<br>value=%{y}<br>Critical %=%{customdata[0]}<br>High %=%{customdata[1]}<br>Moderate %=%{customdata[2]}<br>Low %=%{customdata[3]}<extra></extra>",
         "hovertext": [
          "Patch",
          "Minor",
          "Major",
          "No fixed version"
         ],
         "legendgroup": "Moderate",
         "marker": {
          "color": "#FEE968",
          "pattern": {
           "shape": ""
          }
         },
         "name": "Moderate",
         "offsetgroup": "Moderate",
         "orientation": "v",
         "showlegend": true,
         "textposition": "auto",
         "type": "bar",
         "width": 0.33,
         "x": [
          "Patch",
          "Minor",
          "Major",
          "No fixed version"
         ],
         "xaxis": "x",
         "y": [
          91,
          37,
          27,
          6
         ],
         "yaxis": "y"
        },
        {
         "alignmentgroup": "True",
         "customdata": [
          [
           21.8,
           52.9,
           25.1,
           0.3
          ],
          [
           27,
           55.7,
           15.2,
           2
          ],
          [
           21.8,
           27.3,
           49.1,
           1.8
          ],
          [
           37.3,
           31.4,
           11.8,
           19.6
          ]
         ],
         "hovertemplate": "<b>%{hovertext}</b><br><br>Severity=Low<br>Type of version required to fix vulnerability=%{x}<br>value=%{y}<br>Critical %=%{customdata[0]}<br>High %=%{customdata[1]}<br>Moderate %=%{customdata[2]}<br>Low %=%{customdata[3]}<extra></extra>",
         "hovertext": [
          "Patch",
          "Minor",
          "Major",
          "No fixed version"
         ],
         "legendgroup": "Low",
         "marker": {
          "color": "#52BBA0",
          "pattern": {
           "shape": ""
          }
         },
         "name": "Low",
         "offsetgroup": "Low",
         "orientation": "v",
         "showlegend": true,
         "textposition": "auto",
         "type": "bar",
         "width": 0.33,
         "x": [
          "Patch",
          "Minor",
          "Major",
          "No fixed version"
         ],
         "xaxis": "x",
         "y": [
          1,
          5,
          1,
          10
         ],
         "yaxis": "y"
        }
       ],
       "layout": {
        "barmode": "stack",
        "legend": {
         "title": {
          "text": "Severity"
         },
         "tracegroupgap": 0
        },
        "margin": {
         "b": 0,
         "l": 0,
         "r": 0,
         "t": 30
        },
        "template": {
         "data": {
          "bar": [
           {
            "error_x": {
             "color": "#2a3f5f"
            },
            "error_y": {
             "color": "#2a3f5f"
            },
            "marker": {
             "line": {
              "color": "#E5ECF6",
              "width": 0.5
             },
             "pattern": {
              "fillmode": "overlay",
              "size": 10,
              "solidity": 0.2
             }
            },
            "type": "bar"
           }
          ],
          "barpolar": [
           {
            "marker": {
             "line": {
              "color": "#E5ECF6",
              "width": 0.5
             },
             "pattern": {
              "fillmode": "overlay",
              "size": 10,
              "solidity": 0.2
             }
            },
            "type": "barpolar"
           }
          ],
          "carpet": [
           {
            "aaxis": {
             "endlinecolor": "#2a3f5f",
             "gridcolor": "white",
             "linecolor": "white",
             "minorgridcolor": "white",
             "startlinecolor": "#2a3f5f"
            },
            "baxis": {
             "endlinecolor": "#2a3f5f",
             "gridcolor": "white",
             "linecolor": "white",
             "minorgridcolor": "white",
             "startlinecolor": "#2a3f5f"
            },
            "type": "carpet"
           }
          ],
          "choropleth": [
           {
            "colorbar": {
             "outlinewidth": 0,
             "ticks": ""
            },
            "type": "choropleth"
           }
          ],
          "contour": [
           {
            "colorbar": {
             "outlinewidth": 0,
             "ticks": ""
            },
            "colorscale": [
             [
              0,
              "#0d0887"
             ],
             [
              0.1111111111111111,
              "#46039f"
             ],
             [
              0.2222222222222222,
              "#7201a8"
             ],
             [
              0.3333333333333333,
              "#9c179e"
             ],
             [
              0.4444444444444444,
              "#bd3786"
             ],
             [
              0.5555555555555556,
              "#d8576b"
             ],
             [
              0.6666666666666666,
              "#ed7953"
             ],
             [
              0.7777777777777778,
              "#fb9f3a"
             ],
             [
              0.8888888888888888,
              "#fdca26"
             ],
             [
              1,
              "#f0f921"
             ]
            ],
            "type": "contour"
           }
          ],
          "contourcarpet": [
           {
            "colorbar": {
             "outlinewidth": 0,
             "ticks": ""
            },
            "type": "contourcarpet"
           }
          ],
          "heatmap": [
           {
            "colorbar": {
             "outlinewidth": 0,
             "ticks": ""
            },
            "colorscale": [
             [
              0,
              "#0d0887"
             ],
             [
              0.1111111111111111,
              "#46039f"
             ],
             [
              0.2222222222222222,
              "#7201a8"
             ],
             [
              0.3333333333333333,
              "#9c179e"
             ],
             [
              0.4444444444444444,
              "#bd3786"
             ],
             [
              0.5555555555555556,
              "#d8576b"
             ],
             [
              0.6666666666666666,
              "#ed7953"
             ],
             [
              0.7777777777777778,
              "#fb9f3a"
             ],
             [
              0.8888888888888888,
              "#fdca26"
             ],
             [
              1,
              "#f0f921"
             ]
            ],
            "type": "heatmap"
           }
          ],
          "heatmapgl": [
           {
            "colorbar": {
             "outlinewidth": 0,
             "ticks": ""
            },
            "colorscale": [
             [
              0,
              "#0d0887"
             ],
             [
              0.1111111111111111,
              "#46039f"
             ],
             [
              0.2222222222222222,
              "#7201a8"
             ],
             [
              0.3333333333333333,
              "#9c179e"
             ],
             [
              0.4444444444444444,
              "#bd3786"
             ],
             [
              0.5555555555555556,
              "#d8576b"
             ],
             [
              0.6666666666666666,
              "#ed7953"
             ],
             [
              0.7777777777777778,
              "#fb9f3a"
             ],
             [
              0.8888888888888888,
              "#fdca26"
             ],
             [
              1,
              "#f0f921"
             ]
            ],
            "type": "heatmapgl"
           }
          ],
          "histogram": [
           {
            "marker": {
             "pattern": {
              "fillmode": "overlay",
              "size": 10,
              "solidity": 0.2
             }
            },
            "type": "histogram"
           }
          ],
          "histogram2d": [
           {
            "colorbar": {
             "outlinewidth": 0,
             "ticks": ""
            },
            "colorscale": [
             [
              0,
              "#0d0887"
             ],
             [
              0.1111111111111111,
              "#46039f"
             ],
             [
              0.2222222222222222,
              "#7201a8"
             ],
             [
              0.3333333333333333,
              "#9c179e"
             ],
             [
              0.4444444444444444,
              "#bd3786"
             ],
             [
              0.5555555555555556,
              "#d8576b"
             ],
             [
              0.6666666666666666,
              "#ed7953"
             ],
             [
              0.7777777777777778,
              "#fb9f3a"
             ],
             [
              0.8888888888888888,
              "#fdca26"
             ],
             [
              1,
              "#f0f921"
             ]
            ],
            "type": "histogram2d"
           }
          ],
          "histogram2dcontour": [
           {
            "colorbar": {
             "outlinewidth": 0,
             "ticks": ""
            },
            "colorscale": [
             [
              0,
              "#0d0887"
             ],
             [
              0.1111111111111111,
              "#46039f"
             ],
             [
              0.2222222222222222,
              "#7201a8"
             ],
             [
              0.3333333333333333,
              "#9c179e"
             ],
             [
              0.4444444444444444,
              "#bd3786"
             ],
             [
              0.5555555555555556,
              "#d8576b"
             ],
             [
              0.6666666666666666,
              "#ed7953"
             ],
             [
              0.7777777777777778,
              "#fb9f3a"
             ],
             [
              0.8888888888888888,
              "#fdca26"
             ],
             [
              1,
              "#f0f921"
             ]
            ],
            "type": "histogram2dcontour"
           }
          ],
          "mesh3d": [
           {
            "colorbar": {
             "outlinewidth": 0,
             "ticks": ""
            },
            "type": "mesh3d"
           }
          ],
          "parcoords": [
           {
            "line": {
             "colorbar": {
              "outlinewidth": 0,
              "ticks": ""
             }
            },
            "type": "parcoords"
           }
          ],
          "pie": [
           {
            "automargin": true,
            "type": "pie"
           }
          ],
          "scatter": [
           {
            "fillpattern": {
             "fillmode": "overlay",
             "size": 10,
             "solidity": 0.2
            },
            "type": "scatter"
           }
          ],
          "scatter3d": [
           {
            "line": {
             "colorbar": {
              "outlinewidth": 0,
              "ticks": ""
             }
            },
            "marker": {
             "colorbar": {
              "outlinewidth": 0,
              "ticks": ""
             }
            },
            "type": "scatter3d"
           }
          ],
          "scattercarpet": [
           {
            "marker": {
             "colorbar": {
              "outlinewidth": 0,
              "ticks": ""
             }
            },
            "type": "scattercarpet"
           }
          ],
          "scattergeo": [
           {
            "marker": {
             "colorbar": {
              "outlinewidth": 0,
              "ticks": ""
             }
            },
            "type": "scattergeo"
           }
          ],
          "scattergl": [
           {
            "marker": {
             "colorbar": {
              "outlinewidth": 0,
              "ticks": ""
             }
            },
            "type": "scattergl"
           }
          ],
          "scattermapbox": [
           {
            "marker": {
             "colorbar": {
              "outlinewidth": 0,
              "ticks": ""
             }
            },
            "type": "scattermapbox"
           }
          ],
          "scatterpolar": [
           {
            "marker": {
             "colorbar": {
              "outlinewidth": 0,
              "ticks": ""
             }
            },
            "type": "scatterpolar"
           }
          ],
          "scatterpolargl": [
           {
            "marker": {
             "colorbar": {
              "outlinewidth": 0,
              "ticks": ""
             }
            },
            "type": "scatterpolargl"
           }
          ],
          "scatterternary": [
           {
            "marker": {
             "colorbar": {
              "outlinewidth": 0,
              "ticks": ""
             }
            },
            "type": "scatterternary"
           }
          ],
          "surface": [
           {
            "colorbar": {
             "outlinewidth": 0,
             "ticks": ""
            },
            "colorscale": [
             [
              0,
              "#0d0887"
             ],
             [
              0.1111111111111111,
              "#46039f"
             ],
             [
              0.2222222222222222,
              "#7201a8"
             ],
             [
              0.3333333333333333,
              "#9c179e"
             ],
             [
              0.4444444444444444,
              "#bd3786"
             ],
             [
              0.5555555555555556,
              "#d8576b"
             ],
             [
              0.6666666666666666,
              "#ed7953"
             ],
             [
              0.7777777777777778,
              "#fb9f3a"
             ],
             [
              0.8888888888888888,
              "#fdca26"
             ],
             [
              1,
              "#f0f921"
             ]
            ],
            "type": "surface"
           }
          ],
          "table": [
           {
            "cells": {
             "fill": {
              "color": "#EBF0F8"
             },
             "line": {
              "color": "white"
             }
            },
            "header": {
             "fill": {
              "color": "#C8D4E3"
             },
             "line": {
              "color": "white"
             }
            },
            "type": "table"
           }
          ]
         },
         "layout": {
          "annotationdefaults": {
           "arrowcolor": "#2a3f5f",
           "arrowhead": 0,
           "arrowwidth": 1
          },
          "autotypenumbers": "strict",
          "coloraxis": {
           "colorbar": {
            "outlinewidth": 0,
            "ticks": ""
           }
          },
          "colorscale": {
           "diverging": [
            [
             0,
             "#8e0152"
            ],
            [
             0.1,
             "#c51b7d"
            ],
            [
             0.2,
             "#de77ae"
            ],
            [
             0.3,
             "#f1b6da"
            ],
            [
             0.4,
             "#fde0ef"
            ],
            [
             0.5,
             "#f7f7f7"
            ],
            [
             0.6,
             "#e6f5d0"
            ],
            [
             0.7,
             "#b8e186"
            ],
            [
             0.8,
             "#7fbc41"
            ],
            [
             0.9,
             "#4d9221"
            ],
            [
             1,
             "#276419"
            ]
           ],
           "sequential": [
            [
             0,
             "#0d0887"
            ],
            [
             0.1111111111111111,
             "#46039f"
            ],
            [
             0.2222222222222222,
             "#7201a8"
            ],
            [
             0.3333333333333333,
             "#9c179e"
            ],
            [
             0.4444444444444444,
             "#bd3786"
            ],
            [
             0.5555555555555556,
             "#d8576b"
            ],
            [
             0.6666666666666666,
             "#ed7953"
            ],
            [
             0.7777777777777778,
             "#fb9f3a"
            ],
            [
             0.8888888888888888,
             "#fdca26"
            ],
            [
             1,
             "#f0f921"
            ]
           ],
           "sequentialminus": [
            [
             0,
             "#0d0887"
            ],
            [
             0.1111111111111111,
             "#46039f"
            ],
            [
             0.2222222222222222,
             "#7201a8"
            ],
            [
             0.3333333333333333,
             "#9c179e"
            ],
            [
             0.4444444444444444,
             "#bd3786"
            ],
            [
             0.5555555555555556,
             "#d8576b"
            ],
            [
             0.6666666666666666,
             "#ed7953"
            ],
            [
             0.7777777777777778,
             "#fb9f3a"
            ],
            [
             0.8888888888888888,
             "#fdca26"
            ],
            [
             1,
             "#f0f921"
            ]
           ]
          },
          "colorway": [
           "#636efa",
           "#EF553B",
           "#00cc96",
           "#ab63fa",
           "#FFA15A",
           "#19d3f3",
           "#FF6692",
           "#B6E880",
           "#FF97FF",
           "#FECB52"
          ],
          "font": {
           "color": "#2a3f5f"
          },
          "geo": {
           "bgcolor": "white",
           "lakecolor": "white",
           "landcolor": "#E5ECF6",
           "showlakes": true,
           "showland": true,
           "subunitcolor": "white"
          },
          "hoverlabel": {
           "align": "left"
          },
          "hovermode": "closest",
          "mapbox": {
           "style": "light"
          },
          "paper_bgcolor": "white",
          "plot_bgcolor": "#E5ECF6",
          "polar": {
           "angularaxis": {
            "gridcolor": "white",
            "linecolor": "white",
            "ticks": ""
           },
           "bgcolor": "#E5ECF6",
           "radialaxis": {
            "gridcolor": "white",
            "linecolor": "white",
            "ticks": ""
           }
          },
          "scene": {
           "xaxis": {
            "backgroundcolor": "#E5ECF6",
            "gridcolor": "white",
            "gridwidth": 2,
            "linecolor": "white",
            "showbackground": true,
            "ticks": "",
            "zerolinecolor": "white"
           },
           "yaxis": {
            "backgroundcolor": "#E5ECF6",
            "gridcolor": "white",
            "gridwidth": 2,
            "linecolor": "white",
            "showbackground": true,
            "ticks": "",
            "zerolinecolor": "white"
           },
           "zaxis": {
            "backgroundcolor": "#E5ECF6",
            "gridcolor": "white",
            "gridwidth": 2,
            "linecolor": "white",
            "showbackground": true,
            "ticks": "",
            "zerolinecolor": "white"
           }
          },
          "shapedefaults": {
           "line": {
            "color": "#2a3f5f"
           }
          },
          "ternary": {
           "aaxis": {
            "gridcolor": "white",
            "linecolor": "white",
            "ticks": ""
           },
           "baxis": {
            "gridcolor": "white",
            "linecolor": "white",
            "ticks": ""
           },
           "bgcolor": "#E5ECF6",
           "caxis": {
            "gridcolor": "white",
            "linecolor": "white",
            "ticks": ""
           }
          },
          "title": {
           "x": 0.05
          },
          "xaxis": {
           "automargin": true,
           "gridcolor": "white",
           "linecolor": "white",
           "ticks": "",
           "title": {
            "standoff": 15
           },
           "zerolinecolor": "white",
           "zerolinewidth": 2
          },
          "yaxis": {
           "automargin": true,
           "gridcolor": "white",
           "linecolor": "white",
           "ticks": "",
           "title": {
            "standoff": 15
           },
           "zerolinecolor": "white",
           "zerolinewidth": 2
          }
         }
        },
        "xaxis": {
         "anchor": "y",
         "domain": [
          0,
          1
         ],
         "title": {
          "text": "Type of version required to fix vulnerability"
         }
        },
        "yaxis": {
         "anchor": "x",
         "domain": [
          0,
          1
         ],
         "title": {
          "text": "Vulnerability count"
         }
        }
       }
      }
     },
     "metadata": {},
     "output_type": "display_data"
    }
   ],
   "source": [
    "import pandas as pd\n",
    "import warnings\n",
    "import plotly.express as px\n",
    "import code_data_science.data_table as dt\n",
    "import code_data_science.palette as palette\n",
    "\n",
    "warnings.simplefilter(\"ignore\")\n",
    "\n",
    "df = dt.read_csv(\"../samples/dependency_vulnerabilities.csv\")\n",
    "\n",
    "df[\"repositoryWithBranch\"] = df[\"repositoryPath\"] + \"/\" + df[\"repositoryBranch\"]\n",
    "\n",
    "# Filter the data frame to only include rows where repositoryWithBranch contain\n",
    "# a term in the repository_filter (case insensitive)\n",
    "if len(repository_filter) > 0:\n",
    "    df = df[\n",
    "        df[\"repositoryWithBranch\"].str.contains(\"|\".join(repository_filter), case=False)\n",
    "    ]\n",
    "\n",
    "\n",
    "def create_bar_plot(df_plot):\n",
    "    if df_plot is None:\n",
    "        df_plot = pd.DataFrame(\n",
    "            {\n",
    "                \"Type of version required to fix vulnerability\": [\n",
    "                    \"Patch\",\n",
    "                    \"Minor\",\n",
    "                    \"Major\",\n",
    "                    \"No fixed version\",\n",
    "                ],\n",
    "                \"Low\": 0,\n",
    "                \"Moderate\": 0,\n",
    "                \"High\": 0,\n",
    "                \"Critical\": 0,\n",
    "                \"Critical %\": 0,\n",
    "                \"High %\": 0,\n",
    "                \"Moderate %\": 0,\n",
    "                \"Low %\": 0,\n",
    "                \"Total\": 0,\n",
    "            }\n",
    "        )\n",
    "\n",
    "    fig = px.bar(\n",
    "        df_plot,\n",
    "        x=\"Type of version required to fix vulnerability\",\n",
    "        y=[\"Critical\", \"High\", \"Moderate\", \"Low\"],\n",
    "        color_discrete_map={\n",
    "            \"Low\": \"#52BBA0\",\n",
    "            \"Moderate\": \"#FEE968\",\n",
    "            \"High\": \"#FABA49\",\n",
    "            \"Critical\": \"#FF5B5B\",\n",
    "        },\n",
    "        barmode=\"stack\",\n",
    "        hover_name=\"Type of version required to fix vulnerability\",\n",
    "        hover_data={\n",
    "            \"Critical %\": True,\n",
    "            \"High %\": True,\n",
    "            \"Moderate %\": True,\n",
    "            \"Low %\": True,\n",
    "        },\n",
    "        labels={\"variable\": \"Severity\"},\n",
    "    )\n",
    "\n",
    "    # Set the axis labels and title\n",
    "    fig.update_layout(\n",
    "        xaxis={\"title\": \"Type of version required to fix vulnerability\"},\n",
    "        yaxis={\"title\": \"Vulnerability count\"},\n",
    "        margin=dict(l=0, r=0, t=30, b=0),\n",
    "    )\n",
    "    return fig\n",
    "\n",
    "\n",
    "# Exit early if there are no stack traces and render a plot with a message\n",
    "if len(df) == 0:\n",
    "    fig = create_bar_plot(None)\n",
    "    fig.update_yaxes(range=[0, 10])\n",
    "    fig.show(render=\"plotly_mimetype\")\n",
    "else:\n",
    "\n",
    "    def get_semver_fix(version, fixed_version):\n",
    "        \"\"\"\n",
    "        looks at current version and fixed version and determines if the fix is a major, minor, patch version, or no fix\n",
    "        \"\"\"\n",
    "        version_components = version.split(\".\")\n",
    "        fixed_components = fixed_version.split(\".\")\n",
    "\n",
    "        # if fixed version is empty, return \"No fixed version\"\n",
    "        if fixed_version == \"\":\n",
    "            return \"No fixed version\"\n",
    "\n",
    "        if len(version_components) < 3:\n",
    "            # fill in the missing version components with 0\n",
    "            for i in range(3 - len(version_components)):\n",
    "                version_components.append(\"0\")\n",
    "        if len(fixed_components) < 3:\n",
    "            # fill in the missing version components with 0\n",
    "            for i in range(3 - len(fixed_components)):\n",
    "                fixed_components.append(\"0\")\n",
    "\n",
    "        elif version_components[0] != fixed_components[0]:\n",
    "            return \"Major\"\n",
    "        elif version_components[1] != fixed_components[1]:\n",
    "            return \"Minor\"\n",
    "        elif version_components[2] != fixed_components[2]:\n",
    "            return \"Patch\"\n",
    "        else:\n",
    "            return \"Unknown\"\n",
    "\n",
    "    # drop unnecessary columns\n",
    "    df = df.drop(\n",
    "        columns=[\n",
    "            \"repositoryOrigin\",\n",
    "            \"repositoryPath\",\n",
    "            \"repositoryBranch\",\n",
    "            \"repositoryWithBranch\",\n",
    "            \"cve\",\n",
    "            \"groupId\",\n",
    "            \"artifactId\",\n",
    "            \"summary\",\n",
    "            \"depth\",\n",
    "        ]\n",
    "    )\n",
    "\n",
    "    # fill NaN values with empty string\n",
    "    df[\"fixedVersion\"] = df[\"fixedVersion\"].fillna(\"\")\n",
    "    df[\"version\"] = df[\"version\"].fillna(\"\")\n",
    "    # make sure version and fixedVersion is a string\n",
    "    df[\"fixedVersion\"] = df[\"fixedVersion\"].astype(str)\n",
    "    df[\"version\"] = df[\"version\"].astype(str)\n",
    "\n",
    "    # add column 'semverFix' to dataframe\n",
    "    df[\"semverFix\"] = df.apply(\n",
    "        lambda x: get_semver_fix(x[\"version\"], x[\"fixedVersion\"]), axis=1\n",
    "    )\n",
    "    # count the occurrences of each semver fix\n",
    "    semverFix_counts = df[\"semverFix\"].value_counts()\n",
    "\n",
    "    # sort the semver fixes in desired order\n",
    "    desired_order = [\"Patch\", \"Minor\", \"Major\", \"No fixed version\"]\n",
    "    semverFix_counts = semverFix_counts.reindex(desired_order)\n",
    "\n",
    "    # count the number severity levels for each semver fix\n",
    "    critical_count = df[df[\"severity\"] == \"CRITICAL\"][\"semverFix\"].value_counts()\n",
    "    critical_count = critical_count.reindex(desired_order)\n",
    "\n",
    "    high_count = df[df[\"severity\"] == \"HIGH\"][\"semverFix\"].value_counts()\n",
    "    high_count = high_count.reindex(desired_order)\n",
    "\n",
    "    moderate_count = df[df[\"severity\"] == \"MODERATE\"][\"semverFix\"].value_counts()\n",
    "    moderate_count = moderate_count.reindex(desired_order)\n",
    "\n",
    "    low_count = df[df[\"severity\"] == \"LOW\"][\"semverFix\"].value_counts()\n",
    "    low_count = low_count.reindex(desired_order)\n",
    "\n",
    "    # Create a DataFrame with the data\n",
    "    df_plot = pd.DataFrame(\n",
    "        {\n",
    "            \"Type of version required to fix vulnerability\": semverFix_counts.index,\n",
    "            \"Low\": low_count,\n",
    "            \"Moderate\": moderate_count,\n",
    "            \"High\": high_count,\n",
    "            \"Critical\": critical_count,\n",
    "        }\n",
    "    )\n",
    "\n",
    "    # Calculate the total count for each bar\n",
    "    df_plot[\"Total\"] = df_plot[[\"Critical\", \"High\", \"Moderate\", \"Low\"]].sum(axis=1)\n",
    "\n",
    "    # Calculate the percentage of the total for each severity level\n",
    "    df_plot[\"Critical %\"] = (\n",
    "        (df_plot[\"Critical\"] / df_plot[\"Total\"] * 100).fillna(0).round(1)\n",
    "    )\n",
    "    df_plot[\"High %\"] = (df_plot[\"High\"] / df_plot[\"Total\"] * 100).fillna(0).round(1)\n",
    "    df_plot[\"Moderate %\"] = (\n",
    "        (df_plot[\"Moderate\"] / df_plot[\"Total\"] * 100).fillna(0).round(1)\n",
    "    )\n",
    "    df_plot[\"Low %\"] = (df_plot[\"Low\"] / df_plot[\"Total\"] * 100).fillna(0).round(1)\n",
    "\n",
    "    fig = create_bar_plot(df_plot)\n",
    "\n",
    "    # Set the y-axis range\n",
    "    fig.update_traces(width=0.33, textposition=\"auto\")\n",
    "\n",
    "    # Show the figure\n",
    "    fig.show(render=\"plotly_mimetype\")"
   ]
  }
 ],
 "metadata": {
  "kernelspec": {
   "display_name": "Python 3 (ipykernel)",
   "language": "python",
   "name": "python3"
  },
  "language_info": {
   "codemirror_mode": {
    "name": "ipython",
    "version": 3
   },
   "file_extension": ".py",
   "mimetype": "text/x-python",
   "name": "python",
   "nbconvert_exporter": "python",
   "pygments_lexer": "ipython3",
   "version": "3.12.2"
  }
 },
 "nbformat": 4,
 "nbformat_minor": 4
}
