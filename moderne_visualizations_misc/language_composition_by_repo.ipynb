{
 "cells": [
  {
   "cell_type": "markdown",
   "metadata": {},
   "source": [
    "Language composition by repository"
   ]
  },
  {
   "cell_type": "markdown",
   "metadata": {},
   "source": [
    "This report shows the different languages that are used in each repository."
   ]
  },
  {
   "cell_type": "code",
   "execution_count": null,
   "metadata": {},
   "outputs": [],
   "source": [
    "import plotly.express as px\n",
    "import pandas as pd\n",
    "from code_data_science import data_table as dt, data_grid as moderne_data_grid\n",
    "import code_data_science.palette as palette\n",
    "\n",
    "df = dt.read_csv(\"../samples/language_composition.csv\")\n",
    "\n",
    "# Exit early if there are no rows and render a plot with a message\n",
    "if len(df) == 0:\n",
    "    fig = px.treemap(names=[], parents=[])\n",
    "    fig.add_annotation(\n",
    "        x=0.5, y=0.5, text=\"No rows of data found\", showarrow=False, font=dict(size=20)\n",
    "    )\n",
    "else:\n",
    "    # concat origin:path:branch into repository\n",
    "    df[\"repository\"] = (\n",
    "        df[\"repositoryOrigin\"]\n",
    "        + \":\"\n",
    "        + df[\"repositoryPath\"]\n",
    "        + \":\"\n",
    "        + df[\"repositoryBranch\"]\n",
    "    )\n",
    "    df[\"fileType\"] = df[\"sourcePath\"].str.split(\".\").str[-1]\n",
    "    df_file_grouped = df.groupby(\n",
    "        by=[\"repository\", \"language\", \"fileType\", \"parserClass\", \"hasParseFailures\"],\n",
    "        as_index=False,\n",
    "    ).sum(numeric_only=True)\n",
    "\n",
    "    path = [\"repository\", \"language\", \"fileType\"]\n",
    "\n",
    "    # number of rows in the dataframe\n",
    "    total_files = len(df[\"sourcePath\"])\n",
    "\n",
    "    # number of rows with a language of Other/unknown/unparseable\n",
    "    total_unparseable_files = len(df[df[\"language\"] == \"Other/unknown/unparseable\"])\n",
    "\n",
    "    # number of rows with a file type of java but a language of Other/unknown/unparseable\n",
    "    total_java_unparseable_files = len(\n",
    "        df[(df[\"language\"] == \"Other/unknown/unparseable\") & (df[\"fileType\"] == \"java\")]\n",
    "    )\n",
    "\n",
    "    # number of rows with parse failures\n",
    "    total_parse_failures = len(df[df[\"hasParseFailures\"] == True])\n",
    "\n",
    "    # number of rows with a file type of java and parse failures\n",
    "    total_java_parse_failures = len(\n",
    "        df[(df[\"hasParseFailures\"] == True) & (df[\"fileType\"] == \"java\")]\n",
    "    )\n",
    "\n",
    "    # sum of lines of text in java files affected by parse failures\n",
    "    total_lines_of_java_affected_by_parse_failures = df[\n",
    "        (df[\"hasParseFailures\"] == True) & (df[\"fileType\"] == \"java\")\n",
    "    ][\"linesOfText\"].sum()\n",
    "\n",
    "    # Set the color palette\n",
    "    colors = palette.qualitative()\n",
    "\n",
    "    fig = px.treemap(\n",
    "        df_file_grouped, path=path, values=\"linesOfText\", color_discrete_sequence=colors\n",
    "    )\n",
    "\n",
    "    fig.update_layout(\n",
    "        margin=dict(t=28, l=0, r=0, b=0),\n",
    "        annotations=[\n",
    "            dict(\n",
    "                x=0.01,\n",
    "                y=1.055,\n",
    "                showarrow=False,\n",
    "                borderwidth=1,\n",
    "                text=\"<b>More info</b>\",\n",
    "                hovertext=(\n",
    "                    f\"\"\"\n",
    "            <b>Total files:</b> {\"{:,}\".format(total_files)} </br> </br>\n",
    "            <b>Other/unknown/unparseable files:</b> {\"{:,}\".format(total_unparseable_files)}</br>\n",
    "            <b>Other/unknown/unparseable .java files:</b> {\"{:,}\".format(total_java_unparseable_files)} </br>\n",
    "            <b>Files with parse failures:</b> {\"{:,}\".format(total_parse_failures)} </br>\n",
    "            <b>.java files with parse failures:</b> {\"{:,}\".format(total_java_parse_failures)} </br>\n",
    "            <b>Total lines of text in .java files with parse failures:</b> {\"{:,}\".format(total_lines_of_java_affected_by_parse_failures)}\n",
    "            \"\"\"\n",
    "                ),\n",
    "                xref=\"paper\",\n",
    "                yref=\"paper\",\n",
    "            )\n",
    "        ],\n",
    "    )\n",
    "\n",
    "    fig.update_traces(\n",
    "        marker=dict(cornerradius=3),\n",
    "    )\n",
    "\n",
    "    fig.data[0].textinfo = \"label+text+value\""
   ]
  },
  {
   "cell_type": "code",
   "execution_count": null,
   "metadata": {},
   "outputs": [],
   "source": [
    "# Output the visualization\n",
    "fig.show(render=\"plotly_mimetype\")"
   ]
  }
 ],
 "metadata": {
  "kernelspec": {
   "display_name": "Python 3 (ipykernel)",
   "language": "python",
   "name": "python3"
  },
  "language_info": {
   "codemirror_mode": {
    "name": "ipython",
    "version": 3
   },
   "file_extension": ".py",
   "mimetype": "text/x-python",
   "name": "python",
   "nbconvert_exporter": "python",
   "pygments_lexer": "ipython3",
   "version": "3.11.4"
  }
 },
 "nbformat": 4,
 "nbformat_minor": 4
}
