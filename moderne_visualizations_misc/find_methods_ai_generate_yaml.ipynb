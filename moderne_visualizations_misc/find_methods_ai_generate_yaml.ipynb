{
 "cells": [
  {
   "cell_type": "code",
   "execution_count": null,
   "metadata": {},
   "outputs": [],
   "source": [
    "from code_data_science import data_table as dt\n",
    "from IPython.display import display as ipython_display\n",
    "import base64\n",
    "import re\n",
    "\n",
    "df = dt.read_csv(\"../samples/find_methods_ai.csv\")\n",
    "\n",
    "methodPatterns = df.drop_duplicates(subset=[\"methodPattern\"])[\"methodPattern\"]\n",
    "query = df[\"query\"][0]\n",
    "\n",
    "yaml = (\n",
    "    \"\"\"# AI Generated, please update as you see fit\n",
    "type: specs.openrewrite.org/v1beta/recipe\n",
    "name: org.myUser.MyRecipe\n",
    "displayName: Find uses of method in code \n",
    "description: Find all methods that do \\\"\"\"\"\n",
    "    + query\n",
    "    + \"\"\"\\\"\n",
    "recipeList:\"\"\"\n",
    ")\n",
    "\n",
    "for methodPattern in methodPatterns:\n",
    "    yaml += (\n",
    "        \"\"\"\n",
    "        - org.openrewrite.java.search.FindMethods:\n",
    "            methodPattern: \"\"\"\n",
    "        + '\"'\n",
    "        + re.sub(r\"\\(.*\\)\", \"(..)\", methodPattern)\n",
    "        + '\"'\n",
    "    )\n",
    "\n",
    "base64_yaml = base64.b64encode(yaml.encode(\"utf-8\")).decode(\"utf-8\")\n",
    "\n",
    "ipython_display(\n",
    "    {\"application/vnd.moderne.yamlrecipe+json\": {\"yaml\": base64_yaml}}, raw=True\n",
    ")"
   ]
  }
 ],
 "metadata": {
  "kernelspec": {
   "display_name": "moderne",
   "language": "python",
   "name": "python3"
  },
  "language_info": {
   "codemirror_mode": {
    "name": "ipython",
    "version": 3
   },
   "file_extension": ".py",
   "mimetype": "text/x-python",
   "name": "python",
   "nbconvert_exporter": "python",
   "pygments_lexer": "ipython3",
   "version": "3.11.4"
  }
 },
 "nbformat": 4,
 "nbformat_minor": 2
}
