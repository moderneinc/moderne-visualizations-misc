{
 "cells": [
  {
   "cell_type": "code",
   "execution_count": null,
   "id": "63746256-381d-43ab-a2f7-1acc9e891e8b",
   "metadata": {},
   "outputs": [],
   "source": [
    "from code_data_science import data_table as dt\n",
    "\n",
    "df = dt.read_csv(\"../samples/java_versions_in_use.csv\")\n",
    "df.head()"
   ]
  },
  {
   "cell_type": "code",
   "execution_count": 2,
   "id": "701147ab-62bd-490f-8a26-8ad1dd80f4d7",
   "metadata": {},
   "outputs": [],
   "source": [
    "columns_to_drop = [\n",
    "    \"repositoryOrigin\",\n",
    "    \"repositoryPath\",\n",
    "    \"repositoryBranch\",\n",
    "    \"scmType\",\n",
    "    \"repositoryLink\",\n",
    "    \"targetVersion\",\n",
    "]\n",
    "\n",
    "data = df.drop(columns=[col for col in columns_to_drop if col in df.columns])\n",
    "data"
   ]
  },
  {
   "cell_type": "code",
   "execution_count": null,
   "id": "5e2e8d84-4b3e-4374-ab5d-9fd14f9a22fc",
   "metadata": {},
   "outputs": [],
   "source": [
    "versions = data.groupby([\"sourceVersion\"], as_index=True).value_counts().fillna(0)\n",
    "versions"
   ]
  },
  {
   "cell_type": "code",
   "execution_count": null,
   "id": "2cf3f3f6-2d72-4cdd-8243-50a37be78cfb",
   "metadata": {},
   "outputs": [],
   "source": [
    "import code_data_science.palette as palette\n",
    "import matplotlib.pyplot as plt\n",
    "\n",
    "colors = palette.qualitative()[:3]\n",
    "\n",
    "ax = versions.plot.bar(colormap=plt.cm.colors.ListedColormap(colors))"
   ]
  }
 ],
 "metadata": {
  "kernelspec": {
   "display_name": "Python 3",
   "language": "python",
   "name": "python3"
  },
  "language_info": {
   "codemirror_mode": {
    "name": "ipython",
    "version": 3
   },
   "file_extension": ".py",
   "mimetype": "text/x-python",
   "name": "python",
   "nbconvert_exporter": "python",
   "pygments_lexer": "ipython3",
   "version": "3.10.14"
  }
 },
 "nbformat": 4,
 "nbformat_minor": 5
}
