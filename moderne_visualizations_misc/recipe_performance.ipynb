{
 "cells": [
  {
   "cell_type": "code",
   "execution_count": null,
   "metadata": {
    "tags": [
     "parameters"
    ]
   },
   "outputs": [],
   "source": [
    "sort_by = \"edit\"\n",
    "top_n = \"10\""
   ]
  },
  {
   "cell_type": "code",
   "execution_count": null,
   "metadata": {
    "tags": []
   },
   "outputs": [],
   "source": [
    "from code_data_science import data_table as dt\n",
    "\n",
    "df = dt.read_csv(\"../samples/recipe_performance.csv\")\n",
    "# parameter is a string\n",
    "top_n = int(top_n)"
   ]
  },
  {
   "cell_type": "code",
   "execution_count": null,
   "metadata": {},
   "outputs": [],
   "source": [
    "import plotly.express as px\n",
    "\n",
    "# Group by recipe and sum up the times\n",
    "grouped = (\n",
    "    df.groupby(\"recipe\")\n",
    "    .agg({\"scanTotalTime\": \"sum\", \"editTotalTime\": \"sum\"})\n",
    "    .reset_index()\n",
    ")\n",
    "\n",
    "# scanTotalTime and editTotalTime are in nanoseconds lets convert to seconds\n",
    "grouped[\"scanTotalTime\"] = grouped[\"scanTotalTime\"] / 1_000_000_000\n",
    "grouped[\"editTotalTime\"] = grouped[\"editTotalTime\"] / 1_000_000_000\n",
    "\n",
    "byTotalTime = f\"{sort_by}TotalTime\"\n",
    "\n",
    "# Sort by the top N\n",
    "grouped = grouped.sort_values(by=byTotalTime, ascending=False).head(top_n)\n",
    "\n",
    "# Sort again to have the longest at the top\n",
    "grouped = grouped.sort_values(by=byTotalTime, ascending=True)\n",
    "\n",
    "# adjust topN if it exceeds the unique recipes\n",
    "top_n = min(top_n, len(grouped))\n",
    "top_n\n",
    "\n",
    "# Calculate the height of the plot\n",
    "height_per_recipe = 25\n",
    "total_height = max(top_n * height_per_recipe + 150, 300)"
   ]
  },
  {
   "cell_type": "code",
   "execution_count": null,
   "metadata": {},
   "outputs": [],
   "source": [
    "fig = px.bar(\n",
    "    grouped,\n",
    "    x=byTotalTime,\n",
    "    y=\"recipe\",\n",
    "    title=f\"Total {sort_by} time for top {top_n} recipes\",\n",
    "    labels={byTotalTime: f\"Total {sort_by} time (sec)\", \"recipe\": \"Recipe\"},\n",
    "    color=byTotalTime,\n",
    "    color_continuous_scale=\"Bluered\",\n",
    "    orientation=\"h\",\n",
    "    height=total_height,\n",
    ")\n",
    "\n",
    "fig.show()"
   ]
  }
 ],
 "metadata": {
  "kernelspec": {
   "display_name": "Python 3 (ipykernel)",
   "language": "python",
   "name": "python3"
  },
  "language_info": {
   "codemirror_mode": {
    "name": "ipython",
    "version": 3
   },
   "file_extension": ".py",
   "mimetype": "text/x-python",
   "name": "python",
   "nbconvert_exporter": "python",
   "pygments_lexer": "ipython3",
   "version": "3.11.4"
  }
 },
 "nbformat": 4,
 "nbformat_minor": 4
}
