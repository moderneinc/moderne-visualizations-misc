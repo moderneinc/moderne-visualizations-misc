{
 "cells": [
  {
   "cell_type": "code",
   "execution_count": null,
   "id": "ef753160-169b-452a-9c8c-9e0940820f9e",
   "metadata": {},
   "outputs": [],
   "source": [
    "from code_data_science import data_table as dt\n",
    "\n",
    "df = dt.read_csv(\"../samples/maven_parent_poms.csv\")\n",
    "df.head()"
   ]
  },
  {
   "cell_type": "code",
   "execution_count": null,
   "id": "86cc5354-5bf9-4682-999b-62e91ea05d1b",
   "metadata": {},
   "outputs": [],
   "source": [
    "data = df.drop(\n",
    "    columns=[\n",
    "        \"repositoryOrigin\",\n",
    "        \"repositoryPath\",\n",
    "        \"repositoryBranch\",\n",
    "        \"projectArtifactId\",\n",
    "        \"groupId\",\n",
    "        \"relativePath\",\n",
    "    ]\n",
    ")\n",
    "data"
   ]
  },
  {
   "cell_type": "code",
   "execution_count": null,
   "id": "2a0d241e-8523-4e45-a3f7-33c13bda9927",
   "metadata": {},
   "outputs": [],
   "source": [
    "versions = (\n",
    "    data.groupby([\"artifactId\", \"version\"], as_index=False)\n",
    "    .value_counts()\n",
    "    .pivot(index=\"artifactId\", columns=\"version\")\n",
    "    .fillna(0)\n",
    ")\n",
    "versions"
   ]
  },
  {
   "cell_type": "code",
   "execution_count": null,
   "id": "94a5f63e-670e-4321-94fe-d3a57770b4c5",
   "metadata": {},
   "outputs": [],
   "source": [
    "import code_data_science.palette as palette\n",
    "import matplotlib.pyplot as plt\n",
    "\n",
    "colors = palette.qualitative()\n",
    "\n",
    "ax = versions.plot.bar(stacked=True, colormap=plt.cm.colors.ListedColormap(colors))\n",
    "ax.legend([v for c, v in versions.columns])"
   ]
  }
 ],
 "metadata": {
  "kernelspec": {
   "display_name": "Python 3 (ipykernel)",
   "language": "python",
   "name": "python3"
  },
  "language_info": {
   "codemirror_mode": {
    "name": "ipython",
    "version": 3
   },
   "file_extension": ".py",
   "mimetype": "text/x-python",
   "name": "python",
   "nbconvert_exporter": "python",
   "pygments_lexer": "ipython3",
   "version": "3.11.4"
  }
 },
 "nbformat": 4,
 "nbformat_minor": 5
}
