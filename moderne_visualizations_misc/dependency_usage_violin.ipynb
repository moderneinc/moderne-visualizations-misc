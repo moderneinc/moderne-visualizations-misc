{
 "cells": [
  {
   "cell_type": "code",
   "execution_count": null,
   "metadata": {},
   "outputs": [],
   "source": [
    "from code_data_science import data_table as dt\n",
    "\n",
    "df = dt.read_csv(\"../samples/dependency_usage_violin.csv\")"
   ]
  },
  {
   "cell_type": "code",
   "execution_count": null,
   "metadata": {},
   "outputs": [],
   "source": [
    "df = df[[\"artifactId\", \"version\", \"depth\"]]"
   ]
  },
  {
   "cell_type": "code",
   "execution_count": null,
   "metadata": {},
   "outputs": [],
   "source": [
    "from code_data_science.versions import index as index_versions\n",
    "\n",
    "vmap = index_versions(df.version)\n",
    "df[\"nVersion\"] = list(map(lambda v: vmap[v], df.version))\n",
    "\n",
    "\n",
    "def index_ga(groupartifacts):\n",
    "    sorted_ga = sorted(list(set(groupartifacts)))\n",
    "    return {ga: sorted_ga.index(ga) for ga in sorted_ga}\n",
    "\n",
    "\n",
    "gmap = index_ga(df.artifactId)\n",
    "df[\"nArtifactId\"] = list(map(lambda g: gmap[g], df.artifactId))\n",
    "\n",
    "df = df.sort_values(by=[\"nVersion\", \"nArtifactId\"])"
   ]
  },
  {
   "cell_type": "code",
   "execution_count": null,
   "metadata": {},
   "outputs": [],
   "source": [
    "import plotly.graph_objects as go\n",
    "import code_data_science.palette as palette\n",
    "\n",
    "colors = palette.colors_by_weight(500)\n",
    "\n",
    "fig = go.Figure()\n",
    "\n",
    "# Add a trace to the plot for each category\n",
    "for i, category in enumerate(df[\"nArtifactId\"].unique()):\n",
    "    category_data = df[df[\"nArtifactId\"] == category]\n",
    "\n",
    "    fig.add_trace(\n",
    "        go.Scatter(\n",
    "            x=category_data[\"nArtifactId\"],\n",
    "            y=category_data[\"nVersion\"],\n",
    "            mode=\"markers\",\n",
    "            marker=dict(color=colors[i % len(colors)], size=8),\n",
    "            showlegend=False,\n",
    "            name=\"\",\n",
    "        )\n",
    "    )\n",
    "\n",
    "    fig.add_trace(\n",
    "        go.Violin(\n",
    "            x=category_data[\"nArtifactId\"],\n",
    "            y=category_data[\"nVersion\"],\n",
    "            fillcolor=\"black\",\n",
    "            opacity=0.15,\n",
    "            line_color=\"black\",\n",
    "            showlegend=False,\n",
    "            width=0.7,\n",
    "            bandwidth=1.2,\n",
    "        )\n",
    "    )\n",
    "\n",
    "num_versions = df[\"nVersion\"].nunique()\n",
    "height_per_version = 25\n",
    "fig_height = num_versions * height_per_version\n",
    "tick_font_size = 8\n",
    "# Customizing the layout\n",
    "fig.update_layout(\n",
    "    title=\"Artifact Versions in Use\",\n",
    "    xaxis_title=\"Artifacts\",\n",
    "    yaxis_title=\"Versions\",\n",
    "    height=fig_height,\n",
    "    xaxis=dict(\n",
    "        tickfont=dict(size=tick_font_size),\n",
    "        tickmode=\"array\",\n",
    "        tickvals=list(gmap.values()),\n",
    "        ticktext=list(gmap.keys()),\n",
    "    ),\n",
    "    yaxis=dict(\n",
    "        tickfont=dict(size=tick_font_size),\n",
    "        tickmode=\"array\",\n",
    "        tickvals=list(vmap.values()),\n",
    "        ticktext=list(vmap.keys()),\n",
    "    ),\n",
    ")\n",
    "\n",
    "fig.show()"
   ]
  }
 ],
 "metadata": {
  "kernelspec": {
   "display_name": "Python 3",
   "language": "python",
   "name": "python3"
  },
  "language_info": {
   "codemirror_mode": {
    "name": "ipython",
    "version": 3
   },
   "file_extension": ".py",
   "mimetype": "text/x-python",
   "name": "python",
   "nbconvert_exporter": "python",
   "pygments_lexer": "ipython3",
   "version": "3.11.4"
  }
 },
 "nbformat": 4,
 "nbformat_minor": 2
}
