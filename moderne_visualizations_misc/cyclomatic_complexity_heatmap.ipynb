{
 "cells": [
  {
   "cell_type": "code",
   "execution_count": 1,
   "metadata": {
    "tags": [
     "parameters"
    ]
   },
   "outputs": [],
   "source": [
    "repository_filter: list[str] = []\n",
    "top_n_classes: int = 50"
   ]
  },
  {
   "cell_type": "code",
   "execution_count": 2,
   "metadata": {},
   "outputs": [
    {
     "data": {
      "application/vnd.plotly.v1+json": {
       "config": {
        "plotlyServerURL": "https://plot.ly"
       },
       "data": [
        {
         "colorbar": {
          "len": 0.7,
          "thickness": 15,
          "title": {
           "text": "Normalized<br>Complexity"
          }
         },
         "colorscale": [
          [
           0,
           "#E8F5E9"
          ],
          [
           0.2,
           "#A5D6A7"
          ],
          [
           0.4,
           "#FFE082"
          ],
          [
           0.6,
           "#FFB74D"
          ],
          [
           0.8,
           "#FF8A65"
          ],
          [
           1,
           "#EF5350"
          ]
         ],
         "hovertemplate": "<b>%{y}</b><br>%{text}<extra></extra>",
         "text": [
          [
           "Method Count: 59",
           "Avg Complexity: 5.7",
           "Max Complexity: 25",
           "Total Complexity: 339"
          ],
          [
           "Method Count: 103",
           "Avg Complexity: 2.3",
           "Max Complexity: 4",
           "Total Complexity: 232"
          ],
          [
           "Method Count: 46",
           "Avg Complexity: 4.5",
           "Max Complexity: 23",
           "Total Complexity: 207"
          ],
          [
           "Method Count: 13",
           "Avg Complexity: 34.8",
           "Max Complexity: 247",
           "Total Complexity: 452"
          ],
          [
           "Method Count: 55",
           "Avg Complexity: 6.1",
           "Max Complexity: 48",
           "Total Complexity: 336"
          ],
          [
           "Method Count: 29",
           "Avg Complexity: 14.0",
           "Max Complexity: 210",
           "Total Complexity: 405"
          ],
          [
           "Method Count: 57",
           "Avg Complexity: 7.0",
           "Max Complexity: 223",
           "Total Complexity: 399"
          ],
          [
           "Method Count: 18",
           "Avg Complexity: 13.2",
           "Max Complexity: 195",
           "Total Complexity: 238"
          ],
          [
           "Method Count: 14",
           "Avg Complexity: 19.9",
           "Max Complexity: 99",
           "Total Complexity: 278"
          ],
          [
           "Method Count: 240",
           "Avg Complexity: 1.0",
           "Max Complexity: 1",
           "Total Complexity: 240"
          ],
          [
           "Method Count: 49",
           "Avg Complexity: 4.1",
           "Max Complexity: 14",
           "Total Complexity: 199"
          ],
          [
           "Method Count: 460",
           "Avg Complexity: 1.0",
           "Max Complexity: 1",
           "Total Complexity: 460"
          ],
          [
           "Method Count: 14",
           "Avg Complexity: 19.9",
           "Max Complexity: 99",
           "Total Complexity: 278"
          ],
          [
           "Method Count: 171",
           "Avg Complexity: 1.5",
           "Max Complexity: 80",
           "Total Complexity: 252"
          ],
          [
           "Method Count: 60",
           "Avg Complexity: 3.4",
           "Max Complexity: 43",
           "Total Complexity: 205"
          ],
          [
           "Method Count: 171",
           "Avg Complexity: 1.1",
           "Max Complexity: 7",
           "Total Complexity: 194"
          ],
          [
           "Method Count: 78",
           "Avg Complexity: 2.6",
           "Max Complexity: 37",
           "Total Complexity: 203"
          ],
          [
           "Method Count: 348",
           "Avg Complexity: 1.1",
           "Max Complexity: 5",
           "Total Complexity: 374"
          ],
          [
           "Method Count: 558",
           "Avg Complexity: 1.0",
           "Max Complexity: 6",
           "Total Complexity: 580"
          ],
          [
           "Method Count: 277",
           "Avg Complexity: 1.0",
           "Max Complexity: 1",
           "Total Complexity: 277"
          ],
          [
           "Method Count: 275",
           "Avg Complexity: 1.0",
           "Max Complexity: 1",
           "Total Complexity: 275"
          ],
          [
           "Method Count: 282",
           "Avg Complexity: 1.0",
           "Max Complexity: 1",
           "Total Complexity: 282"
          ],
          [
           "Method Count: 277",
           "Avg Complexity: 1.0",
           "Max Complexity: 1",
           "Total Complexity: 277"
          ],
          [
           "Method Count: 270",
           "Avg Complexity: 1.0",
           "Max Complexity: 1",
           "Total Complexity: 270"
          ],
          [
           "Method Count: 303",
           "Avg Complexity: 1.0",
           "Max Complexity: 3",
           "Total Complexity: 313"
          ],
          [
           "Method Count: 295",
           "Avg Complexity: 1.0",
           "Max Complexity: 4",
           "Total Complexity: 307"
          ],
          [
           "Method Count: 235",
           "Avg Complexity: 1.0",
           "Max Complexity: 2",
           "Total Complexity: 236"
          ],
          [
           "Method Count: 66",
           "Avg Complexity: 5.0",
           "Max Complexity: 30",
           "Total Complexity: 330"
          ],
          [
           "Method Count: 90",
           "Avg Complexity: 3.8",
           "Max Complexity: 59",
           "Total Complexity: 340"
          ],
          [
           "Method Count: 1",
           "Avg Complexity: 173.0",
           "Max Complexity: 173",
           "Total Complexity: 173"
          ],
          [
           "Method Count: 56",
           "Avg Complexity: 5.9",
           "Max Complexity: 71",
           "Total Complexity: 329"
          ],
          [
           "Method Count: 52",
           "Avg Complexity: 23.6",
           "Max Complexity: 553",
           "Total Complexity: 1229"
          ],
          [
           "Method Count: 108",
           "Avg Complexity: 2.2",
           "Max Complexity: 38",
           "Total Complexity: 234"
          ],
          [
           "Method Count: 46",
           "Avg Complexity: 5.0",
           "Max Complexity: 48",
           "Total Complexity: 231"
          ],
          [
           "Method Count: 34",
           "Avg Complexity: 8.2",
           "Max Complexity: 73",
           "Total Complexity: 278"
          ],
          [
           "Method Count: 198",
           "Avg Complexity: 1.1",
           "Max Complexity: 7",
           "Total Complexity: 216"
          ],
          [
           "Method Count: 23",
           "Avg Complexity: 15.6",
           "Max Complexity: 193",
           "Total Complexity: 359"
          ],
          [
           "Method Count: 145",
           "Avg Complexity: 1.6",
           "Max Complexity: 22",
           "Total Complexity: 234"
          ],
          [
           "Method Count: 52",
           "Avg Complexity: 5.6",
           "Max Complexity: 47",
           "Total Complexity: 291"
          ],
          [
           "Method Count: 14",
           "Avg Complexity: 16.6",
           "Max Complexity: 154",
           "Total Complexity: 232"
          ],
          [
           "Method Count: 50",
           "Avg Complexity: 7.8",
           "Max Complexity: 43",
           "Total Complexity: 392"
          ],
          [
           "Method Count: 141",
           "Avg Complexity: 1.6",
           "Max Complexity: 12",
           "Total Complexity: 232"
          ],
          [
           "Method Count: 64",
           "Avg Complexity: 3.4",
           "Max Complexity: 18",
           "Total Complexity: 216"
          ],
          [
           "Method Count: 64",
           "Avg Complexity: 4.1",
           "Max Complexity: 83",
           "Total Complexity: 260"
          ],
          [
           "Method Count: 38",
           "Avg Complexity: 6.3",
           "Max Complexity: 48",
           "Total Complexity: 241"
          ],
          [
           "Method Count: 47",
           "Avg Complexity: 6.3",
           "Max Complexity: 44",
           "Total Complexity: 295"
          ],
          [
           "Method Count: 20",
           "Avg Complexity: 15.8",
           "Max Complexity: 44",
           "Total Complexity: 317"
          ],
          [
           "Method Count: 98",
           "Avg Complexity: 2.4",
           "Max Complexity: 32",
           "Total Complexity: 236"
          ],
          [
           "Method Count: 155",
           "Avg Complexity: 1.5",
           "Max Complexity: 12",
           "Total Complexity: 238"
          ],
          [
           "Method Count: 202",
           "Avg Complexity: 1.1",
           "Max Complexity: 3",
           "Total Complexity: 217"
          ]
         ],
         "texttemplate": "",
         "type": "heatmap",
         "x": [
          "Method Count",
          "Avg Complexity",
          "Max Complexity",
          "Total Complexity"
         ],
         "y": [
          "conductor::AbstractProtoMapper",
          "conductor::JedisMock",
          "conductor::WorkflowExecutor",
          "hollow::HollowObjectTypeMapper$MappedField",
          "metacat::PartitionParser",
          "metacat::PartitionParserTokenManager",
          "photon::HeaderPartition",
          "photon::MXFPropertyPopulator",
          "spring-cloud-deployer-cloudfoundry::QuartzCronExpression",
          "spring-cloud-deployer-kubernetes::KubernetesDeployerProperties",
          "spring-cloud-deployer::KubernetesAppDeployer",
          "spring-cloud-deployer::KubernetesDeployerProperties",
          "spring-cloud-deployer::QuartzCronExpression",
          "spring-cloud-netflix::EurekaServerConfigBean",
          "spring-cloud-stream-binder-kafka::KafkaMessageChannelBinder",
          "spring-data-elasticsearch::ElasticsearchIntegrationTests",
          "spring-data-elasticsearch::RequestConverter",
          "spring-data-redis::AbstractConnectionIntegrationTests",
          "spring-data-redis::DefaultStringRedisConnection",
          "spring-data-redis::DefaultStringRedisConnectionPipelineTests",
          "spring-data-redis::DefaultStringRedisConnectionPipelineTxTests",
          "spring-data-redis::DefaultStringRedisConnectionTests",
          "spring-data-redis::DefaultStringRedisConnectionTxTests",
          "spring-data-redis::DefaultedRedisConnection",
          "spring-data-redis::JedisClusterConnectionTests",
          "spring-data-redis::LettuceClusterConnectionTests",
          "spring-data-redis::RedisConnectionUnitTests$AbstractDelegatingRedisConnectionStub",
          "spring-framework::AbstractAutowireCapableBeanFactory",
          "spring-framework::AbstractBeanFactory",
          "spring-framework::AbstractMockWebServerTests$TestDispatcher",
          "spring-framework::BeanDefinitionParserDelegate",
          "spring-framework::ClassReader",
          "spring-framework::CodeEmitter",
          "spring-framework::CodeFlow",
          "spring-framework::ConstructorResolver",
          "spring-framework::DefaultListableBeanFactoryTests",
          "spring-framework::Frame",
          "spring-framework::HttpHeaders",
          "spring-framework::InternalSpelExpressionParser",
          "spring-framework::JdbcUtils",
          "spring-framework::MethodWriter",
          "spring-framework::MockHttpServletRequest",
          "spring-framework::StringUtils",
          "spring-framework::SymbolTable",
          "spring-framework::Type",
          "spring-framework::WhatWgUrlParser",
          "spring-framework::WhatWgUrlParser$State",
          "spring-ldap::DirContextAdapter",
          "spring-ldap::LdapTemplate",
          "spring-session-data-geode::AbstractGemFireOperationsSessionRepositoryTests"
         ],
         "z": [
          [
           0.10412926391382406,
           0.027591643673630272,
           0.043478260869565216,
           0.1571969696969697
          ],
          [
           0.18312387791741472,
           0.007281553398058252,
           0.005434782608695652,
           0.05587121212121212
          ],
          [
           0.0807899461400359,
           0.020348837209302327,
           0.03985507246376811,
           0.032196969696969696
          ],
          [
           0.02154398563734291,
           0.19633273703041143,
           0.44565217391304346,
           0.26420454545454547
          ],
          [
           0.09694793536804308,
           0.02970401691331924,
           0.08514492753623189,
           0.1543560606060606
          ],
          [
           0.05026929982046679,
           0.07538091419406576,
           0.3786231884057971,
           0.2196969696969697
          ],
          [
           0.10053859964093358,
           0.03488372093023256,
           0.40217391304347827,
           0.21401515151515152
          ],
          [
           0.03052064631956912,
           0.0710594315245478,
           0.35144927536231885,
           0.061553030303030304
          ],
          [
           0.02333931777378815,
           0.10963455149501661,
           0.17753623188405798,
           0.09943181818181818
          ],
          [
           0.42908438061041293,
           0,
           0,
           0.0634469696969697
          ],
          [
           0.08617594254937164,
           0.017797816801139062,
           0.02355072463768116,
           0.02462121212121212
          ],
          [
           0.8240574506283662,
           0,
           0,
           0.27178030303030304
          ],
          [
           0.02333931777378815,
           0.10963455149501661,
           0.17753623188405798,
           0.09943181818181818
          ],
          [
           0.3052064631956912,
           0.002753977968176254,
           0.1431159420289855,
           0.07481060606060606
          ],
          [
           0.1059245960502693,
           0.014050387596899224,
           0.07608695652173914,
           0.030303030303030304
          ],
          [
           0.3052064631956912,
           0.0007819937440500478,
           0.010869565217391304,
           0.019886363636363636
          ],
          [
           0.13824057450628366,
           0.009317233154442457,
           0.06521739130434782,
           0.028409090909090908
          ],
          [
           0.6229802513464991,
           0.00043437583533814466,
           0.007246376811594203,
           0.1903409090909091
          ],
          [
           1,
           0.00022922397265983185,
           0.009057971014492754,
           0.3854166666666667
          ],
          [
           0.4955116696588869,
           0,
           0,
           0.09848484848484848
          ],
          [
           0.4919210053859964,
           0,
           0,
           0.09659090909090909
          ],
          [
           0.5044883303411131,
           0,
           0,
           0.10321969696969698
          ],
          [
           0.4955116696588869,
           0,
           0,
           0.09848484848484848
          ],
          [
           0.4829443447037702,
           0,
           0,
           0.09185606060606061
          ],
          [
           0.5421903052064632,
           0.00019187965308158696,
           0.0036231884057971015,
           0.13257575757575757
          ],
          [
           0.5278276481149012,
           0.00023649980291683104,
           0.005434782608695652,
           0.1268939393939394
          ],
          [
           0.42010771992818674,
           0.000024740227610093405,
           0.0018115942028985507,
           0.05965909090909091
          ],
          [
           0.11669658886894076,
           0.023255813953488372,
           0.05253623188405797,
           0.14867424242424243
          ],
          [
           0.15978456014362658,
           0.01614987080103359,
           0.10507246376811594,
           0.1581439393939394
          ],
          [
           0,
           1,
           0.3115942028985507,
           0
          ],
          [
           0.09874326750448834,
           0.028343023255813952,
           0.12681159420289856,
           0.14772727272727273
          ],
          [
           0.09156193895870736,
           0.13159660107334525,
           1,
           1
          ],
          [
           0.19210053859964094,
           0.0067829457364341076,
           0.06702898550724638,
           0.05776515151515151
          ],
          [
           0.0807899461400359,
           0.02338220424671385,
           0.08514492753623189,
           0.054924242424242424
          ],
          [
           0.059245960502693,
           0.041723666210670314,
           0.13043478260869565,
           0.09943181818181818
          ],
          [
           0.35368043087971274,
           0.0005285412262156443,
           0.010869565217391304,
           0.04071969696969697
          ],
          [
           0.03949730700179533,
           0.08493427704752275,
           0.34782608695652173,
           0.17613636363636365
          ],
          [
           0.2585278276481149,
           0.003568564554931836,
           0.03804347826086957,
           0.05776515151515151
          ],
          [
           0.09156193895870736,
           0.026721824686940964,
           0.08333333333333333,
           0.11174242424242424
          ],
          [
           0.02333931777378815,
           0.09053156146179403,
           0.27717391304347827,
           0.05587121212121212
          ],
          [
           0.08797127468581688,
           0.039767441860465116,
           0.07608695652173914,
           0.20738636363636365
          ],
          [
           0.2513464991023339,
           0.0037522678541975917,
           0.019927536231884056,
           0.05587121212121212
          ],
          [
           0.11310592459605028,
           0.013808139534883721,
           0.030797101449275364,
           0.04071969696969697
          ],
          [
           0.11310592459605028,
           0.017805232558139535,
           0.14855072463768115,
           0.08238636363636363
          ],
          [
           0.06642728904847396,
           0.03105875152998776,
           0.08514492753623189,
           0.06439393939393939
          ],
          [
           0.08258527827648116,
           0.030677882236516574,
           0.07789855072463768,
           0.11553030303030302
          ],
          [
           0.03411131059245961,
           0.08633720930232558,
           0.07789855072463768,
           0.13636363636363635
          ],
          [
           0.1741472172351885,
           0.008186995728523968,
           0.05615942028985507,
           0.05965909090909091
          ],
          [
           0.2764811490125673,
           0.0031132783195798944,
           0.019927536231884056,
           0.061553030303030304
          ],
          [
           0.3608617594254937,
           0.00043172921943357163,
           0.0036231884057971015,
           0.041666666666666664
          ]
         ]
        }
       ],
       "layout": {
        "annotations": [
         {
          "font": {
           "color": "black",
           "size": 10
          },
          "showarrow": false,
          "text": "59",
          "x": 0,
          "xref": "x",
          "y": 0,
          "yref": "y"
         },
         {
          "font": {
           "color": "black",
           "size": 10
          },
          "showarrow": false,
          "text": "5.7",
          "x": 1,
          "xref": "x",
          "y": 0,
          "yref": "y"
         },
         {
          "font": {
           "color": "black",
           "size": 10
          },
          "showarrow": false,
          "text": "25",
          "x": 2,
          "xref": "x",
          "y": 0,
          "yref": "y"
         },
         {
          "font": {
           "color": "black",
           "size": 10
          },
          "showarrow": false,
          "text": "339",
          "x": 3,
          "xref": "x",
          "y": 0,
          "yref": "y"
         },
         {
          "font": {
           "color": "black",
           "size": 10
          },
          "showarrow": false,
          "text": "103",
          "x": 0,
          "xref": "x",
          "y": 1,
          "yref": "y"
         },
         {
          "font": {
           "color": "black",
           "size": 10
          },
          "showarrow": false,
          "text": "2.3",
          "x": 1,
          "xref": "x",
          "y": 1,
          "yref": "y"
         },
         {
          "font": {
           "color": "black",
           "size": 10
          },
          "showarrow": false,
          "text": "4",
          "x": 2,
          "xref": "x",
          "y": 1,
          "yref": "y"
         },
         {
          "font": {
           "color": "black",
           "size": 10
          },
          "showarrow": false,
          "text": "232",
          "x": 3,
          "xref": "x",
          "y": 1,
          "yref": "y"
         },
         {
          "font": {
           "color": "black",
           "size": 10
          },
          "showarrow": false,
          "text": "46",
          "x": 0,
          "xref": "x",
          "y": 2,
          "yref": "y"
         },
         {
          "font": {
           "color": "black",
           "size": 10
          },
          "showarrow": false,
          "text": "4.5",
          "x": 1,
          "xref": "x",
          "y": 2,
          "yref": "y"
         },
         {
          "font": {
           "color": "black",
           "size": 10
          },
          "showarrow": false,
          "text": "23",
          "x": 2,
          "xref": "x",
          "y": 2,
          "yref": "y"
         },
         {
          "font": {
           "color": "black",
           "size": 10
          },
          "showarrow": false,
          "text": "207",
          "x": 3,
          "xref": "x",
          "y": 2,
          "yref": "y"
         },
         {
          "font": {
           "color": "black",
           "size": 10
          },
          "showarrow": false,
          "text": "13",
          "x": 0,
          "xref": "x",
          "y": 3,
          "yref": "y"
         },
         {
          "font": {
           "color": "black",
           "size": 10
          },
          "showarrow": false,
          "text": "34.8",
          "x": 1,
          "xref": "x",
          "y": 3,
          "yref": "y"
         },
         {
          "font": {
           "color": "black",
           "size": 10
          },
          "showarrow": false,
          "text": "247",
          "x": 2,
          "xref": "x",
          "y": 3,
          "yref": "y"
         },
         {
          "font": {
           "color": "black",
           "size": 10
          },
          "showarrow": false,
          "text": "452",
          "x": 3,
          "xref": "x",
          "y": 3,
          "yref": "y"
         },
         {
          "font": {
           "color": "black",
           "size": 10
          },
          "showarrow": false,
          "text": "55",
          "x": 0,
          "xref": "x",
          "y": 4,
          "yref": "y"
         },
         {
          "font": {
           "color": "black",
           "size": 10
          },
          "showarrow": false,
          "text": "6.1",
          "x": 1,
          "xref": "x",
          "y": 4,
          "yref": "y"
         },
         {
          "font": {
           "color": "black",
           "size": 10
          },
          "showarrow": false,
          "text": "48",
          "x": 2,
          "xref": "x",
          "y": 4,
          "yref": "y"
         },
         {
          "font": {
           "color": "black",
           "size": 10
          },
          "showarrow": false,
          "text": "336",
          "x": 3,
          "xref": "x",
          "y": 4,
          "yref": "y"
         },
         {
          "font": {
           "color": "black",
           "size": 10
          },
          "showarrow": false,
          "text": "29",
          "x": 0,
          "xref": "x",
          "y": 5,
          "yref": "y"
         },
         {
          "font": {
           "color": "black",
           "size": 10
          },
          "showarrow": false,
          "text": "14.0",
          "x": 1,
          "xref": "x",
          "y": 5,
          "yref": "y"
         },
         {
          "font": {
           "color": "black",
           "size": 10
          },
          "showarrow": false,
          "text": "210",
          "x": 2,
          "xref": "x",
          "y": 5,
          "yref": "y"
         },
         {
          "font": {
           "color": "black",
           "size": 10
          },
          "showarrow": false,
          "text": "405",
          "x": 3,
          "xref": "x",
          "y": 5,
          "yref": "y"
         },
         {
          "font": {
           "color": "black",
           "size": 10
          },
          "showarrow": false,
          "text": "57",
          "x": 0,
          "xref": "x",
          "y": 6,
          "yref": "y"
         },
         {
          "font": {
           "color": "black",
           "size": 10
          },
          "showarrow": false,
          "text": "7.0",
          "x": 1,
          "xref": "x",
          "y": 6,
          "yref": "y"
         },
         {
          "font": {
           "color": "black",
           "size": 10
          },
          "showarrow": false,
          "text": "223",
          "x": 2,
          "xref": "x",
          "y": 6,
          "yref": "y"
         },
         {
          "font": {
           "color": "black",
           "size": 10
          },
          "showarrow": false,
          "text": "399",
          "x": 3,
          "xref": "x",
          "y": 6,
          "yref": "y"
         },
         {
          "font": {
           "color": "black",
           "size": 10
          },
          "showarrow": false,
          "text": "18",
          "x": 0,
          "xref": "x",
          "y": 7,
          "yref": "y"
         },
         {
          "font": {
           "color": "black",
           "size": 10
          },
          "showarrow": false,
          "text": "13.2",
          "x": 1,
          "xref": "x",
          "y": 7,
          "yref": "y"
         },
         {
          "font": {
           "color": "black",
           "size": 10
          },
          "showarrow": false,
          "text": "195",
          "x": 2,
          "xref": "x",
          "y": 7,
          "yref": "y"
         },
         {
          "font": {
           "color": "black",
           "size": 10
          },
          "showarrow": false,
          "text": "238",
          "x": 3,
          "xref": "x",
          "y": 7,
          "yref": "y"
         },
         {
          "font": {
           "color": "black",
           "size": 10
          },
          "showarrow": false,
          "text": "14",
          "x": 0,
          "xref": "x",
          "y": 8,
          "yref": "y"
         },
         {
          "font": {
           "color": "black",
           "size": 10
          },
          "showarrow": false,
          "text": "19.9",
          "x": 1,
          "xref": "x",
          "y": 8,
          "yref": "y"
         },
         {
          "font": {
           "color": "black",
           "size": 10
          },
          "showarrow": false,
          "text": "99",
          "x": 2,
          "xref": "x",
          "y": 8,
          "yref": "y"
         },
         {
          "font": {
           "color": "black",
           "size": 10
          },
          "showarrow": false,
          "text": "278",
          "x": 3,
          "xref": "x",
          "y": 8,
          "yref": "y"
         },
         {
          "font": {
           "color": "black",
           "size": 10
          },
          "showarrow": false,
          "text": "240",
          "x": 0,
          "xref": "x",
          "y": 9,
          "yref": "y"
         },
         {
          "font": {
           "color": "black",
           "size": 10
          },
          "showarrow": false,
          "text": "1.0",
          "x": 1,
          "xref": "x",
          "y": 9,
          "yref": "y"
         },
         {
          "font": {
           "color": "black",
           "size": 10
          },
          "showarrow": false,
          "text": "1",
          "x": 2,
          "xref": "x",
          "y": 9,
          "yref": "y"
         },
         {
          "font": {
           "color": "black",
           "size": 10
          },
          "showarrow": false,
          "text": "240",
          "x": 3,
          "xref": "x",
          "y": 9,
          "yref": "y"
         },
         {
          "font": {
           "color": "black",
           "size": 10
          },
          "showarrow": false,
          "text": "49",
          "x": 0,
          "xref": "x",
          "y": 10,
          "yref": "y"
         },
         {
          "font": {
           "color": "black",
           "size": 10
          },
          "showarrow": false,
          "text": "4.1",
          "x": 1,
          "xref": "x",
          "y": 10,
          "yref": "y"
         },
         {
          "font": {
           "color": "black",
           "size": 10
          },
          "showarrow": false,
          "text": "14",
          "x": 2,
          "xref": "x",
          "y": 10,
          "yref": "y"
         },
         {
          "font": {
           "color": "black",
           "size": 10
          },
          "showarrow": false,
          "text": "199",
          "x": 3,
          "xref": "x",
          "y": 10,
          "yref": "y"
         },
         {
          "font": {
           "color": "white",
           "size": 10
          },
          "showarrow": false,
          "text": "460",
          "x": 0,
          "xref": "x",
          "y": 11,
          "yref": "y"
         },
         {
          "font": {
           "color": "black",
           "size": 10
          },
          "showarrow": false,
          "text": "1.0",
          "x": 1,
          "xref": "x",
          "y": 11,
          "yref": "y"
         },
         {
          "font": {
           "color": "black",
           "size": 10
          },
          "showarrow": false,
          "text": "1",
          "x": 2,
          "xref": "x",
          "y": 11,
          "yref": "y"
         },
         {
          "font": {
           "color": "black",
           "size": 10
          },
          "showarrow": false,
          "text": "460",
          "x": 3,
          "xref": "x",
          "y": 11,
          "yref": "y"
         },
         {
          "font": {
           "color": "black",
           "size": 10
          },
          "showarrow": false,
          "text": "14",
          "x": 0,
          "xref": "x",
          "y": 12,
          "yref": "y"
         },
         {
          "font": {
           "color": "black",
           "size": 10
          },
          "showarrow": false,
          "text": "19.9",
          "x": 1,
          "xref": "x",
          "y": 12,
          "yref": "y"
         },
         {
          "font": {
           "color": "black",
           "size": 10
          },
          "showarrow": false,
          "text": "99",
          "x": 2,
          "xref": "x",
          "y": 12,
          "yref": "y"
         },
         {
          "font": {
           "color": "black",
           "size": 10
          },
          "showarrow": false,
          "text": "278",
          "x": 3,
          "xref": "x",
          "y": 12,
          "yref": "y"
         },
         {
          "font": {
           "color": "black",
           "size": 10
          },
          "showarrow": false,
          "text": "171",
          "x": 0,
          "xref": "x",
          "y": 13,
          "yref": "y"
         },
         {
          "font": {
           "color": "black",
           "size": 10
          },
          "showarrow": false,
          "text": "1.5",
          "x": 1,
          "xref": "x",
          "y": 13,
          "yref": "y"
         },
         {
          "font": {
           "color": "black",
           "size": 10
          },
          "showarrow": false,
          "text": "80",
          "x": 2,
          "xref": "x",
          "y": 13,
          "yref": "y"
         },
         {
          "font": {
           "color": "black",
           "size": 10
          },
          "showarrow": false,
          "text": "252",
          "x": 3,
          "xref": "x",
          "y": 13,
          "yref": "y"
         },
         {
          "font": {
           "color": "black",
           "size": 10
          },
          "showarrow": false,
          "text": "60",
          "x": 0,
          "xref": "x",
          "y": 14,
          "yref": "y"
         },
         {
          "font": {
           "color": "black",
           "size": 10
          },
          "showarrow": false,
          "text": "3.4",
          "x": 1,
          "xref": "x",
          "y": 14,
          "yref": "y"
         },
         {
          "font": {
           "color": "black",
           "size": 10
          },
          "showarrow": false,
          "text": "43",
          "x": 2,
          "xref": "x",
          "y": 14,
          "yref": "y"
         },
         {
          "font": {
           "color": "black",
           "size": 10
          },
          "showarrow": false,
          "text": "205",
          "x": 3,
          "xref": "x",
          "y": 14,
          "yref": "y"
         },
         {
          "font": {
           "color": "black",
           "size": 10
          },
          "showarrow": false,
          "text": "171",
          "x": 0,
          "xref": "x",
          "y": 15,
          "yref": "y"
         },
         {
          "font": {
           "color": "black",
           "size": 10
          },
          "showarrow": false,
          "text": "1.1",
          "x": 1,
          "xref": "x",
          "y": 15,
          "yref": "y"
         },
         {
          "font": {
           "color": "black",
           "size": 10
          },
          "showarrow": false,
          "text": "7",
          "x": 2,
          "xref": "x",
          "y": 15,
          "yref": "y"
         },
         {
          "font": {
           "color": "black",
           "size": 10
          },
          "showarrow": false,
          "text": "194",
          "x": 3,
          "xref": "x",
          "y": 15,
          "yref": "y"
         },
         {
          "font": {
           "color": "black",
           "size": 10
          },
          "showarrow": false,
          "text": "78",
          "x": 0,
          "xref": "x",
          "y": 16,
          "yref": "y"
         },
         {
          "font": {
           "color": "black",
           "size": 10
          },
          "showarrow": false,
          "text": "2.6",
          "x": 1,
          "xref": "x",
          "y": 16,
          "yref": "y"
         },
         {
          "font": {
           "color": "black",
           "size": 10
          },
          "showarrow": false,
          "text": "37",
          "x": 2,
          "xref": "x",
          "y": 16,
          "yref": "y"
         },
         {
          "font": {
           "color": "black",
           "size": 10
          },
          "showarrow": false,
          "text": "203",
          "x": 3,
          "xref": "x",
          "y": 16,
          "yref": "y"
         },
         {
          "font": {
           "color": "white",
           "size": 10
          },
          "showarrow": false,
          "text": "348",
          "x": 0,
          "xref": "x",
          "y": 17,
          "yref": "y"
         },
         {
          "font": {
           "color": "black",
           "size": 10
          },
          "showarrow": false,
          "text": "1.1",
          "x": 1,
          "xref": "x",
          "y": 17,
          "yref": "y"
         },
         {
          "font": {
           "color": "black",
           "size": 10
          },
          "showarrow": false,
          "text": "5",
          "x": 2,
          "xref": "x",
          "y": 17,
          "yref": "y"
         },
         {
          "font": {
           "color": "black",
           "size": 10
          },
          "showarrow": false,
          "text": "374",
          "x": 3,
          "xref": "x",
          "y": 17,
          "yref": "y"
         },
         {
          "font": {
           "color": "white",
           "size": 10
          },
          "showarrow": false,
          "text": "558",
          "x": 0,
          "xref": "x",
          "y": 18,
          "yref": "y"
         },
         {
          "font": {
           "color": "black",
           "size": 10
          },
          "showarrow": false,
          "text": "1.0",
          "x": 1,
          "xref": "x",
          "y": 18,
          "yref": "y"
         },
         {
          "font": {
           "color": "black",
           "size": 10
          },
          "showarrow": false,
          "text": "6",
          "x": 2,
          "xref": "x",
          "y": 18,
          "yref": "y"
         },
         {
          "font": {
           "color": "black",
           "size": 10
          },
          "showarrow": false,
          "text": "580",
          "x": 3,
          "xref": "x",
          "y": 18,
          "yref": "y"
         },
         {
          "font": {
           "color": "black",
           "size": 10
          },
          "showarrow": false,
          "text": "277",
          "x": 0,
          "xref": "x",
          "y": 19,
          "yref": "y"
         },
         {
          "font": {
           "color": "black",
           "size": 10
          },
          "showarrow": false,
          "text": "1.0",
          "x": 1,
          "xref": "x",
          "y": 19,
          "yref": "y"
         },
         {
          "font": {
           "color": "black",
           "size": 10
          },
          "showarrow": false,
          "text": "1",
          "x": 2,
          "xref": "x",
          "y": 19,
          "yref": "y"
         },
         {
          "font": {
           "color": "black",
           "size": 10
          },
          "showarrow": false,
          "text": "277",
          "x": 3,
          "xref": "x",
          "y": 19,
          "yref": "y"
         },
         {
          "font": {
           "color": "black",
           "size": 10
          },
          "showarrow": false,
          "text": "275",
          "x": 0,
          "xref": "x",
          "y": 20,
          "yref": "y"
         },
         {
          "font": {
           "color": "black",
           "size": 10
          },
          "showarrow": false,
          "text": "1.0",
          "x": 1,
          "xref": "x",
          "y": 20,
          "yref": "y"
         },
         {
          "font": {
           "color": "black",
           "size": 10
          },
          "showarrow": false,
          "text": "1",
          "x": 2,
          "xref": "x",
          "y": 20,
          "yref": "y"
         },
         {
          "font": {
           "color": "black",
           "size": 10
          },
          "showarrow": false,
          "text": "275",
          "x": 3,
          "xref": "x",
          "y": 20,
          "yref": "y"
         },
         {
          "font": {
           "color": "black",
           "size": 10
          },
          "showarrow": false,
          "text": "282",
          "x": 0,
          "xref": "x",
          "y": 21,
          "yref": "y"
         },
         {
          "font": {
           "color": "black",
           "size": 10
          },
          "showarrow": false,
          "text": "1.0",
          "x": 1,
          "xref": "x",
          "y": 21,
          "yref": "y"
         },
         {
          "font": {
           "color": "black",
           "size": 10
          },
          "showarrow": false,
          "text": "1",
          "x": 2,
          "xref": "x",
          "y": 21,
          "yref": "y"
         },
         {
          "font": {
           "color": "black",
           "size": 10
          },
          "showarrow": false,
          "text": "282",
          "x": 3,
          "xref": "x",
          "y": 21,
          "yref": "y"
         },
         {
          "font": {
           "color": "black",
           "size": 10
          },
          "showarrow": false,
          "text": "277",
          "x": 0,
          "xref": "x",
          "y": 22,
          "yref": "y"
         },
         {
          "font": {
           "color": "black",
           "size": 10
          },
          "showarrow": false,
          "text": "1.0",
          "x": 1,
          "xref": "x",
          "y": 22,
          "yref": "y"
         },
         {
          "font": {
           "color": "black",
           "size": 10
          },
          "showarrow": false,
          "text": "1",
          "x": 2,
          "xref": "x",
          "y": 22,
          "yref": "y"
         },
         {
          "font": {
           "color": "black",
           "size": 10
          },
          "showarrow": false,
          "text": "277",
          "x": 3,
          "xref": "x",
          "y": 22,
          "yref": "y"
         },
         {
          "font": {
           "color": "black",
           "size": 10
          },
          "showarrow": false,
          "text": "270",
          "x": 0,
          "xref": "x",
          "y": 23,
          "yref": "y"
         },
         {
          "font": {
           "color": "black",
           "size": 10
          },
          "showarrow": false,
          "text": "1.0",
          "x": 1,
          "xref": "x",
          "y": 23,
          "yref": "y"
         },
         {
          "font": {
           "color": "black",
           "size": 10
          },
          "showarrow": false,
          "text": "1",
          "x": 2,
          "xref": "x",
          "y": 23,
          "yref": "y"
         },
         {
          "font": {
           "color": "black",
           "size": 10
          },
          "showarrow": false,
          "text": "270",
          "x": 3,
          "xref": "x",
          "y": 23,
          "yref": "y"
         },
         {
          "font": {
           "color": "black",
           "size": 10
          },
          "showarrow": false,
          "text": "303",
          "x": 0,
          "xref": "x",
          "y": 24,
          "yref": "y"
         },
         {
          "font": {
           "color": "black",
           "size": 10
          },
          "showarrow": false,
          "text": "1.0",
          "x": 1,
          "xref": "x",
          "y": 24,
          "yref": "y"
         },
         {
          "font": {
           "color": "black",
           "size": 10
          },
          "showarrow": false,
          "text": "3",
          "x": 2,
          "xref": "x",
          "y": 24,
          "yref": "y"
         },
         {
          "font": {
           "color": "black",
           "size": 10
          },
          "showarrow": false,
          "text": "313",
          "x": 3,
          "xref": "x",
          "y": 24,
          "yref": "y"
         },
         {
          "font": {
           "color": "black",
           "size": 10
          },
          "showarrow": false,
          "text": "295",
          "x": 0,
          "xref": "x",
          "y": 25,
          "yref": "y"
         },
         {
          "font": {
           "color": "black",
           "size": 10
          },
          "showarrow": false,
          "text": "1.0",
          "x": 1,
          "xref": "x",
          "y": 25,
          "yref": "y"
         },
         {
          "font": {
           "color": "black",
           "size": 10
          },
          "showarrow": false,
          "text": "4",
          "x": 2,
          "xref": "x",
          "y": 25,
          "yref": "y"
         },
         {
          "font": {
           "color": "black",
           "size": 10
          },
          "showarrow": false,
          "text": "307",
          "x": 3,
          "xref": "x",
          "y": 25,
          "yref": "y"
         },
         {
          "font": {
           "color": "black",
           "size": 10
          },
          "showarrow": false,
          "text": "235",
          "x": 0,
          "xref": "x",
          "y": 26,
          "yref": "y"
         },
         {
          "font": {
           "color": "black",
           "size": 10
          },
          "showarrow": false,
          "text": "1.0",
          "x": 1,
          "xref": "x",
          "y": 26,
          "yref": "y"
         },
         {
          "font": {
           "color": "black",
           "size": 10
          },
          "showarrow": false,
          "text": "2",
          "x": 2,
          "xref": "x",
          "y": 26,
          "yref": "y"
         },
         {
          "font": {
           "color": "black",
           "size": 10
          },
          "showarrow": false,
          "text": "236",
          "x": 3,
          "xref": "x",
          "y": 26,
          "yref": "y"
         },
         {
          "font": {
           "color": "black",
           "size": 10
          },
          "showarrow": false,
          "text": "66",
          "x": 0,
          "xref": "x",
          "y": 27,
          "yref": "y"
         },
         {
          "font": {
           "color": "black",
           "size": 10
          },
          "showarrow": false,
          "text": "5.0",
          "x": 1,
          "xref": "x",
          "y": 27,
          "yref": "y"
         },
         {
          "font": {
           "color": "black",
           "size": 10
          },
          "showarrow": false,
          "text": "30",
          "x": 2,
          "xref": "x",
          "y": 27,
          "yref": "y"
         },
         {
          "font": {
           "color": "black",
           "size": 10
          },
          "showarrow": false,
          "text": "330",
          "x": 3,
          "xref": "x",
          "y": 27,
          "yref": "y"
         },
         {
          "font": {
           "color": "black",
           "size": 10
          },
          "showarrow": false,
          "text": "90",
          "x": 0,
          "xref": "x",
          "y": 28,
          "yref": "y"
         },
         {
          "font": {
           "color": "black",
           "size": 10
          },
          "showarrow": false,
          "text": "3.8",
          "x": 1,
          "xref": "x",
          "y": 28,
          "yref": "y"
         },
         {
          "font": {
           "color": "black",
           "size": 10
          },
          "showarrow": false,
          "text": "59",
          "x": 2,
          "xref": "x",
          "y": 28,
          "yref": "y"
         },
         {
          "font": {
           "color": "black",
           "size": 10
          },
          "showarrow": false,
          "text": "340",
          "x": 3,
          "xref": "x",
          "y": 28,
          "yref": "y"
         },
         {
          "font": {
           "color": "black",
           "size": 10
          },
          "showarrow": false,
          "text": "1",
          "x": 0,
          "xref": "x",
          "y": 29,
          "yref": "y"
         },
         {
          "font": {
           "color": "white",
           "size": 10
          },
          "showarrow": false,
          "text": "173.0",
          "x": 1,
          "xref": "x",
          "y": 29,
          "yref": "y"
         },
         {
          "font": {
           "color": "black",
           "size": 10
          },
          "showarrow": false,
          "text": "173",
          "x": 2,
          "xref": "x",
          "y": 29,
          "yref": "y"
         },
         {
          "font": {
           "color": "black",
           "size": 10
          },
          "showarrow": false,
          "text": "173",
          "x": 3,
          "xref": "x",
          "y": 29,
          "yref": "y"
         },
         {
          "font": {
           "color": "black",
           "size": 10
          },
          "showarrow": false,
          "text": "56",
          "x": 0,
          "xref": "x",
          "y": 30,
          "yref": "y"
         },
         {
          "font": {
           "color": "black",
           "size": 10
          },
          "showarrow": false,
          "text": "5.9",
          "x": 1,
          "xref": "x",
          "y": 30,
          "yref": "y"
         },
         {
          "font": {
           "color": "black",
           "size": 10
          },
          "showarrow": false,
          "text": "71",
          "x": 2,
          "xref": "x",
          "y": 30,
          "yref": "y"
         },
         {
          "font": {
           "color": "black",
           "size": 10
          },
          "showarrow": false,
          "text": "329",
          "x": 3,
          "xref": "x",
          "y": 30,
          "yref": "y"
         },
         {
          "font": {
           "color": "black",
           "size": 10
          },
          "showarrow": false,
          "text": "52",
          "x": 0,
          "xref": "x",
          "y": 31,
          "yref": "y"
         },
         {
          "font": {
           "color": "black",
           "size": 10
          },
          "showarrow": false,
          "text": "23.6",
          "x": 1,
          "xref": "x",
          "y": 31,
          "yref": "y"
         },
         {
          "font": {
           "color": "white",
           "size": 10
          },
          "showarrow": false,
          "text": "553",
          "x": 2,
          "xref": "x",
          "y": 31,
          "yref": "y"
         },
         {
          "font": {
           "color": "white",
           "size": 10
          },
          "showarrow": false,
          "text": "1229",
          "x": 3,
          "xref": "x",
          "y": 31,
          "yref": "y"
         },
         {
          "font": {
           "color": "black",
           "size": 10
          },
          "showarrow": false,
          "text": "108",
          "x": 0,
          "xref": "x",
          "y": 32,
          "yref": "y"
         },
         {
          "font": {
           "color": "black",
           "size": 10
          },
          "showarrow": false,
          "text": "2.2",
          "x": 1,
          "xref": "x",
          "y": 32,
          "yref": "y"
         },
         {
          "font": {
           "color": "black",
           "size": 10
          },
          "showarrow": false,
          "text": "38",
          "x": 2,
          "xref": "x",
          "y": 32,
          "yref": "y"
         },
         {
          "font": {
           "color": "black",
           "size": 10
          },
          "showarrow": false,
          "text": "234",
          "x": 3,
          "xref": "x",
          "y": 32,
          "yref": "y"
         },
         {
          "font": {
           "color": "black",
           "size": 10
          },
          "showarrow": false,
          "text": "46",
          "x": 0,
          "xref": "x",
          "y": 33,
          "yref": "y"
         },
         {
          "font": {
           "color": "black",
           "size": 10
          },
          "showarrow": false,
          "text": "5.0",
          "x": 1,
          "xref": "x",
          "y": 33,
          "yref": "y"
         },
         {
          "font": {
           "color": "black",
           "size": 10
          },
          "showarrow": false,
          "text": "48",
          "x": 2,
          "xref": "x",
          "y": 33,
          "yref": "y"
         },
         {
          "font": {
           "color": "black",
           "size": 10
          },
          "showarrow": false,
          "text": "231",
          "x": 3,
          "xref": "x",
          "y": 33,
          "yref": "y"
         },
         {
          "font": {
           "color": "black",
           "size": 10
          },
          "showarrow": false,
          "text": "34",
          "x": 0,
          "xref": "x",
          "y": 34,
          "yref": "y"
         },
         {
          "font": {
           "color": "black",
           "size": 10
          },
          "showarrow": false,
          "text": "8.2",
          "x": 1,
          "xref": "x",
          "y": 34,
          "yref": "y"
         },
         {
          "font": {
           "color": "black",
           "size": 10
          },
          "showarrow": false,
          "text": "73",
          "x": 2,
          "xref": "x",
          "y": 34,
          "yref": "y"
         },
         {
          "font": {
           "color": "black",
           "size": 10
          },
          "showarrow": false,
          "text": "278",
          "x": 3,
          "xref": "x",
          "y": 34,
          "yref": "y"
         },
         {
          "font": {
           "color": "black",
           "size": 10
          },
          "showarrow": false,
          "text": "198",
          "x": 0,
          "xref": "x",
          "y": 35,
          "yref": "y"
         },
         {
          "font": {
           "color": "black",
           "size": 10
          },
          "showarrow": false,
          "text": "1.1",
          "x": 1,
          "xref": "x",
          "y": 35,
          "yref": "y"
         },
         {
          "font": {
           "color": "black",
           "size": 10
          },
          "showarrow": false,
          "text": "7",
          "x": 2,
          "xref": "x",
          "y": 35,
          "yref": "y"
         },
         {
          "font": {
           "color": "black",
           "size": 10
          },
          "showarrow": false,
          "text": "216",
          "x": 3,
          "xref": "x",
          "y": 35,
          "yref": "y"
         },
         {
          "font": {
           "color": "black",
           "size": 10
          },
          "showarrow": false,
          "text": "23",
          "x": 0,
          "xref": "x",
          "y": 36,
          "yref": "y"
         },
         {
          "font": {
           "color": "black",
           "size": 10
          },
          "showarrow": false,
          "text": "15.6",
          "x": 1,
          "xref": "x",
          "y": 36,
          "yref": "y"
         },
         {
          "font": {
           "color": "black",
           "size": 10
          },
          "showarrow": false,
          "text": "193",
          "x": 2,
          "xref": "x",
          "y": 36,
          "yref": "y"
         },
         {
          "font": {
           "color": "black",
           "size": 10
          },
          "showarrow": false,
          "text": "359",
          "x": 3,
          "xref": "x",
          "y": 36,
          "yref": "y"
         },
         {
          "font": {
           "color": "black",
           "size": 10
          },
          "showarrow": false,
          "text": "145",
          "x": 0,
          "xref": "x",
          "y": 37,
          "yref": "y"
         },
         {
          "font": {
           "color": "black",
           "size": 10
          },
          "showarrow": false,
          "text": "1.6",
          "x": 1,
          "xref": "x",
          "y": 37,
          "yref": "y"
         },
         {
          "font": {
           "color": "black",
           "size": 10
          },
          "showarrow": false,
          "text": "22",
          "x": 2,
          "xref": "x",
          "y": 37,
          "yref": "y"
         },
         {
          "font": {
           "color": "black",
           "size": 10
          },
          "showarrow": false,
          "text": "234",
          "x": 3,
          "xref": "x",
          "y": 37,
          "yref": "y"
         },
         {
          "font": {
           "color": "black",
           "size": 10
          },
          "showarrow": false,
          "text": "52",
          "x": 0,
          "xref": "x",
          "y": 38,
          "yref": "y"
         },
         {
          "font": {
           "color": "black",
           "size": 10
          },
          "showarrow": false,
          "text": "5.6",
          "x": 1,
          "xref": "x",
          "y": 38,
          "yref": "y"
         },
         {
          "font": {
           "color": "black",
           "size": 10
          },
          "showarrow": false,
          "text": "47",
          "x": 2,
          "xref": "x",
          "y": 38,
          "yref": "y"
         },
         {
          "font": {
           "color": "black",
           "size": 10
          },
          "showarrow": false,
          "text": "291",
          "x": 3,
          "xref": "x",
          "y": 38,
          "yref": "y"
         },
         {
          "font": {
           "color": "black",
           "size": 10
          },
          "showarrow": false,
          "text": "14",
          "x": 0,
          "xref": "x",
          "y": 39,
          "yref": "y"
         },
         {
          "font": {
           "color": "black",
           "size": 10
          },
          "showarrow": false,
          "text": "16.6",
          "x": 1,
          "xref": "x",
          "y": 39,
          "yref": "y"
         },
         {
          "font": {
           "color": "black",
           "size": 10
          },
          "showarrow": false,
          "text": "154",
          "x": 2,
          "xref": "x",
          "y": 39,
          "yref": "y"
         },
         {
          "font": {
           "color": "black",
           "size": 10
          },
          "showarrow": false,
          "text": "232",
          "x": 3,
          "xref": "x",
          "y": 39,
          "yref": "y"
         },
         {
          "font": {
           "color": "black",
           "size": 10
          },
          "showarrow": false,
          "text": "50",
          "x": 0,
          "xref": "x",
          "y": 40,
          "yref": "y"
         },
         {
          "font": {
           "color": "black",
           "size": 10
          },
          "showarrow": false,
          "text": "7.8",
          "x": 1,
          "xref": "x",
          "y": 40,
          "yref": "y"
         },
         {
          "font": {
           "color": "black",
           "size": 10
          },
          "showarrow": false,
          "text": "43",
          "x": 2,
          "xref": "x",
          "y": 40,
          "yref": "y"
         },
         {
          "font": {
           "color": "black",
           "size": 10
          },
          "showarrow": false,
          "text": "392",
          "x": 3,
          "xref": "x",
          "y": 40,
          "yref": "y"
         },
         {
          "font": {
           "color": "black",
           "size": 10
          },
          "showarrow": false,
          "text": "141",
          "x": 0,
          "xref": "x",
          "y": 41,
          "yref": "y"
         },
         {
          "font": {
           "color": "black",
           "size": 10
          },
          "showarrow": false,
          "text": "1.6",
          "x": 1,
          "xref": "x",
          "y": 41,
          "yref": "y"
         },
         {
          "font": {
           "color": "black",
           "size": 10
          },
          "showarrow": false,
          "text": "12",
          "x": 2,
          "xref": "x",
          "y": 41,
          "yref": "y"
         },
         {
          "font": {
           "color": "black",
           "size": 10
          },
          "showarrow": false,
          "text": "232",
          "x": 3,
          "xref": "x",
          "y": 41,
          "yref": "y"
         },
         {
          "font": {
           "color": "black",
           "size": 10
          },
          "showarrow": false,
          "text": "64",
          "x": 0,
          "xref": "x",
          "y": 42,
          "yref": "y"
         },
         {
          "font": {
           "color": "black",
           "size": 10
          },
          "showarrow": false,
          "text": "3.4",
          "x": 1,
          "xref": "x",
          "y": 42,
          "yref": "y"
         },
         {
          "font": {
           "color": "black",
           "size": 10
          },
          "showarrow": false,
          "text": "18",
          "x": 2,
          "xref": "x",
          "y": 42,
          "yref": "y"
         },
         {
          "font": {
           "color": "black",
           "size": 10
          },
          "showarrow": false,
          "text": "216",
          "x": 3,
          "xref": "x",
          "y": 42,
          "yref": "y"
         },
         {
          "font": {
           "color": "black",
           "size": 10
          },
          "showarrow": false,
          "text": "64",
          "x": 0,
          "xref": "x",
          "y": 43,
          "yref": "y"
         },
         {
          "font": {
           "color": "black",
           "size": 10
          },
          "showarrow": false,
          "text": "4.1",
          "x": 1,
          "xref": "x",
          "y": 43,
          "yref": "y"
         },
         {
          "font": {
           "color": "black",
           "size": 10
          },
          "showarrow": false,
          "text": "83",
          "x": 2,
          "xref": "x",
          "y": 43,
          "yref": "y"
         },
         {
          "font": {
           "color": "black",
           "size": 10
          },
          "showarrow": false,
          "text": "260",
          "x": 3,
          "xref": "x",
          "y": 43,
          "yref": "y"
         },
         {
          "font": {
           "color": "black",
           "size": 10
          },
          "showarrow": false,
          "text": "38",
          "x": 0,
          "xref": "x",
          "y": 44,
          "yref": "y"
         },
         {
          "font": {
           "color": "black",
           "size": 10
          },
          "showarrow": false,
          "text": "6.3",
          "x": 1,
          "xref": "x",
          "y": 44,
          "yref": "y"
         },
         {
          "font": {
           "color": "black",
           "size": 10
          },
          "showarrow": false,
          "text": "48",
          "x": 2,
          "xref": "x",
          "y": 44,
          "yref": "y"
         },
         {
          "font": {
           "color": "black",
           "size": 10
          },
          "showarrow": false,
          "text": "241",
          "x": 3,
          "xref": "x",
          "y": 44,
          "yref": "y"
         },
         {
          "font": {
           "color": "black",
           "size": 10
          },
          "showarrow": false,
          "text": "47",
          "x": 0,
          "xref": "x",
          "y": 45,
          "yref": "y"
         },
         {
          "font": {
           "color": "black",
           "size": 10
          },
          "showarrow": false,
          "text": "6.3",
          "x": 1,
          "xref": "x",
          "y": 45,
          "yref": "y"
         },
         {
          "font": {
           "color": "black",
           "size": 10
          },
          "showarrow": false,
          "text": "44",
          "x": 2,
          "xref": "x",
          "y": 45,
          "yref": "y"
         },
         {
          "font": {
           "color": "black",
           "size": 10
          },
          "showarrow": false,
          "text": "295",
          "x": 3,
          "xref": "x",
          "y": 45,
          "yref": "y"
         },
         {
          "font": {
           "color": "black",
           "size": 10
          },
          "showarrow": false,
          "text": "20",
          "x": 0,
          "xref": "x",
          "y": 46,
          "yref": "y"
         },
         {
          "font": {
           "color": "black",
           "size": 10
          },
          "showarrow": false,
          "text": "15.8",
          "x": 1,
          "xref": "x",
          "y": 46,
          "yref": "y"
         },
         {
          "font": {
           "color": "black",
           "size": 10
          },
          "showarrow": false,
          "text": "44",
          "x": 2,
          "xref": "x",
          "y": 46,
          "yref": "y"
         },
         {
          "font": {
           "color": "black",
           "size": 10
          },
          "showarrow": false,
          "text": "317",
          "x": 3,
          "xref": "x",
          "y": 46,
          "yref": "y"
         },
         {
          "font": {
           "color": "black",
           "size": 10
          },
          "showarrow": false,
          "text": "98",
          "x": 0,
          "xref": "x",
          "y": 47,
          "yref": "y"
         },
         {
          "font": {
           "color": "black",
           "size": 10
          },
          "showarrow": false,
          "text": "2.4",
          "x": 1,
          "xref": "x",
          "y": 47,
          "yref": "y"
         },
         {
          "font": {
           "color": "black",
           "size": 10
          },
          "showarrow": false,
          "text": "32",
          "x": 2,
          "xref": "x",
          "y": 47,
          "yref": "y"
         },
         {
          "font": {
           "color": "black",
           "size": 10
          },
          "showarrow": false,
          "text": "236",
          "x": 3,
          "xref": "x",
          "y": 47,
          "yref": "y"
         },
         {
          "font": {
           "color": "black",
           "size": 10
          },
          "showarrow": false,
          "text": "155",
          "x": 0,
          "xref": "x",
          "y": 48,
          "yref": "y"
         },
         {
          "font": {
           "color": "black",
           "size": 10
          },
          "showarrow": false,
          "text": "1.5",
          "x": 1,
          "xref": "x",
          "y": 48,
          "yref": "y"
         },
         {
          "font": {
           "color": "black",
           "size": 10
          },
          "showarrow": false,
          "text": "12",
          "x": 2,
          "xref": "x",
          "y": 48,
          "yref": "y"
         },
         {
          "font": {
           "color": "black",
           "size": 10
          },
          "showarrow": false,
          "text": "238",
          "x": 3,
          "xref": "x",
          "y": 48,
          "yref": "y"
         },
         {
          "font": {
           "color": "black",
           "size": 10
          },
          "showarrow": false,
          "text": "202",
          "x": 0,
          "xref": "x",
          "y": 49,
          "yref": "y"
         },
         {
          "font": {
           "color": "black",
           "size": 10
          },
          "showarrow": false,
          "text": "1.1",
          "x": 1,
          "xref": "x",
          "y": 49,
          "yref": "y"
         },
         {
          "font": {
           "color": "black",
           "size": 10
          },
          "showarrow": false,
          "text": "3",
          "x": 2,
          "xref": "x",
          "y": 49,
          "yref": "y"
         },
         {
          "font": {
           "color": "black",
           "size": 10
          },
          "showarrow": false,
          "text": "217",
          "x": 3,
          "xref": "x",
          "y": 49,
          "yref": "y"
         }
        ],
        "height": 1450,
        "margin": {
         "b": 80,
         "l": 250,
         "r": 50,
         "t": 100
        },
        "plot_bgcolor": "white",
        "template": {
         "data": {
          "bar": [
           {
            "error_x": {
             "color": "#2a3f5f"
            },
            "error_y": {
             "color": "#2a3f5f"
            },
            "marker": {
             "line": {
              "color": "#E5ECF6",
              "width": 0.5
             },
             "pattern": {
              "fillmode": "overlay",
              "size": 10,
              "solidity": 0.2
             }
            },
            "type": "bar"
           }
          ],
          "barpolar": [
           {
            "marker": {
             "line": {
              "color": "#E5ECF6",
              "width": 0.5
             },
             "pattern": {
              "fillmode": "overlay",
              "size": 10,
              "solidity": 0.2
             }
            },
            "type": "barpolar"
           }
          ],
          "carpet": [
           {
            "aaxis": {
             "endlinecolor": "#2a3f5f",
             "gridcolor": "white",
             "linecolor": "white",
             "minorgridcolor": "white",
             "startlinecolor": "#2a3f5f"
            },
            "baxis": {
             "endlinecolor": "#2a3f5f",
             "gridcolor": "white",
             "linecolor": "white",
             "minorgridcolor": "white",
             "startlinecolor": "#2a3f5f"
            },
            "type": "carpet"
           }
          ],
          "choropleth": [
           {
            "colorbar": {
             "outlinewidth": 0,
             "ticks": ""
            },
            "type": "choropleth"
           }
          ],
          "contour": [
           {
            "colorbar": {
             "outlinewidth": 0,
             "ticks": ""
            },
            "colorscale": [
             [
              0,
              "#0d0887"
             ],
             [
              0.1111111111111111,
              "#46039f"
             ],
             [
              0.2222222222222222,
              "#7201a8"
             ],
             [
              0.3333333333333333,
              "#9c179e"
             ],
             [
              0.4444444444444444,
              "#bd3786"
             ],
             [
              0.5555555555555556,
              "#d8576b"
             ],
             [
              0.6666666666666666,
              "#ed7953"
             ],
             [
              0.7777777777777778,
              "#fb9f3a"
             ],
             [
              0.8888888888888888,
              "#fdca26"
             ],
             [
              1,
              "#f0f921"
             ]
            ],
            "type": "contour"
           }
          ],
          "contourcarpet": [
           {
            "colorbar": {
             "outlinewidth": 0,
             "ticks": ""
            },
            "type": "contourcarpet"
           }
          ],
          "heatmap": [
           {
            "colorbar": {
             "outlinewidth": 0,
             "ticks": ""
            },
            "colorscale": [
             [
              0,
              "#0d0887"
             ],
             [
              0.1111111111111111,
              "#46039f"
             ],
             [
              0.2222222222222222,
              "#7201a8"
             ],
             [
              0.3333333333333333,
              "#9c179e"
             ],
             [
              0.4444444444444444,
              "#bd3786"
             ],
             [
              0.5555555555555556,
              "#d8576b"
             ],
             [
              0.6666666666666666,
              "#ed7953"
             ],
             [
              0.7777777777777778,
              "#fb9f3a"
             ],
             [
              0.8888888888888888,
              "#fdca26"
             ],
             [
              1,
              "#f0f921"
             ]
            ],
            "type": "heatmap"
           }
          ],
          "heatmapgl": [
           {
            "colorbar": {
             "outlinewidth": 0,
             "ticks": ""
            },
            "colorscale": [
             [
              0,
              "#0d0887"
             ],
             [
              0.1111111111111111,
              "#46039f"
             ],
             [
              0.2222222222222222,
              "#7201a8"
             ],
             [
              0.3333333333333333,
              "#9c179e"
             ],
             [
              0.4444444444444444,
              "#bd3786"
             ],
             [
              0.5555555555555556,
              "#d8576b"
             ],
             [
              0.6666666666666666,
              "#ed7953"
             ],
             [
              0.7777777777777778,
              "#fb9f3a"
             ],
             [
              0.8888888888888888,
              "#fdca26"
             ],
             [
              1,
              "#f0f921"
             ]
            ],
            "type": "heatmapgl"
           }
          ],
          "histogram": [
           {
            "marker": {
             "pattern": {
              "fillmode": "overlay",
              "size": 10,
              "solidity": 0.2
             }
            },
            "type": "histogram"
           }
          ],
          "histogram2d": [
           {
            "colorbar": {
             "outlinewidth": 0,
             "ticks": ""
            },
            "colorscale": [
             [
              0,
              "#0d0887"
             ],
             [
              0.1111111111111111,
              "#46039f"
             ],
             [
              0.2222222222222222,
              "#7201a8"
             ],
             [
              0.3333333333333333,
              "#9c179e"
             ],
             [
              0.4444444444444444,
              "#bd3786"
             ],
             [
              0.5555555555555556,
              "#d8576b"
             ],
             [
              0.6666666666666666,
              "#ed7953"
             ],
             [
              0.7777777777777778,
              "#fb9f3a"
             ],
             [
              0.8888888888888888,
              "#fdca26"
             ],
             [
              1,
              "#f0f921"
             ]
            ],
            "type": "histogram2d"
           }
          ],
          "histogram2dcontour": [
           {
            "colorbar": {
             "outlinewidth": 0,
             "ticks": ""
            },
            "colorscale": [
             [
              0,
              "#0d0887"
             ],
             [
              0.1111111111111111,
              "#46039f"
             ],
             [
              0.2222222222222222,
              "#7201a8"
             ],
             [
              0.3333333333333333,
              "#9c179e"
             ],
             [
              0.4444444444444444,
              "#bd3786"
             ],
             [
              0.5555555555555556,
              "#d8576b"
             ],
             [
              0.6666666666666666,
              "#ed7953"
             ],
             [
              0.7777777777777778,
              "#fb9f3a"
             ],
             [
              0.8888888888888888,
              "#fdca26"
             ],
             [
              1,
              "#f0f921"
             ]
            ],
            "type": "histogram2dcontour"
           }
          ],
          "mesh3d": [
           {
            "colorbar": {
             "outlinewidth": 0,
             "ticks": ""
            },
            "type": "mesh3d"
           }
          ],
          "parcoords": [
           {
            "line": {
             "colorbar": {
              "outlinewidth": 0,
              "ticks": ""
             }
            },
            "type": "parcoords"
           }
          ],
          "pie": [
           {
            "automargin": true,
            "type": "pie"
           }
          ],
          "scatter": [
           {
            "fillpattern": {
             "fillmode": "overlay",
             "size": 10,
             "solidity": 0.2
            },
            "type": "scatter"
           }
          ],
          "scatter3d": [
           {
            "line": {
             "colorbar": {
              "outlinewidth": 0,
              "ticks": ""
             }
            },
            "marker": {
             "colorbar": {
              "outlinewidth": 0,
              "ticks": ""
             }
            },
            "type": "scatter3d"
           }
          ],
          "scattercarpet": [
           {
            "marker": {
             "colorbar": {
              "outlinewidth": 0,
              "ticks": ""
             }
            },
            "type": "scattercarpet"
           }
          ],
          "scattergeo": [
           {
            "marker": {
             "colorbar": {
              "outlinewidth": 0,
              "ticks": ""
             }
            },
            "type": "scattergeo"
           }
          ],
          "scattergl": [
           {
            "marker": {
             "colorbar": {
              "outlinewidth": 0,
              "ticks": ""
             }
            },
            "type": "scattergl"
           }
          ],
          "scattermapbox": [
           {
            "marker": {
             "colorbar": {
              "outlinewidth": 0,
              "ticks": ""
             }
            },
            "type": "scattermapbox"
           }
          ],
          "scatterpolar": [
           {
            "marker": {
             "colorbar": {
              "outlinewidth": 0,
              "ticks": ""
             }
            },
            "type": "scatterpolar"
           }
          ],
          "scatterpolargl": [
           {
            "marker": {
             "colorbar": {
              "outlinewidth": 0,
              "ticks": ""
             }
            },
            "type": "scatterpolargl"
           }
          ],
          "scatterternary": [
           {
            "marker": {
             "colorbar": {
              "outlinewidth": 0,
              "ticks": ""
             }
            },
            "type": "scatterternary"
           }
          ],
          "surface": [
           {
            "colorbar": {
             "outlinewidth": 0,
             "ticks": ""
            },
            "colorscale": [
             [
              0,
              "#0d0887"
             ],
             [
              0.1111111111111111,
              "#46039f"
             ],
             [
              0.2222222222222222,
              "#7201a8"
             ],
             [
              0.3333333333333333,
              "#9c179e"
             ],
             [
              0.4444444444444444,
              "#bd3786"
             ],
             [
              0.5555555555555556,
              "#d8576b"
             ],
             [
              0.6666666666666666,
              "#ed7953"
             ],
             [
              0.7777777777777778,
              "#fb9f3a"
             ],
             [
              0.8888888888888888,
              "#fdca26"
             ],
             [
              1,
              "#f0f921"
             ]
            ],
            "type": "surface"
           }
          ],
          "table": [
           {
            "cells": {
             "fill": {
              "color": "#EBF0F8"
             },
             "line": {
              "color": "white"
             }
            },
            "header": {
             "fill": {
              "color": "#C8D4E3"
             },
             "line": {
              "color": "white"
             }
            },
            "type": "table"
           }
          ]
         },
         "layout": {
          "annotationdefaults": {
           "arrowcolor": "#2a3f5f",
           "arrowhead": 0,
           "arrowwidth": 1
          },
          "autotypenumbers": "strict",
          "coloraxis": {
           "colorbar": {
            "outlinewidth": 0,
            "ticks": ""
           }
          },
          "colorscale": {
           "diverging": [
            [
             0,
             "#8e0152"
            ],
            [
             0.1,
             "#c51b7d"
            ],
            [
             0.2,
             "#de77ae"
            ],
            [
             0.3,
             "#f1b6da"
            ],
            [
             0.4,
             "#fde0ef"
            ],
            [
             0.5,
             "#f7f7f7"
            ],
            [
             0.6,
             "#e6f5d0"
            ],
            [
             0.7,
             "#b8e186"
            ],
            [
             0.8,
             "#7fbc41"
            ],
            [
             0.9,
             "#4d9221"
            ],
            [
             1,
             "#276419"
            ]
           ],
           "sequential": [
            [
             0,
             "#0d0887"
            ],
            [
             0.1111111111111111,
             "#46039f"
            ],
            [
             0.2222222222222222,
             "#7201a8"
            ],
            [
             0.3333333333333333,
             "#9c179e"
            ],
            [
             0.4444444444444444,
             "#bd3786"
            ],
            [
             0.5555555555555556,
             "#d8576b"
            ],
            [
             0.6666666666666666,
             "#ed7953"
            ],
            [
             0.7777777777777778,
             "#fb9f3a"
            ],
            [
             0.8888888888888888,
             "#fdca26"
            ],
            [
             1,
             "#f0f921"
            ]
           ],
           "sequentialminus": [
            [
             0,
             "#0d0887"
            ],
            [
             0.1111111111111111,
             "#46039f"
            ],
            [
             0.2222222222222222,
             "#7201a8"
            ],
            [
             0.3333333333333333,
             "#9c179e"
            ],
            [
             0.4444444444444444,
             "#bd3786"
            ],
            [
             0.5555555555555556,
             "#d8576b"
            ],
            [
             0.6666666666666666,
             "#ed7953"
            ],
            [
             0.7777777777777778,
             "#fb9f3a"
            ],
            [
             0.8888888888888888,
             "#fdca26"
            ],
            [
             1,
             "#f0f921"
            ]
           ]
          },
          "colorway": [
           "#636efa",
           "#EF553B",
           "#00cc96",
           "#ab63fa",
           "#FFA15A",
           "#19d3f3",
           "#FF6692",
           "#B6E880",
           "#FF97FF",
           "#FECB52"
          ],
          "font": {
           "color": "#2a3f5f"
          },
          "geo": {
           "bgcolor": "white",
           "lakecolor": "white",
           "landcolor": "#E5ECF6",
           "showlakes": true,
           "showland": true,
           "subunitcolor": "white"
          },
          "hoverlabel": {
           "align": "left"
          },
          "hovermode": "closest",
          "mapbox": {
           "style": "light"
          },
          "paper_bgcolor": "white",
          "plot_bgcolor": "#E5ECF6",
          "polar": {
           "angularaxis": {
            "gridcolor": "white",
            "linecolor": "white",
            "ticks": ""
           },
           "bgcolor": "#E5ECF6",
           "radialaxis": {
            "gridcolor": "white",
            "linecolor": "white",
            "ticks": ""
           }
          },
          "scene": {
           "xaxis": {
            "backgroundcolor": "#E5ECF6",
            "gridcolor": "white",
            "gridwidth": 2,
            "linecolor": "white",
            "showbackground": true,
            "ticks": "",
            "zerolinecolor": "white"
           },
           "yaxis": {
            "backgroundcolor": "#E5ECF6",
            "gridcolor": "white",
            "gridwidth": 2,
            "linecolor": "white",
            "showbackground": true,
            "ticks": "",
            "zerolinecolor": "white"
           },
           "zaxis": {
            "backgroundcolor": "#E5ECF6",
            "gridcolor": "white",
            "gridwidth": 2,
            "linecolor": "white",
            "showbackground": true,
            "ticks": "",
            "zerolinecolor": "white"
           }
          },
          "shapedefaults": {
           "line": {
            "color": "#2a3f5f"
           }
          },
          "ternary": {
           "aaxis": {
            "gridcolor": "white",
            "linecolor": "white",
            "ticks": ""
           },
           "baxis": {
            "gridcolor": "white",
            "linecolor": "white",
            "ticks": ""
           },
           "bgcolor": "#E5ECF6",
           "caxis": {
            "gridcolor": "white",
            "linecolor": "white",
            "ticks": ""
           }
          },
          "title": {
           "x": 0.05
          },
          "xaxis": {
           "automargin": true,
           "gridcolor": "white",
           "linecolor": "white",
           "ticks": "",
           "title": {
            "standoff": 15
           },
           "zerolinecolor": "white",
           "zerolinewidth": 2
          },
          "yaxis": {
           "automargin": true,
           "gridcolor": "white",
           "linecolor": "white",
           "ticks": "",
           "title": {
            "standoff": 15
           },
           "zerolinecolor": "white",
           "zerolinewidth": 2
          }
         }
        },
        "title": {
         "font": {
          "size": 16
         },
         "text": "Cyclomatic Complexity Heatmap by Class<br><sub>Top 50 classes by complexity score</sub>"
        },
        "xaxis": {
         "showgrid": false,
         "side": "bottom",
         "tickfont": {
          "size": 12
         },
         "title": {
          "text": "Complexity Metrics"
         }
        },
        "yaxis": {
         "autorange": "reversed",
         "showgrid": false,
         "tickfont": {
          "size": 10
         },
         "title": {
          "text": "Repository::Class"
         }
        }
       }
      }
     },
     "metadata": {},
     "output_type": "display_data"
    }
   ],
   "source": [
    "import pandas as pd\n",
    "import warnings\n",
    "import plotly.graph_objects as go\n",
    "import plotly.express as px\n",
    "import code_data_science.data_table as dt\n",
    "import numpy as np\n",
    "\n",
    "warnings.simplefilter(\"ignore\")\n",
    "\n",
    "df = dt.read_csv(\"../samples/cyclomatic_complexity.csv\")\n",
    "\n",
    "# Filter the data frame to only include rows where repositoryPath contains\n",
    "# a term in the repository_filter (case insensitive)\n",
    "if len(repository_filter) > 0:\n",
    "    df = df[\n",
    "        df[\"repositoryPath\"].str.contains(\"|\".join(repository_filter), case=False)\n",
    "    ]\n",
    "\n",
    "# Exit early if there are no records and render a plot with a message\n",
    "if len(df) == 0:\n",
    "    fig = go.Figure()\n",
    "    fig.add_annotation(\n",
    "        text=\"No data available for the selected repositories\",\n",
    "        xref=\"paper\",\n",
    "        yref=\"paper\",\n",
    "        x=0.5,\n",
    "        y=0.5,\n",
    "        showarrow=False,\n",
    "        font=dict(size=14)\n",
    "    )\n",
    "    fig.update_layout(\n",
    "        xaxis=dict(visible=False),\n",
    "        yaxis=dict(visible=False),\n",
    "        margin=dict(l=0, r=0, t=60, b=60),\n",
    "        title=\"Cyclomatic Complexity Heatmap\"\n",
    "    )\n",
    "    fig.show(render=\"plotly_mimetype\")\n",
    "else:\n",
    "    # Aggregate complexity metrics by repository and class\n",
    "    class_metrics = df.groupby(['repositoryPath', 'className']).agg({\n",
    "        'complexity': ['sum', 'mean', 'max', 'count']\n",
    "    }).reset_index()\n",
    "    \n",
    "    # Flatten column names\n",
    "    class_metrics.columns = ['repository', 'className', 'total_complexity', 'avg_complexity', 'max_complexity', 'method_count']\n",
    "    \n",
    "    # Get short class names for display\n",
    "    class_metrics['classShortName'] = class_metrics['className'].str.split('.').str[-1]\n",
    "    \n",
    "    # Create a score that balances total and average complexity\n",
    "    class_metrics['complexity_score'] = class_metrics['total_complexity'] * 0.6 + class_metrics['avg_complexity'] * 0.4\n",
    "    \n",
    "    # Get top N classes by complexity score\n",
    "    top_classes = class_metrics.nlargest(min(top_n_classes, len(class_metrics)), 'complexity_score')\n",
    "    \n",
    "    # Create pivot table for heatmap\n",
    "    # We'll show different metrics as columns\n",
    "    metrics_data = []\n",
    "    for _, row in top_classes.iterrows():\n",
    "        metrics_data.append({\n",
    "            'class': f\"{row['repository'].split('/')[-1]}::{row['classShortName']}\",\n",
    "            'metric': 'Total Complexity',\n",
    "            'value': row['total_complexity']\n",
    "        })\n",
    "        metrics_data.append({\n",
    "            'class': f\"{row['repository'].split('/')[-1]}::{row['classShortName']}\",\n",
    "            'metric': 'Avg Complexity',\n",
    "            'value': row['avg_complexity']\n",
    "        })\n",
    "        metrics_data.append({\n",
    "            'class': f\"{row['repository'].split('/')[-1]}::{row['classShortName']}\",\n",
    "            'metric': 'Max Complexity',\n",
    "            'value': row['max_complexity']\n",
    "        })\n",
    "        metrics_data.append({\n",
    "            'class': f\"{row['repository'].split('/')[-1]}::{row['classShortName']}\",\n",
    "            'metric': 'Method Count',\n",
    "            'value': row['method_count']\n",
    "        })\n",
    "    \n",
    "    metrics_df = pd.DataFrame(metrics_data)\n",
    "    pivot_table = metrics_df.pivot(index='class', columns='metric', values='value')\n",
    "    \n",
    "    # Reorder columns\n",
    "    pivot_table = pivot_table[['Method Count', 'Avg Complexity', 'Max Complexity', 'Total Complexity']]\n",
    "    \n",
    "    # Normalize values for each metric (0-1 scale) for better color representation\n",
    "    normalized_data = pivot_table.copy()\n",
    "    for col in normalized_data.columns:\n",
    "        col_min = normalized_data[col].min()\n",
    "        col_max = normalized_data[col].max()\n",
    "        if col_max > col_min:\n",
    "            normalized_data[col] = (normalized_data[col] - col_min) / (col_max - col_min)\n",
    "    \n",
    "    # Create custom hover text\n",
    "    hover_text = []\n",
    "    for i in range(len(pivot_table)):\n",
    "        hover_row = []\n",
    "        for j, col in enumerate(pivot_table.columns):\n",
    "            value = pivot_table.iloc[i, j]\n",
    "            if col == 'Avg Complexity':\n",
    "                hover_row.append(f\"{col}: {value:.1f}\")\n",
    "            else:\n",
    "                hover_row.append(f\"{col}: {int(value)}\")\n",
    "        hover_text.append(hover_row)\n",
    "    \n",
    "    # Create the heatmap\n",
    "    fig = go.Figure(data=go.Heatmap(\n",
    "        z=normalized_data.values,\n",
    "        x=normalized_data.columns,\n",
    "        y=normalized_data.index,\n",
    "        colorscale=[\n",
    "            [0, '#E8F5E9'],\n",
    "            [0.2, '#A5D6A7'],\n",
    "            [0.4, '#FFE082'],\n",
    "            [0.6, '#FFB74D'],\n",
    "            [0.8, '#FF8A65'],\n",
    "            [1, '#EF5350']\n",
    "        ],\n",
    "        colorbar=dict(\n",
    "            title=\"Normalized<br>Complexity\",\n",
    "            thickness=15,\n",
    "            len=0.7\n",
    "        ),\n",
    "        text=hover_text,\n",
    "        texttemplate=\"\",\n",
    "        hovertemplate=(\n",
    "            '<b>%{y}</b><br>' +\n",
    "            '%{text}' +\n",
    "            '<extra></extra>'\n",
    "        )\n",
    "    ))\n",
    "    \n",
    "    # Add text annotations for actual values\n",
    "    annotations = []\n",
    "    for i in range(len(pivot_table)):\n",
    "        for j, col in enumerate(pivot_table.columns):\n",
    "            value = pivot_table.iloc[i, j]\n",
    "            if col == 'Avg Complexity':\n",
    "                text = f\"{value:.1f}\"\n",
    "            else:\n",
    "                text = str(int(value))\n",
    "            \n",
    "            annotations.append(\n",
    "                go.layout.Annotation(\n",
    "                    text=text,\n",
    "                    x=j,\n",
    "                    y=i,\n",
    "                    xref=\"x\",\n",
    "                    yref=\"y\",\n",
    "                    showarrow=False,\n",
    "                    font=dict(\n",
    "                        size=10,\n",
    "                        color=\"black\" if normalized_data.iloc[i, j] < 0.6 else \"white\"\n",
    "                    )\n",
    "                )\n",
    "            )\n",
    "    \n",
    "    # Update layout\n",
    "    fig.update_layout(\n",
    "        title=dict(\n",
    "            text=f\"Cyclomatic Complexity Heatmap by Class<br><sub>Top {len(pivot_table)} classes by complexity score</sub>\",\n",
    "            font=dict(size=16)\n",
    "        ),\n",
    "        xaxis=dict(\n",
    "            title=\"Complexity Metrics\",\n",
    "            tickfont=dict(size=12),\n",
    "            showgrid=False,\n",
    "            side=\"bottom\"\n",
    "        ),\n",
    "        yaxis=dict(\n",
    "            title=\"Repository::Class\",\n",
    "            tickfont=dict(size=10),\n",
    "            showgrid=False,\n",
    "            autorange=\"reversed\"  # Put highest complexity at top\n",
    "        ),\n",
    "        annotations=annotations,\n",
    "        margin=dict(l=250, r=50, t=100, b=80),\n",
    "        height=max(600, len(pivot_table) * 25 + 200),\n",
    "        plot_bgcolor='white'\n",
    "    )\n",
    "    \n",
    "    # Show the figure\n",
    "    fig.show(render=\"plotly_mimetype\")"
   ]
  }
 ],
 "metadata": {
  "kernelspec": {
   "display_name": ".python",
   "language": "python",
   "name": "python3"
  },
  "language_info": {
   "codemirror_mode": {
    "name": "ipython",
    "version": 3
   },
   "file_extension": ".py",
   "mimetype": "text/x-python",
   "name": "python",
   "nbconvert_exporter": "python",
   "pygments_lexer": "ipython3",
   "version": "3.12.8"
  }
 },
 "nbformat": 4,
 "nbformat_minor": 4
}
