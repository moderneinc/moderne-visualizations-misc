{
 "cells": [
  {
   "cell_type": "code",
   "execution_count": null,
   "metadata": {},
   "outputs": [],
   "source": [
    "from code_data_science import (\n",
    "    data_table as dt,\n",
    "    unique_dictionaries as ud,\n",
    "    tree_data_grid,\n",
    ")\n",
    "\n",
    "\n",
    "def create_key(group_id=None, artifact_id=None, version=None):\n",
    "    parts = []\n",
    "\n",
    "    if group_id and artifact_id:\n",
    "        parts.append(f\"{group_id}.{artifact_id}\")\n",
    "    elif group_id:\n",
    "        parts.append(group_id)\n",
    "    elif artifact_id:\n",
    "        parts.append(artifact_id)\n",
    "\n",
    "    if version:\n",
    "        parts.append(f\"@{version}\")\n",
    "\n",
    "    return \"\".join(parts)\n",
    "\n",
    "\n",
    "def dataframe_to_tree(df):\n",
    "    df[\"groupId\"].fillna(\"\", inplace=True)\n",
    "    df[\"version\"].fillna(\"\", inplace=True)\n",
    "    df[\"dependencyGroupId\"].fillna(\"\", inplace=True)\n",
    "    df[\"dependencyVersion\"].fillna(\"\", inplace=True)\n",
    "\n",
    "    tree = ud.UniqueDictionaries()\n",
    "\n",
    "    for _, row in df.iterrows():\n",
    "        parentKey = f\"{row['repositoryPath']}/{create_key(row['groupId'], row['artifactId'],row['version'])}\"\n",
    "        childKey = create_key(\n",
    "            row[\"dependencyGroupId\"],\n",
    "            row[\"dependencyArtifactId\"],\n",
    "            row[\"dependencyVersion\"],\n",
    "        )\n",
    "\n",
    "        tree.add(\n",
    "            {\n",
    "                \"path\": f\"{parentKey}/{childKey}\",\n",
    "                \"version\": f\"{row['dependencyVersion']}\",\n",
    "                \"direct\": f\"{row['direct']}\",\n",
    "            }\n",
    "        )\n",
    "\n",
    "    return tree.to_list()\n",
    "\n",
    "\n",
    "# dependency report recipe\n",
    "df = dt.read_csv(\"../samples/dependency_tree_view.csv\")\n",
    "df = df.drop_duplicates(subset=[\"repositoryPath\", \"dependencyArtifactId\"])\n",
    "tree_data = dataframe_to_tree(df)"
   ]
  },
  {
   "cell_type": "code",
   "execution_count": null,
   "metadata": {},
   "outputs": [],
   "source": [
    "tree_data_grid.display(\n",
    "    tree_data,\n",
    "    \"Projects\",\n",
    "    [\n",
    "        {\"field\": \"version\", \"headerName\": \"Version\", \"minWidth\": 200},\n",
    "        {\"field\": \"direct\", \"headerName\": \"Direct\", \"minWidth\": 100},\n",
    "    ],\n",
    ")"
   ]
  }
 ],
 "metadata": {
  "kernelspec": {
   "display_name": "Python 3",
   "language": "python",
   "name": "python3"
  },
  "language_info": {
   "codemirror_mode": {
    "name": "ipython",
    "version": 3
   },
   "file_extension": ".py",
   "mimetype": "text/x-python",
   "name": "python",
   "nbconvert_exporter": "python",
   "pygments_lexer": "ipython3",
   "version": "3.11.4"
  },
  "orig_nbformat": 4
 },
 "nbformat": 4,
 "nbformat_minor": 2
}
