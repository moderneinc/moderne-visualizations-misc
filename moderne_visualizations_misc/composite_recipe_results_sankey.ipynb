{
 "cells": [
  {
   "cell_type": "code",
   "execution_count": null,
   "metadata": {
    "tags": [
     "parameters"
    ]
   },
   "outputs": [],
   "source": [
    "repository_filter: list[str] = []\n",
    "count_threshold = \"0\""
   ]
  },
  {
   "cell_type": "code",
   "execution_count": null,
   "metadata": {},
   "outputs": [],
   "source": [
    "from code_data_science import data_table as dt\n",
    "import warnings\n",
    "\n",
    "warnings.simplefilter(\"ignore\")\n",
    "\n",
    "df = dt.read_csv(\"../samples/composite_recipe_results_sankey.csv\")\n",
    "\n",
    "df[\"repositoryWithBranch\"] = df[\"repositoryPath\"] + \"/\" + df[\"repositoryBranch\"]\n",
    "# Filter the data frame to only include rows where repositoryWithBranch contain\n",
    "# a term in the repository_filter (case insensitive)\n",
    "if len(repository_filter) > 0:\n",
    "    df = df[\n",
    "        df[\"repositoryWithBranch\"].str.contains(\"|\".join(repository_filter), case=False)\n",
    "    ]"
   ]
  },
  {
   "cell_type": "code",
   "execution_count": null,
   "metadata": {},
   "outputs": [],
   "source": [
    "df = df[[\"parentRecipe\", \"recipe\"]].assign(count=lambda r: 1)\n",
    "recipe_counts = (\n",
    "    df[[\"parentRecipe\", \"recipe\", \"count\"]]\n",
    "    .groupby(by=[\"parentRecipe\", \"recipe\"])[\"count\"]\n",
    "    .count()\n",
    "    .sort_values(ascending=False)\n",
    "    .reset_index(name=\"count\")\n",
    ")\n",
    "recipe_counts[\"parentRecipe\"] = recipe_counts[\"parentRecipe\"].transform(\n",
    "    lambda s: s.split(\".\")[-1]\n",
    ")\n",
    "recipe_counts[\"recipe\"] = recipe_counts[\"recipe\"].transform(lambda s: s.split(\".\")[-1])\n",
    "\n",
    "# sort recipe_counts by count\n",
    "recipe_counts = recipe_counts.sort_values(by=[\"count\"], ascending=False)\n",
    "\n",
    "count_threshold_int = int(count_threshold)\n",
    "\n",
    "if count_threshold_int > 0:\n",
    "    recipe_counts = recipe_counts[recipe_counts[\"count\"] > count_threshold_int]"
   ]
  },
  {
   "cell_type": "code",
   "execution_count": null,
   "metadata": {},
   "outputs": [],
   "source": [
    "import plotly.graph_objects as go\n",
    "\n",
    "# Extract all unique nodes (parent and child recipes)\n",
    "all_nodes = list(set(recipe_counts[\"parentRecipe\"]).union(set(recipe_counts[\"recipe\"])))\n",
    "\n",
    "# Create node indices mapping for preparing for plotly\n",
    "node_indices = {node: i for i, node in enumerate(all_nodes)}\n",
    "\n",
    "# iterates over each row in recipe_counts and find the index of the 'parentRecipe' in node_indices and adds it to the source list.\n",
    "source = [node_indices[row[\"parentRecipe\"]] for _, row in recipe_counts.iterrows()]\n",
    "\n",
    "# iterates over each row in recipe_counts and find the index of the 'recipe' in node_indices and adds it to the target list.\n",
    "target = [node_indices[row[\"recipe\"]] for _, row in recipe_counts.iterrows()]\n",
    "\n",
    "# convert the 'count' column to a list\n",
    "value = list(recipe_counts[\"count\"])\n",
    "\n",
    "# Format labels with node names and counts\n",
    "\n",
    "\n",
    "def getCount(node):\n",
    "    left = recipe_counts[recipe_counts[\"recipe\"] == node][\"count\"].sum()\n",
    "    if left == 0:\n",
    "        return recipe_counts[recipe_counts[\"parentRecipe\"] == node][\"count\"].sum()\n",
    "    else:\n",
    "        return left\n",
    "\n",
    "\n",
    "formatted_labels = [f\"{node} - {getCount(node)}\" for node in all_nodes]\n",
    "\n",
    "# Create the Sankey diagram\n",
    "fig = go.Figure(\n",
    "    data=[\n",
    "        go.Sankey(\n",
    "            node=dict(\n",
    "                pad=15,\n",
    "                thickness=15,\n",
    "                line=dict(color=\"black\", width=0.5),\n",
    "                label=formatted_labels,\n",
    "            ),\n",
    "            link=dict(\n",
    "                source=source,\n",
    "                target=target,\n",
    "                value=value,\n",
    "            ),\n",
    "        )\n",
    "    ]\n",
    ")\n",
    "\n",
    "# Update layout\n",
    "fig.update_layout(\n",
    "    title_text=\"Recipes that made changes\",\n",
    "    font_size=10,\n",
    "    height=max(len(all_nodes) * 15, 400),\n",
    ")\n",
    "\n",
    "fig.show()"
   ]
  }
 ],
 "metadata": {
  "kernelspec": {
   "display_name": "Python 3",
   "language": "python",
   "name": "python3"
  },
  "language_info": {
   "codemirror_mode": {
    "name": "ipython",
    "version": 3
   },
   "file_extension": ".py",
   "mimetype": "text/x-python",
   "name": "python",
   "nbconvert_exporter": "python",
   "pygments_lexer": "ipython3",
   "version": "3.11.4"
  }
 },
 "nbformat": 4,
 "nbformat_minor": 2
}
