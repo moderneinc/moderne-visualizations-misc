{
    "cells": [
        {
            "cell_type": "code",
            "execution_count": 3,
            "metadata": {
                "tags": [
                    "parameters"
                ]
            },
            "outputs": [],
            "source": [
                "repository_filter: list[str] = []"
            ]
        },
        {
            "cell_type": "code",
            "execution_count": null,
            "metadata": {},
            "outputs": [
                {
                    "data": {
                        "application/vnd.plotly.v1+json": {
                            "config": {
                                "plotlyServerURL": "https://plot.ly"
                            },
                            "data": [
                                {
                                    "customdata": [
                                        {
                                            "category_pct": 0.1,
                                            "total_pct": 0
                                        },
                                        {
                                            "category_pct": 0,
                                            "total_pct": 0
                                        },
                                        {
                                            "category_pct": 1.2,
                                            "total_pct": 0.1
                                        },
                                        {
                                            "category_pct": 0.5,
                                            "total_pct": 0.1
                                        }
                                    ],
                                    "hovertemplate": "<b>%{x}</b><br>Low (Direct): %{y}<br>Percent of %{x}: %{customdata.category_pct}%<br>Percent of all: %{customdata.total_pct}%<extra></extra>",
                                    "legendgroup": "Low",
                                    "marker": {
                                        "color": "#52BBA0"
                                    },
                                    "name": "Low",
                                    "showlegend": true,
                                    "type": "bar",
                                    "x": [
                                        -0.2,
                                        0.8,
                                        1.8,
                                        2.8
                                    ],
                                    "y": [
                                        5,
                                        0,
                                        13,
                                        10
                                    ]
                                },
                                {
                                    "customdata": [
                                        {
                                            "category_pct": 0.6,
                                            "total_pct": 0.3
                                        },
                                        {
                                            "category_pct": 2.3,
                                            "total_pct": 0.6
                                        },
                                        {
                                            "category_pct": 7.1,
                                            "total_pct": 0.5
                                        },
                                        {
                                            "category_pct": 2.2,
                                            "total_pct": 0.3
                                        }
                                    ],
                                    "hovertemplate": "<b>%{x}</b><br>Moderate (Direct): %{y}<br>Percent of %{x}: %{customdata.category_pct}%<br>Percent of all: %{customdata.total_pct}%<extra></extra>",
                                    "legendgroup": "Moderate",
                                    "marker": {
                                        "color": "#FEE968"
                                    },
                                    "name": "Moderate",
                                    "showlegend": true,
                                    "type": "bar",
                                    "x": [
                                        -0.2,
                                        0.8,
                                        1.8,
                                        2.8
                                    ],
                                    "y": [
                                        49,
                                        87,
                                        80,
                                        40
                                    ]
                                },
                                {
                                    "customdata": [
                                        {
                                            "category_pct": 1,
                                            "total_pct": 0.5
                                        },
                                        {
                                            "category_pct": 3,
                                            "total_pct": 0.8
                                        },
                                        {
                                            "category_pct": 3.7,
                                            "total_pct": 0.3
                                        },
                                        {
                                            "category_pct": 0.9,
                                            "total_pct": 0.1
                                        }
                                    ],
                                    "hovertemplate": "<b>%{x}</b><br>High (Direct): %{y}<br>Percent of %{x}: %{customdata.category_pct}%<br>Percent of all: %{customdata.total_pct}%<extra></extra>",
                                    "legendgroup": "High",
                                    "marker": {
                                        "color": "#FABA49"
                                    },
                                    "name": "High",
                                    "showlegend": true,
                                    "type": "bar",
                                    "x": [
                                        -0.2,
                                        0.8,
                                        1.8,
                                        2.8
                                    ],
                                    "y": [
                                        78,
                                        115,
                                        42,
                                        17
                                    ]
                                },
                                {
                                    "customdata": [
                                        {
                                            "category_pct": 0.3,
                                            "total_pct": 0.2
                                        },
                                        {
                                            "category_pct": 2.1,
                                            "total_pct": 0.5
                                        },
                                        {
                                            "category_pct": 4.9,
                                            "total_pct": 0.4
                                        },
                                        {
                                            "category_pct": 0.3,
                                            "total_pct": 0
                                        }
                                    ],
                                    "hovertemplate": "<b>%{x}</b><br>Critical (Direct): %{y}<br>Percent of %{x}: %{customdata.category_pct}%<br>Percent of all: %{customdata.total_pct}%<extra></extra>",
                                    "legendgroup": "Critical",
                                    "marker": {
                                        "color": "#FF5B5B"
                                    },
                                    "name": "Critical",
                                    "showlegend": true,
                                    "type": "bar",
                                    "x": [
                                        -0.2,
                                        0.8,
                                        1.8,
                                        2.8
                                    ],
                                    "y": [
                                        26,
                                        81,
                                        55,
                                        5
                                    ]
                                },
                                {
                                    "customdata": [
                                        {
                                            "category_pct": 8,
                                            "total_pct": 4.4
                                        },
                                        {
                                            "category_pct": 6.5,
                                            "total_pct": 1.7
                                        },
                                        {
                                            "category_pct": 7.8,
                                            "total_pct": 0.6
                                        },
                                        {
                                            "category_pct": 14.6,
                                            "total_pct": 1.8
                                        }
                                    ],
                                    "hovertemplate": "<b>%{x}</b><br>Low (Transitive): %{y}<br>Percent of %{x}: %{customdata.category_pct}%<br>Percent of all: %{customdata.total_pct}%<extra></extra>",
                                    "legendgroup": "Low",
                                    "marker": {
                                        "color": "#52BBA0",
                                        "pattern": {
                                            "shape": "/"
                                        }
                                    },
                                    "name": "Low ",
                                    "showlegend": false,
                                    "type": "bar",
                                    "x": [
                                        0.2,
                                        1.2,
                                        2.2,
                                        3.2
                                    ],
                                    "y": [
                                        650,
                                        251,
                                        87,
                                        269
                                    ]
                                },
                                {
                                    "customdata": [
                                        {
                                            "category_pct": 37.6,
                                            "total_pct": 20.4
                                        },
                                        {
                                            "category_pct": 29.4,
                                            "total_pct": 7.6
                                        },
                                        {
                                            "category_pct": 31.6,
                                            "total_pct": 2.4
                                        },
                                        {
                                            "category_pct": 43.2,
                                            "total_pct": 5.3
                                        }
                                    ],
                                    "hovertemplate": "<b>%{x}</b><br>Moderate (Transitive): %{y}<br>Percent of %{x}: %{customdata.category_pct}%<br>Percent of all: %{customdata.total_pct}%<extra></extra>",
                                    "legendgroup": "Moderate",
                                    "marker": {
                                        "color": "#FEE968",
                                        "pattern": {
                                            "shape": "/"
                                        }
                                    },
                                    "name": "Moderate ",
                                    "showlegend": false,
                                    "type": "bar",
                                    "x": [
                                        0.2,
                                        1.2,
                                        2.2,
                                        3.2
                                    ],
                                    "y": [
                                        3041,
                                        1133,
                                        355,
                                        797
                                    ]
                                },
                                {
                                    "customdata": [
                                        {
                                            "category_pct": 42.8,
                                            "total_pct": 23.2
                                        },
                                        {
                                            "category_pct": 45,
                                            "total_pct": 11.6
                                        },
                                        {
                                            "category_pct": 29.1,
                                            "total_pct": 2.2
                                        },
                                        {
                                            "category_pct": 29.5,
                                            "total_pct": 3.7
                                        }
                                    ],
                                    "hovertemplate": "<b>%{x}</b><br>High (Transitive): %{y}<br>Percent of %{x}: %{customdata.category_pct}%<br>Percent of all: %{customdata.total_pct}%<extra></extra>",
                                    "legendgroup": "High",
                                    "marker": {
                                        "color": "#FABA49",
                                        "pattern": {
                                            "shape": "/"
                                        }
                                    },
                                    "name": "High ",
                                    "showlegend": false,
                                    "type": "bar",
                                    "x": [
                                        0.2,
                                        1.2,
                                        2.2,
                                        3.2
                                    ],
                                    "y": [
                                        3467,
                                        1734,
                                        326,
                                        545
                                    ]
                                },
                                {
                                    "customdata": [
                                        {
                                            "category_pct": 9.6,
                                            "total_pct": 5.2
                                        },
                                        {
                                            "category_pct": 11.8,
                                            "total_pct": 3
                                        },
                                        {
                                            "category_pct": 14.6,
                                            "total_pct": 1.1
                                        },
                                        {
                                            "category_pct": 8.8,
                                            "total_pct": 1.1
                                        }
                                    ],
                                    "hovertemplate": "<b>%{x}</b><br>Critical (Transitive): %{y}<br>Percent of %{x}: %{customdata.category_pct}%<br>Percent of all: %{customdata.total_pct}%<extra></extra>",
                                    "legendgroup": "Critical",
                                    "marker": {
                                        "color": "#FF5B5B",
                                        "pattern": {
                                            "shape": "/"
                                        }
                                    },
                                    "name": "Critical ",
                                    "showlegend": false,
                                    "type": "bar",
                                    "x": [
                                        0.2,
                                        1.2,
                                        2.2,
                                        3.2
                                    ],
                                    "y": [
                                        778,
                                        453,
                                        164,
                                        163
                                    ]
                                }
                            ],
                            "layout": {
                                "annotations": [
                                    {
                                        "font": {
                                            "size": 14
                                        },
                                        "showarrow": false,
                                        "text": "<b>Dependency Vulnerabilities by Fix Type</b>",
                                        "x": 0.5,
                                        "xref": "paper",
                                        "y": 1.05,
                                        "yref": "paper"
                                    }
                                ],
                                "bargap": 0.6,
                                "bargroupgap": 0.1,
                                "barmode": "stack",
                                "legend": {
                                    "orientation": "v",
                                    "title": {
                                        "font": {
                                            "size": 12
                                        },
                                        "text": "Severity Level<br><sub>Solid: Direct | Striped: Transitive</sub>"
                                    },
                                    "traceorder": "reversed",
                                    "x": 1.02,
                                    "xanchor": "left",
                                    "y": 0.95,
                                    "yanchor": "top"
                                },
                                "margin": {
                                    "b": 60,
                                    "l": 0,
                                    "r": 0,
                                    "t": 60
                                },
                                "template": {
                                    "data": {
                                        "bar": [
                                            {
                                                "error_x": {
                                                    "color": "#2a3f5f"
                                                },
                                                "error_y": {
                                                    "color": "#2a3f5f"
                                                },
                                                "marker": {
                                                    "line": {
                                                        "color": "#E5ECF6",
                                                        "width": 0.5
                                                    },
                                                    "pattern": {
                                                        "fillmode": "overlay",
                                                        "size": 10,
                                                        "solidity": 0.2
                                                    }
                                                },
                                                "type": "bar"
                                            }
                                        ],
                                        "barpolar": [
                                            {
                                                "marker": {
                                                    "line": {
                                                        "color": "#E5ECF6",
                                                        "width": 0.5
                                                    },
                                                    "pattern": {
                                                        "fillmode": "overlay",
                                                        "size": 10,
                                                        "solidity": 0.2
                                                    }
                                                },
                                                "type": "barpolar"
                                            }
                                        ],
                                        "carpet": [
                                            {
                                                "aaxis": {
                                                    "endlinecolor": "#2a3f5f",
                                                    "gridcolor": "white",
                                                    "linecolor": "white",
                                                    "minorgridcolor": "white",
                                                    "startlinecolor": "#2a3f5f"
                                                },
                                                "baxis": {
                                                    "endlinecolor": "#2a3f5f",
                                                    "gridcolor": "white",
                                                    "linecolor": "white",
                                                    "minorgridcolor": "white",
                                                    "startlinecolor": "#2a3f5f"
                                                },
                                                "type": "carpet"
                                            }
                                        ],
                                        "choropleth": [
                                            {
                                                "colorbar": {
                                                    "outlinewidth": 0,
                                                    "ticks": ""
                                                },
                                                "type": "choropleth"
                                            }
                                        ],
                                        "contour": [
                                            {
                                                "colorbar": {
                                                    "outlinewidth": 0,
                                                    "ticks": ""
                                                },
                                                "colorscale": [
                                                    [
                                                        0,
                                                        "#0d0887"
                                                    ],
                                                    [
                                                        0.1111111111111111,
                                                        "#46039f"
                                                    ],
                                                    [
                                                        0.2222222222222222,
                                                        "#7201a8"
                                                    ],
                                                    [
                                                        0.3333333333333333,
                                                        "#9c179e"
                                                    ],
                                                    [
                                                        0.4444444444444444,
                                                        "#bd3786"
                                                    ],
                                                    [
                                                        0.5555555555555556,
                                                        "#d8576b"
                                                    ],
                                                    [
                                                        0.6666666666666666,
                                                        "#ed7953"
                                                    ],
                                                    [
                                                        0.7777777777777778,
                                                        "#fb9f3a"
                                                    ],
                                                    [
                                                        0.8888888888888888,
                                                        "#fdca26"
                                                    ],
                                                    [
                                                        1,
                                                        "#f0f921"
                                                    ]
                                                ],
                                                "type": "contour"
                                            }
                                        ],
                                        "contourcarpet": [
                                            {
                                                "colorbar": {
                                                    "outlinewidth": 0,
                                                    "ticks": ""
                                                },
                                                "type": "contourcarpet"
                                            }
                                        ],
                                        "heatmap": [
                                            {
                                                "colorbar": {
                                                    "outlinewidth": 0,
                                                    "ticks": ""
                                                },
                                                "colorscale": [
                                                    [
                                                        0,
                                                        "#0d0887"
                                                    ],
                                                    [
                                                        0.1111111111111111,
                                                        "#46039f"
                                                    ],
                                                    [
                                                        0.2222222222222222,
                                                        "#7201a8"
                                                    ],
                                                    [
                                                        0.3333333333333333,
                                                        "#9c179e"
                                                    ],
                                                    [
                                                        0.4444444444444444,
                                                        "#bd3786"
                                                    ],
                                                    [
                                                        0.5555555555555556,
                                                        "#d8576b"
                                                    ],
                                                    [
                                                        0.6666666666666666,
                                                        "#ed7953"
                                                    ],
                                                    [
                                                        0.7777777777777778,
                                                        "#fb9f3a"
                                                    ],
                                                    [
                                                        0.8888888888888888,
                                                        "#fdca26"
                                                    ],
                                                    [
                                                        1,
                                                        "#f0f921"
                                                    ]
                                                ],
                                                "type": "heatmap"
                                            }
                                        ],
                                        "heatmapgl": [
                                            {
                                                "colorbar": {
                                                    "outlinewidth": 0,
                                                    "ticks": ""
                                                },
                                                "colorscale": [
                                                    [
                                                        0,
                                                        "#0d0887"
                                                    ],
                                                    [
                                                        0.1111111111111111,
                                                        "#46039f"
                                                    ],
                                                    [
                                                        0.2222222222222222,
                                                        "#7201a8"
                                                    ],
                                                    [
                                                        0.3333333333333333,
                                                        "#9c179e"
                                                    ],
                                                    [
                                                        0.4444444444444444,
                                                        "#bd3786"
                                                    ],
                                                    [
                                                        0.5555555555555556,
                                                        "#d8576b"
                                                    ],
                                                    [
                                                        0.6666666666666666,
                                                        "#ed7953"
                                                    ],
                                                    [
                                                        0.7777777777777778,
                                                        "#fb9f3a"
                                                    ],
                                                    [
                                                        0.8888888888888888,
                                                        "#fdca26"
                                                    ],
                                                    [
                                                        1,
                                                        "#f0f921"
                                                    ]
                                                ],
                                                "type": "heatmapgl"
                                            }
                                        ],
                                        "histogram": [
                                            {
                                                "marker": {
                                                    "pattern": {
                                                        "fillmode": "overlay",
                                                        "size": 10,
                                                        "solidity": 0.2
                                                    }
                                                },
                                                "type": "histogram"
                                            }
                                        ],
                                        "histogram2d": [
                                            {
                                                "colorbar": {
                                                    "outlinewidth": 0,
                                                    "ticks": ""
                                                },
                                                "colorscale": [
                                                    [
                                                        0,
                                                        "#0d0887"
                                                    ],
                                                    [
                                                        0.1111111111111111,
                                                        "#46039f"
                                                    ],
                                                    [
                                                        0.2222222222222222,
                                                        "#7201a8"
                                                    ],
                                                    [
                                                        0.3333333333333333,
                                                        "#9c179e"
                                                    ],
                                                    [
                                                        0.4444444444444444,
                                                        "#bd3786"
                                                    ],
                                                    [
                                                        0.5555555555555556,
                                                        "#d8576b"
                                                    ],
                                                    [
                                                        0.6666666666666666,
                                                        "#ed7953"
                                                    ],
                                                    [
                                                        0.7777777777777778,
                                                        "#fb9f3a"
                                                    ],
                                                    [
                                                        0.8888888888888888,
                                                        "#fdca26"
                                                    ],
                                                    [
                                                        1,
                                                        "#f0f921"
                                                    ]
                                                ],
                                                "type": "histogram2d"
                                            }
                                        ],
                                        "histogram2dcontour": [
                                            {
                                                "colorbar": {
                                                    "outlinewidth": 0,
                                                    "ticks": ""
                                                },
                                                "colorscale": [
                                                    [
                                                        0,
                                                        "#0d0887"
                                                    ],
                                                    [
                                                        0.1111111111111111,
                                                        "#46039f"
                                                    ],
                                                    [
                                                        0.2222222222222222,
                                                        "#7201a8"
                                                    ],
                                                    [
                                                        0.3333333333333333,
                                                        "#9c179e"
                                                    ],
                                                    [
                                                        0.4444444444444444,
                                                        "#bd3786"
                                                    ],
                                                    [
                                                        0.5555555555555556,
                                                        "#d8576b"
                                                    ],
                                                    [
                                                        0.6666666666666666,
                                                        "#ed7953"
                                                    ],
                                                    [
                                                        0.7777777777777778,
                                                        "#fb9f3a"
                                                    ],
                                                    [
                                                        0.8888888888888888,
                                                        "#fdca26"
                                                    ],
                                                    [
                                                        1,
                                                        "#f0f921"
                                                    ]
                                                ],
                                                "type": "histogram2dcontour"
                                            }
                                        ],
                                        "mesh3d": [
                                            {
                                                "colorbar": {
                                                    "outlinewidth": 0,
                                                    "ticks": ""
                                                },
                                                "type": "mesh3d"
                                            }
                                        ],
                                        "parcoords": [
                                            {
                                                "line": {
                                                    "colorbar": {
                                                        "outlinewidth": 0,
                                                        "ticks": ""
                                                    }
                                                },
                                                "type": "parcoords"
                                            }
                                        ],
                                        "pie": [
                                            {
                                                "automargin": true,
                                                "type": "pie"
                                            }
                                        ],
                                        "scatter": [
                                            {
                                                "fillpattern": {
                                                    "fillmode": "overlay",
                                                    "size": 10,
                                                    "solidity": 0.2
                                                },
                                                "type": "scatter"
                                            }
                                        ],
                                        "scatter3d": [
                                            {
                                                "line": {
                                                    "colorbar": {
                                                        "outlinewidth": 0,
                                                        "ticks": ""
                                                    }
                                                },
                                                "marker": {
                                                    "colorbar": {
                                                        "outlinewidth": 0,
                                                        "ticks": ""
                                                    }
                                                },
                                                "type": "scatter3d"
                                            }
                                        ],
                                        "scattercarpet": [
                                            {
                                                "marker": {
                                                    "colorbar": {
                                                        "outlinewidth": 0,
                                                        "ticks": ""
                                                    }
                                                },
                                                "type": "scattercarpet"
                                            }
                                        ],
                                        "scattergeo": [
                                            {
                                                "marker": {
                                                    "colorbar": {
                                                        "outlinewidth": 0,
                                                        "ticks": ""
                                                    }
                                                },
                                                "type": "scattergeo"
                                            }
                                        ],
                                        "scattergl": [
                                            {
                                                "marker": {
                                                    "colorbar": {
                                                        "outlinewidth": 0,
                                                        "ticks": ""
                                                    }
                                                },
                                                "type": "scattergl"
                                            }
                                        ],
                                        "scattermapbox": [
                                            {
                                                "marker": {
                                                    "colorbar": {
                                                        "outlinewidth": 0,
                                                        "ticks": ""
                                                    }
                                                },
                                                "type": "scattermapbox"
                                            }
                                        ],
                                        "scatterpolar": [
                                            {
                                                "marker": {
                                                    "colorbar": {
                                                        "outlinewidth": 0,
                                                        "ticks": ""
                                                    }
                                                },
                                                "type": "scatterpolar"
                                            }
                                        ],
                                        "scatterpolargl": [
                                            {
                                                "marker": {
                                                    "colorbar": {
                                                        "outlinewidth": 0,
                                                        "ticks": ""
                                                    }
                                                },
                                                "type": "scatterpolargl"
                                            }
                                        ],
                                        "scatterternary": [
                                            {
                                                "marker": {
                                                    "colorbar": {
                                                        "outlinewidth": 0,
                                                        "ticks": ""
                                                    }
                                                },
                                                "type": "scatterternary"
                                            }
                                        ],
                                        "surface": [
                                            {
                                                "colorbar": {
                                                    "outlinewidth": 0,
                                                    "ticks": ""
                                                },
                                                "colorscale": [
                                                    [
                                                        0,
                                                        "#0d0887"
                                                    ],
                                                    [
                                                        0.1111111111111111,
                                                        "#46039f"
                                                    ],
                                                    [
                                                        0.2222222222222222,
                                                        "#7201a8"
                                                    ],
                                                    [
                                                        0.3333333333333333,
                                                        "#9c179e"
                                                    ],
                                                    [
                                                        0.4444444444444444,
                                                        "#bd3786"
                                                    ],
                                                    [
                                                        0.5555555555555556,
                                                        "#d8576b"
                                                    ],
                                                    [
                                                        0.6666666666666666,
                                                        "#ed7953"
                                                    ],
                                                    [
                                                        0.7777777777777778,
                                                        "#fb9f3a"
                                                    ],
                                                    [
                                                        0.8888888888888888,
                                                        "#fdca26"
                                                    ],
                                                    [
                                                        1,
                                                        "#f0f921"
                                                    ]
                                                ],
                                                "type": "surface"
                                            }
                                        ],
                                        "table": [
                                            {
                                                "cells": {
                                                    "fill": {
                                                        "color": "#EBF0F8"
                                                    },
                                                    "line": {
                                                        "color": "white"
                                                    }
                                                },
                                                "header": {
                                                    "fill": {
                                                        "color": "#C8D4E3"
                                                    },
                                                    "line": {
                                                        "color": "white"
                                                    }
                                                },
                                                "type": "table"
                                            }
                                        ]
                                    },
                                    "layout": {
                                        "annotationdefaults": {
                                            "arrowcolor": "#2a3f5f",
                                            "arrowhead": 0,
                                            "arrowwidth": 1
                                        },
                                        "autotypenumbers": "strict",
                                        "coloraxis": {
                                            "colorbar": {
                                                "outlinewidth": 0,
                                                "ticks": ""
                                            }
                                        },
                                        "colorscale": {
                                            "diverging": [
                                                [
                                                    0,
                                                    "#8e0152"
                                                ],
                                                [
                                                    0.1,
                                                    "#c51b7d"
                                                ],
                                                [
                                                    0.2,
                                                    "#de77ae"
                                                ],
                                                [
                                                    0.3,
                                                    "#f1b6da"
                                                ],
                                                [
                                                    0.4,
                                                    "#fde0ef"
                                                ],
                                                [
                                                    0.5,
                                                    "#f7f7f7"
                                                ],
                                                [
                                                    0.6,
                                                    "#e6f5d0"
                                                ],
                                                [
                                                    0.7,
                                                    "#b8e186"
                                                ],
                                                [
                                                    0.8,
                                                    "#7fbc41"
                                                ],
                                                [
                                                    0.9,
                                                    "#4d9221"
                                                ],
                                                [
                                                    1,
                                                    "#276419"
                                                ]
                                            ],
                                            "sequential": [
                                                [
                                                    0,
                                                    "#0d0887"
                                                ],
                                                [
                                                    0.1111111111111111,
                                                    "#46039f"
                                                ],
                                                [
                                                    0.2222222222222222,
                                                    "#7201a8"
                                                ],
                                                [
                                                    0.3333333333333333,
                                                    "#9c179e"
                                                ],
                                                [
                                                    0.4444444444444444,
                                                    "#bd3786"
                                                ],
                                                [
                                                    0.5555555555555556,
                                                    "#d8576b"
                                                ],
                                                [
                                                    0.6666666666666666,
                                                    "#ed7953"
                                                ],
                                                [
                                                    0.7777777777777778,
                                                    "#fb9f3a"
                                                ],
                                                [
                                                    0.8888888888888888,
                                                    "#fdca26"
                                                ],
                                                [
                                                    1,
                                                    "#f0f921"
                                                ]
                                            ],
                                            "sequentialminus": [
                                                [
                                                    0,
                                                    "#0d0887"
                                                ],
                                                [
                                                    0.1111111111111111,
                                                    "#46039f"
                                                ],
                                                [
                                                    0.2222222222222222,
                                                    "#7201a8"
                                                ],
                                                [
                                                    0.3333333333333333,
                                                    "#9c179e"
                                                ],
                                                [
                                                    0.4444444444444444,
                                                    "#bd3786"
                                                ],
                                                [
                                                    0.5555555555555556,
                                                    "#d8576b"
                                                ],
                                                [
                                                    0.6666666666666666,
                                                    "#ed7953"
                                                ],
                                                [
                                                    0.7777777777777778,
                                                    "#fb9f3a"
                                                ],
                                                [
                                                    0.8888888888888888,
                                                    "#fdca26"
                                                ],
                                                [
                                                    1,
                                                    "#f0f921"
                                                ]
                                            ]
                                        },
                                        "colorway": [
                                            "#636efa",
                                            "#EF553B",
                                            "#00cc96",
                                            "#ab63fa",
                                            "#FFA15A",
                                            "#19d3f3",
                                            "#FF6692",
                                            "#B6E880",
                                            "#FF97FF",
                                            "#FECB52"
                                        ],
                                        "font": {
                                            "color": "#2a3f5f"
                                        },
                                        "geo": {
                                            "bgcolor": "white",
                                            "lakecolor": "white",
                                            "landcolor": "#E5ECF6",
                                            "showlakes": true,
                                            "showland": true,
                                            "subunitcolor": "white"
                                        },
                                        "hoverlabel": {
                                            "align": "left"
                                        },
                                        "hovermode": "closest",
                                        "mapbox": {
                                            "style": "light"
                                        },
                                        "paper_bgcolor": "white",
                                        "plot_bgcolor": "#E5ECF6",
                                        "polar": {
                                            "angularaxis": {
                                                "gridcolor": "white",
                                                "linecolor": "white",
                                                "ticks": ""
                                            },
                                            "bgcolor": "#E5ECF6",
                                            "radialaxis": {
                                                "gridcolor": "white",
                                                "linecolor": "white",
                                                "ticks": ""
                                            }
                                        },
                                        "scene": {
                                            "xaxis": {
                                                "backgroundcolor": "#E5ECF6",
                                                "gridcolor": "white",
                                                "gridwidth": 2,
                                                "linecolor": "white",
                                                "showbackground": true,
                                                "ticks": "",
                                                "zerolinecolor": "white"
                                            },
                                            "yaxis": {
                                                "backgroundcolor": "#E5ECF6",
                                                "gridcolor": "white",
                                                "gridwidth": 2,
                                                "linecolor": "white",
                                                "showbackground": true,
                                                "ticks": "",
                                                "zerolinecolor": "white"
                                            },
                                            "zaxis": {
                                                "backgroundcolor": "#E5ECF6",
                                                "gridcolor": "white",
                                                "gridwidth": 2,
                                                "linecolor": "white",
                                                "showbackground": true,
                                                "ticks": "",
                                                "zerolinecolor": "white"
                                            }
                                        },
                                        "shapedefaults": {
                                            "line": {
                                                "color": "#2a3f5f"
                                            }
                                        },
                                        "ternary": {
                                            "aaxis": {
                                                "gridcolor": "white",
                                                "linecolor": "white",
                                                "ticks": ""
                                            },
                                            "baxis": {
                                                "gridcolor": "white",
                                                "linecolor": "white",
                                                "ticks": ""
                                            },
                                            "bgcolor": "#E5ECF6",
                                            "caxis": {
                                                "gridcolor": "white",
                                                "linecolor": "white",
                                                "ticks": ""
                                            }
                                        },
                                        "title": {
                                            "x": 0.05
                                        },
                                        "xaxis": {
                                            "automargin": true,
                                            "gridcolor": "white",
                                            "linecolor": "white",
                                            "ticks": "",
                                            "title": {
                                                "standoff": 15
                                            },
                                            "zerolinecolor": "white",
                                            "zerolinewidth": 2
                                        },
                                        "yaxis": {
                                            "automargin": true,
                                            "gridcolor": "white",
                                            "linecolor": "white",
                                            "ticks": "",
                                            "title": {
                                                "standoff": 15
                                            },
                                            "zerolinecolor": "white",
                                            "zerolinewidth": 2
                                        }
                                    }
                                },
                                "xaxis": {
                                    "tickmode": "array",
                                    "ticktext": [
                                        "Patch",
                                        "Minor",
                                        "Major",
                                        "No fixed version"
                                    ],
                                    "tickvals": [
                                        0,
                                        1,
                                        2,
                                        3
                                    ],
                                    "title": {
                                        "text": "Type of version required to fix vulnerability"
                                    }
                                },
                                "yaxis": {
                                    "title": {
                                        "text": "Vulnerability count"
                                    }
                                }
                            }
                        }
                    },
                    "metadata": {},
                    "output_type": "display_data"
                }
            ],
            "source": [
                "import pandas as pd\n",
                "import warnings\n",
                "import plotly.graph_objects as go\n",
                "import code_data_science.data_table as dt\n",
                "\n",
                "warnings.simplefilter(\"ignore\")\n",
                "\n",
                "df = dt.read_csv(\"../samples/dependency_vulnerabilities.csv\")\n",
                "\n",
                "df[\"repositoryWithBranch\"] = df[\"repositoryPath\"] + \"/\" + df[\"repositoryBranch\"]\n",
                "\n",
                "# Filter the data frame to only include rows where repositoryWithBranch contain\n",
                "# a term in the repository_filter (case insensitive)\n",
                "if len(repository_filter) > 0:\n",
                "    df = df[\n",
                "        df[\"repositoryWithBranch\"].str.contains(\"|\".join(repository_filter), case=False)\n",
                "    ]\n",
                "\n",
                "\n",
                "def create_bar_plot(df_direct, df_transitive):\n",
                "    if df_direct is None or df_transitive is None:\n",
                "        # Create empty dataframes with the correct structure\n",
                "        fix_types = [\"Patch\", \"Minor\", \"Major\", \"No fixed version\"]\n",
                "        df_direct = pd.DataFrame(\n",
                "            {\n",
                "                \"Type\": fix_types,\n",
                "                \"Low\": [0] * 4,\n",
                "                \"Moderate\": [0] * 4,\n",
                "                \"High\": [0] * 4,\n",
                "                \"Critical\": [0] * 4,\n",
                "            }\n",
                "        )\n",
                "        df_transitive = pd.DataFrame(\n",
                "            {\n",
                "                \"Type\": fix_types,\n",
                "                \"Low\": [0] * 4,\n",
                "                \"Moderate\": [0] * 4,\n",
                "                \"High\": [0] * 4,\n",
                "                \"Critical\": [0] * 4,\n",
                "            }\n",
                "        )\n",
                "\n",
                "    fig = go.Figure()\n",
                "\n",
                "    # Define colors for severity levels\n",
                "    colors = {\n",
                "        \"Critical\": \"#FF5B5B\",\n",
                "        \"High\": \"#FABA49\",\n",
                "        \"Moderate\": \"#FEE968\",\n",
                "        \"Low\": \"#52BBA0\",\n",
                "    }\n",
                "\n",
                "    # Calculate totals for percentage calculations\n",
                "    df_direct[\"Total\"] = df_direct[[\"Critical\", \"High\", \"Moderate\", \"Low\"]].sum(axis=1)\n",
                "    df_transitive[\"Total\"] = df_transitive[[\"Critical\", \"High\", \"Moderate\", \"Low\"]].sum(\n",
                "        axis=1\n",
                "    )\n",
                "    grand_total = df_direct[\"Total\"].sum() + df_transitive[\"Total\"].sum()\n",
                "\n",
                "    # Create custom x-axis positions for grouping\n",
                "    fix_types = df_direct[\"Type\"].tolist()\n",
                "    n_groups = len(fix_types)\n",
                "    \n",
                "    # Create x positions: each group gets positions like [0, 0.4], [1, 1.4], [2, 2.4], etc.\n",
                "    x_direct = [i - 0.2 for i in range(n_groups)]\n",
                "    x_transitive = [i + 0.2 for i in range(n_groups)]\n",
                "    \n",
                "    # Custom tick labels and positions for the main groups\n",
                "    tick_positions = list(range(n_groups))\n",
                "    tick_labels = fix_types\n",
                "\n",
                "    # Add traces for direct dependencies\n",
                "    for i, severity in enumerate([\"Low\", \"Moderate\", \"High\", \"Critical\"]):\n",
                "        # Calculate percentages for hover\n",
                "        percentages_direct = []\n",
                "        for idx in range(len(df_direct)):\n",
                "            count = df_direct.iloc[idx][severity]\n",
                "            total_in_category = (\n",
                "                df_direct.iloc[idx][\"Total\"] + df_transitive.iloc[idx][\"Total\"]\n",
                "            )\n",
                "            pct_of_category = (\n",
                "                (count / total_in_category * 100) if total_in_category > 0 else 0\n",
                "            )\n",
                "            pct_of_all = (count / grand_total * 100) if grand_total > 0 else 0\n",
                "            percentages_direct.append(\n",
                "                {\n",
                "                    \"category_pct\": round(pct_of_category, 1),\n",
                "                    \"total_pct\": round(pct_of_all, 1),\n",
                "                }\n",
                "            )\n",
                "\n",
                "        fig.add_trace(\n",
                "            go.Bar(\n",
                "                name=severity,\n",
                "                x=x_direct,\n",
                "                y=df_direct[severity],\n",
                "                marker_color=colors[severity],\n",
                "                legendgroup=severity,\n",
                "                showlegend=True,\n",
                "                width=0.35,  # Make bars wider\n",
                "                customdata=percentages_direct,\n",
                "                hovertemplate=(\n",
                "                    \"<b>%{x}</b><br>\"\n",
                "                    + f\"{severity} (Direct): %{{y}}<br>\"\n",
                "                    + \"Percent of %{x}: %{customdata.category_pct}%<br>\"\n",
                "                    + \"Percent of all: %{customdata.total_pct}%\"\n",
                "                    + \"<extra></extra>\"\n",
                "                ),\n",
                "            )\n",
                "        )\n",
                "\n",
                "    # Add traces for transitive dependencies\n",
                "    for i, severity in enumerate([\"Low\", \"Moderate\", \"High\", \"Critical\"]):\n",
                "        # Calculate percentages for hover\n",
                "        percentages_transitive = []\n",
                "        for idx in range(len(df_transitive)):\n",
                "            count = df_transitive.iloc[idx][severity]\n",
                "            total_in_category = (\n",
                "                df_direct.iloc[idx][\"Total\"] + df_transitive.iloc[idx][\"Total\"]\n",
                "            )\n",
                "            pct_of_category = (\n",
                "                (count / total_in_category * 100) if total_in_category > 0 else 0\n",
                "            )\n",
                "            pct_of_all = (count / grand_total * 100) if grand_total > 0 else 0\n",
                "            percentages_transitive.append(\n",
                "                {\n",
                "                    \"category_pct\": round(pct_of_category, 1),\n",
                "                    \"total_pct\": round(pct_of_all, 1),\n",
                "                }\n",
                "            )\n",
                "\n",
                "        fig.add_trace(\n",
                "            go.Bar(\n",
                "                name=f\"{severity} \",  # Add space to make it different from direct\n",
                "                x=x_transitive,\n",
                "                y=df_transitive[severity],\n",
                "                marker_color=colors[severity],\n",
                "                marker_pattern_shape=\"/\",\n",
                "                legendgroup=severity,\n",
                "                showlegend=False,  # Hide from legend since we'll use annotations\n",
                "                width=0.35,  # Make bars wider\n",
                "                customdata=percentages_transitive,\n",
                "                hovertemplate=(\n",
                "                    \"<b>%{x}</b><br>\"\n",
                "                    + f\"{severity} (Transitive): %{{y}}<br>\"\n",
                "                    + \"Percent of %{x}: %{customdata.category_pct}%<br>\"\n",
                "                    + \"Percent of all: %{customdata.total_pct}%\"\n",
                "                    + \"<extra></extra>\"\n",
                "                ),\n",
                "            )\n",
                "        )\n",
                "\n",
                "    # Update layout with improved legend\n",
                "    fig.update_layout(\n",
                "        xaxis={\n",
                "            \"title\": \"Type of version required to fix vulnerability\",\n",
                "            \"tickmode\": \"array\",\n",
                "            \"tickvals\": tick_positions,\n",
                "            \"ticktext\": tick_labels,\n",
                "        },\n",
                "        yaxis={\"title\": \"Vulnerability count\"},\n",
                "        barmode=\"stack\",\n",
                "        bargap=0.6,  # Increase gap between groups\n",
                "        bargroupgap=0.1,  # Small gap within groups\n",
                "        margin=dict(l=0, r=0, t=60, b=60),\n",
                "        legend=dict(\n",
                "            orientation=\"v\",\n",
                "            yanchor=\"top\",\n",
                "            y=0.95,\n",
                "            xanchor=\"left\",\n",
                "            x=1.02,\n",
                "            title=dict(\n",
                "                text=\"Severity Level<br><sub>Solid: Direct | Striped: Transitive</sub>\",\n",
                "                font=dict(size=12),\n",
                "            ),\n",
                "            traceorder=\"reversed\",  # Reverse legend order to show Critical first\n",
                "        ),\n",
                "        annotations=[\n",
                "            dict(\n",
                "                text=\"<b>Dependency Vulnerabilities by Fix Type</b>\",\n",
                "                xref=\"paper\",\n",
                "                yref=\"paper\",\n",
                "                x=0.5,\n",
                "                y=1.05,\n",
                "                showarrow=False,\n",
                "                font=dict(size=14),\n",
                "            )\n",
                "        ],\n",
                "    )\n",
                "\n",
                "    return fig\n",
                "\n",
                "\n",
                "# Exit early if there are no stack traces and render a plot with a message\n",
                "if len(df) == 0:\n",
                "    fig = create_bar_plot(None, None)\n",
                "    fig.update_yaxes(range=[0, 10])\n",
                "    fig.show(render=\"plotly_mimetype\")\n",
                "else:\n",
                "\n",
                "    def get_semver_fix(version, fixed_version):\n",
                "        \"\"\"\n",
                "        looks at current version and fixed version and determines if the fix is a major, minor, patch version, or no fix\n",
                "        \"\"\"\n",
                "        version_components = version.split(\".\")\n",
                "        fixed_components = fixed_version.split(\".\")\n",
                "\n",
                "        # if fixed version is empty, return \"No fixed version\"\n",
                "        if fixed_version == \"\":\n",
                "            return \"No fixed version\"\n",
                "\n",
                "        if len(version_components) < 3:\n",
                "            # fill in the missing version components with 0\n",
                "            for i in range(3 - len(version_components)):\n",
                "                version_components.append(\"0\")\n",
                "        if len(fixed_components) < 3:\n",
                "            # fill in the missing version components with 0\n",
                "            for i in range(3 - len(fixed_components)):\n",
                "                fixed_components.append(\"0\")\n",
                "\n",
                "        elif version_components[0] != fixed_components[0]:\n",
                "            return \"Major\"\n",
                "        elif version_components[1] != fixed_components[1]:\n",
                "            return \"Minor\"\n",
                "        elif version_components[2] != fixed_components[2]:\n",
                "            return \"Patch\"\n",
                "        else:\n",
                "            return \"Unknown\"\n",
                "\n",
                "    # drop unnecessary columns except depth which we need\n",
                "    df = df.drop(\n",
                "        columns=[\n",
                "            \"repositoryOrigin\",\n",
                "            \"repositoryPath\",\n",
                "            \"repositoryBranch\",\n",
                "            \"repositoryWithBranch\",\n",
                "            \"cve\",\n",
                "            \"groupId\",\n",
                "            \"artifactId\",\n",
                "            \"summary\",\n",
                "        ]\n",
                "    )\n",
                "\n",
                "    # fill NaN values with empty string\n",
                "    df[\"fixedVersion\"] = df[\"fixedVersion\"].fillna(\"\")\n",
                "    df[\"version\"] = df[\"version\"].fillna(\"\")\n",
                "    # make sure version and fixedVersion is a string\n",
                "    df[\"fixedVersion\"] = df[\"fixedVersion\"].astype(str)\n",
                "    df[\"version\"] = df[\"version\"].astype(str)\n",
                "\n",
                "    # add column 'semverFix' to dataframe\n",
                "    df[\"semverFix\"] = df.apply(\n",
                "        lambda x: get_semver_fix(x[\"version\"], x[\"fixedVersion\"]), axis=1\n",
                "    )\n",
                "\n",
                "    # Split into direct and transitive\n",
                "    df_direct = df[df[\"depth\"] == 0]\n",
                "    df_transitive = df[df[\"depth\"] != 0]\n",
                "\n",
                "    # Define the order for fix types\n",
                "    fix_order = [\"Patch\", \"Minor\", \"Major\", \"No fixed version\"]\n",
                "\n",
                "    # Create aggregated data for direct dependencies\n",
                "    direct_data = []\n",
                "    for fix_type in fix_order:\n",
                "        fix_df = df_direct[df_direct[\"semverFix\"] == fix_type]\n",
                "        severity_counts = fix_df[\"severity\"].value_counts()\n",
                "        direct_data.append(\n",
                "            {\n",
                "                \"Type\": fix_type,\n",
                "                \"Critical\": severity_counts.get(\"CRITICAL\", 0),\n",
                "                \"High\": severity_counts.get(\"HIGH\", 0),\n",
                "                \"Moderate\": severity_counts.get(\"MODERATE\", 0),\n",
                "                \"Low\": severity_counts.get(\"LOW\", 0),\n",
                "            }\n",
                "        )\n",
                "    df_direct_plot = pd.DataFrame(direct_data)\n",
                "\n",
                "    # Create aggregated data for transitive dependencies\n",
                "    transitive_data = []\n",
                "    for fix_type in fix_order:\n",
                "        fix_df = df_transitive[df_transitive[\"semverFix\"] == fix_type]\n",
                "        severity_counts = fix_df[\"severity\"].value_counts()\n",
                "        transitive_data.append(\n",
                "            {\n",
                "                \"Type\": fix_type,\n",
                "                \"Critical\": severity_counts.get(\"CRITICAL\", 0),\n",
                "                \"High\": severity_counts.get(\"HIGH\", 0),\n",
                "                \"Moderate\": severity_counts.get(\"MODERATE\", 0),\n",
                "                \"Low\": severity_counts.get(\"LOW\", 0),\n",
                "            }\n",
                "        )\n",
                "    df_transitive_plot = pd.DataFrame(transitive_data)\n",
                "\n",
                "    fig = create_bar_plot(df_direct_plot, df_transitive_plot)\n",
                "\n",
                "    # Show the figure\n",
                "    fig.show(render=\"plotly_mimetype\")"
            ]
        }
    ],
    "metadata": {
        "kernelspec": {
            "display_name": ".venv",
            "language": "python",
            "name": "python3"
        },
        "language_info": {
            "codemirror_mode": {
                "name": "ipython",
                "version": 3
            },
            "file_extension": ".py",
            "mimetype": "text/x-python",
            "name": "python",
            "nbconvert_exporter": "python",
            "pygments_lexer": "ipython3",
            "version": "3.9.19"
        }
    },
    "nbformat": 4,
    "nbformat_minor": 4
}