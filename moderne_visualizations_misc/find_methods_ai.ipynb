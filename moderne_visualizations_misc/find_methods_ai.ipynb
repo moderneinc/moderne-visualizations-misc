{
 "cells": [
  {
   "cell_type": "code",
   "execution_count": 28,
   "metadata": {},
   "outputs": [
    {
     "data": {
      "application/vnd.moderne.datagrid+json": {
       "columnTypes": null,
       "rows": [
        "Method pattern,Example,Query",
        "okhttp3.Request$Builder build(..),\"new Request.Builder().url(\"\"http://localhost/\"\").build()\",HTTP request",
        "java.net.URI create(..),URI.create(systemId),HTTP request",
        "java.nio.ByteBuffer get(..),ByteBuffer.wrap(byteArray).order(KLVPacket.BYTE_ORDER).get(),HTTP request",
        "org.mockserver.model.HttpRequest withPath(..),request().withMethod(method).withPath(path),HTTP request",
        "org.mockserver.model.HttpRequest request(..),request(),HTTP request",
        "org.mockserver.model.HttpRequest withHeader(..),\"httpRequest\n           .withMethod(\"\"GET\"\")\n           .withPath(\"\"/test-api\"\")\n           .withHeader(\"\"sessionToken\"\", \"\"test-token\"\")\n           .withHeader(\"\"Authorization\"\", \"\"test\"\")\",HTTP request",
        "org.mockserver.model.HttpRequest withBody(..),\"httpRequest\n            .withMethod(\"\"POST\"\")\n            .withPath(\"\"/test-api\"\")\n            .withHeader(Header.header(\"\"sessionToken\"\", \"\"test-token\"\"))\n            .withBody(anyString())\",HTTP request",
        "org.springframework.web.server.ServerWebExchange getRequest(..),exchange.getRequest(),HTTP request",
        "org.apache.hc.client5.http.fluent.Request bodyString(..),\"request.bodyString(OBJECT_MAPPER.writeValueAsString(body), ContentType.APPLICATION_JSON)\",HTTP request",
        "com.symphony.bdk.workflow.security.AuthorizationAspect getHttpServletRequest(..),getHttpServletRequest(),HTTP request",
        "org.springframework.web.context.request.ServletRequestAttributes getRequest(..),((ServletRequestAttributes) RequestContextHolder.currentRequestAttributes()).getRequest(),HTTP request",
        "jakarta.servlet.http.HttpServletRequest getRequestURI(..),request.getRequestURI(),HTTP request",
        "org.springframework.data.domain.PageRequest of(..),\"PageRequest.of(page - 1, pageSize)\",HTTP request",
        "org.springframework.web.client.RestTemplate exchange(..),\"template.exchange(RequestEntity.get(\"\"/owners/1\"\").build(), String.class)\",HTTP request",
        "org.springframework.http.RequestEntity get(..),\"RequestEntity.get(\"\"http://localhost:\"\" + port + \"\"/oups\"\")\",HTTP request",
        "org.springframework.test.web.servlet.request.MockMvcRequestBuilders get(..),\"get(\"\"/owners?page=1\"\")\",HTTP request",
        "java.net.http.HttpRequest$Builder build(..),\"HttpRequest.newBuilder()\n               .uri(URI.create(responseUrl))\n               .setHeader(\"\"Content-Type\"\", \"\"\"\")\n               .PUT(HttpRequest.BodyPublishers.ofString(responseBody, StandardCharsets.UTF_8))\n               .build()\",HTTP request",
        "java.util.function.Function apply(..),cloudFormationCall.apply(request),HTTP request",
        "software.amazon.awssdk.http.HttpExecuteRequest$Builder build(..),requestBuilder.build(),HTTP request",
        "com.amazon.aws.partners.saasfactory.saasboost.keycloak.KeycloakApiTest assertRequest(..),\"assertRequest(requestCaptor.getValue(), \"\"GET\"\", endpoint(\"\"/users\"\"), null)\",HTTP request",
        "org.apache.http.impl.client.CloseableHttpClient execute(..),this.httpClient.execute(get),HTTP request",
        "com.netflix.client.http.HttpRequest$Builder build(..),\"HttpRequest.newBuilder().uri(server.getServerPath(\"\"/\"\")).build()\",HTTP request",
        "com.netflix.client.IResponse getRequestedURI(..),response.getRequestedURI(),HTTP request",
        "com.sun.net.httpserver.HttpExchange getRequestURI(..),t.getRequestURI(),HTTP request"
       ]
      }
     },
     "metadata": {},
     "output_type": "display_data"
    }
   ],
   "source": [
    "from code_data_science import data_table as dt, data_grid as moderne_data_grid\n",
    "import re\n",
    "\n",
    "df = dt.read_csv(\"../samples/find_methods_ai.csv\")\n",
    "df.drop_duplicates(subset=[\"methodPattern\"], inplace=True)\n",
    "df[\"methodPattern\"] = df[\"methodPattern\"].apply(lambda x: re.sub(r\"\\(.*\\)\", \"(..)\", x))\n",
    "\n",
    "\n",
    "df = df.rename(\n",
    "    columns={\"methodPattern\": \"Method pattern\", \"method\": \"Example\", \"query\": \"Query\"}\n",
    ")\n",
    "df = df[[\"Method pattern\", \"Example\", \"Query\"]]\n",
    "\n",
    "moderne_data_grid.display(df)"
   ]
  }
 ],
 "metadata": {
  "kernelspec": {
   "display_name": "moderne",
   "language": "python",
   "name": "python3"
  },
  "language_info": {
   "codemirror_mode": {
    "name": "ipython",
    "version": 3
   },
   "file_extension": ".py",
   "mimetype": "text/x-python",
   "name": "python",
   "nbconvert_exporter": "python",
   "pygments_lexer": "ipython3",
   "version": "3.10.8"
  }
 },
 "nbformat": 4,
 "nbformat_minor": 2
}
