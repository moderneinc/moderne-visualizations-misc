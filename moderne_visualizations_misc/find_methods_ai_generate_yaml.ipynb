{
 "cells": [
  {
   "cell_type": "code",
   "execution_count": 1,
   "metadata": {},
   "outputs": [
    {
     "data": {
      "application/vnd.moderne.yamlrecipe": "{\"code\":\"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\"}"
     },
     "metadata": {},
     "output_type": "display_data"
    }
   ],
   "source": [
    "from code_data_science import data_table as dt, yaml_recipe\n",
    "import re\n",
    "\n",
    "df = dt.read_csv(\"../samples/find_methods_ai.csv\")\n",
    "\n",
    "methodPatterns = df.drop_duplicates(subset=[\"methodPattern\"])[\"methodPattern\"]\n",
    "query = df[\"query\"][0]\n",
    "\n",
    "yaml = \"\"\"# AI Generated, please update as you see fit\n",
    "type: specs.openrewrite.org/v1beta/recipe\n",
    "name: org.myUser.MyRecipe\n",
    "displayName: Find uses of method in code \n",
    "description: Find all methods that do \\\"\"\"\" + query + \"\"\"\\\"\n",
    "recipeList:\"\"\"\n",
    "\n",
    "for methodPattern in methodPatterns:\n",
    "        yaml += \"\"\"\n",
    "        - org.openrewrite.java.search.FindMethods:\n",
    "            methodPattern: \"\"\" + \"\\\"\" + re.sub(r'\\(.*\\)', '(*)', methodPattern) + \"\\\"\"\n",
    "        \n",
    "yaml_recipe.display(yaml)\n"
   ]
  },
  {
   "cell_type": "code",
   "execution_count": 3,
   "metadata": {},
   "outputs": [
    {
     "name": "stdout",
     "output_type": "stream",
     "text": [
      "# AI Generated, please update as you see fit\n",
      "type: specs.openrewrite.org/v1beta/recipe\n",
      "name: org.myUser.MyRecipe\n",
      "displayName: Find uses of method in code \n",
      "description: Find all methods that do \"HTTP request\"\n",
      "recipeList:\n",
      "        - org.openrewrite.java.search.FindMethods:\n",
      "            methodPattern: \"okhttp3.Request$Builder build(*)\"\n",
      "        - org.openrewrite.java.search.FindMethods:\n",
      "            methodPattern: \"java.net.URI create(*)\"\n",
      "        - org.openrewrite.java.search.FindMethods:\n",
      "            methodPattern: \"java.nio.ByteBuffer get(*)\"\n",
      "        - org.openrewrite.java.search.FindMethods:\n",
      "            methodPattern: \"org.mockserver.model.HttpRequest withPath(*)\"\n",
      "        - org.openrewrite.java.search.FindMethods:\n",
      "            methodPattern: \"org.mockserver.model.HttpRequest request(*)\"\n",
      "        - org.openrewrite.java.search.FindMethods:\n",
      "            methodPattern: \"org.mockserver.model.HttpRequest withHeader(*)\"\n",
      "        - org.openrewrite.java.search.FindMethods:\n",
      "            methodPattern: \"org.mockserver.model.HttpRequest withBody(*)\"\n",
      "        - org.openrewrite.java.search.FindMethods:\n",
      "            methodPattern: \"org.springframework.web.server.ServerWebExchange getRequest(*)\"\n",
      "        - org.openrewrite.java.search.FindMethods:\n",
      "            methodPattern: \"org.apache.hc.client5.http.fluent.Request bodyString(*)\"\n",
      "        - org.openrewrite.java.search.FindMethods:\n",
      "            methodPattern: \"com.symphony.bdk.workflow.security.AuthorizationAspect getHttpServletRequest(*)\"\n",
      "        - org.openrewrite.java.search.FindMethods:\n",
      "            methodPattern: \"org.springframework.web.context.request.ServletRequestAttributes getRequest(*)\"\n",
      "        - org.openrewrite.java.search.FindMethods:\n",
      "            methodPattern: \"jakarta.servlet.http.HttpServletRequest getRequestURI(*)\"\n",
      "        - org.openrewrite.java.search.FindMethods:\n",
      "            methodPattern: \"org.springframework.data.domain.PageRequest of(*)\"\n",
      "        - org.openrewrite.java.search.FindMethods:\n",
      "            methodPattern: \"org.springframework.web.client.RestTemplate exchange(*)\"\n",
      "        - org.openrewrite.java.search.FindMethods:\n",
      "            methodPattern: \"org.springframework.http.RequestEntity get(*)\"\n",
      "        - org.openrewrite.java.search.FindMethods:\n",
      "            methodPattern: \"org.springframework.test.web.servlet.request.MockMvcRequestBuilders get(*)\"\n",
      "        - org.openrewrite.java.search.FindMethods:\n",
      "            methodPattern: \"java.net.http.HttpRequest$Builder build(*)\"\n",
      "        - org.openrewrite.java.search.FindMethods:\n",
      "            methodPattern: \"java.util.function.Function apply(*)\"\n",
      "        - org.openrewrite.java.search.FindMethods:\n",
      "            methodPattern: \"software.amazon.awssdk.http.HttpExecuteRequest$Builder build(*)\"\n",
      "        - org.openrewrite.java.search.FindMethods:\n",
      "            methodPattern: \"com.amazon.aws.partners.saasfactory.saasboost.keycloak.KeycloakApiTest assertRequest(*)\"\n",
      "        - org.openrewrite.java.search.FindMethods:\n",
      "            methodPattern: \"org.apache.http.impl.client.CloseableHttpClient execute(*)\"\n",
      "        - org.openrewrite.java.search.FindMethods:\n",
      "            methodPattern: \"com.netflix.client.http.HttpRequest$Builder build(*)\"\n",
      "        - org.openrewrite.java.search.FindMethods:\n",
      "            methodPattern: \"com.netflix.client.IResponse getRequestedURI(*)\"\n",
      "        - org.openrewrite.java.search.FindMethods:\n",
      "            methodPattern: \"com.sun.net.httpserver.HttpExchange getRequestURI(*)\"\n"
     ]
    }
   ],
   "source": []
  }
 ],
 "metadata": {
  "kernelspec": {
   "display_name": "moderne",
   "language": "python",
   "name": "python3"
  },
  "language_info": {
   "codemirror_mode": {
    "name": "ipython",
    "version": 3
   },
   "file_extension": ".py",
   "mimetype": "text/x-python",
   "name": "python",
   "nbconvert_exporter": "python",
   "pygments_lexer": "ipython3",
   "version": "3.10.8"
  }
 },
 "nbformat": 4,
 "nbformat_minor": 2
}
