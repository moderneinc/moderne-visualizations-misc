{
 "cells": [
  {
   "cell_type": "code",
   "execution_count": null,
   "id": "1934da7b",
   "metadata": {
    "collapsed": false
   },
   "outputs": [],
   "source": [
    "from code_data_science import data_table as dt, data_grid as moderne_data_grid\n",
    "\n",
    "df = dt.read_csv(\"../samples/effective_maven_settings.csv\")"
   ]
  },
  {
   "cell_type": "code",
   "execution_count": null,
   "id": "c43a13da",
   "metadata": {},
   "outputs": [],
   "source": [
    "df"
   ]
  },
  {
   "cell_type": "code",
   "execution_count": null,
   "id": "68dc890c",
   "metadata": {},
   "outputs": [],
   "source": [
    "moderne_data_grid.display(df)"
   ]
  }
 ],
 "metadata": {
  "kernelspec": {
   "display_name": "Python 3 (ipykernel)",
   "language": "python",
   "name": "python3"
  },
  "language_info": {
   "codemirror_mode": {
    "name": "ipython",
    "version": 3
   },
   "file_extension": ".py",
   "mimetype": "text/x-python",
   "name": "python",
   "nbconvert_exporter": "python",
   "pygments_lexer": "ipython3",
   "version": "3.11.4"
  }
 },
 "nbformat": 4,
 "nbformat_minor": 5
}
