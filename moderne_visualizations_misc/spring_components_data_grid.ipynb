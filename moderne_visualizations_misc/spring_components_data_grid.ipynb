{
 "cells": [
  {
   "cell_type": "code",
   "execution_count": null,
   "metadata": {},
   "outputs": [],
   "source": [
    "from code_data_science import data_table as dt\n",
    "\n",
    "df = dt.read_csv(\"../samples/spring_components.csv\")\n",
    "\n",
    "df = df.rename(\n",
    "    columns={\n",
    "        \"repositoryOrigin\": \"Origin\",\n",
    "        \"repositoryPath\": \"Path\",\n",
    "        \"repositoryBranch\": \"Branch\",\n",
    "        \"repositoryLink\": \"Link\",\n",
    "        \"sourcePath\": \"File\",\n",
    "        \"componentType\": \"Component\",\n",
    "    }\n",
    ")\n",
    "\n",
    "df[\"Repository\"] = \"\"\n",
    "df[\"Organization\"] = \"\"\n",
    "\n",
    "# attempt to split path into two columns\n",
    "try:\n",
    "    df[[\"Organization\", \"Repository\"]] = df[\"Path\"].str.split(\"/\", n=1, expand=True)\n",
    "except:\n",
    "    pass\n",
    "\n",
    "df.drop(columns=[\"Path\"], inplace=True)\n",
    "df = df[[\"Component\", \"Repository\", \"File\", \"Origin\", \"Organization\", \"Branch\", \"Link\"]]"
   ]
  },
  {
   "cell_type": "code",
   "execution_count": null,
   "metadata": {},
   "outputs": [],
   "source": [
    "from code_data_science import data_grid as moderne_data_grid\n",
    "\n",
    "column_types = {\n",
    "    \"Link\": moderne_data_grid.ColumnType.LINK,\n",
    "}\n",
    "\n",
    "moderne_data_grid.display(df, column_types=column_types)"
   ]
  }
 ],
 "metadata": {
  "kernelspec": {
   "display_name": "Python 3",
   "language": "python",
   "name": "python3"
  },
  "language_info": {
   "codemirror_mode": {
    "name": "ipython",
    "version": 3
   },
   "file_extension": ".py",
   "mimetype": "text/x-python",
   "name": "python",
   "nbconvert_exporter": "python",
   "pygments_lexer": "ipython3",
   "version": "3.11.4"
  }
 },
 "nbformat": 4,
 "nbformat_minor": 2
}
