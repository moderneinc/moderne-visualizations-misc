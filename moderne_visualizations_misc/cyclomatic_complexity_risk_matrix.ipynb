{
 "cells": [
  {
   "cell_type": "code",
   "execution_count": 1,
   "metadata": {
    "tags": [
     "parameters"
    ]
   },
   "outputs": [],
   "source": [
    "repository_filter: list[str] = []\n",
    "complexity_threshold: int = 10"
   ]
  },
  {
   "cell_type": "code",
   "execution_count": 2,
   "metadata": {},
   "outputs": [
    {
     "data": {
      "application/vnd.plotly.v1+json": {
       "config": {
        "plotlyServerURL": "https://plot.ly"
       },
       "data": [
        {
         "customdata": [
          [
           7,
           1
          ],
          [
           169,
           21
          ],
          [
           552,
           91
          ],
          [
           5560,
           540
          ],
          [
           114,
           16
          ],
          [
           16,
           8
          ],
          [
           140,
           15
          ],
          [
           8345,
           1403
          ],
          [
           192,
           40
          ],
          [
           2781,
           467
          ],
          [
           2762,
           496
          ],
          [
           2371,
           384
          ],
          [
           158,
           30
          ],
          [
           3,
           1
          ],
          [
           1721,
           284
          ],
          [
           284,
           80
          ],
          [
           147,
           34
          ],
          [
           3051,
           514
          ],
          [
           3343,
           266
          ],
          [
           512,
           48
          ],
          [
           1028,
           88
          ],
          [
           278,
           35
          ],
          [
           5120,
           978
          ],
          [
           1320,
           200
          ],
          [
           1610,
           344
          ],
          [
           1269,
           222
          ],
          [
           1566,
           288
          ],
          [
           615,
           153
          ],
          [
           653,
           202
          ],
          [
           11,
           4
          ],
          [
           10,
           3
          ],
          [
           10,
           3
          ],
          [
           15,
           3
          ],
          [
           9,
           6
          ],
          [
           8,
           4
          ],
          [
           13,
           5
          ],
          [
           9,
           9
          ],
          [
           45,
           8
          ],
          [
           9,
           6
          ],
          [
           11,
           5
          ],
          [
           4,
           3
          ],
          [
           8,
           4
          ],
          [
           8,
           2
          ],
          [
           13,
           9
          ],
          [
           8,
           6
          ],
          [
           6,
           4
          ],
          [
           4,
           4
          ],
          [
           7,
           4
          ],
          [
           4,
           3
          ],
          [
           6,
           2
          ],
          [
           12,
           9
          ],
          [
           8,
           3
          ],
          [
           5,
           3
          ],
          [
           6,
           4
          ],
          [
           47,
           9
          ],
          [
           16,
           5
          ],
          [
           9,
           3
          ],
          [
           7,
           4
          ],
          [
           114,
           12
          ],
          [
           186,
           19
          ],
          [
           31,
           5
          ],
          [
           780,
           206
          ],
          [
           277,
           74
          ],
          [
           63,
           13
          ],
          [
           63,
           20
          ],
          [
           193,
           46
          ],
          [
           3900,
           621
          ],
          [
           11022,
           1950
          ],
          [
           725,
           156
          ],
          [
           487,
           152
          ],
          [
           6782,
           959
          ],
          [
           808,
           128
          ],
          [
           317,
           70
          ],
          [
           13121,
           1188
          ],
          [
           7060,
           1273
          ],
          [
           1286,
           243
          ],
          [
           81251,
           13132
          ],
          [
           3023,
           525
          ],
          [
           130,
           33
          ],
          [
           907,
           283
          ],
          [
           4202,
           612
          ],
          [
           164,
           41
          ],
          [
           2287,
           378
          ],
          [
           1592,
           222
          ],
          [
           241,
           57
          ],
          [
           3225,
           526
          ],
          [
           274,
           28
          ],
          [
           212,
           52
          ]
         ],
         "hovertemplate": "<b>%{text}</b><br>Average Complexity: %{y:.2f}<br>High Complexity Methods: %{x}<br>Total Methods: %{customdata[0]}<br>Number of Classes: %{customdata[1]}<extra></extra>",
         "marker": {
          "color": [
           0,
           5,
           1,
           59,
           0,
           0,
           3,
           202,
           4,
           90,
           75,
           31,
           3,
           0,
           2,
           1,
           0,
           32,
           32,
           6,
           8,
           4,
           18,
           5,
           10,
           21,
           7,
           1,
           1,
           0,
           0,
           0,
           0,
           0,
           0,
           0,
           0,
           0,
           0,
           0,
           0,
           0,
           0,
           0,
           0,
           0,
           0,
           0,
           0,
           0,
           0,
           0,
           0,
           0,
           0,
           0,
           0,
           0,
           0,
           0,
           0,
           0,
           2,
           1,
           0,
           0,
           42,
           84,
           5,
           2,
           48,
           3,
           3,
           34,
           34,
           3,
           844,
           13,
           1,
           8,
           35,
           1,
           3,
           0,
           0,
           12,
           0,
           0
          ],
          "colorbar": {
           "len": 0.7,
           "thickness": 15,
           "title": {
            "text": "High Complexity<br>Methods"
           }
          },
          "colorscale": [
           [
            0,
            "rgb(255,255,204)"
           ],
           [
            0.125,
            "rgb(255,237,160)"
           ],
           [
            0.25,
            "rgb(254,217,118)"
           ],
           [
            0.375,
            "rgb(254,178,76)"
           ],
           [
            0.5,
            "rgb(253,141,60)"
           ],
           [
            0.625,
            "rgb(252,78,42)"
           ],
           [
            0.75,
            "rgb(227,26,28)"
           ],
           [
            0.875,
            "rgb(189,0,38)"
           ],
           [
            1,
            "rgb(128,0,38)"
           ]
          ],
          "showscale": true,
          "size": [
           1,
           21,
           91,
           540,
           16,
           8,
           15,
           1403,
           40,
           467,
           496,
           384,
           30,
           1,
           284,
           80,
           34,
           514,
           266,
           48,
           88,
           35,
           978,
           200,
           344,
           222,
           288,
           153,
           202,
           4,
           3,
           3,
           3,
           6,
           4,
           5,
           9,
           8,
           6,
           5,
           3,
           4,
           2,
           9,
           6,
           4,
           4,
           4,
           3,
           2,
           9,
           3,
           3,
           4,
           9,
           5,
           3,
           4,
           12,
           19,
           5,
           206,
           74,
           13,
           20,
           46,
           621,
           1950,
           156,
           152,
           959,
           128,
           70,
           1188,
           1273,
           243,
           13132,
           525,
           33,
           283,
           612,
           41,
           378,
           222,
           57,
           526,
           28,
           52
          ],
          "sizemin": 4,
          "sizemode": "area",
          "sizeref": 2.6264
         },
         "mode": "markers",
         "text": [
          "Netflix/awsobjectmapper",
          "Netflix/blitz4j",
          "Netflix/concurrency-limits",
          "Netflix/conductor",
          "Netflix/curator",
          "Netflix/dgs-codegen",
          "Netflix/frigga",
          "Netflix/hollow",
          "Netflix/mantis-api",
          "Netflix/metacat",
          "Netflix/photon",
          "Netflix/zuul",
          "nebula-plugins/nebula-dependency-recommender",
          "nebula-plugins/nebula-release-plugin",
          "spring-cloud/spring-cloud-app-broker",
          "spring-cloud/spring-cloud-bindings",
          "spring-cloud/spring-cloud-cloudfoundry",
          "spring-cloud/spring-cloud-config",
          "spring-cloud/spring-cloud-deployer",
          "spring-cloud/spring-cloud-deployer-cloudfoundry",
          "spring-cloud/spring-cloud-deployer-kubernetes",
          "spring-cloud/spring-cloud-deployer-local",
          "spring-cloud/spring-cloud-gateway",
          "spring-cloud/spring-cloud-netflix",
          "spring-cloud/spring-cloud-openfeign",
          "spring-cloud/spring-cloud-stream-binder-kafka",
          "spring-cloud/spring-cloud-task",
          "spring-cloud/spring-cloud-zookeeper",
          "spring-cloud/stream-applications",
          "spring-guides/gs-accessing-data-jpa",
          "spring-guides/gs-accessing-data-neo4j",
          "spring-guides/gs-accessing-gemfire-data-rest",
          "spring-guides/gs-accessing-neo4j-data-rest",
          "spring-guides/gs-actuator-service",
          "spring-guides/gs-authenticating-ldap",
          "spring-guides/gs-batch-processing",
          "spring-guides/gs-centralized-configuration",
          "spring-guides/gs-crud-with-vaadin",
          "spring-guides/gs-graphql-server",
          "spring-guides/gs-handling-form-submission",
          "spring-guides/gs-integration",
          "spring-guides/gs-managing-transactions",
          "spring-guides/gs-messaging-redis",
          "spring-guides/gs-multi-module",
          "spring-guides/gs-rest-hateoas",
          "spring-guides/gs-rest-service",
          "spring-guides/gs-scheduling-tasks",
          "spring-guides/gs-serving-web-content",
          "spring-guides/gs-spring-boot-for-azure",
          "spring-guides/gs-spring-boot-kubernetes",
          "spring-guides/gs-spring-cloud-stream",
          "spring-guides/gs-spring-cloud-task",
          "spring-guides/gs-tanzu-observability",
          "spring-guides/gs-testing-restdocs",
          "spring-guides/gs-uploading-files",
          "spring-guides/gs-validating-form-input",
          "spring-guides/gs-vault-config",
          "spring-guides/top-spring-on-kubernetes",
          "spring-guides/tut-rest",
          "spring-guides/tut-spring-security-and-angular-js",
          "spring-projects-experimental/spring-batch-experimental",
          "spring-projects-experimental/spring-cloud-sleuth-otel",
          "spring-projects-experimental/spring-cloud-square",
          "spring-projects-experimental/spring-openapi-aggregator",
          "spring-projects-experimental/spring-retrosocket",
          "spring-projects/spring-amqp-samples",
          "spring-projects/spring-authorization-server",
          "spring-projects/spring-batch",
          "spring-projects/spring-batch-extensions",
          "spring-projects/spring-checkpoint-restore-smoke-tests",
          "spring-projects/spring-data-elasticsearch",
          "spring-projects/spring-data-keyvalue",
          "spring-projects/spring-data-ldap",
          "spring-projects/spring-data-redis",
          "spring-projects/spring-data-relational",
          "spring-projects/spring-data-release",
          "spring-projects/spring-framework",
          "spring-projects/spring-hateoas",
          "spring-projects/spring-hateoas-examples",
          "spring-projects/spring-integration-samples",
          "spring-projects/spring-ldap",
          "spring-projects/spring-petclinic",
          "spring-projects/spring-restdocs",
          "spring-projects/spring-session-data-geode",
          "spring-projects/spring-session-data-mongodb",
          "spring-projects/spring-vault",
          "spring-projects/spring-webflow-samples",
          "spring-projects/spring-ws-samples"
         ],
         "type": "scatter",
         "x": [
          0,
          5,
          1,
          59,
          0,
          0,
          3,
          202,
          4,
          90,
          75,
          31,
          3,
          0,
          2,
          1,
          0,
          32,
          32,
          6,
          8,
          4,
          18,
          5,
          10,
          21,
          7,
          1,
          1,
          0,
          0,
          0,
          0,
          0,
          0,
          0,
          0,
          0,
          0,
          0,
          0,
          0,
          0,
          0,
          0,
          0,
          0,
          0,
          0,
          0,
          0,
          0,
          0,
          0,
          0,
          0,
          0,
          0,
          0,
          0,
          0,
          0,
          2,
          1,
          0,
          0,
          42,
          84,
          5,
          2,
          48,
          3,
          3,
          34,
          34,
          3,
          844,
          13,
          1,
          8,
          35,
          1,
          3,
          0,
          0,
          12,
          0,
          0
         ],
         "y": [
          2.4285714285714284,
          2.5384615384615383,
          1.3442028985507246,
          1.5562949640287769,
          1.7017543859649122,
          1,
          2.1,
          2.0357100059916116,
          2.1145833333333335,
          2.304566702624955,
          2.223388848660391,
          1.6836777730915227,
          2.0126582278481013,
          3,
          1.1528181289947705,
          1.369718309859155,
          1.1768707482993197,
          1.4664044575549,
          1.5949745737361651,
          1.85546875,
          1.6070038910505837,
          1.9388489208633093,
          1.31328125,
          1.412121212121212,
          1.3931677018633541,
          1.7880220646178093,
          1.3397190293742018,
          1.4292682926829268,
          1.310872894333844,
          1,
          1.1,
          1,
          1,
          1,
          1,
          1.0769230769230769,
          1,
          1.0666666666666667,
          1,
          1,
          1,
          1.625,
          1.125,
          1,
          1,
          1,
          1,
          1,
          1,
          1,
          1,
          1,
          1,
          1,
          1.3829787234042554,
          1.0625,
          1,
          1,
          1.219298245614035,
          1.1021505376344085,
          1.4193548387096775,
          1.2717948717948717,
          1.4657039711191335,
          2.0317460317460316,
          1.4285714285714286,
          1.1036269430051813,
          1.4692307692307693,
          1.426238432226456,
          1.3917241379310346,
          1.213552361396304,
          1.317605426127986,
          1.2574257425742574,
          1.6340694006309149,
          1.2524959987805808,
          1.3879603399433427,
          1.5396578538102643,
          1.5713529679634712,
          1.3691696989745286,
          1.2230769230769232,
          1.4785005512679161,
          1.5235602094240839,
          1.4085365853658536,
          1.2955837341495409,
          1.129396984924623,
          1.2365145228215768,
          1.3786046511627907,
          1.1788321167883211,
          1.330188679245283
         ]
        }
       ],
       "layout": {
        "annotations": [
         {
          "bgcolor": "rgba(255,0,0,0.1)",
          "borderpad": 4,
          "font": {
           "size": 10
          },
          "showarrow": false,
          "text": "<b>High Risk</b><br>Many complex methods",
          "x": 0.95,
          "xref": "paper",
          "y": 0.95,
          "yref": "paper"
         },
         {
          "bgcolor": "rgba(255,165,0,0.1)",
          "borderpad": 4,
          "font": {
           "size": 10
          },
          "showarrow": false,
          "text": "<b>Systemic</b><br>Pervasive complexity",
          "x": 0.05,
          "xref": "paper",
          "y": 0.95,
          "yref": "paper"
         },
         {
          "bgcolor": "rgba(255,255,0,0.1)",
          "borderpad": 4,
          "font": {
           "size": 10
          },
          "showarrow": false,
          "text": "<b>Localized</b><br>Few problem areas",
          "x": 0.95,
          "xref": "paper",
          "y": 0.05,
          "yref": "paper"
         },
         {
          "bgcolor": "rgba(0,255,0,0.1)",
          "borderpad": 4,
          "font": {
           "size": 10
          },
          "showarrow": false,
          "text": "<b>Low Risk</b><br>Well-maintained",
          "x": 0.05,
          "xref": "paper",
          "y": 0.05,
          "yref": "paper"
         }
        ],
        "hovermode": "closest",
        "margin": {
         "b": 60,
         "l": 60,
         "r": 120,
         "t": 100
        },
        "plot_bgcolor": "white",
        "shapes": [
         {
          "line": {
           "color": "gray",
           "dash": "dash"
          },
          "opacity": 0.5,
          "type": "line",
          "x0": 0.5,
          "x1": 0.5,
          "xref": "x",
          "y0": 0,
          "y1": 1,
          "yref": "y domain"
         },
         {
          "line": {
           "color": "gray",
           "dash": "dash"
          },
          "opacity": 0.5,
          "type": "line",
          "x0": 0,
          "x1": 1,
          "xref": "x domain",
          "y0": 1.315443338063993,
          "y1": 1.315443338063993,
          "yref": "y"
         }
        ],
        "template": {
         "data": {
          "bar": [
           {
            "error_x": {
             "color": "#2a3f5f"
            },
            "error_y": {
             "color": "#2a3f5f"
            },
            "marker": {
             "line": {
              "color": "#E5ECF6",
              "width": 0.5
             },
             "pattern": {
              "fillmode": "overlay",
              "size": 10,
              "solidity": 0.2
             }
            },
            "type": "bar"
           }
          ],
          "barpolar": [
           {
            "marker": {
             "line": {
              "color": "#E5ECF6",
              "width": 0.5
             },
             "pattern": {
              "fillmode": "overlay",
              "size": 10,
              "solidity": 0.2
             }
            },
            "type": "barpolar"
           }
          ],
          "carpet": [
           {
            "aaxis": {
             "endlinecolor": "#2a3f5f",
             "gridcolor": "white",
             "linecolor": "white",
             "minorgridcolor": "white",
             "startlinecolor": "#2a3f5f"
            },
            "baxis": {
             "endlinecolor": "#2a3f5f",
             "gridcolor": "white",
             "linecolor": "white",
             "minorgridcolor": "white",
             "startlinecolor": "#2a3f5f"
            },
            "type": "carpet"
           }
          ],
          "choropleth": [
           {
            "colorbar": {
             "outlinewidth": 0,
             "ticks": ""
            },
            "type": "choropleth"
           }
          ],
          "contour": [
           {
            "colorbar": {
             "outlinewidth": 0,
             "ticks": ""
            },
            "colorscale": [
             [
              0,
              "#0d0887"
             ],
             [
              0.1111111111111111,
              "#46039f"
             ],
             [
              0.2222222222222222,
              "#7201a8"
             ],
             [
              0.3333333333333333,
              "#9c179e"
             ],
             [
              0.4444444444444444,
              "#bd3786"
             ],
             [
              0.5555555555555556,
              "#d8576b"
             ],
             [
              0.6666666666666666,
              "#ed7953"
             ],
             [
              0.7777777777777778,
              "#fb9f3a"
             ],
             [
              0.8888888888888888,
              "#fdca26"
             ],
             [
              1,
              "#f0f921"
             ]
            ],
            "type": "contour"
           }
          ],
          "contourcarpet": [
           {
            "colorbar": {
             "outlinewidth": 0,
             "ticks": ""
            },
            "type": "contourcarpet"
           }
          ],
          "heatmap": [
           {
            "colorbar": {
             "outlinewidth": 0,
             "ticks": ""
            },
            "colorscale": [
             [
              0,
              "#0d0887"
             ],
             [
              0.1111111111111111,
              "#46039f"
             ],
             [
              0.2222222222222222,
              "#7201a8"
             ],
             [
              0.3333333333333333,
              "#9c179e"
             ],
             [
              0.4444444444444444,
              "#bd3786"
             ],
             [
              0.5555555555555556,
              "#d8576b"
             ],
             [
              0.6666666666666666,
              "#ed7953"
             ],
             [
              0.7777777777777778,
              "#fb9f3a"
             ],
             [
              0.8888888888888888,
              "#fdca26"
             ],
             [
              1,
              "#f0f921"
             ]
            ],
            "type": "heatmap"
           }
          ],
          "heatmapgl": [
           {
            "colorbar": {
             "outlinewidth": 0,
             "ticks": ""
            },
            "colorscale": [
             [
              0,
              "#0d0887"
             ],
             [
              0.1111111111111111,
              "#46039f"
             ],
             [
              0.2222222222222222,
              "#7201a8"
             ],
             [
              0.3333333333333333,
              "#9c179e"
             ],
             [
              0.4444444444444444,
              "#bd3786"
             ],
             [
              0.5555555555555556,
              "#d8576b"
             ],
             [
              0.6666666666666666,
              "#ed7953"
             ],
             [
              0.7777777777777778,
              "#fb9f3a"
             ],
             [
              0.8888888888888888,
              "#fdca26"
             ],
             [
              1,
              "#f0f921"
             ]
            ],
            "type": "heatmapgl"
           }
          ],
          "histogram": [
           {
            "marker": {
             "pattern": {
              "fillmode": "overlay",
              "size": 10,
              "solidity": 0.2
             }
            },
            "type": "histogram"
           }
          ],
          "histogram2d": [
           {
            "colorbar": {
             "outlinewidth": 0,
             "ticks": ""
            },
            "colorscale": [
             [
              0,
              "#0d0887"
             ],
             [
              0.1111111111111111,
              "#46039f"
             ],
             [
              0.2222222222222222,
              "#7201a8"
             ],
             [
              0.3333333333333333,
              "#9c179e"
             ],
             [
              0.4444444444444444,
              "#bd3786"
             ],
             [
              0.5555555555555556,
              "#d8576b"
             ],
             [
              0.6666666666666666,
              "#ed7953"
             ],
             [
              0.7777777777777778,
              "#fb9f3a"
             ],
             [
              0.8888888888888888,
              "#fdca26"
             ],
             [
              1,
              "#f0f921"
             ]
            ],
            "type": "histogram2d"
           }
          ],
          "histogram2dcontour": [
           {
            "colorbar": {
             "outlinewidth": 0,
             "ticks": ""
            },
            "colorscale": [
             [
              0,
              "#0d0887"
             ],
             [
              0.1111111111111111,
              "#46039f"
             ],
             [
              0.2222222222222222,
              "#7201a8"
             ],
             [
              0.3333333333333333,
              "#9c179e"
             ],
             [
              0.4444444444444444,
              "#bd3786"
             ],
             [
              0.5555555555555556,
              "#d8576b"
             ],
             [
              0.6666666666666666,
              "#ed7953"
             ],
             [
              0.7777777777777778,
              "#fb9f3a"
             ],
             [
              0.8888888888888888,
              "#fdca26"
             ],
             [
              1,
              "#f0f921"
             ]
            ],
            "type": "histogram2dcontour"
           }
          ],
          "mesh3d": [
           {
            "colorbar": {
             "outlinewidth": 0,
             "ticks": ""
            },
            "type": "mesh3d"
           }
          ],
          "parcoords": [
           {
            "line": {
             "colorbar": {
              "outlinewidth": 0,
              "ticks": ""
             }
            },
            "type": "parcoords"
           }
          ],
          "pie": [
           {
            "automargin": true,
            "type": "pie"
           }
          ],
          "scatter": [
           {
            "fillpattern": {
             "fillmode": "overlay",
             "size": 10,
             "solidity": 0.2
            },
            "type": "scatter"
           }
          ],
          "scatter3d": [
           {
            "line": {
             "colorbar": {
              "outlinewidth": 0,
              "ticks": ""
             }
            },
            "marker": {
             "colorbar": {
              "outlinewidth": 0,
              "ticks": ""
             }
            },
            "type": "scatter3d"
           }
          ],
          "scattercarpet": [
           {
            "marker": {
             "colorbar": {
              "outlinewidth": 0,
              "ticks": ""
             }
            },
            "type": "scattercarpet"
           }
          ],
          "scattergeo": [
           {
            "marker": {
             "colorbar": {
              "outlinewidth": 0,
              "ticks": ""
             }
            },
            "type": "scattergeo"
           }
          ],
          "scattergl": [
           {
            "marker": {
             "colorbar": {
              "outlinewidth": 0,
              "ticks": ""
             }
            },
            "type": "scattergl"
           }
          ],
          "scattermapbox": [
           {
            "marker": {
             "colorbar": {
              "outlinewidth": 0,
              "ticks": ""
             }
            },
            "type": "scattermapbox"
           }
          ],
          "scatterpolar": [
           {
            "marker": {
             "colorbar": {
              "outlinewidth": 0,
              "ticks": ""
             }
            },
            "type": "scatterpolar"
           }
          ],
          "scatterpolargl": [
           {
            "marker": {
             "colorbar": {
              "outlinewidth": 0,
              "ticks": ""
             }
            },
            "type": "scatterpolargl"
           }
          ],
          "scatterternary": [
           {
            "marker": {
             "colorbar": {
              "outlinewidth": 0,
              "ticks": ""
             }
            },
            "type": "scatterternary"
           }
          ],
          "surface": [
           {
            "colorbar": {
             "outlinewidth": 0,
             "ticks": ""
            },
            "colorscale": [
             [
              0,
              "#0d0887"
             ],
             [
              0.1111111111111111,
              "#46039f"
             ],
             [
              0.2222222222222222,
              "#7201a8"
             ],
             [
              0.3333333333333333,
              "#9c179e"
             ],
             [
              0.4444444444444444,
              "#bd3786"
             ],
             [
              0.5555555555555556,
              "#d8576b"
             ],
             [
              0.6666666666666666,
              "#ed7953"
             ],
             [
              0.7777777777777778,
              "#fb9f3a"
             ],
             [
              0.8888888888888888,
              "#fdca26"
             ],
             [
              1,
              "#f0f921"
             ]
            ],
            "type": "surface"
           }
          ],
          "table": [
           {
            "cells": {
             "fill": {
              "color": "#EBF0F8"
             },
             "line": {
              "color": "white"
             }
            },
            "header": {
             "fill": {
              "color": "#C8D4E3"
             },
             "line": {
              "color": "white"
             }
            },
            "type": "table"
           }
          ]
         },
         "layout": {
          "annotationdefaults": {
           "arrowcolor": "#2a3f5f",
           "arrowhead": 0,
           "arrowwidth": 1
          },
          "autotypenumbers": "strict",
          "coloraxis": {
           "colorbar": {
            "outlinewidth": 0,
            "ticks": ""
           }
          },
          "colorscale": {
           "diverging": [
            [
             0,
             "#8e0152"
            ],
            [
             0.1,
             "#c51b7d"
            ],
            [
             0.2,
             "#de77ae"
            ],
            [
             0.3,
             "#f1b6da"
            ],
            [
             0.4,
             "#fde0ef"
            ],
            [
             0.5,
             "#f7f7f7"
            ],
            [
             0.6,
             "#e6f5d0"
            ],
            [
             0.7,
             "#b8e186"
            ],
            [
             0.8,
             "#7fbc41"
            ],
            [
             0.9,
             "#4d9221"
            ],
            [
             1,
             "#276419"
            ]
           ],
           "sequential": [
            [
             0,
             "#0d0887"
            ],
            [
             0.1111111111111111,
             "#46039f"
            ],
            [
             0.2222222222222222,
             "#7201a8"
            ],
            [
             0.3333333333333333,
             "#9c179e"
            ],
            [
             0.4444444444444444,
             "#bd3786"
            ],
            [
             0.5555555555555556,
             "#d8576b"
            ],
            [
             0.6666666666666666,
             "#ed7953"
            ],
            [
             0.7777777777777778,
             "#fb9f3a"
            ],
            [
             0.8888888888888888,
             "#fdca26"
            ],
            [
             1,
             "#f0f921"
            ]
           ],
           "sequentialminus": [
            [
             0,
             "#0d0887"
            ],
            [
             0.1111111111111111,
             "#46039f"
            ],
            [
             0.2222222222222222,
             "#7201a8"
            ],
            [
             0.3333333333333333,
             "#9c179e"
            ],
            [
             0.4444444444444444,
             "#bd3786"
            ],
            [
             0.5555555555555556,
             "#d8576b"
            ],
            [
             0.6666666666666666,
             "#ed7953"
            ],
            [
             0.7777777777777778,
             "#fb9f3a"
            ],
            [
             0.8888888888888888,
             "#fdca26"
            ],
            [
             1,
             "#f0f921"
            ]
           ]
          },
          "colorway": [
           "#636efa",
           "#EF553B",
           "#00cc96",
           "#ab63fa",
           "#FFA15A",
           "#19d3f3",
           "#FF6692",
           "#B6E880",
           "#FF97FF",
           "#FECB52"
          ],
          "font": {
           "color": "#2a3f5f"
          },
          "geo": {
           "bgcolor": "white",
           "lakecolor": "white",
           "landcolor": "#E5ECF6",
           "showlakes": true,
           "showland": true,
           "subunitcolor": "white"
          },
          "hoverlabel": {
           "align": "left"
          },
          "hovermode": "closest",
          "mapbox": {
           "style": "light"
          },
          "paper_bgcolor": "white",
          "plot_bgcolor": "#E5ECF6",
          "polar": {
           "angularaxis": {
            "gridcolor": "white",
            "linecolor": "white",
            "ticks": ""
           },
           "bgcolor": "#E5ECF6",
           "radialaxis": {
            "gridcolor": "white",
            "linecolor": "white",
            "ticks": ""
           }
          },
          "scene": {
           "xaxis": {
            "backgroundcolor": "#E5ECF6",
            "gridcolor": "white",
            "gridwidth": 2,
            "linecolor": "white",
            "showbackground": true,
            "ticks": "",
            "zerolinecolor": "white"
           },
           "yaxis": {
            "backgroundcolor": "#E5ECF6",
            "gridcolor": "white",
            "gridwidth": 2,
            "linecolor": "white",
            "showbackground": true,
            "ticks": "",
            "zerolinecolor": "white"
           },
           "zaxis": {
            "backgroundcolor": "#E5ECF6",
            "gridcolor": "white",
            "gridwidth": 2,
            "linecolor": "white",
            "showbackground": true,
            "ticks": "",
            "zerolinecolor": "white"
           }
          },
          "shapedefaults": {
           "line": {
            "color": "#2a3f5f"
           }
          },
          "ternary": {
           "aaxis": {
            "gridcolor": "white",
            "linecolor": "white",
            "ticks": ""
           },
           "baxis": {
            "gridcolor": "white",
            "linecolor": "white",
            "ticks": ""
           },
           "bgcolor": "#E5ECF6",
           "caxis": {
            "gridcolor": "white",
            "linecolor": "white",
            "ticks": ""
           }
          },
          "title": {
           "x": 0.05
          },
          "xaxis": {
           "automargin": true,
           "gridcolor": "white",
           "linecolor": "white",
           "ticks": "",
           "title": {
            "standoff": 15
           },
           "zerolinecolor": "white",
           "zerolinewidth": 2
          },
          "yaxis": {
           "automargin": true,
           "gridcolor": "white",
           "linecolor": "white",
           "ticks": "",
           "title": {
            "standoff": 15
           },
           "zerolinecolor": "white",
           "zerolinewidth": 2
          }
         }
        },
        "title": {
         "font": {
          "size": 16
         },
         "text": "Cyclomatic Complexity Risk Matrix<br><sub>Bubble size represents number of classes | Threshold: 10</sub>"
        },
        "xaxis": {
         "gridcolor": "rgba(128,128,128,0.2)",
         "showgrid": true,
         "title": {
          "text": "Number of High Complexity Methods (≥10)"
         },
         "zeroline": true,
         "zerolinecolor": "rgba(128,128,128,0.2)"
        },
        "yaxis": {
         "gridcolor": "rgba(128,128,128,0.2)",
         "showgrid": true,
         "title": {
          "text": "Average Complexity per Repository"
         },
         "zeroline": true,
         "zerolinecolor": "rgba(128,128,128,0.2)"
        }
       }
      }
     },
     "metadata": {},
     "output_type": "display_data"
    }
   ],
   "source": [
    "import pandas as pd\n",
    "import warnings\n",
    "import plotly.graph_objects as go\n",
    "import code_data_science.data_table as dt\n",
    "\n",
    "warnings.simplefilter(\"ignore\")\n",
    "\n",
    "df = dt.read_csv(\"../samples/cyclomatic_complexity.csv\")\n",
    "\n",
    "# Filter the data frame to only include rows where repositoryPath contains\n",
    "# a term in the repository_filter (case insensitive)\n",
    "if len(repository_filter) > 0:\n",
    "    df = df[\n",
    "        df[\"repositoryPath\"].str.contains(\"|\".join(repository_filter), case=False)\n",
    "    ]\n",
    "\n",
    "# Exit early if there are no records and render a plot with a message\n",
    "if len(df) == 0:\n",
    "    fig = go.Figure()\n",
    "    fig.add_annotation(\n",
    "        text=\"No data available for the selected repositories\",\n",
    "        xref=\"paper\",\n",
    "        yref=\"paper\",\n",
    "        x=0.5,\n",
    "        y=0.5,\n",
    "        showarrow=False,\n",
    "        font=dict(size=14)\n",
    "    )\n",
    "    fig.update_layout(\n",
    "        xaxis=dict(visible=False),\n",
    "        yaxis=dict(visible=False),\n",
    "        margin=dict(l=0, r=0, t=60, b=60),\n",
    "        title=\"Cyclomatic Complexity Risk Matrix\"\n",
    "    )\n",
    "    fig.show(render=\"plotly_mimetype\")\n",
    "else:\n",
    "    # Calculate metrics for each repository\n",
    "    repo_metrics = df.groupby('repositoryPath').agg({\n",
    "        'complexity': ['mean', 'count', lambda x: (x >= complexity_threshold).sum()]\n",
    "    }).reset_index()\n",
    "    \n",
    "    # Flatten column names\n",
    "    repo_metrics.columns = ['repository', 'avg_complexity', 'total_methods', 'high_complexity_methods']\n",
    "    \n",
    "    # Count unique classes per repository for bubble size\n",
    "    classes_per_repo = df.groupby('repositoryPath')['className'].nunique().reset_index()\n",
    "    classes_per_repo.columns = ['repository', 'num_classes']\n",
    "    \n",
    "    # Merge the metrics\n",
    "    repo_metrics = repo_metrics.merge(classes_per_repo, on='repository')\n",
    "    \n",
    "    # Create the scatter plot\n",
    "    fig = go.Figure()\n",
    "    \n",
    "    # Add scatter trace\n",
    "    fig.add_trace(go.Scatter(\n",
    "        x=repo_metrics['high_complexity_methods'],\n",
    "        y=repo_metrics['avg_complexity'],\n",
    "        mode='markers',\n",
    "        marker=dict(\n",
    "            size=repo_metrics['num_classes'],\n",
    "            sizemode='area',\n",
    "            sizeref=2.*max(repo_metrics['num_classes'])/(100.**2),\n",
    "            sizemin=4,\n",
    "            color=repo_metrics['high_complexity_methods'],\n",
    "            colorscale='YlOrRd',\n",
    "            showscale=True,\n",
    "            colorbar=dict(\n",
    "                title=\"High Complexity<br>Methods\",\n",
    "                thickness=15,\n",
    "                len=0.7\n",
    "            )\n",
    "        ),\n",
    "        text=repo_metrics['repository'],\n",
    "        customdata=repo_metrics[['total_methods', 'num_classes']],\n",
    "        hovertemplate=(\n",
    "            '<b>%{text}</b><br>' +\n",
    "            'Average Complexity: %{y:.2f}<br>' +\n",
    "            'High Complexity Methods: %{x}<br>' +\n",
    "            'Total Methods: %{customdata[0]}<br>' +\n",
    "            'Number of Classes: %{customdata[1]}' +\n",
    "            '<extra></extra>'\n",
    "        )\n",
    "    ))\n",
    "    \n",
    "    # Add quadrant lines\n",
    "    # Calculate median values for quadrant boundaries\n",
    "    median_high_complexity = repo_metrics['high_complexity_methods'].median()\n",
    "    median_avg_complexity = repo_metrics['avg_complexity'].median()\n",
    "    \n",
    "    # Add vertical line at median high complexity methods\n",
    "    fig.add_vline(\n",
    "        x=median_high_complexity,\n",
    "        line_dash=\"dash\",\n",
    "        line_color=\"gray\",\n",
    "        opacity=0.5\n",
    "    )\n",
    "    \n",
    "    # Add horizontal line at median average complexity\n",
    "    fig.add_hline(\n",
    "        y=median_avg_complexity,\n",
    "        line_dash=\"dash\",\n",
    "        line_color=\"gray\",\n",
    "        opacity=0.5\n",
    "    )\n",
    "    \n",
    "    # Add quadrant labels\n",
    "    annotations = [\n",
    "        # High Risk (top right)\n",
    "        dict(\n",
    "            x=0.95,\n",
    "            y=0.95,\n",
    "            xref=\"paper\",\n",
    "            yref=\"paper\",\n",
    "            text=\"<b>High Risk</b><br>Many complex methods\",\n",
    "            showarrow=False,\n",
    "            bgcolor=\"rgba(255,0,0,0.1)\",\n",
    "            borderpad=4,\n",
    "            font=dict(size=10)\n",
    "        ),\n",
    "        # Systemic Complexity (top left)\n",
    "        dict(\n",
    "            x=0.05,\n",
    "            y=0.95,\n",
    "            xref=\"paper\",\n",
    "            yref=\"paper\",\n",
    "            text=\"<b>Systemic</b><br>Pervasive complexity\",\n",
    "            showarrow=False,\n",
    "            bgcolor=\"rgba(255,165,0,0.1)\",\n",
    "            borderpad=4,\n",
    "            font=dict(size=10)\n",
    "        ),\n",
    "        # Localized Issues (bottom right)\n",
    "        dict(\n",
    "            x=0.95,\n",
    "            y=0.05,\n",
    "            xref=\"paper\",\n",
    "            yref=\"paper\",\n",
    "            text=\"<b>Localized</b><br>Few problem areas\",\n",
    "            showarrow=False,\n",
    "            bgcolor=\"rgba(255,255,0,0.1)\",\n",
    "            borderpad=4,\n",
    "            font=dict(size=10)\n",
    "        ),\n",
    "        # Low Risk (bottom left)\n",
    "        dict(\n",
    "            x=0.05,\n",
    "            y=0.05,\n",
    "            xref=\"paper\",\n",
    "            yref=\"paper\",\n",
    "            text=\"<b>Low Risk</b><br>Well-maintained\",\n",
    "            showarrow=False,\n",
    "            bgcolor=\"rgba(0,255,0,0.1)\",\n",
    "            borderpad=4,\n",
    "            font=dict(size=10)\n",
    "        )\n",
    "    ]\n",
    "    \n",
    "    # Update layout\n",
    "    fig.update_layout(\n",
    "        title=dict(\n",
    "            text=f\"Cyclomatic Complexity Risk Matrix<br><sub>Bubble size represents number of classes | Threshold: {complexity_threshold}</sub>\",\n",
    "            font=dict(size=16)\n",
    "        ),\n",
    "        xaxis=dict(\n",
    "            title=\"Number of High Complexity Methods (≥\" + str(complexity_threshold) + \")\",\n",
    "            gridcolor='rgba(128,128,128,0.2)',\n",
    "            showgrid=True,\n",
    "            zeroline=True,\n",
    "            zerolinecolor='rgba(128,128,128,0.2)'\n",
    "        ),\n",
    "        yaxis=dict(\n",
    "            title=\"Average Complexity per Repository\",\n",
    "            gridcolor='rgba(128,128,128,0.2)',\n",
    "            showgrid=True,\n",
    "            zeroline=True,\n",
    "            zerolinecolor='rgba(128,128,128,0.2)'\n",
    "        ),\n",
    "        margin=dict(l=60, r=120, t=100, b=60),\n",
    "        plot_bgcolor='white',\n",
    "        annotations=annotations,\n",
    "        hovermode='closest'\n",
    "    )\n",
    "    \n",
    "    # Show the figure\n",
    "    fig.show(render=\"plotly_mimetype\")"
   ]
  }
 ],
 "metadata": {
  "kernelspec": {
   "display_name": ".python",
   "language": "python",
   "name": "python3"
  },
  "language_info": {
   "codemirror_mode": {
    "name": "ipython",
    "version": 3
   },
   "file_extension": ".py",
   "mimetype": "text/x-python",
   "name": "python",
   "nbconvert_exporter": "python",
   "pygments_lexer": "ipython3",
   "version": "3.12.8"
  }
 },
 "nbformat": 4,
 "nbformat_minor": 4
}
