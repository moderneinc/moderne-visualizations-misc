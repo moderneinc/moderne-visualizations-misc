{
 "cells": [
  {
   "cell_type": "code",
   "execution_count": null,
   "metadata": {
    "tags": []
   },
   "outputs": [],
   "source": [
    "from code_data_science import data_table as dt, data_grid as moderne_data_grid\n",
    "\n",
    "df = dt.read_csv('../samples/sql_crud.csv')\n",
    "df = df.rename(columns={ \"repositoryOrigin\": \"Origin\", \"repositoryPath\": \"Path\", \"repositoryBranch\": \"Branch\", \"sourcePath\": \"File\", \"table\": \"Table\", \"column\": \"Column\", \"operation\": \"Operation\" })"
   ]
  },
  {
   "cell_type": "code",
   "execution_count": null,
   "metadata": {},
   "outputs": [],
   "source": [
    "df[\"Repository\"] = \"\"\n",
    "df[\"Organization\"] = \"\"\n",
    "\n",
    "# attempt to split path into two columns\n",
    "try:\n",
    "    df[[\"Organization\", \"Repository\"]] = df[\"Path\"].str.split(\"/\", n=1, expand=True)\n",
    "except:\n",
    "    pass\n",
    "\n",
    "df.drop(columns=[\"Path\"], inplace=True)\n",
    "df = df[[\"Table\",\"Column\",\"Operation\",\"Repository\",\"File\", \"Origin\", \"Organization\", \"Branch\"]]\n",
    "\n",
    "df"
   ]
  },
  {
   "cell_type": "code",
   "execution_count": null,
   "metadata": {},
   "outputs": [],
   "source": [
    "moderne_data_grid.display(df)"
   ]
  }
 ],
 "metadata": {
  "kernelspec": {
   "display_name": "Python 3 (ipykernel)",
   "language": "python",
   "name": "python3"
  },
  "language_info": {
   "codemirror_mode": {
    "name": "ipython",
    "version": 3
   },
   "file_extension": ".py",
   "mimetype": "text/x-python",
   "name": "python",
   "nbconvert_exporter": "python",
   "pygments_lexer": "ipython3",
   "version": "3.9.17"
  }
 },
 "nbformat": 4,
 "nbformat_minor": 4
}
