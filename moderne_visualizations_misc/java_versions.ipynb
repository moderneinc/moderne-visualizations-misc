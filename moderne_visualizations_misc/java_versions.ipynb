{
 "cells": [
  {
   "cell_type": "code",
   "execution_count": null,
   "id": "63746256-381d-43ab-a2f7-1acc9e891e8b",
   "metadata": {},
   "outputs": [],
   "source": [
    "from code_data_science import data_table as dt\n",
    "\n",
    "df = dt.read_csv(\"../samples/java_versions.csv\")\n",
    "df.head()"
   ]
  },
  {
   "cell_type": "code",
   "execution_count": null,
   "id": "701147ab-62bd-490f-8a26-8ad1dd80f4d7",
   "metadata": {},
   "outputs": [],
   "source": [
    "data = df.drop(\n",
    "    columns=[\n",
    "        \"repositoryOrigin\",\n",
    "        \"repositoryPath\",\n",
    "        \"repositoryBranch\",\n",
    "        \"projectName\",\n",
    "        \"sourceSetName\",\n",
    "        \"vmVendor\",\n",
    "        \"createdBy\",\n",
    "        \"sourceCompatibility\",\n",
    "        \"targetCompatibility\",\n",
    "    ]\n",
    ")\n",
    "data"
   ]
  },
  {
   "cell_type": "code",
   "execution_count": null,
   "id": "5e2e8d84-4b3e-4374-ab5d-9fd14f9a22fc",
   "metadata": {},
   "outputs": [],
   "source": [
    "versions = (\n",
    "    data.groupby([\"majorVersionSourceCompatibility\"], as_index=True)\n",
    "    .value_counts()\n",
    "    .fillna(0)\n",
    ")\n",
    "versions"
   ]
  },
  {
   "cell_type": "code",
   "execution_count": null,
   "id": "2cf3f3f6-2d72-4cdd-8243-50a37be78cfb",
   "metadata": {},
   "outputs": [],
   "source": [
    "import code_data_science.palette as palette\n",
    "import matplotlib.pyplot as plt\n",
    "\n",
    "colors = palette.qualitative()[:3]\n",
    "\n",
    "ax = versions.plot.bar(colormap=plt.cm.colors.ListedColormap(colors))"
   ]
  }
 ],
 "metadata": {
  "kernelspec": {
   "display_name": "Python 3 (ipykernel)",
   "language": "python",
   "name": "python3"
  },
  "language_info": {
   "codemirror_mode": {
    "name": "ipython",
    "version": 3
   },
   "file_extension": ".py",
   "mimetype": "text/x-python",
   "name": "python",
   "nbconvert_exporter": "python",
   "pygments_lexer": "ipython3",
   "version": "3.9.17"
  }
 },
 "nbformat": 4,
 "nbformat_minor": 5
}
