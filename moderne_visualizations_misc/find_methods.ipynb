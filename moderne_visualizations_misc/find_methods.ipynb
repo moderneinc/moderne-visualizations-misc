{
 "cells": [
  {
   "cell_type": "code",
   "execution_count": null,
   "id": "2f0de97b-16cb-4250-b3f7-119e68e036f8",
   "metadata": {},
   "outputs": [],
   "source": [
    "from code_data_science import data_table as dt, data_grid as moderne_data_grid\n",
    "\n",
    "df = dt.read_csv(\"../samples/find_methods.csv\")\n",
    "df = df.rename(\n",
    "    columns={\n",
    "        \"repositoryOrigin\": \"Origin\",\n",
    "        \"repositoryPath\": \"Path\",\n",
    "        \"repositoryBranch\": \"Branch\",\n",
    "        \"sourceFile\": \"File\",\n",
    "        \"method\": \"Source code\",\n",
    "    }\n",
    ")"
   ]
  },
  {
   "cell_type": "code",
   "execution_count": null,
   "id": "3a8a5276-29a3-4840-a0bf-647c55e09b01",
   "metadata": {},
   "outputs": [],
   "source": [
    "df[\"Repository\"] = \"\"\n",
    "df[\"Organization\"] = \"\"\n",
    "\n",
    "# attempt to split path into two columns\n",
    "try:\n",
    "    df[[\"Organization\", \"Repository\"]] = df[\"Path\"].str.split(\"/\", n=1, expand=True)\n",
    "except:\n",
    "    pass\n",
    "\n",
    "df.drop(columns=[\"Path\"], inplace=True)\n",
    "df = df[[\"Repository\", \"File\", \"Source code\"]]\n",
    "\n",
    "df"
   ]
  },
  {
   "cell_type": "code",
   "execution_count": null,
   "id": "b816bd48-93a3-468c-8caa-c59680377606",
   "metadata": {},
   "outputs": [],
   "source": [
    "moderne_data_grid.display(df)"
   ]
  }
 ],
 "metadata": {
  "kernelspec": {
   "display_name": "Python 3 (ipykernel)",
   "language": "python",
   "name": "python3"
  },
  "language_info": {
   "codemirror_mode": {
    "name": "ipython",
    "version": 3
   },
   "file_extension": ".py",
   "mimetype": "text/x-python",
   "name": "python",
   "nbconvert_exporter": "python",
   "pygments_lexer": "ipython3",
   "version": "3.11.4"
  }
 },
 "nbformat": 4,
 "nbformat_minor": 5
}
