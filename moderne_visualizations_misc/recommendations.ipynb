{
 "cells": [
  {
   "cell_type": "code",
   "execution_count": 1,
   "metadata": {},
   "outputs": [
    {
     "name": "stdout",
     "output_type": "stream",
     "text": [
      "40\n"
     ]
    }
   ],
   "source": [
    "from code_data_science import data_table as dt, data_grid as moderne_data_grid\n",
    "import json\n",
    "import math \n",
    "import re\n",
    "import gradio_client\n",
    "from collections import Counter\n",
    "\n",
    "\n",
    "def clean_text(text):\n",
    "    #clean input text as much as possible, to allow parsing a maximum of recommendations\n",
    "    text = text.replace(\"\\n\", \" \")\n",
    "    pattern = r'```.*?```'\n",
    "    text = re.sub(pattern, '', text, flags=re.DOTALL)\n",
    "    pattern = r'```[^`]*\\\"'\n",
    "    text = re.sub(pattern, '\"', text, flags=re.DOTALL)\n",
    "    text = re.sub(r\"`([^`]*)`\", lambda m: \"`\" + m.group(1).replace('\"', '') + \"`\", text)\n",
    "    return text\n",
    "\n",
    "def parse_recommendations(str):\n",
    "    try:\n",
    "        return json.loads(clean_text(str))\n",
    "    except json.JSONDecodeError as e:\n",
    "        return math.nan\n",
    "\n",
    "\n",
    "# get data\n",
    "df = dt.read_csv(\"../samples/recommendations.csv\")\n",
    "print(len(df))\n",
    "columns = [\"repositoryPath\", \"repositoryBranch\", \"Recommendations\"]\n",
    "df = df[columns]\n",
    "df[\"Recommendations\"] = df[\"Recommendations\"].apply(parse_recommendations)\n",
    "df.dropna(subset=[\"Recommendations\"], inplace=True)"
   ]
  },
  {
   "cell_type": "code",
   "execution_count": 9,
   "metadata": {},
   "outputs": [
    {
     "name": "stdout",
     "output_type": "stream",
     "text": [
      "Loaded as API: http://127.0.0.1:7863/ ✔\n"
     ]
    },
    {
     "data": {
      "application/vnd.moderne.datagrid+json": {
       "columnTypes": null,
       "rows": [
        "recipe_id,count",
        "org.openrewrite.java.migrate.wro4j.UpgradeWro4jMavenPluginVersion,1",
        "org.openrewrite.nodejs.UpgradeDependencyVersion,1",
        "org.openrewrite.java.testing.mockito.Mockito1to4Migration,1",
        "org.openrewrite.github.SetupJavaUpgradeJavaVersion,1",
        "org.openrewrite.java.springdoc.UpgradeSpringDoc_2,1",
        "org.openrewrite.java.migrate.UpgradeJavaVersion,1",
        "org.openrewrite.java.dependencies.UpgradeDependencyVersion,1",
        "org.openrewrite.java.spring.boot2.ChangeEmbeddedServletContainerCustomizer,1",
        "org.openrewrite.java.spring.batch.ImplementChunkListenerDirectly,1",
        "org.openrewrite.terraform.aws.EnsureAWSLambdaFunctionIsConfiguredForFunctionLevelConcurrentExecutionLimit,1",
        "org.openrewrite.staticanalysis.ReplaceLambdaWithMethodReference,1"
       ]
      }
     },
     "metadata": {},
     "output_type": "display_data"
    }
   ],
   "source": [
    "client = gradio_client.Client(\"http://127.0.0.1:7863\")\n",
    "\n",
    "recipes = []\n",
    "for item in df[\"Recommendations\"]:\n",
    "    for recommendation in item:\n",
    "        recipes_results = json.loads(client.predict(recommendation, 25, 0, fn_index=1).replace(\"'\", \"\\\"\"))\n",
    "        recipes.extend([recipe[\"recipe_id\"] for recipe in recipes_results[:min(5, len(recipes_results))]])\n",
    "\n",
    "final_df = dt.DataFrame(Counter(recipes).items(), columns=[\"recipe_id\", \"count\"])\n",
    "\n",
    "# reorder by count\n",
    "final_df = final_df.sort_values(by=\"count\", ascending=False)\n",
    "\n",
    "moderne_data_grid.display(final_df)"
   ]
  }
 ],
 "metadata": {
  "kernelspec": {
   "display_name": "moderne",
   "language": "python",
   "name": "python3"
  },
  "language_info": {
   "codemirror_mode": {
    "name": "ipython",
    "version": 3
   },
   "file_extension": ".py",
   "mimetype": "text/x-python",
   "name": "python",
   "nbconvert_exporter": "python",
   "pygments_lexer": "ipython3",
   "version": "3.10.8"
  }
 },
 "nbformat": 4,
 "nbformat_minor": 2
}
