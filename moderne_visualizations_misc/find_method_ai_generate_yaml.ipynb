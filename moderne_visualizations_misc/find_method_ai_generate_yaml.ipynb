{
 "cells": [
  {
   "cell_type": "code",
   "execution_count": 26,
   "metadata": {},
   "outputs": [],
   "source": [
    "from code_data_science import data_table as dt, data_grid as moderne_data_grid\n",
    "import re\n",
    "\n",
    "df = dt.read_csv(\"../samples/find_methods_ai.csv\")\n",
    "\n",
    "methodPatterns = df.drop_duplicates(subset=[\"methodPattern\"])[\"methodPattern\"]\n",
    "query = df[\"query\"][0]\n",
    "\n",
    "yaml = \"\"\"# AI Generated, please update as you see fit\n",
    "type: specs.openrewrite.org/v1beta/recipe\n",
    "name: org.myUser.MyRecipe\n",
    "displayName: Find uses of method in code \n",
    "description: Find all methods that do \"\"\" + query + \"\"\"\n",
    "recipeList:\"\"\"\n",
    "\n",
    "for methodPattern in methodPatterns:\n",
    "        yaml += \"\"\"\n",
    "        - org.openrewrite.java.search.FindMethods:\n",
    "            methodPattern: \"\"\" + \"\\\"\" + re.sub(r'\\(.*\\)', '(*)', methodPattern) + \"\\\"\"\n"
   ]
  },
  {
   "cell_type": "code",
   "execution_count": 27,
   "metadata": {},
   "outputs": [
    {
     "name": "stdout",
     "output_type": "stream",
     "text": [
      "# AI Generated, please update as you see fit\n",
      "type: specs.openrewrite.org/v1beta/recipe\n",
      "name: org.myUser.MyRecipe\n",
      "displayName: Find uses of method in code \n",
      "description: Find all methods that do HTTP request\n",
      "recipeList:\n",
      "        - org.openrewrite.java.search.FindMethods:\n",
      "            methodPattern: \"okhttp3.Request$Builder build(*)\"\n",
      "        - org.openrewrite.java.search.FindMethods:\n",
      "            methodPattern: \"java.net.URI create(*)\"\n",
      "        - org.openrewrite.java.search.FindMethods:\n",
      "            methodPattern: \"java.nio.ByteBuffer get(*)\"\n",
      "        - org.openrewrite.java.search.FindMethods:\n",
      "            methodPattern: \"org.mockserver.model.HttpRequest withPath(*)\"\n",
      "        - org.openrewrite.java.search.FindMethods:\n",
      "            methodPattern: \"org.mockserver.model.HttpRequest request(*)\"\n",
      "        - org.openrewrite.java.search.FindMethods:\n",
      "            methodPattern: \"org.mockserver.model.HttpRequest withHeader(*)\"\n",
      "        - org.openrewrite.java.search.FindMethods:\n",
      "            methodPattern: \"org.mockserver.model.HttpRequest withBody(*)\"\n",
      "        - org.openrewrite.java.search.FindMethods:\n",
      "            methodPattern: \"org.springframework.web.server.ServerWebExchange getRequest(*)\"\n",
      "        - org.openrewrite.java.search.FindMethods:\n",
      "            methodPattern: \"org.apache.hc.client5.http.fluent.Request bodyString(*)\"\n",
      "        - org.openrewrite.java.search.FindMethods:\n",
      "            methodPattern: \"com.symphony.bdk.workflow.security.AuthorizationAspect getHttpServletRequest(*)\"\n",
      "        - org.openrewrite.java.search.FindMethods:\n",
      "            methodPattern: \"org.springframework.web.context.request.ServletRequestAttributes getRequest(*)\"\n",
      "        - org.openrewrite.java.search.FindMethods:\n",
      "            methodPattern: \"jakarta.servlet.http.HttpServletRequest getRequestURI(*)\"\n",
      "        - org.openrewrite.java.search.FindMethods:\n",
      "            methodPattern: \"org.springframework.data.domain.PageRequest of(*)\"\n",
      "        - org.openrewrite.java.search.FindMethods:\n",
      "            methodPattern: \"org.springframework.web.client.RestTemplate exchange(*)\"\n",
      "        - org.openrewrite.java.search.FindMethods:\n",
      "            methodPattern: \"org.springframework.http.RequestEntity get(*)\"\n",
      "        - org.openrewrite.java.search.FindMethods:\n",
      "            methodPattern: \"org.springframework.test.web.servlet.request.MockMvcRequestBuilders get(*)\"\n",
      "        - org.openrewrite.java.search.FindMethods:\n",
      "            methodPattern: \"java.net.http.HttpRequest$Builder build(*)\"\n",
      "        - org.openrewrite.java.search.FindMethods:\n",
      "            methodPattern: \"java.util.function.Function apply(*)\"\n",
      "        - org.openrewrite.java.search.FindMethods:\n",
      "            methodPattern: \"software.amazon.awssdk.http.HttpExecuteRequest$Builder build(*)\"\n",
      "        - org.openrewrite.java.search.FindMethods:\n",
      "            methodPattern: \"com.amazon.aws.partners.saasfactory.saasboost.keycloak.KeycloakApiTest assertRequest(*)\"\n",
      "        - org.openrewrite.java.search.FindMethods:\n",
      "            methodPattern: \"org.apache.http.impl.client.CloseableHttpClient execute(*)\"\n",
      "        - org.openrewrite.java.search.FindMethods:\n",
      "            methodPattern: \"com.netflix.client.http.HttpRequest$Builder build(*)\"\n",
      "        - org.openrewrite.java.search.FindMethods:\n",
      "            methodPattern: \"com.netflix.client.IResponse getRequestedURI(*)\"\n",
      "        - org.openrewrite.java.search.FindMethods:\n",
      "            methodPattern: \"com.sun.net.httpserver.HttpExchange getRequestURI(*)\"\n"
     ]
    }
   ],
   "source": [
    "print(yaml)"
   ]
  }
 ],
 "metadata": {
  "kernelspec": {
   "display_name": "moderne",
   "language": "python",
   "name": "python3"
  },
  "language_info": {
   "codemirror_mode": {
    "name": "ipython",
    "version": 3
   },
   "file_extension": ".py",
   "mimetype": "text/x-python",
   "name": "python",
   "nbconvert_exporter": "python",
   "pygments_lexer": "ipython3",
   "version": "3.10.8"
  }
 },
 "nbformat": 4,
 "nbformat_minor": 2
}
