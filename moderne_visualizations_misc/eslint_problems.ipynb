{
 "cells": [
  {
   "cell_type": "markdown",
   "metadata": {},
   "source": [
    "ESLint problems"
   ]
  },
  {
   "cell_type": "markdown",
   "metadata": {},
   "source": [
    "This report shows the ESLint problems grouped by rule and then by repo."
   ]
  },
  {
   "cell_type": "code",
   "execution_count": null,
   "metadata": {},
   "outputs": [],
   "source": [
    "import plotly.express as px\n",
    "import pandas as pd\n",
    "from code_data_science import data_table as dt, data_grid as moderne_data_grid\n",
    "import code_data_science.palette as palette\n",
    "\n",
    "df = dt.read_csv(\"../samples/eslint_problems.csv\")\n",
    "df[\"problems\"] = 1\n",
    "\n",
    "# Exit early if there are no rows and render a plot with a message\n",
    "if len(df) == 0:\n",
    "    fig = px.treemap(names=[], parents=[])\n",
    "    fig.add_annotation(\n",
    "        x=0.5, y=0.5, text=\"No rows of data found\", showarrow=False, font=dict(size=20)\n",
    "    )\n",
    "else:\n",
    "    # concat origin:path:branch into repository\n",
    "    df[\"repository\"] = (\n",
    "        df[\"repositoryOrigin\"]\n",
    "        + \":\"\n",
    "        + df[\"repositoryPath\"]\n",
    "        + \":\"\n",
    "        + df[\"repositoryBranch\"]\n",
    "    )\n",
    "    df[\"fileType\"] = df[\"sourcePath\"].str.split(\".\").str[-1]\n",
    "    df_file_grouped = df.groupby(\n",
    "        by=[\"ruleId\", \"repository\", \"fileType\"],\n",
    "        as_index=False,\n",
    "    ).sum(numeric_only=True)\n",
    "\n",
    "    path = [\"ruleId\", \"repository\"]\n",
    "\n",
    "    # number of rows in the dataframe\n",
    "    total_problems = len(df[\"sourcePath\"])\n",
    "\n",
    "    # number of rows with parse failures\n",
    "    total_fatal = len(df[df[\"fatal\"] == True])\n",
    "\n",
    "    measurement_field = \"problems\"\n",
    "\n",
    "    # Set the color palette\n",
    "    colors = palette.qualitative()\n",
    "\n",
    "    fig = px.treemap(\n",
    "        df_file_grouped,\n",
    "        path=path,\n",
    "        values=measurement_field,\n",
    "        color_discrete_sequence=colors,\n",
    "    )\n",
    "\n",
    "    fig.update_layout(\n",
    "        margin=dict(t=28, l=0, r=0, b=0),\n",
    "        annotations=[\n",
    "            dict(\n",
    "                x=0.01,\n",
    "                y=1.055,\n",
    "                showarrow=False,\n",
    "                borderwidth=1,\n",
    "                text=\"<b>More info</b>\",\n",
    "                hovertext=(\n",
    "                    f\"\"\"\n",
    "            <b>Total problems:</b> {\"{:,}\".format(total_problems)} </br> </br>\n",
    "            \"\"\"\n",
    "                ),\n",
    "                xref=\"paper\",\n",
    "                yref=\"paper\",\n",
    "            )\n",
    "        ],\n",
    "    )\n",
    "\n",
    "    fig.update_traces(\n",
    "        marker=dict(cornerradius=3),\n",
    "    )\n",
    "\n",
    "    fig.data[0].textinfo = \"label+text+value\""
   ]
  },
  {
   "cell_type": "code",
   "execution_count": null,
   "metadata": {},
   "outputs": [],
   "source": [
    "# Output the visualization\n",
    "fig.show(render=\"plotly_mimetype\")"
   ]
  }
 ],
 "metadata": {
  "kernelspec": {
   "display_name": "Python 3 (ipykernel)",
   "language": "python",
   "name": "python3"
  },
  "language_info": {
   "codemirror_mode": {
    "name": "ipython",
    "version": 3
   },
   "file_extension": ".py",
   "mimetype": "text/x-python",
   "name": "python",
   "nbconvert_exporter": "python",
   "pygments_lexer": "ipython3",
   "version": "3.11.7"
  }
 },
 "nbformat": 4,
 "nbformat_minor": 4
}
