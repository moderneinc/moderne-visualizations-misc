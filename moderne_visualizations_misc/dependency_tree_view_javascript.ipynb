{
 "cells": [
  {
   "cell_type": "code",
   "execution_count": null,
   "metadata": {},
   "outputs": [],
   "source": [
    "from code_data_science import (\n",
    "    data_table as dt,\n",
    "    unique_dictionaries as ud,\n",
    "    tree_data_grid,\n",
    ")\n",
    "\n",
    "\n",
    "def dataframe_to_tree(df):\n",
    "    df[\"repositoryPath\"].fillna(\"\", inplace=True)\n",
    "    df[\"version\"].fillna(\"\", inplace=True)\n",
    "    df[\"requestedVersion\"].fillna(\"\", inplace=True)\n",
    "\n",
    "    tree = ud.UniqueDictionaries()\n",
    "\n",
    "    for _, row in df.iterrows():\n",
    "        parent_path = row[\"repositoryPath\"]\n",
    "        child_name = row[\"name\"]\n",
    "\n",
    "        tree.add(\n",
    "            {\n",
    "                \"path\": (parent_path, child_name),\n",
    "                \"version\": f\"{row['requestedVersion']}\",\n",
    "            }\n",
    "        )\n",
    "\n",
    "    return tree.to_list()\n",
    "\n",
    "\n",
    "df = dt.read_csv(\"../samples/dependency_tree_view_javascript.csv\")\n",
    "df = df.drop_duplicates(subset=[\"repositoryPath\", \"name\"])\n",
    "tree_data = dataframe_to_tree(df)"
   ]
  },
  {
   "cell_type": "code",
   "execution_count": null,
   "metadata": {},
   "outputs": [],
   "source": [
    "tree_data_grid.display(\n",
    "    tree_data,\n",
    "    \"Projects\",\n",
    "    [\n",
    "        {\"field\": \"version\", \"headerName\": \"Version requested\", \"minWidth\": 200},\n",
    "    ],\n",
    ")"
   ]
  }
 ],
 "metadata": {
  "kernelspec": {
   "display_name": "Python 3",
   "language": "python",
   "name": "python3"
  },
  "language_info": {
   "codemirror_mode": {
    "name": "ipython",
    "version": 3
   },
   "file_extension": ".py",
   "mimetype": "text/x-python",
   "name": "python",
   "nbconvert_exporter": "python",
   "pygments_lexer": "ipython3",
   "version": "3.11.4"
  }
 },
 "nbformat": 4,
 "nbformat_minor": 2
}
