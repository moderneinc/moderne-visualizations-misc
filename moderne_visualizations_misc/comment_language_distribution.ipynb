{
 "cells": [
  {
   "cell_type": "code",
   "execution_count": null,
   "metadata": {},
   "outputs": [],
   "source": [
    "from code_data_science import data_table as dt, data_grid as moderne_data_grid\n",
    "from code_data_science import palette as colors\n",
    "import matplotlib.pyplot as plt\n",
    "import plotly.express as px\n",
    "\n",
    "#get data\n",
    "df = dt.read_csv(\"../samples/comments_language.csv\")\n",
    "# Exit early if there are no rows and render a plot with a message\n",
    "if len(df) == 0:\n",
    "    fig = px.treemap(names=[], parents=[])\n",
    "    fig.add_annotation(\n",
    "        x=0.5, y=0.5, text=\"No rows of data found\", showarrow=False, font=dict(size=20)\n",
    "    )\n",
    "else:\n",
    "\n",
    "    lang_dict = {'ar': 'arabic', 'bg': 'bulgarian', 'de': 'german', 'el': 'modern greek', \n",
    "                 'en': 'english', 'es': 'spanish', 'fr': 'french', 'hi': 'hindi', 'it': 'italian', \n",
    "                 'ja': 'japanese', 'nl': 'dutch', 'pl': 'polish', 'pt': 'portuguese', 'ru': 'russian', \n",
    "                 'sw': 'swahili', 'th': 'thai', 'tr': 'turkish', 'ur': 'urdu', 'vi': 'vietnamese', \n",
    "                 'zh': 'chinese', 'unknown': 'unknown'}\n",
    "    \n",
    "    df[\"language\"] = df[\"language\"].apply(lambda lang: lang_dict[lang]) \n",
    "    #get counts of each language\n",
    "    language_counts = dict(df[\"language\"].value_counts())\n",
    "\n",
    "    #remove all the smaller percentages of languages and merge them into a category called other\n",
    "    sum_value = sum(language_counts.values())\n",
    "    language_counts_w_other = {\"other\":0}\n",
    "\n",
    "    for lang, value in language_counts.items():\n",
    "        if value/sum_value<=0.05:\n",
    "            language_counts_w_other[\"other\"]=language_counts_w_other[\"other\"]+value\n",
    "        else:\n",
    "            language_counts_w_other[lang]=value\n",
    "    # plot\n",
    "    fig, ax = plt.subplots()\n",
    "    ax.pie(language_counts_w_other.values(), labels=language_counts_w_other.keys(),  colors=colors.qualitative(), frame=False, autopct='%1.1f%%')\n",
    "    plt.axis('off')\n",
    "    plt.tight_layout()\n",
    "    plt.show()\n",
    "\n",
    "\n"
   ]
  }
 ],
 "metadata": {
  "kernelspec": {
   "display_name": "moderne",
   "language": "python",
   "name": "python3"
  },
  "language_info": {
   "codemirror_mode": {
    "name": "ipython",
    "version": 3
   },
   "file_extension": ".py",
   "mimetype": "text/x-python",
   "name": "python",
   "nbconvert_exporter": "python",
   "pygments_lexer": "ipython3",
   "version": "3.10.11"
  },
  "orig_nbformat": 4
 },
 "nbformat": 4,
 "nbformat_minor": 2
}
