{
 "cells": [
  {
   "cell_type": "code",
   "execution_count": null,
   "metadata": {
    "tags": [
     "parameters"
    ]
   },
   "outputs": [],
   "source": [
    "filter_operations_to: list[str] = []"
   ]
  },
  {
   "cell_type": "code",
   "execution_count": null,
   "metadata": {
    "tags": []
   },
   "outputs": [],
   "source": [
    "from code_data_science import data_table as dt, data_grid as moderne_data_grid\n",
    "\n",
    "df = dt.read_csv(\"../samples/test.csv\")\n",
    "\n",
    "if len(filter_operations_to) > 0:\n",
    "    df = df[df[\"operation\"].isin(filter_operations_to)]\n",
    "\n",
    "df = df.rename(\n",
    "    columns={\n",
    "        \"repositoryOrigin\": \"Origin\",\n",
    "        \"repositoryPath\": \"Path\",\n",
    "        \"repositoryBranch\": \"Branch\",\n",
    "        \"repositoryLink\": \"repositoryLink\",\n",
    "        \"scmType\": \"scmType\",\n",
    "        \"sourcePath\": \"File\",\n",
    "        \"lineNumber\": \"lineNumber\",\n",
    "        \"table\": \"Table\",\n",
    "        \"column\": \"Column\",\n",
    "        \"operation\": \"Operation\",\n",
    "    }\n",
    ")"
   ]
  },
  {
   "cell_type": "code",
   "execution_count": null,
   "metadata": {},
   "outputs": [],
   "source": [
    "def create_link(\n",
    "    repositoryLink: str, scmType: str, sourcePath: str, lineNumber: str\n",
    ") -> str:\n",
    "    \"\"\"returns a link to the source code in the repository based on scmType\n",
    "\n",
    "    Args:\n",
    "        repositoryLink (str): a url to the repository and branch\n",
    "        scmType (str): the type of source control\n",
    "        sourcePath (str): path from the root of project to the source code\n",
    "        lineNumber (str): the line number in the source code\n",
    "\n",
    "    Returns:\n",
    "        str: link to the source code in the repository\n",
    "    \"\"\"\n",
    "    if type(repositoryLink) != str or type(scmType) != str:\n",
    "        return \"\"\n",
    "\n",
    "    url = repositoryLink\n",
    "\n",
    "    if scmType == \"GITHUB\":\n",
    "        if sourcePath:\n",
    "            url += f\"/{sourcePath}\"\n",
    "            if lineNumber:\n",
    "                url += f\"#L{lineNumber}\"\n",
    "\n",
    "    elif scmType == \"BITBUCKET\":\n",
    "        if sourcePath:\n",
    "            url += f\"/{sourcePath}\"\n",
    "            if lineNumber:\n",
    "                url += f\"#{lineNumber}\"\n",
    "\n",
    "    elif scmType == \"BITBUCKET_CLOUD\":\n",
    "        if sourcePath:\n",
    "            url += f\"/{sourcePath}\"\n",
    "            if lineNumber:\n",
    "                url += f\"#lines-{lineNumber}\"\n",
    "\n",
    "    elif scmType == \"GITLAB\":\n",
    "        if sourcePath:\n",
    "            url += f\"/{sourcePath}\"\n",
    "            if lineNumber:\n",
    "                url += f\"#L{lineNumber}\"\n",
    "\n",
    "    return url\n",
    "\n",
    "\n",
    "df[\"Link\"] = \"\"\n",
    "\n",
    "\n",
    "df[\"Link\"] = df.apply(\n",
    "    lambda row: create_link(\n",
    "        row.get(\"repositoryLink\", \"\"),\n",
    "        row.get(\"scmType\", \"\"),\n",
    "        row.get(\"File\", \"\"),\n",
    "        row.get(\"lineNumber\", \"\"),\n",
    "    ),\n",
    "    axis=1,\n",
    ")"
   ]
  },
  {
   "cell_type": "code",
   "execution_count": null,
   "metadata": {},
   "outputs": [],
   "source": [
    "df[\"Repository\"] = \"\"\n",
    "df[\"Organization\"] = \"\"\n",
    "\n",
    "# attempt to split path into two columns\n",
    "try:\n",
    "    df[[\"Organization\", \"Repository\"]] = df[\"Path\"].str.split(\"/\", n=1, expand=True)\n",
    "except:\n",
    "    pass\n",
    "\n",
    "df.drop(columns=[\"Path\"], inplace=True)\n",
    "df = df[\n",
    "    [\n",
    "        \"Table\",\n",
    "        \"Column\",\n",
    "        \"Operation\",\n",
    "        \"Repository\",\n",
    "        \"File\",\n",
    "        \"Origin\",\n",
    "        \"Organization\",\n",
    "        \"Branch\",\n",
    "        \"Link\",\n",
    "    ]\n",
    "]\n",
    "\n",
    "df"
   ]
  },
  {
   "cell_type": "code",
   "execution_count": null,
   "metadata": {},
   "outputs": [],
   "source": [
    "moderne_data_grid.display(df, column_types={\"Link\": \"link\"})"
   ]
  }
 ],
 "metadata": {
  "kernelspec": {
   "display_name": "Python 3 (ipykernel)",
   "language": "python",
   "name": "python3"
  },
  "language_info": {
   "codemirror_mode": {
    "name": "ipython",
    "version": 3
   },
   "file_extension": ".py",
   "mimetype": "text/x-python",
   "name": "python",
   "nbconvert_exporter": "python",
   "pygments_lexer": "ipython3",
   "version": "3.11.4"
  }
 },
 "nbformat": 4,
 "nbformat_minor": 4
}
