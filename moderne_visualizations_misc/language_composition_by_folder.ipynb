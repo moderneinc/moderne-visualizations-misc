{
 "cells": [
  {
   "cell_type": "markdown",
   "metadata": {},
   "source": [
    "Language composition by folder"
   ]
  },
  {
   "cell_type": "markdown",
   "metadata": {},
   "source": [
    "This report groups by folder, then by language, scaling the size of the squares to the file count"
   ]
  },
  {
   "cell_type": "code",
   "execution_count": null,
   "metadata": {},
   "outputs": [],
   "source": [
    "import plotly.express as px\n",
    "import pandas as pd\n",
    "from code_data_science import data_table as dt, data_grid as moderne_data_grid\n",
    "import code_data_science.palette as palette\n",
    "\n",
    "df = dt.read_csv(\"../samples/language_composition_by_folder.csv\")\n",
    "\n",
    "# Exit early if there are no rows and render a plot with a message\n",
    "if len(df) == 0:\n",
    "    fig = px.treemap(names=[], parents=[])\n",
    "    fig.add_annotation(\n",
    "        x=0.5, y=0.5, text=\"No rows of data found\", showarrow=False, font=dict(size=20)\n",
    "    )\n",
    "else:\n",
    "    grouped_data = (\n",
    "        df.groupby([\"folderPath\", \"language\"])\n",
    "        .agg({\"fileCount\": \"sum\", \"lineCount\": \"sum\"})\n",
    "        .reset_index()\n",
    "    )\n",
    "\n",
    "    path = [\"folderPath\", \"language\"]\n",
    "\n",
    "    # Set the color palette\n",
    "    colors = palette.qualitative()\n",
    "\n",
    "    fig = px.treemap(\n",
    "        grouped_data,\n",
    "        path=path,\n",
    "        values=\"fileCount\",\n",
    "        color_discrete_sequence=colors,\n",
    "        hover_data=[\"lineCount\"],\n",
    "    )\n",
    "\n",
    "    fig.update_layout(\n",
    "        margin=dict(t=28, l=0, r=0, b=0),\n",
    "    )\n",
    "\n",
    "    fig.update_traces(\n",
    "        marker=dict(cornerradius=3),\n",
    "    )\n",
    "\n",
    "    fig.data[0].textinfo = \"label+text+value\""
   ]
  },
  {
   "cell_type": "code",
   "execution_count": null,
   "metadata": {},
   "outputs": [],
   "source": [
    "# Output the visualization\n",
    "fig.show(render=\"plotly_mimetype\")"
   ]
  }
 ],
 "metadata": {
  "kernelspec": {
   "display_name": "Python 3 (ipykernel)",
   "language": "python",
   "name": "python3"
  },
  "language_info": {
   "codemirror_mode": {
    "name": "ipython",
    "version": 3
   },
   "file_extension": ".py",
   "mimetype": "text/x-python",
   "name": "python",
   "nbconvert_exporter": "python",
   "pygments_lexer": "ipython3",
   "version": "3.11.4"
  }
 },
 "nbformat": 4,
 "nbformat_minor": 4
}
