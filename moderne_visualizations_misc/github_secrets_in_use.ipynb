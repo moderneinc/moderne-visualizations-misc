{
 "cells": [
  {
   "cell_type": "code",
   "execution_count": null,
   "metadata": {},
   "outputs": [],
   "source": [
    "from code_data_science import (\n",
    "    data_table as dt,\n",
    "    unique_dictionaries as ud,\n",
    "    tree_data_grid,\n",
    ")\n",
    "\n",
    "# dependency report recipe\n",
    "df = dt.read_csv(\"../samples/github_secrets_in_use.csv\")\n",
    "\n",
    "# The match column contains the full line of code and we only need the\n",
    "# specific match so we can create a new column using regex /~~>secret\\.\\w*/\n",
    "df[\"specific_match\"] = df[\"match\"].str.extract(r\"~~>secrets\\.(\\w*)\")\n",
    "\n",
    "# Group by 'specific_match' and count total occurrences\n",
    "total_grouped = df.groupby(\"specific_match\").size().reset_index(name=\"total_count\")\n",
    "\n",
    "# Initialize unique dictionary tree\n",
    "tree = ud.UniqueDictionaries()\n",
    "\n",
    "# Add total counts to the tree\n",
    "for _, row in total_grouped.iterrows():\n",
    "    specific_match_value = row[\"specific_match\"]\n",
    "    total_count = row[\"total_count\"]\n",
    "\n",
    "    tree.add({\"path\": specific_match_value, \"count\": total_count})\n",
    "\n",
    "# Group by 'specific_match' and 'repositoryPath' to count repository-specific occurrences\n",
    "repo_grouped = (\n",
    "    df.groupby([\"specific_match\", \"repositoryPath\"])\n",
    "    .size()\n",
    "    .reset_index(name=\"repo_count\")\n",
    ")\n",
    "\n",
    "# Add repository-specific counts to the tree\n",
    "for _, row in repo_grouped.iterrows():\n",
    "    specific_match_value = row[\"specific_match\"]\n",
    "    repository_path = row[\"repositoryPath\"]\n",
    "    repo_count = row[\"repo_count\"]\n",
    "\n",
    "    tree.add(\n",
    "        {\"path\": f\"{specific_match_value}:::{repository_path}\", \"count\": repo_count}\n",
    "    )\n",
    "\n",
    "tree_data = []\n",
    "for item in tree.to_list():\n",
    "    item[\"path\"] = item[\"path\"].split(\":::\")\n",
    "    tree_data.append(item)"
   ]
  },
  {
   "cell_type": "code",
   "execution_count": null,
   "metadata": {},
   "outputs": [],
   "source": [
    "tree_data_grid.display(\n",
    "    tree_data,\n",
    "    \"Secrets\",\n",
    "    [{\"field\": \"count\", \"headerName\": \"Occurrences\", \"minWidth\": 200}],\n",
    ")"
   ]
  }
 ],
 "metadata": {
  "kernelspec": {
   "display_name": "Python 3",
   "language": "python",
   "name": "python3"
  },
  "language_info": {
   "codemirror_mode": {
    "name": "ipython",
    "version": 3
   },
   "file_extension": ".py",
   "mimetype": "text/x-python",
   "name": "python",
   "nbconvert_exporter": "python",
   "pygments_lexer": "ipython3",
   "version": "3.11.4"
  }
 },
 "nbformat": 4,
 "nbformat_minor": 2
}
