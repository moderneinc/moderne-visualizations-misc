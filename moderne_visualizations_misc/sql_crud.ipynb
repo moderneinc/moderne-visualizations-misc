{
  "cells": [
    {
      "attachments": {},
      "cell_type": "markdown",
      "metadata": {},
      "source": [
        "SQL operation usage in code"
      ]
    },
    {
      "attachments": {},
      "cell_type": "markdown",
      "metadata": {},
      "source": [
        "This report shows the SQL operation usages across the projects. It is a good way to understand the SQL usage patterns and identify call sites."
      ]
    },
    {
      "cell_type": "code",
      "execution_count": null,
      "metadata": {
        "collapsed": true
      },
      "outputs": [],
      "source": [
        "import pandas as pd\n",
        "import warnings\n",
        "import moderne_pkg.helpers as helpers\n",
        "\n",
        "warnings.simplefilter(\"ignore\")\n",
        "\n",
        "args = helpers.get_notebook_args_from_env()\n",
        "\n",
        "# read data table file\n",
        "file_name = args[\"filteredDataTableFileName\"]\n",
        "df = pd.read_csv(file_name, on_bad_lines='skip', skip_blank_lines=True)\n",
        "\n",
        "# remove empty rows\n",
        "df = df.dropna(how=\"all\")\n",
        "\n",
        "# rename columns\n",
        "df = df.rename(columns={ \"repositoryOrigin\": \"Origin\", \"repositoryPath\": \"Path\", \"repositoryBranch\": \"Branch\", \"sourcePath\": \"File\", \"table\": \"Table\", \"column\": \"Column\", \"operation\": \"Operation\" })\n",
        "\n",
        "# Add new columns\n",
        "df[\"Repository\"] = \"\"\n",
        "df[\"Organization\"] = \"\"\n",
        "\n",
        "# attempt to split path into two columns\n",
        "try:\n",
        "    df[[\"Organization\", \"Repository\"]] = df[\"Path\"].str.split(\"/\", n=1, expand=True)\n",
        "except:\n",
        "    pass\n",
        "\n",
        "df.drop(columns=[\"Path\"], inplace=True)\n",
        "\n",
        "df = df[[\"Table\",\"Column\",\"Operation\",\"Repository\",\"File\", \"Origin\", \"Organization\", \"Branch\"]]\n",
        "\n",
        "helpers.moderne_data_grid(df)"
      ]
    }
  ],
  "metadata": {
    "kernelspec": {
      "display_name": "Python 3",
      "language": "python",
      "name": "python3"
    },
    "language_info": {
      "codemirror_mode": {
        "name": "ipython",
        "version": 2
      },
      "file_extension": ".py",
      "mimetype": "text/x-python",
      "name": "python",
      "nbconvert_exporter": "python",
      "pygments_lexer": "ipython2",
      "version": "2.7.6"
    }
  },
  "nbformat": 4,
  "nbformat_minor": 0
}
