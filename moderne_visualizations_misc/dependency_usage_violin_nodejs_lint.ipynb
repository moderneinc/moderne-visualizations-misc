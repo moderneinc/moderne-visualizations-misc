{
  "cells": [
    {
      "cell_type": "code",
      "execution_count": 1,
      "metadata": {},
      "outputs": [],
      "source": [
        "from code_data_science import data_table as dt\n",
        "\n",
        "df = dt.read_csv(\"../samples/dependency_usage_violin_nodejs.csv\")"
      ]
    },
    {
      "cell_type": "code",
      "execution_count": 2,
      "metadata": {},
      "outputs": [],
      "source": [
        "df = df[[\"name\", \"requestedVersion\"]]"
      ]
    },
    {
      "cell_type": "code",
      "execution_count": 3,
      "metadata": {},
      "outputs": [],
      "source": [
        "from code_data_science.versions import index as index_versions\n",
        "import re\n",
        "\n",
        "# make sure version is a string\n",
        "df[\"requestedVersion\"] = df[\"requestedVersion\"].astype(str)\n",
        "df[\"version\"] = list(\n",
        "    map(\n",
        "        lambda v: v.removeprefix(\"^\")\n",
        "        .removeprefix(\"~\")\n",
        "        .removeprefix(\">\")\n",
        "        .removeprefix(\"=\"),\n",
        "        df.requestedVersion,\n",
        "    )\n",
        ")\n",
        "\n",
        "vmap = index_versions(df.version)\n",
        "df[\"nVersion\"] = list(map(lambda v: vmap[v], df.version))\n",
        "\n",
        "def index_name(names):\n",
        "    sorted_names = sorted(list(set(names)))\n",
        "    return {name: sorted_names.index(name) for name in sorted_names}\n",
        "\n",
        "\n",
        "nmap = index_name(df.name)\n",
        "df[\"nName\"] = list(map(lambda g: nmap[g], df.name))\n",
        "\n",
        "df = df.sort_values(by=[\"nVersion\", \"nName\"])"
      ]
    },
    {
      "cell_type": "code",
      "execution_count": 4,
      "metadata": {},
      "outputs": [
        {
          "data": {
            "application/vnd.plotly.v1+json": {
              "config": {
                "plotlyServerURL": "https://plot.ly"
              },
              "data": [
                {
                  "hoverinfo": "text",
                  "hoverlabel": {
                    "font": {
                      "size": 18
                    }
                  },
                  "marker": {
                    "color": "#2F42FF",
                    "size": 8
                  },
                  "mode": "markers",
                  "name": "",
                  "showlegend": false,
                  "text": [
                    "<b>Package</b>: axios<br><b>Version</b>: file:../../..<br><b>Count</b>: 5",
                    "<b>Package</b>: axios<br><b>Version</b>: file:../../..<br><b>Count</b>: 5",
                    "<b>Package</b>: axios<br><b>Version</b>: file:../../..<br><b>Count</b>: 5",
                    "<b>Package</b>: axios<br><b>Version</b>: file:../../..<br><b>Count</b>: 5",
                    "<b>Package</b>: axios<br><b>Version</b>: file:../../..<br><b>Count</b>: 5",
                    "<b>Package</b>: axios<br><b>Version</b>: file:../../../..<br><b>Count</b>: 2",
                    "<b>Package</b>: axios<br><b>Version</b>: file:../../../..<br><b>Count</b>: 2",
                    "<b>Package</b>: axios<br><b>Version</b>: 0.15.3<br><b>Count</b>: 1",
                    "<b>Package</b>: axios<br><b>Version</b>: 0.16.1<br><b>Count</b>: 2",
                    "<b>Package</b>: axios<br><b>Version</b>: 0.16.1<br><b>Count</b>: 2",
                    "<b>Package</b>: axios<br><b>Version</b>: 0.18.0<br><b>Count</b>: 1",
                    "<b>Package</b>: axios<br><b>Version</b>: 0.19.0<br><b>Count</b>: 1",
                    "<b>Package</b>: axios<br><b>Version</b>: 0.21.1<br><b>Count</b>: 6",
                    "<b>Package</b>: axios<br><b>Version</b>: 0.21.1<br><b>Count</b>: 6",
                    "<b>Package</b>: axios<br><b>Version</b>: 0.21.1<br><b>Count</b>: 6",
                    "<b>Package</b>: axios<br><b>Version</b>: 0.21.1<br><b>Count</b>: 6",
                    "<b>Package</b>: axios<br><b>Version</b>: 0.21.1<br><b>Count</b>: 6",
                    "<b>Package</b>: axios<br><b>Version</b>: 0.21.1<br><b>Count</b>: 6",
                    "<b>Package</b>: axios<br><b>Version</b>: 0.21.4<br><b>Count</b>: 1",
                    "<b>Package</b>: axios<br><b>Version</b>: 0.26.0<br><b>Count</b>: 1",
                    "<b>Package</b>: axios<br><b>Version</b>: 0.26.1<br><b>Count</b>: 2",
                    "<b>Package</b>: axios<br><b>Version</b>: 0.26.1<br><b>Count</b>: 2",
                    "<b>Package</b>: axios<br><b>Version</b>: 0.27.2<br><b>Count</b>: 3",
                    "<b>Package</b>: axios<br><b>Version</b>: 0.27.2<br><b>Count</b>: 3",
                    "<b>Package</b>: axios<br><b>Version</b>: 0.27.2<br><b>Count</b>: 3",
                    "<b>Package</b>: axios<br><b>Version</b>: 0.28.0<br><b>Count</b>: 2",
                    "<b>Package</b>: axios<br><b>Version</b>: 0.28.0<br><b>Count</b>: 2",
                    "<b>Package</b>: axios<br><b>Version</b>: 0.28.1<br><b>Count</b>: 1",
                    "<b>Package</b>: axios<br><b>Version</b>: 1.1.3<br><b>Count</b>: 1",
                    "<b>Package</b>: axios<br><b>Version</b>: 1.2.1<br><b>Count</b>: 1",
                    "<b>Package</b>: axios<br><b>Version</b>: 1.2.2<br><b>Count</b>: 1",
                    "<b>Package</b>: axios<br><b>Version</b>: 1.4.0<br><b>Count</b>: 4",
                    "<b>Package</b>: axios<br><b>Version</b>: 1.4.0<br><b>Count</b>: 4",
                    "<b>Package</b>: axios<br><b>Version</b>: 1.4.0<br><b>Count</b>: 4",
                    "<b>Package</b>: axios<br><b>Version</b>: 1.4.0<br><b>Count</b>: 4",
                    "<b>Package</b>: axios<br><b>Version</b>: 1.5.1<br><b>Count</b>: 2",
                    "<b>Package</b>: axios<br><b>Version</b>: 1.5.1<br><b>Count</b>: 2",
                    "<b>Package</b>: axios<br><b>Version</b>: 1.6.0<br><b>Count</b>: 2",
                    "<b>Package</b>: axios<br><b>Version</b>: 1.6.0<br><b>Count</b>: 2",
                    "<b>Package</b>: axios<br><b>Version</b>: 1.6.1<br><b>Count</b>: 1",
                    "<b>Package</b>: axios<br><b>Version</b>: 1.6.2<br><b>Count</b>: 3",
                    "<b>Package</b>: axios<br><b>Version</b>: 1.6.2<br><b>Count</b>: 3",
                    "<b>Package</b>: axios<br><b>Version</b>: 1.6.2<br><b>Count</b>: 3",
                    "<b>Package</b>: axios<br><b>Version</b>: 1.6.3<br><b>Count</b>: 1",
                    "<b>Package</b>: axios<br><b>Version</b>: 1.6.5<br><b>Count</b>: 2",
                    "<b>Package</b>: axios<br><b>Version</b>: 1.6.5<br><b>Count</b>: 2",
                    "<b>Package</b>: axios<br><b>Version</b>: 1.6.7<br><b>Count</b>: 4",
                    "<b>Package</b>: axios<br><b>Version</b>: 1.6.7<br><b>Count</b>: 4",
                    "<b>Package</b>: axios<br><b>Version</b>: 1.6.7<br><b>Count</b>: 4",
                    "<b>Package</b>: axios<br><b>Version</b>: 1.6.7<br><b>Count</b>: 4",
                    "<b>Package</b>: axios<br><b>Version</b>: 1.6.8<br><b>Count</b>: 1",
                    "<b>Package</b>: axios<br><b>Version</b>: 1.7.2<br><b>Count</b>: 2",
                    "<b>Package</b>: axios<br><b>Version</b>: 1.7.2<br><b>Count</b>: 2",
                    "<b>Package</b>: axios<br><b>Version</b>: 1.7.3<br><b>Count</b>: 4",
                    "<b>Package</b>: axios<br><b>Version</b>: 1.7.3<br><b>Count</b>: 4",
                    "<b>Package</b>: axios<br><b>Version</b>: 1.7.3<br><b>Count</b>: 4",
                    "<b>Package</b>: axios<br><b>Version</b>: 1.7.3<br><b>Count</b>: 4"
                  ],
                  "type": "scatter",
                  "x": [
                    0,
                    0,
                    0,
                    0,
                    0,
                    0,
                    0,
                    0,
                    0,
                    0,
                    0,
                    0,
                    0,
                    0,
                    0,
                    0,
                    0,
                    0,
                    0,
                    0,
                    0,
                    0,
                    0,
                    0,
                    0,
                    0,
                    0,
                    0,
                    0,
                    0,
                    0,
                    0,
                    0,
                    0,
                    0,
                    0,
                    0,
                    0,
                    0,
                    0,
                    0,
                    0,
                    0,
                    0,
                    0,
                    0,
                    0,
                    0,
                    0,
                    0,
                    0,
                    0,
                    0,
                    0,
                    0,
                    0,
                    0
                  ],
                  "y": [
                    0,
                    0,
                    0,
                    0,
                    0,
                    1,
                    1,
                    7,
                    8,
                    8,
                    9,
                    10,
                    11,
                    11,
                    11,
                    11,
                    11,
                    11,
                    12,
                    13,
                    14,
                    14,
                    15,
                    15,
                    15,
                    16,
                    16,
                    17,
                    18,
                    21,
                    22,
                    23,
                    23,
                    23,
                    23,
                    24,
                    24,
                    25,
                    25,
                    26,
                    27,
                    27,
                    27,
                    28,
                    29,
                    29,
                    30,
                    30,
                    30,
                    30,
                    31,
                    32,
                    32,
                    33,
                    33,
                    33,
                    33
                  ]
                },
                {
                  "bandwidth": 0.4,
                  "fillcolor": "black",
                  "hoverinfo": "none",
                  "hoveron": "points",
                  "line": {
                    "color": "black"
                  },
                  "opacity": 0.15,
                  "showlegend": false,
                  "type": "violin",
                  "width": 0.7,
                  "x": [
                    0,
                    0,
                    0,
                    0,
                    0,
                    0,
                    0,
                    0,
                    0,
                    0,
                    0,
                    0,
                    0,
                    0,
                    0,
                    0,
                    0,
                    0,
                    0,
                    0,
                    0,
                    0,
                    0,
                    0,
                    0,
                    0,
                    0,
                    0,
                    0,
                    0,
                    0,
                    0,
                    0,
                    0,
                    0,
                    0,
                    0,
                    0,
                    0,
                    0,
                    0,
                    0,
                    0,
                    0,
                    0,
                    0,
                    0,
                    0,
                    0,
                    0,
                    0,
                    0,
                    0,
                    0,
                    0,
                    0,
                    0
                  ],
                  "y": [
                    0,
                    0,
                    0,
                    0,
                    0,
                    1,
                    1,
                    7,
                    8,
                    8,
                    9,
                    10,
                    11,
                    11,
                    11,
                    11,
                    11,
                    11,
                    12,
                    13,
                    14,
                    14,
                    15,
                    15,
                    15,
                    16,
                    16,
                    17,
                    18,
                    21,
                    22,
                    23,
                    23,
                    23,
                    23,
                    24,
                    24,
                    25,
                    25,
                    26,
                    27,
                    27,
                    27,
                    28,
                    29,
                    29,
                    30,
                    30,
                    30,
                    30,
                    31,
                    32,
                    32,
                    33,
                    33,
                    33,
                    33
                  ]
                },
                {
                  "hoverinfo": "text",
                  "hoverlabel": {
                    "font": {
                      "size": 18
                    }
                  },
                  "marker": {
                    "color": "#001A3E",
                    "size": 8
                  },
                  "mode": "markers",
                  "name": "",
                  "showlegend": false,
                  "text": [
                    "<b>Package</b>: lodash<br><b>Version</b>: *<br><b>Count</b>: 1",
                    "<b>Package</b>: lodash<br><b>Version</b>: 0.2.1<br><b>Count</b>: 1",
                    "<b>Package</b>: lodash<br><b>Version</b>: 3.10.1<br><b>Count</b>: 1",
                    "<b>Package</b>: lodash<br><b>Version</b>: 4.12.0<br><b>Count</b>: 1",
                    "<b>Package</b>: lodash<br><b>Version</b>: 4.13.1<br><b>Count</b>: 1",
                    "<b>Package</b>: lodash<br><b>Version</b>: 4.17.10<br><b>Count</b>: 1",
                    "<b>Package</b>: lodash<br><b>Version</b>: 4.17.11<br><b>Count</b>: 10",
                    "<b>Package</b>: lodash<br><b>Version</b>: 4.17.11<br><b>Count</b>: 10",
                    "<b>Package</b>: lodash<br><b>Version</b>: 4.17.11<br><b>Count</b>: 10",
                    "<b>Package</b>: lodash<br><b>Version</b>: 4.17.11<br><b>Count</b>: 10",
                    "<b>Package</b>: lodash<br><b>Version</b>: 4.17.11<br><b>Count</b>: 10",
                    "<b>Package</b>: lodash<br><b>Version</b>: 4.17.11<br><b>Count</b>: 10",
                    "<b>Package</b>: lodash<br><b>Version</b>: 4.17.11<br><b>Count</b>: 10",
                    "<b>Package</b>: lodash<br><b>Version</b>: 4.17.11<br><b>Count</b>: 10",
                    "<b>Package</b>: lodash<br><b>Version</b>: 4.17.11<br><b>Count</b>: 10",
                    "<b>Package</b>: lodash<br><b>Version</b>: 4.17.11<br><b>Count</b>: 10",
                    "<b>Package</b>: lodash<br><b>Version</b>: 4.17.15<br><b>Count</b>: 15",
                    "<b>Package</b>: lodash<br><b>Version</b>: 4.17.15<br><b>Count</b>: 15",
                    "<b>Package</b>: lodash<br><b>Version</b>: 4.17.15<br><b>Count</b>: 15",
                    "<b>Package</b>: lodash<br><b>Version</b>: 4.17.15<br><b>Count</b>: 15",
                    "<b>Package</b>: lodash<br><b>Version</b>: 4.17.15<br><b>Count</b>: 15",
                    "<b>Package</b>: lodash<br><b>Version</b>: 4.17.15<br><b>Count</b>: 15",
                    "<b>Package</b>: lodash<br><b>Version</b>: 4.17.15<br><b>Count</b>: 15",
                    "<b>Package</b>: lodash<br><b>Version</b>: 4.17.15<br><b>Count</b>: 15",
                    "<b>Package</b>: lodash<br><b>Version</b>: 4.17.15<br><b>Count</b>: 15",
                    "<b>Package</b>: lodash<br><b>Version</b>: 4.17.15<br><b>Count</b>: 15",
                    "<b>Package</b>: lodash<br><b>Version</b>: 4.17.15<br><b>Count</b>: 15",
                    "<b>Package</b>: lodash<br><b>Version</b>: 4.17.15<br><b>Count</b>: 15",
                    "<b>Package</b>: lodash<br><b>Version</b>: 4.17.15<br><b>Count</b>: 15",
                    "<b>Package</b>: lodash<br><b>Version</b>: 4.17.15<br><b>Count</b>: 15",
                    "<b>Package</b>: lodash<br><b>Version</b>: 4.17.15<br><b>Count</b>: 15",
                    "<b>Package</b>: lodash<br><b>Version</b>: 4.17.19<br><b>Count</b>: 3",
                    "<b>Package</b>: lodash<br><b>Version</b>: 4.17.19<br><b>Count</b>: 3",
                    "<b>Package</b>: lodash<br><b>Version</b>: 4.17.19<br><b>Count</b>: 3",
                    "<b>Package</b>: lodash<br><b>Version</b>: 4.17.2<br><b>Count</b>: 1",
                    "<b>Package</b>: lodash<br><b>Version</b>: 4.17.20<br><b>Count</b>: 20",
                    "<b>Package</b>: lodash<br><b>Version</b>: 4.17.20<br><b>Count</b>: 20",
                    "<b>Package</b>: lodash<br><b>Version</b>: 4.17.20<br><b>Count</b>: 20",
                    "<b>Package</b>: lodash<br><b>Version</b>: 4.17.20<br><b>Count</b>: 20",
                    "<b>Package</b>: lodash<br><b>Version</b>: 4.17.20<br><b>Count</b>: 20",
                    "<b>Package</b>: lodash<br><b>Version</b>: 4.17.20<br><b>Count</b>: 20",
                    "<b>Package</b>: lodash<br><b>Version</b>: 4.17.20<br><b>Count</b>: 20",
                    "<b>Package</b>: lodash<br><b>Version</b>: 4.17.20<br><b>Count</b>: 20",
                    "<b>Package</b>: lodash<br><b>Version</b>: 4.17.20<br><b>Count</b>: 20",
                    "<b>Package</b>: lodash<br><b>Version</b>: 4.17.20<br><b>Count</b>: 20",
                    "<b>Package</b>: lodash<br><b>Version</b>: 4.17.20<br><b>Count</b>: 20",
                    "<b>Package</b>: lodash<br><b>Version</b>: 4.17.20<br><b>Count</b>: 20",
                    "<b>Package</b>: lodash<br><b>Version</b>: 4.17.20<br><b>Count</b>: 20",
                    "<b>Package</b>: lodash<br><b>Version</b>: 4.17.20<br><b>Count</b>: 20",
                    "<b>Package</b>: lodash<br><b>Version</b>: 4.17.20<br><b>Count</b>: 20",
                    "<b>Package</b>: lodash<br><b>Version</b>: 4.17.20<br><b>Count</b>: 20",
                    "<b>Package</b>: lodash<br><b>Version</b>: 4.17.20<br><b>Count</b>: 20",
                    "<b>Package</b>: lodash<br><b>Version</b>: 4.17.20<br><b>Count</b>: 20",
                    "<b>Package</b>: lodash<br><b>Version</b>: 4.17.20<br><b>Count</b>: 20",
                    "<b>Package</b>: lodash<br><b>Version</b>: 4.17.20<br><b>Count</b>: 20",
                    "<b>Package</b>: lodash<br><b>Version</b>: 4.17.21<br><b>Count</b>: 115",
                    "<b>Package</b>: lodash<br><b>Version</b>: 4.17.21<br><b>Count</b>: 115",
                    "<b>Package</b>: lodash<br><b>Version</b>: 4.17.21<br><b>Count</b>: 115",
                    "<b>Package</b>: lodash<br><b>Version</b>: 4.17.21<br><b>Count</b>: 115",
                    "<b>Package</b>: lodash<br><b>Version</b>: 4.17.21<br><b>Count</b>: 115",
                    "<b>Package</b>: lodash<br><b>Version</b>: 4.17.21<br><b>Count</b>: 115",
                    "<b>Package</b>: lodash<br><b>Version</b>: 4.17.21<br><b>Count</b>: 115",
                    "<b>Package</b>: lodash<br><b>Version</b>: 4.17.21<br><b>Count</b>: 115",
                    "<b>Package</b>: lodash<br><b>Version</b>: 4.17.21<br><b>Count</b>: 115",
                    "<b>Package</b>: lodash<br><b>Version</b>: 4.17.21<br><b>Count</b>: 115",
                    "<b>Package</b>: lodash<br><b>Version</b>: 4.17.21<br><b>Count</b>: 115",
                    "<b>Package</b>: lodash<br><b>Version</b>: 4.17.21<br><b>Count</b>: 115",
                    "<b>Package</b>: lodash<br><b>Version</b>: 4.17.21<br><b>Count</b>: 115",
                    "<b>Package</b>: lodash<br><b>Version</b>: 4.17.21<br><b>Count</b>: 115",
                    "<b>Package</b>: lodash<br><b>Version</b>: 4.17.21<br><b>Count</b>: 115",
                    "<b>Package</b>: lodash<br><b>Version</b>: 4.17.21<br><b>Count</b>: 115",
                    "<b>Package</b>: lodash<br><b>Version</b>: 4.17.21<br><b>Count</b>: 115",
                    "<b>Package</b>: lodash<br><b>Version</b>: 4.17.21<br><b>Count</b>: 115",
                    "<b>Package</b>: lodash<br><b>Version</b>: 4.17.21<br><b>Count</b>: 115",
                    "<b>Package</b>: lodash<br><b>Version</b>: 4.17.21<br><b>Count</b>: 115",
                    "<b>Package</b>: lodash<br><b>Version</b>: 4.17.21<br><b>Count</b>: 115",
                    "<b>Package</b>: lodash<br><b>Version</b>: 4.17.21<br><b>Count</b>: 115",
                    "<b>Package</b>: lodash<br><b>Version</b>: 4.17.21<br><b>Count</b>: 115",
                    "<b>Package</b>: lodash<br><b>Version</b>: 4.17.21<br><b>Count</b>: 115",
                    "<b>Package</b>: lodash<br><b>Version</b>: 4.17.21<br><b>Count</b>: 115",
                    "<b>Package</b>: lodash<br><b>Version</b>: 4.17.21<br><b>Count</b>: 115",
                    "<b>Package</b>: lodash<br><b>Version</b>: 4.17.21<br><b>Count</b>: 115",
                    "<b>Package</b>: lodash<br><b>Version</b>: 4.17.21<br><b>Count</b>: 115",
                    "<b>Package</b>: lodash<br><b>Version</b>: 4.17.21<br><b>Count</b>: 115",
                    "<b>Package</b>: lodash<br><b>Version</b>: 4.17.21<br><b>Count</b>: 115",
                    "<b>Package</b>: lodash<br><b>Version</b>: 4.17.21<br><b>Count</b>: 115",
                    "<b>Package</b>: lodash<br><b>Version</b>: 4.17.21<br><b>Count</b>: 115",
                    "<b>Package</b>: lodash<br><b>Version</b>: 4.17.21<br><b>Count</b>: 115",
                    "<b>Package</b>: lodash<br><b>Version</b>: 4.17.21<br><b>Count</b>: 115",
                    "<b>Package</b>: lodash<br><b>Version</b>: 4.17.21<br><b>Count</b>: 115",
                    "<b>Package</b>: lodash<br><b>Version</b>: 4.17.21<br><b>Count</b>: 115",
                    "<b>Package</b>: lodash<br><b>Version</b>: 4.17.21<br><b>Count</b>: 115",
                    "<b>Package</b>: lodash<br><b>Version</b>: 4.17.21<br><b>Count</b>: 115",
                    "<b>Package</b>: lodash<br><b>Version</b>: 4.17.21<br><b>Count</b>: 115",
                    "<b>Package</b>: lodash<br><b>Version</b>: 4.17.21<br><b>Count</b>: 115",
                    "<b>Package</b>: lodash<br><b>Version</b>: 4.17.21<br><b>Count</b>: 115",
                    "<b>Package</b>: lodash<br><b>Version</b>: 4.17.21<br><b>Count</b>: 115",
                    "<b>Package</b>: lodash<br><b>Version</b>: 4.17.21<br><b>Count</b>: 115",
                    "<b>Package</b>: lodash<br><b>Version</b>: 4.17.21<br><b>Count</b>: 115",
                    "<b>Package</b>: lodash<br><b>Version</b>: 4.17.21<br><b>Count</b>: 115",
                    "<b>Package</b>: lodash<br><b>Version</b>: 4.17.21<br><b>Count</b>: 115",
                    "<b>Package</b>: lodash<br><b>Version</b>: 4.17.21<br><b>Count</b>: 115",
                    "<b>Package</b>: lodash<br><b>Version</b>: 4.17.21<br><b>Count</b>: 115",
                    "<b>Package</b>: lodash<br><b>Version</b>: 4.17.21<br><b>Count</b>: 115",
                    "<b>Package</b>: lodash<br><b>Version</b>: 4.17.21<br><b>Count</b>: 115",
                    "<b>Package</b>: lodash<br><b>Version</b>: 4.17.21<br><b>Count</b>: 115",
                    "<b>Package</b>: lodash<br><b>Version</b>: 4.17.21<br><b>Count</b>: 115",
                    "<b>Package</b>: lodash<br><b>Version</b>: 4.17.21<br><b>Count</b>: 115",
                    "<b>Package</b>: lodash<br><b>Version</b>: 4.17.21<br><b>Count</b>: 115",
                    "<b>Package</b>: lodash<br><b>Version</b>: 4.17.21<br><b>Count</b>: 115",
                    "<b>Package</b>: lodash<br><b>Version</b>: 4.17.21<br><b>Count</b>: 115",
                    "<b>Package</b>: lodash<br><b>Version</b>: 4.17.21<br><b>Count</b>: 115",
                    "<b>Package</b>: lodash<br><b>Version</b>: 4.17.21<br><b>Count</b>: 115",
                    "<b>Package</b>: lodash<br><b>Version</b>: 4.17.21<br><b>Count</b>: 115",
                    "<b>Package</b>: lodash<br><b>Version</b>: 4.17.21<br><b>Count</b>: 115",
                    "<b>Package</b>: lodash<br><b>Version</b>: 4.17.21<br><b>Count</b>: 115",
                    "<b>Package</b>: lodash<br><b>Version</b>: 4.17.21<br><b>Count</b>: 115",
                    "<b>Package</b>: lodash<br><b>Version</b>: 4.17.21<br><b>Count</b>: 115",
                    "<b>Package</b>: lodash<br><b>Version</b>: 4.17.21<br><b>Count</b>: 115",
                    "<b>Package</b>: lodash<br><b>Version</b>: 4.17.21<br><b>Count</b>: 115",
                    "<b>Package</b>: lodash<br><b>Version</b>: 4.17.21<br><b>Count</b>: 115",
                    "<b>Package</b>: lodash<br><b>Version</b>: 4.17.21<br><b>Count</b>: 115",
                    "<b>Package</b>: lodash<br><b>Version</b>: 4.17.21<br><b>Count</b>: 115",
                    "<b>Package</b>: lodash<br><b>Version</b>: 4.17.21<br><b>Count</b>: 115",
                    "<b>Package</b>: lodash<br><b>Version</b>: 4.17.21<br><b>Count</b>: 115",
                    "<b>Package</b>: lodash<br><b>Version</b>: 4.17.21<br><b>Count</b>: 115",
                    "<b>Package</b>: lodash<br><b>Version</b>: 4.17.21<br><b>Count</b>: 115",
                    "<b>Package</b>: lodash<br><b>Version</b>: 4.17.21<br><b>Count</b>: 115",
                    "<b>Package</b>: lodash<br><b>Version</b>: 4.17.21<br><b>Count</b>: 115",
                    "<b>Package</b>: lodash<br><b>Version</b>: 4.17.21<br><b>Count</b>: 115",
                    "<b>Package</b>: lodash<br><b>Version</b>: 4.17.21<br><b>Count</b>: 115",
                    "<b>Package</b>: lodash<br><b>Version</b>: 4.17.21<br><b>Count</b>: 115",
                    "<b>Package</b>: lodash<br><b>Version</b>: 4.17.21<br><b>Count</b>: 115",
                    "<b>Package</b>: lodash<br><b>Version</b>: 4.17.21<br><b>Count</b>: 115",
                    "<b>Package</b>: lodash<br><b>Version</b>: 4.17.21<br><b>Count</b>: 115",
                    "<b>Package</b>: lodash<br><b>Version</b>: 4.17.21<br><b>Count</b>: 115",
                    "<b>Package</b>: lodash<br><b>Version</b>: 4.17.21<br><b>Count</b>: 115",
                    "<b>Package</b>: lodash<br><b>Version</b>: 4.17.21<br><b>Count</b>: 115",
                    "<b>Package</b>: lodash<br><b>Version</b>: 4.17.21<br><b>Count</b>: 115",
                    "<b>Package</b>: lodash<br><b>Version</b>: 4.17.21<br><b>Count</b>: 115",
                    "<b>Package</b>: lodash<br><b>Version</b>: 4.17.21<br><b>Count</b>: 115",
                    "<b>Package</b>: lodash<br><b>Version</b>: 4.17.21<br><b>Count</b>: 115",
                    "<b>Package</b>: lodash<br><b>Version</b>: 4.17.21<br><b>Count</b>: 115",
                    "<b>Package</b>: lodash<br><b>Version</b>: 4.17.21<br><b>Count</b>: 115",
                    "<b>Package</b>: lodash<br><b>Version</b>: 4.17.21<br><b>Count</b>: 115",
                    "<b>Package</b>: lodash<br><b>Version</b>: 4.17.21<br><b>Count</b>: 115",
                    "<b>Package</b>: lodash<br><b>Version</b>: 4.17.21<br><b>Count</b>: 115",
                    "<b>Package</b>: lodash<br><b>Version</b>: 4.17.21<br><b>Count</b>: 115",
                    "<b>Package</b>: lodash<br><b>Version</b>: 4.17.21<br><b>Count</b>: 115",
                    "<b>Package</b>: lodash<br><b>Version</b>: 4.17.21<br><b>Count</b>: 115",
                    "<b>Package</b>: lodash<br><b>Version</b>: 4.17.21<br><b>Count</b>: 115",
                    "<b>Package</b>: lodash<br><b>Version</b>: 4.17.21<br><b>Count</b>: 115",
                    "<b>Package</b>: lodash<br><b>Version</b>: 4.17.21<br><b>Count</b>: 115",
                    "<b>Package</b>: lodash<br><b>Version</b>: 4.17.21<br><b>Count</b>: 115",
                    "<b>Package</b>: lodash<br><b>Version</b>: 4.17.21<br><b>Count</b>: 115",
                    "<b>Package</b>: lodash<br><b>Version</b>: 4.17.21<br><b>Count</b>: 115",
                    "<b>Package</b>: lodash<br><b>Version</b>: 4.17.21<br><b>Count</b>: 115",
                    "<b>Package</b>: lodash<br><b>Version</b>: 4.17.21<br><b>Count</b>: 115",
                    "<b>Package</b>: lodash<br><b>Version</b>: 4.17.21<br><b>Count</b>: 115",
                    "<b>Package</b>: lodash<br><b>Version</b>: 4.17.21<br><b>Count</b>: 115",
                    "<b>Package</b>: lodash<br><b>Version</b>: 4.17.21<br><b>Count</b>: 115",
                    "<b>Package</b>: lodash<br><b>Version</b>: 4.17.21<br><b>Count</b>: 115",
                    "<b>Package</b>: lodash<br><b>Version</b>: 4.17.21<br><b>Count</b>: 115",
                    "<b>Package</b>: lodash<br><b>Version</b>: 4.17.21<br><b>Count</b>: 115",
                    "<b>Package</b>: lodash<br><b>Version</b>: 4.17.21<br><b>Count</b>: 115",
                    "<b>Package</b>: lodash<br><b>Version</b>: 4.17.21<br><b>Count</b>: 115",
                    "<b>Package</b>: lodash<br><b>Version</b>: 4.17.21<br><b>Count</b>: 115",
                    "<b>Package</b>: lodash<br><b>Version</b>: 4.17.21<br><b>Count</b>: 115",
                    "<b>Package</b>: lodash<br><b>Version</b>: 4.17.21<br><b>Count</b>: 115",
                    "<b>Package</b>: lodash<br><b>Version</b>: 4.17.21<br><b>Count</b>: 115",
                    "<b>Package</b>: lodash<br><b>Version</b>: 4.17.4<br><b>Count</b>: 5",
                    "<b>Package</b>: lodash<br><b>Version</b>: 4.17.4<br><b>Count</b>: 5",
                    "<b>Package</b>: lodash<br><b>Version</b>: 4.17.4<br><b>Count</b>: 5",
                    "<b>Package</b>: lodash<br><b>Version</b>: 4.17.4<br><b>Count</b>: 5",
                    "<b>Package</b>: lodash<br><b>Version</b>: 4.17.4<br><b>Count</b>: 5",
                    "<b>Package</b>: lodash<br><b>Version</b>: 4.17.5<br><b>Count</b>: 1"
                  ],
                  "type": "scatter",
                  "x": [
                    8,
                    8,
                    8,
                    8,
                    8,
                    8,
                    8,
                    8,
                    8,
                    8,
                    8,
                    8,
                    8,
                    8,
                    8,
                    8,
                    8,
                    8,
                    8,
                    8,
                    8,
                    8,
                    8,
                    8,
                    8,
                    8,
                    8,
                    8,
                    8,
                    8,
                    8,
                    8,
                    8,
                    8,
                    8,
                    8,
                    8,
                    8,
                    8,
                    8,
                    8,
                    8,
                    8,
                    8,
                    8,
                    8,
                    8,
                    8,
                    8,
                    8,
                    8,
                    8,
                    8,
                    8,
                    8,
                    8,
                    8,
                    8,
                    8,
                    8,
                    8,
                    8,
                    8,
                    8,
                    8,
                    8,
                    8,
                    8,
                    8,
                    8,
                    8,
                    8,
                    8,
                    8,
                    8,
                    8,
                    8,
                    8,
                    8,
                    8,
                    8,
                    8,
                    8,
                    8,
                    8,
                    8,
                    8,
                    8,
                    8,
                    8,
                    8,
                    8,
                    8,
                    8,
                    8,
                    8,
                    8,
                    8,
                    8,
                    8,
                    8,
                    8,
                    8,
                    8,
                    8,
                    8,
                    8,
                    8,
                    8,
                    8,
                    8,
                    8,
                    8,
                    8,
                    8,
                    8,
                    8,
                    8,
                    8,
                    8,
                    8,
                    8,
                    8,
                    8,
                    8,
                    8,
                    8,
                    8,
                    8,
                    8,
                    8,
                    8,
                    8,
                    8,
                    8,
                    8,
                    8,
                    8,
                    8,
                    8,
                    8,
                    8,
                    8,
                    8,
                    8,
                    8,
                    8,
                    8,
                    8,
                    8,
                    8,
                    8,
                    8,
                    8,
                    8,
                    8,
                    8,
                    8,
                    8,
                    8,
                    8,
                    8,
                    8,
                    8,
                    8,
                    8,
                    8,
                    8,
                    8,
                    8,
                    8,
                    8,
                    8,
                    8,
                    8,
                    8
                  ],
                  "y": [
                    2,
                    4,
                    80,
                    91,
                    92,
                    93,
                    94,
                    94,
                    94,
                    94,
                    94,
                    94,
                    94,
                    94,
                    94,
                    94,
                    95,
                    95,
                    95,
                    95,
                    95,
                    95,
                    95,
                    95,
                    95,
                    95,
                    95,
                    95,
                    95,
                    95,
                    95,
                    96,
                    96,
                    96,
                    97,
                    98,
                    98,
                    98,
                    98,
                    98,
                    98,
                    98,
                    98,
                    98,
                    98,
                    98,
                    98,
                    98,
                    98,
                    98,
                    98,
                    98,
                    98,
                    98,
                    98,
                    99,
                    99,
                    99,
                    99,
                    99,
                    99,
                    99,
                    99,
                    99,
                    99,
                    99,
                    99,
                    99,
                    99,
                    99,
                    99,
                    99,
                    99,
                    99,
                    99,
                    99,
                    99,
                    99,
                    99,
                    99,
                    99,
                    99,
                    99,
                    99,
                    99,
                    99,
                    99,
                    99,
                    99,
                    99,
                    99,
                    99,
                    99,
                    99,
                    99,
                    99,
                    99,
                    99,
                    99,
                    99,
                    99,
                    99,
                    99,
                    99,
                    99,
                    99,
                    99,
                    99,
                    99,
                    99,
                    99,
                    99,
                    99,
                    99,
                    99,
                    99,
                    99,
                    99,
                    99,
                    99,
                    99,
                    99,
                    99,
                    99,
                    99,
                    99,
                    99,
                    99,
                    99,
                    99,
                    99,
                    99,
                    99,
                    99,
                    99,
                    99,
                    99,
                    99,
                    99,
                    99,
                    99,
                    99,
                    99,
                    99,
                    99,
                    99,
                    99,
                    99,
                    99,
                    99,
                    99,
                    99,
                    99,
                    99,
                    99,
                    99,
                    99,
                    99,
                    99,
                    99,
                    99,
                    99,
                    99,
                    99,
                    99,
                    99,
                    99,
                    99,
                    99,
                    99,
                    100,
                    100,
                    100,
                    100,
                    100,
                    101
                  ]
                },
                {
                  "bandwidth": 0.4,
                  "fillcolor": "black",
                  "hoverinfo": "none",
                  "hoveron": "points",
                  "line": {
                    "color": "black"
                  },
                  "opacity": 0.15,
                  "showlegend": false,
                  "type": "violin",
                  "width": 0.7,
                  "x": [
                    8,
                    8,
                    8,
                    8,
                    8,
                    8,
                    8,
                    8,
                    8,
                    8,
                    8,
                    8,
                    8,
                    8,
                    8,
                    8,
                    8,
                    8,
                    8,
                    8,
                    8,
                    8,
                    8,
                    8,
                    8,
                    8,
                    8,
                    8,
                    8,
                    8,
                    8,
                    8,
                    8,
                    8,
                    8,
                    8,
                    8,
                    8,
                    8,
                    8,
                    8,
                    8,
                    8,
                    8,
                    8,
                    8,
                    8,
                    8,
                    8,
                    8,
                    8,
                    8,
                    8,
                    8,
                    8,
                    8,
                    8,
                    8,
                    8,
                    8,
                    8,
                    8,
                    8,
                    8,
                    8,
                    8,
                    8,
                    8,
                    8,
                    8,
                    8,
                    8,
                    8,
                    8,
                    8,
                    8,
                    8,
                    8,
                    8,
                    8,
                    8,
                    8,
                    8,
                    8,
                    8,
                    8,
                    8,
                    8,
                    8,
                    8,
                    8,
                    8,
                    8,
                    8,
                    8,
                    8,
                    8,
                    8,
                    8,
                    8,
                    8,
                    8,
                    8,
                    8,
                    8,
                    8,
                    8,
                    8,
                    8,
                    8,
                    8,
                    8,
                    8,
                    8,
                    8,
                    8,
                    8,
                    8,
                    8,
                    8,
                    8,
                    8,
                    8,
                    8,
                    8,
                    8,
                    8,
                    8,
                    8,
                    8,
                    8,
                    8,
                    8,
                    8,
                    8,
                    8,
                    8,
                    8,
                    8,
                    8,
                    8,
                    8,
                    8,
                    8,
                    8,
                    8,
                    8,
                    8,
                    8,
                    8,
                    8,
                    8,
                    8,
                    8,
                    8,
                    8,
                    8,
                    8,
                    8,
                    8,
                    8,
                    8,
                    8,
                    8,
                    8,
                    8,
                    8,
                    8,
                    8,
                    8,
                    8,
                    8,
                    8,
                    8,
                    8,
                    8
                  ],
                  "y": [
                    2,
                    4,
                    80,
                    91,
                    92,
                    93,
                    94,
                    94,
                    94,
                    94,
                    94,
                    94,
                    94,
                    94,
                    94,
                    94,
                    95,
                    95,
                    95,
                    95,
                    95,
                    95,
                    95,
                    95,
                    95,
                    95,
                    95,
                    95,
                    95,
                    95,
                    95,
                    96,
                    96,
                    96,
                    97,
                    98,
                    98,
                    98,
                    98,
                    98,
                    98,
                    98,
                    98,
                    98,
                    98,
                    98,
                    98,
                    98,
                    98,
                    98,
                    98,
                    98,
                    98,
                    98,
                    98,
                    99,
                    99,
                    99,
                    99,
                    99,
                    99,
                    99,
                    99,
                    99,
                    99,
                    99,
                    99,
                    99,
                    99,
                    99,
                    99,
                    99,
                    99,
                    99,
                    99,
                    99,
                    99,
                    99,
                    99,
                    99,
                    99,
                    99,
                    99,
                    99,
                    99,
                    99,
                    99,
                    99,
                    99,
                    99,
                    99,
                    99,
                    99,
                    99,
                    99,
                    99,
                    99,
                    99,
                    99,
                    99,
                    99,
                    99,
                    99,
                    99,
                    99,
                    99,
                    99,
                    99,
                    99,
                    99,
                    99,
                    99,
                    99,
                    99,
                    99,
                    99,
                    99,
                    99,
                    99,
                    99,
                    99,
                    99,
                    99,
                    99,
                    99,
                    99,
                    99,
                    99,
                    99,
                    99,
                    99,
                    99,
                    99,
                    99,
                    99,
                    99,
                    99,
                    99,
                    99,
                    99,
                    99,
                    99,
                    99,
                    99,
                    99,
                    99,
                    99,
                    99,
                    99,
                    99,
                    99,
                    99,
                    99,
                    99,
                    99,
                    99,
                    99,
                    99,
                    99,
                    99,
                    99,
                    99,
                    99,
                    99,
                    99,
                    99,
                    99,
                    99,
                    99,
                    99,
                    100,
                    100,
                    100,
                    100,
                    100,
                    101
                  ]
                },
                {
                  "hoverinfo": "text",
                  "hoverlabel": {
                    "font": {
                      "size": 18
                    }
                  },
                  "marker": {
                    "color": "#27AA88",
                    "size": 8
                  },
                  "mode": "markers",
                  "name": "",
                  "showlegend": false,
                  "text": [
                    "<b>Package</b>: uuid<br><b>Version</b>: *<br><b>Count</b>: 1",
                    "<b>Package</b>: uuid<br><b>Version</b>: 2.0.1<br><b>Count</b>: 1",
                    "<b>Package</b>: uuid<br><b>Version</b>: 3.0.0<br><b>Count</b>: 1",
                    "<b>Package</b>: uuid<br><b>Version</b>: 3.1.0<br><b>Count</b>: 2",
                    "<b>Package</b>: uuid<br><b>Version</b>: 3.1.0<br><b>Count</b>: 2",
                    "<b>Package</b>: uuid<br><b>Version</b>: 3.3.2<br><b>Count</b>: 3",
                    "<b>Package</b>: uuid<br><b>Version</b>: 3.3.2<br><b>Count</b>: 3",
                    "<b>Package</b>: uuid<br><b>Version</b>: 3.3.2<br><b>Count</b>: 3",
                    "<b>Package</b>: uuid<br><b>Version</b>: 3.3.3<br><b>Count</b>: 3",
                    "<b>Package</b>: uuid<br><b>Version</b>: 3.3.3<br><b>Count</b>: 3",
                    "<b>Package</b>: uuid<br><b>Version</b>: 3.3.3<br><b>Count</b>: 3",
                    "<b>Package</b>: uuid<br><b>Version</b>: 7.0.1<br><b>Count</b>: 2",
                    "<b>Package</b>: uuid<br><b>Version</b>: 7.0.1<br><b>Count</b>: 2",
                    "<b>Package</b>: uuid<br><b>Version</b>: 8.1.0<br><b>Count</b>: 1",
                    "<b>Package</b>: uuid<br><b>Version</b>: 8.3.2<br><b>Count</b>: 16",
                    "<b>Package</b>: uuid<br><b>Version</b>: 8.3.2<br><b>Count</b>: 16",
                    "<b>Package</b>: uuid<br><b>Version</b>: 8.3.2<br><b>Count</b>: 16",
                    "<b>Package</b>: uuid<br><b>Version</b>: 8.3.2<br><b>Count</b>: 16",
                    "<b>Package</b>: uuid<br><b>Version</b>: 8.3.2<br><b>Count</b>: 16",
                    "<b>Package</b>: uuid<br><b>Version</b>: 8.3.2<br><b>Count</b>: 16",
                    "<b>Package</b>: uuid<br><b>Version</b>: 8.3.2<br><b>Count</b>: 16",
                    "<b>Package</b>: uuid<br><b>Version</b>: 8.3.2<br><b>Count</b>: 16",
                    "<b>Package</b>: uuid<br><b>Version</b>: 8.3.2<br><b>Count</b>: 16",
                    "<b>Package</b>: uuid<br><b>Version</b>: 8.3.2<br><b>Count</b>: 16",
                    "<b>Package</b>: uuid<br><b>Version</b>: 8.3.2<br><b>Count</b>: 16",
                    "<b>Package</b>: uuid<br><b>Version</b>: 8.3.2<br><b>Count</b>: 16",
                    "<b>Package</b>: uuid<br><b>Version</b>: 8.3.2<br><b>Count</b>: 16",
                    "<b>Package</b>: uuid<br><b>Version</b>: 8.3.2<br><b>Count</b>: 16",
                    "<b>Package</b>: uuid<br><b>Version</b>: 8.3.2<br><b>Count</b>: 16",
                    "<b>Package</b>: uuid<br><b>Version</b>: 8.3.2<br><b>Count</b>: 16",
                    "<b>Package</b>: uuid<br><b>Version</b>: 9.0.0<br><b>Count</b>: 9",
                    "<b>Package</b>: uuid<br><b>Version</b>: 9.0.0<br><b>Count</b>: 9",
                    "<b>Package</b>: uuid<br><b>Version</b>: 9.0.0<br><b>Count</b>: 9",
                    "<b>Package</b>: uuid<br><b>Version</b>: 9.0.0<br><b>Count</b>: 9",
                    "<b>Package</b>: uuid<br><b>Version</b>: 9.0.0<br><b>Count</b>: 9",
                    "<b>Package</b>: uuid<br><b>Version</b>: 9.0.0<br><b>Count</b>: 9",
                    "<b>Package</b>: uuid<br><b>Version</b>: 9.0.0<br><b>Count</b>: 9",
                    "<b>Package</b>: uuid<br><b>Version</b>: 9.0.0<br><b>Count</b>: 9",
                    "<b>Package</b>: uuid<br><b>Version</b>: 9.0.0<br><b>Count</b>: 9",
                    "<b>Package</b>: uuid<br><b>Version</b>: 9.0.1<br><b>Count</b>: 9",
                    "<b>Package</b>: uuid<br><b>Version</b>: 9.0.1<br><b>Count</b>: 9",
                    "<b>Package</b>: uuid<br><b>Version</b>: 9.0.1<br><b>Count</b>: 9",
                    "<b>Package</b>: uuid<br><b>Version</b>: 9.0.1<br><b>Count</b>: 9",
                    "<b>Package</b>: uuid<br><b>Version</b>: 9.0.1<br><b>Count</b>: 9",
                    "<b>Package</b>: uuid<br><b>Version</b>: 9.0.1<br><b>Count</b>: 9",
                    "<b>Package</b>: uuid<br><b>Version</b>: 9.0.1<br><b>Count</b>: 9",
                    "<b>Package</b>: uuid<br><b>Version</b>: 9.0.1<br><b>Count</b>: 9",
                    "<b>Package</b>: uuid<br><b>Version</b>: 9.0.1<br><b>Count</b>: 9",
                    "<b>Package</b>: uuid<br><b>Version</b>: 10.0.0<br><b>Count</b>: 8",
                    "<b>Package</b>: uuid<br><b>Version</b>: 10.0.0<br><b>Count</b>: 8",
                    "<b>Package</b>: uuid<br><b>Version</b>: 10.0.0<br><b>Count</b>: 8",
                    "<b>Package</b>: uuid<br><b>Version</b>: 10.0.0<br><b>Count</b>: 8",
                    "<b>Package</b>: uuid<br><b>Version</b>: 10.0.0<br><b>Count</b>: 8",
                    "<b>Package</b>: uuid<br><b>Version</b>: 10.0.0<br><b>Count</b>: 8",
                    "<b>Package</b>: uuid<br><b>Version</b>: 10.0.0<br><b>Count</b>: 8",
                    "<b>Package</b>: uuid<br><b>Version</b>: 10.0.0<br><b>Count</b>: 8"
                  ],
                  "type": "scatter",
                  "x": [
                    16,
                    16,
                    16,
                    16,
                    16,
                    16,
                    16,
                    16,
                    16,
                    16,
                    16,
                    16,
                    16,
                    16,
                    16,
                    16,
                    16,
                    16,
                    16,
                    16,
                    16,
                    16,
                    16,
                    16,
                    16,
                    16,
                    16,
                    16,
                    16,
                    16,
                    16,
                    16,
                    16,
                    16,
                    16,
                    16,
                    16,
                    16,
                    16,
                    16,
                    16,
                    16,
                    16,
                    16,
                    16,
                    16,
                    16,
                    16,
                    16,
                    16,
                    16,
                    16,
                    16,
                    16,
                    16,
                    16
                  ],
                  "y": [
                    2,
                    49,
                    66,
                    67,
                    67,
                    74,
                    74,
                    74,
                    75,
                    75,
                    75,
                    119,
                    119,
                    126,
                    127,
                    127,
                    127,
                    127,
                    127,
                    127,
                    127,
                    127,
                    127,
                    127,
                    127,
                    127,
                    127,
                    127,
                    127,
                    127,
                    128,
                    128,
                    128,
                    128,
                    128,
                    128,
                    128,
                    128,
                    128,
                    129,
                    129,
                    129,
                    129,
                    129,
                    129,
                    129,
                    129,
                    129,
                    130,
                    130,
                    130,
                    130,
                    130,
                    130,
                    130,
                    130
                  ]
                },
                {
                  "bandwidth": 0.4,
                  "fillcolor": "black",
                  "hoverinfo": "none",
                  "hoveron": "points",
                  "line": {
                    "color": "black"
                  },
                  "opacity": 0.15,
                  "showlegend": false,
                  "type": "violin",
                  "width": 0.7,
                  "x": [
                    16,
                    16,
                    16,
                    16,
                    16,
                    16,
                    16,
                    16,
                    16,
                    16,
                    16,
                    16,
                    16,
                    16,
                    16,
                    16,
                    16,
                    16,
                    16,
                    16,
                    16,
                    16,
                    16,
                    16,
                    16,
                    16,
                    16,
                    16,
                    16,
                    16,
                    16,
                    16,
                    16,
                    16,
                    16,
                    16,
                    16,
                    16,
                    16,
                    16,
                    16,
                    16,
                    16,
                    16,
                    16,
                    16,
                    16,
                    16,
                    16,
                    16,
                    16,
                    16,
                    16,
                    16,
                    16,
                    16
                  ],
                  "y": [
                    2,
                    49,
                    66,
                    67,
                    67,
                    74,
                    74,
                    74,
                    75,
                    75,
                    75,
                    119,
                    119,
                    126,
                    127,
                    127,
                    127,
                    127,
                    127,
                    127,
                    127,
                    127,
                    127,
                    127,
                    127,
                    127,
                    127,
                    127,
                    127,
                    127,
                    128,
                    128,
                    128,
                    128,
                    128,
                    128,
                    128,
                    128,
                    128,
                    129,
                    129,
                    129,
                    129,
                    129,
                    129,
                    129,
                    129,
                    129,
                    130,
                    130,
                    130,
                    130,
                    130,
                    130,
                    130,
                    130
                  ]
                },
                {
                  "hoverinfo": "text",
                  "hoverlabel": {
                    "font": {
                      "size": 18
                    }
                  },
                  "marker": {
                    "color": "#C4E5C8",
                    "size": 8
                  },
                  "mode": "markers",
                  "name": "",
                  "showlegend": false,
                  "text": [
                    "<b>Package</b>: js-yaml<br><b>Version</b>: latest<br><b>Count</b>: 1",
                    "<b>Package</b>: js-yaml<br><b>Version</b>: 3.10.0<br><b>Count</b>: 1",
                    "<b>Package</b>: js-yaml<br><b>Version</b>: 3.12.1<br><b>Count</b>: 1",
                    "<b>Package</b>: js-yaml<br><b>Version</b>: 3.13.1<br><b>Count</b>: 3",
                    "<b>Package</b>: js-yaml<br><b>Version</b>: 3.13.1<br><b>Count</b>: 3",
                    "<b>Package</b>: js-yaml<br><b>Version</b>: 3.13.1<br><b>Count</b>: 3",
                    "<b>Package</b>: js-yaml<br><b>Version</b>: 3.14.0<br><b>Count</b>: 1",
                    "<b>Package</b>: js-yaml<br><b>Version</b>: 4.0.0<br><b>Count</b>: 1",
                    "<b>Package</b>: js-yaml<br><b>Version</b>: 4.1.0<br><b>Count</b>: 23",
                    "<b>Package</b>: js-yaml<br><b>Version</b>: 4.1.0<br><b>Count</b>: 23",
                    "<b>Package</b>: js-yaml<br><b>Version</b>: 4.1.0<br><b>Count</b>: 23",
                    "<b>Package</b>: js-yaml<br><b>Version</b>: 4.1.0<br><b>Count</b>: 23",
                    "<b>Package</b>: js-yaml<br><b>Version</b>: 4.1.0<br><b>Count</b>: 23",
                    "<b>Package</b>: js-yaml<br><b>Version</b>: 4.1.0<br><b>Count</b>: 23",
                    "<b>Package</b>: js-yaml<br><b>Version</b>: 4.1.0<br><b>Count</b>: 23",
                    "<b>Package</b>: js-yaml<br><b>Version</b>: 4.1.0<br><b>Count</b>: 23",
                    "<b>Package</b>: js-yaml<br><b>Version</b>: 4.1.0<br><b>Count</b>: 23",
                    "<b>Package</b>: js-yaml<br><b>Version</b>: 4.1.0<br><b>Count</b>: 23",
                    "<b>Package</b>: js-yaml<br><b>Version</b>: 4.1.0<br><b>Count</b>: 23",
                    "<b>Package</b>: js-yaml<br><b>Version</b>: 4.1.0<br><b>Count</b>: 23",
                    "<b>Package</b>: js-yaml<br><b>Version</b>: 4.1.0<br><b>Count</b>: 23",
                    "<b>Package</b>: js-yaml<br><b>Version</b>: 4.1.0<br><b>Count</b>: 23",
                    "<b>Package</b>: js-yaml<br><b>Version</b>: 4.1.0<br><b>Count</b>: 23",
                    "<b>Package</b>: js-yaml<br><b>Version</b>: 4.1.0<br><b>Count</b>: 23",
                    "<b>Package</b>: js-yaml<br><b>Version</b>: 4.1.0<br><b>Count</b>: 23",
                    "<b>Package</b>: js-yaml<br><b>Version</b>: 4.1.0<br><b>Count</b>: 23",
                    "<b>Package</b>: js-yaml<br><b>Version</b>: 4.1.0<br><b>Count</b>: 23",
                    "<b>Package</b>: js-yaml<br><b>Version</b>: 4.1.0<br><b>Count</b>: 23",
                    "<b>Package</b>: js-yaml<br><b>Version</b>: 4.1.0<br><b>Count</b>: 23",
                    "<b>Package</b>: js-yaml<br><b>Version</b>: 4.1.0<br><b>Count</b>: 23",
                    "<b>Package</b>: js-yaml<br><b>Version</b>: 4.1.0<br><b>Count</b>: 23"
                  ],
                  "type": "scatter",
                  "x": [
                    7,
                    7,
                    7,
                    7,
                    7,
                    7,
                    7,
                    7,
                    7,
                    7,
                    7,
                    7,
                    7,
                    7,
                    7,
                    7,
                    7,
                    7,
                    7,
                    7,
                    7,
                    7,
                    7,
                    7,
                    7,
                    7,
                    7,
                    7,
                    7,
                    7,
                    7
                  ],
                  "y": [
                    3,
                    79,
                    81,
                    82,
                    82,
                    82,
                    83,
                    84,
                    87,
                    87,
                    87,
                    87,
                    87,
                    87,
                    87,
                    87,
                    87,
                    87,
                    87,
                    87,
                    87,
                    87,
                    87,
                    87,
                    87,
                    87,
                    87,
                    87,
                    87,
                    87,
                    87
                  ]
                },
                {
                  "bandwidth": 0.4,
                  "fillcolor": "black",
                  "hoverinfo": "none",
                  "hoveron": "points",
                  "line": {
                    "color": "black"
                  },
                  "opacity": 0.15,
                  "showlegend": false,
                  "type": "violin",
                  "width": 0.7,
                  "x": [
                    7,
                    7,
                    7,
                    7,
                    7,
                    7,
                    7,
                    7,
                    7,
                    7,
                    7,
                    7,
                    7,
                    7,
                    7,
                    7,
                    7,
                    7,
                    7,
                    7,
                    7,
                    7,
                    7,
                    7,
                    7,
                    7,
                    7,
                    7,
                    7,
                    7,
                    7
                  ],
                  "y": [
                    3,
                    79,
                    81,
                    82,
                    82,
                    82,
                    83,
                    84,
                    87,
                    87,
                    87,
                    87,
                    87,
                    87,
                    87,
                    87,
                    87,
                    87,
                    87,
                    87,
                    87,
                    87,
                    87,
                    87,
                    87,
                    87,
                    87,
                    87,
                    87,
                    87,
                    87
                  ]
                },
                {
                  "hoverinfo": "text",
                  "hoverlabel": {
                    "font": {
                      "size": 18
                    }
                  },
                  "marker": {
                    "color": "#7E9BD3",
                    "size": 8
                  },
                  "mode": "markers",
                  "name": "",
                  "showlegend": false,
                  "text": [
                    "<b>Package</b>: moment<br><b>Version</b>: latest<br><b>Count</b>: 1",
                    "<b>Package</b>: moment<br><b>Version</b>: 2.17.1<br><b>Count</b>: 1",
                    "<b>Package</b>: moment<br><b>Version</b>: 2.18.1<br><b>Count</b>: 2",
                    "<b>Package</b>: moment<br><b>Version</b>: 2.18.1<br><b>Count</b>: 2",
                    "<b>Package</b>: moment<br><b>Version</b>: 2.19.3<br><b>Count</b>: 1",
                    "<b>Package</b>: moment<br><b>Version</b>: 2.20.1<br><b>Count</b>: 1",
                    "<b>Package</b>: moment<br><b>Version</b>: 2.23.0<br><b>Count</b>: 1",
                    "<b>Package</b>: moment<br><b>Version</b>: 2.24.0<br><b>Count</b>: 1",
                    "<b>Package</b>: moment<br><b>Version</b>: 2.29.1<br><b>Count</b>: 2",
                    "<b>Package</b>: moment<br><b>Version</b>: 2.29.1<br><b>Count</b>: 2",
                    "<b>Package</b>: moment<br><b>Version</b>: 2.29.3<br><b>Count</b>: 1",
                    "<b>Package</b>: moment<br><b>Version</b>: 2.29.4<br><b>Count</b>: 11",
                    "<b>Package</b>: moment<br><b>Version</b>: 2.29.4<br><b>Count</b>: 11",
                    "<b>Package</b>: moment<br><b>Version</b>: 2.29.4<br><b>Count</b>: 11",
                    "<b>Package</b>: moment<br><b>Version</b>: 2.29.4<br><b>Count</b>: 11",
                    "<b>Package</b>: moment<br><b>Version</b>: 2.29.4<br><b>Count</b>: 11",
                    "<b>Package</b>: moment<br><b>Version</b>: 2.29.4<br><b>Count</b>: 11",
                    "<b>Package</b>: moment<br><b>Version</b>: 2.29.4<br><b>Count</b>: 11",
                    "<b>Package</b>: moment<br><b>Version</b>: 2.29.4<br><b>Count</b>: 11",
                    "<b>Package</b>: moment<br><b>Version</b>: 2.29.4<br><b>Count</b>: 11",
                    "<b>Package</b>: moment<br><b>Version</b>: 2.29.4<br><b>Count</b>: 11",
                    "<b>Package</b>: moment<br><b>Version</b>: 2.29.4<br><b>Count</b>: 11",
                    "<b>Package</b>: moment<br><b>Version</b>: 2.30.0<br><b>Count</b>: 1",
                    "<b>Package</b>: moment<br><b>Version</b>: 2.30.1<br><b>Count</b>: 2",
                    "<b>Package</b>: moment<br><b>Version</b>: 2.30.1<br><b>Count</b>: 2"
                  ],
                  "type": "scatter",
                  "x": [
                    10,
                    10,
                    10,
                    10,
                    10,
                    10,
                    10,
                    10,
                    10,
                    10,
                    10,
                    10,
                    10,
                    10,
                    10,
                    10,
                    10,
                    10,
                    10,
                    10,
                    10,
                    10,
                    10,
                    10,
                    10
                  ],
                  "y": [
                    3,
                    53,
                    54,
                    54,
                    55,
                    56,
                    57,
                    58,
                    61,
                    61,
                    62,
                    63,
                    63,
                    63,
                    63,
                    63,
                    63,
                    63,
                    63,
                    63,
                    63,
                    63,
                    64,
                    65,
                    65
                  ]
                },
                {
                  "bandwidth": 0.4,
                  "fillcolor": "black",
                  "hoverinfo": "none",
                  "hoveron": "points",
                  "line": {
                    "color": "black"
                  },
                  "opacity": 0.15,
                  "showlegend": false,
                  "type": "violin",
                  "width": 0.7,
                  "x": [
                    10,
                    10,
                    10,
                    10,
                    10,
                    10,
                    10,
                    10,
                    10,
                    10,
                    10,
                    10,
                    10,
                    10,
                    10,
                    10,
                    10,
                    10,
                    10,
                    10,
                    10,
                    10,
                    10,
                    10,
                    10
                  ],
                  "y": [
                    3,
                    53,
                    54,
                    54,
                    55,
                    56,
                    57,
                    58,
                    61,
                    61,
                    62,
                    63,
                    63,
                    63,
                    63,
                    63,
                    63,
                    63,
                    63,
                    63,
                    63,
                    63,
                    64,
                    65,
                    65
                  ]
                },
                {
                  "hoverinfo": "text",
                  "hoverlabel": {
                    "font": {
                      "size": 18
                    }
                  },
                  "marker": {
                    "color": "#2F42FF",
                    "size": 8
                  },
                  "mode": "markers",
                  "name": "",
                  "showlegend": false,
                  "text": [
                    "<b>Package</b>: xml2js<br><b>Version</b>: 0.5.0<br><b>Count</b>: 1",
                    "<b>Package</b>: xml2js<br><b>Version</b>: 0.6.2<br><b>Count</b>: 1"
                  ],
                  "type": "scatter",
                  "x": [
                    18,
                    18
                  ],
                  "y": [
                    5,
                    6
                  ]
                },
                {
                  "bandwidth": 0.4,
                  "fillcolor": "black",
                  "hoverinfo": "none",
                  "hoveron": "points",
                  "line": {
                    "color": "black"
                  },
                  "opacity": 0.15,
                  "showlegend": false,
                  "type": "violin",
                  "width": 0.7,
                  "x": [
                    18,
                    18
                  ],
                  "y": [
                    5,
                    6
                  ]
                },
                {
                  "hoverinfo": "text",
                  "hoverlabel": {
                    "font": {
                      "size": 18
                    }
                  },
                  "marker": {
                    "color": "#001A3E",
                    "size": 8
                  },
                  "mode": "markers",
                  "name": "",
                  "showlegend": false,
                  "text": [
                    "<b>Package</b>: ramda<br><b>Version</b>: 0.26.1<br><b>Count</b>: 1",
                    "<b>Package</b>: ramda<br><b>Version</b>: 0.28.0<br><b>Count</b>: 4",
                    "<b>Package</b>: ramda<br><b>Version</b>: 0.28.0<br><b>Count</b>: 4",
                    "<b>Package</b>: ramda<br><b>Version</b>: 0.28.0<br><b>Count</b>: 4",
                    "<b>Package</b>: ramda<br><b>Version</b>: 0.28.0<br><b>Count</b>: 4"
                  ],
                  "type": "scatter",
                  "x": [
                    12,
                    12,
                    12,
                    12,
                    12
                  ],
                  "y": [
                    14,
                    16,
                    16,
                    16,
                    16
                  ]
                },
                {
                  "bandwidth": 0.4,
                  "fillcolor": "black",
                  "hoverinfo": "none",
                  "hoveron": "points",
                  "line": {
                    "color": "black"
                  },
                  "opacity": 0.15,
                  "showlegend": false,
                  "type": "violin",
                  "width": 0.7,
                  "x": [
                    12,
                    12,
                    12,
                    12,
                    12
                  ],
                  "y": [
                    14,
                    16,
                    16,
                    16,
                    16
                  ]
                },
                {
                  "hoverinfo": "text",
                  "hoverlabel": {
                    "font": {
                      "size": 18
                    }
                  },
                  "marker": {
                    "color": "#27AA88",
                    "size": 8
                  },
                  "mode": "markers",
                  "name": "",
                  "showlegend": false,
                  "text": [
                    "<b>Package</b>: chance<br><b>Version</b>: 1.1.8<br><b>Count</b>: 1",
                    "<b>Package</b>: chance<br><b>Version</b>: 1.1.9<br><b>Count</b>: 1"
                  ],
                  "type": "scatter",
                  "x": [
                    1,
                    1
                  ],
                  "y": [
                    19,
                    20
                  ]
                },
                {
                  "bandwidth": 0.4,
                  "fillcolor": "black",
                  "hoverinfo": "none",
                  "hoveron": "points",
                  "line": {
                    "color": "black"
                  },
                  "opacity": 0.15,
                  "showlegend": false,
                  "type": "violin",
                  "width": 0.7,
                  "x": [
                    1,
                    1
                  ],
                  "y": [
                    19,
                    20
                  ]
                },
                {
                  "hoverinfo": "text",
                  "hoverlabel": {
                    "font": {
                      "size": 18
                    }
                  },
                  "marker": {
                    "color": "#C4E5C8",
                    "size": 8
                  },
                  "mode": "markers",
                  "name": "",
                  "showlegend": false,
                  "text": [
                    "<b>Package</b>: underscore<br><b>Version</b>: 1.8.3<br><b>Count</b>: 3",
                    "<b>Package</b>: underscore<br><b>Version</b>: 1.8.3<br><b>Count</b>: 3",
                    "<b>Package</b>: underscore<br><b>Version</b>: 1.8.3<br><b>Count</b>: 3",
                    "<b>Package</b>: underscore<br><b>Version</b>: 1.8.x<br><b>Count</b>: 2",
                    "<b>Package</b>: underscore<br><b>Version</b>: 1.8.x<br><b>Count</b>: 2",
                    "<b>Package</b>: underscore<br><b>Version</b>: 1.12.1<br><b>Count</b>: 1"
                  ],
                  "type": "scatter",
                  "x": [
                    15,
                    15,
                    15,
                    15,
                    15,
                    15
                  ],
                  "y": [
                    34,
                    34,
                    34,
                    36,
                    36,
                    47
                  ]
                },
                {
                  "bandwidth": 0.4,
                  "fillcolor": "black",
                  "hoverinfo": "none",
                  "hoveron": "points",
                  "line": {
                    "color": "black"
                  },
                  "opacity": 0.15,
                  "showlegend": false,
                  "type": "violin",
                  "width": 0.7,
                  "x": [
                    15,
                    15,
                    15,
                    15,
                    15,
                    15
                  ],
                  "y": [
                    34,
                    34,
                    34,
                    36,
                    36,
                    47
                  ]
                },
                {
                  "hoverinfo": "text",
                  "hoverlabel": {
                    "font": {
                      "size": 18
                    }
                  },
                  "marker": {
                    "color": "#7E9BD3",
                    "size": 8
                  },
                  "mode": "markers",
                  "name": "",
                  "showlegend": false,
                  "text": [
                    "<b>Package</b>: dayjs<br><b>Version</b>: 1.8.36<br><b>Count</b>: 1",
                    "<b>Package</b>: dayjs<br><b>Version</b>: 1.10.4<br><b>Count</b>: 2",
                    "<b>Package</b>: dayjs<br><b>Version</b>: 1.10.4<br><b>Count</b>: 2",
                    "<b>Package</b>: dayjs<br><b>Version</b>: 1.10.6<br><b>Count</b>: 1",
                    "<b>Package</b>: dayjs<br><b>Version</b>: 1.10.7<br><b>Count</b>: 1",
                    "<b>Package</b>: dayjs<br><b>Version</b>: 1.11.10<br><b>Count</b>: 7",
                    "<b>Package</b>: dayjs<br><b>Version</b>: 1.11.10<br><b>Count</b>: 7",
                    "<b>Package</b>: dayjs<br><b>Version</b>: 1.11.10<br><b>Count</b>: 7",
                    "<b>Package</b>: dayjs<br><b>Version</b>: 1.11.10<br><b>Count</b>: 7",
                    "<b>Package</b>: dayjs<br><b>Version</b>: 1.11.10<br><b>Count</b>: 7",
                    "<b>Package</b>: dayjs<br><b>Version</b>: 1.11.10<br><b>Count</b>: 7",
                    "<b>Package</b>: dayjs<br><b>Version</b>: 1.11.10<br><b>Count</b>: 7",
                    "<b>Package</b>: dayjs<br><b>Version</b>: 1.11.11<br><b>Count</b>: 4",
                    "<b>Package</b>: dayjs<br><b>Version</b>: 1.11.11<br><b>Count</b>: 4",
                    "<b>Package</b>: dayjs<br><b>Version</b>: 1.11.11<br><b>Count</b>: 4",
                    "<b>Package</b>: dayjs<br><b>Version</b>: 1.11.11<br><b>Count</b>: 4",
                    "<b>Package</b>: dayjs<br><b>Version</b>: 1.11.12<br><b>Count</b>: 4",
                    "<b>Package</b>: dayjs<br><b>Version</b>: 1.11.12<br><b>Count</b>: 4",
                    "<b>Package</b>: dayjs<br><b>Version</b>: 1.11.12<br><b>Count</b>: 4",
                    "<b>Package</b>: dayjs<br><b>Version</b>: 1.11.12<br><b>Count</b>: 4",
                    "<b>Package</b>: dayjs<br><b>Version</b>: 1.11.5<br><b>Count</b>: 1",
                    "<b>Package</b>: dayjs<br><b>Version</b>: 1.11.6<br><b>Count</b>: 2",
                    "<b>Package</b>: dayjs<br><b>Version</b>: 1.11.6<br><b>Count</b>: 2",
                    "<b>Package</b>: dayjs<br><b>Version</b>: 1.11.7<br><b>Count</b>: 8",
                    "<b>Package</b>: dayjs<br><b>Version</b>: 1.11.7<br><b>Count</b>: 8",
                    "<b>Package</b>: dayjs<br><b>Version</b>: 1.11.7<br><b>Count</b>: 8",
                    "<b>Package</b>: dayjs<br><b>Version</b>: 1.11.7<br><b>Count</b>: 8",
                    "<b>Package</b>: dayjs<br><b>Version</b>: 1.11.7<br><b>Count</b>: 8",
                    "<b>Package</b>: dayjs<br><b>Version</b>: 1.11.7<br><b>Count</b>: 8",
                    "<b>Package</b>: dayjs<br><b>Version</b>: 1.11.7<br><b>Count</b>: 8",
                    "<b>Package</b>: dayjs<br><b>Version</b>: 1.11.7<br><b>Count</b>: 8",
                    "<b>Package</b>: dayjs<br><b>Version</b>: 1.11.9<br><b>Count</b>: 2",
                    "<b>Package</b>: dayjs<br><b>Version</b>: 1.11.9<br><b>Count</b>: 2"
                  ],
                  "type": "scatter",
                  "x": [
                    4,
                    4,
                    4,
                    4,
                    4,
                    4,
                    4,
                    4,
                    4,
                    4,
                    4,
                    4,
                    4,
                    4,
                    4,
                    4,
                    4,
                    4,
                    4,
                    4,
                    4,
                    4,
                    4,
                    4,
                    4,
                    4,
                    4,
                    4,
                    4,
                    4,
                    4,
                    4,
                    4
                  ],
                  "y": [
                    35,
                    37,
                    37,
                    38,
                    39,
                    40,
                    40,
                    40,
                    40,
                    40,
                    40,
                    40,
                    41,
                    41,
                    41,
                    41,
                    42,
                    42,
                    42,
                    42,
                    43,
                    44,
                    44,
                    45,
                    45,
                    45,
                    45,
                    45,
                    45,
                    45,
                    45,
                    46,
                    46
                  ]
                },
                {
                  "bandwidth": 0.4,
                  "fillcolor": "black",
                  "hoverinfo": "none",
                  "hoveron": "points",
                  "line": {
                    "color": "black"
                  },
                  "opacity": 0.15,
                  "showlegend": false,
                  "type": "violin",
                  "width": 0.7,
                  "x": [
                    4,
                    4,
                    4,
                    4,
                    4,
                    4,
                    4,
                    4,
                    4,
                    4,
                    4,
                    4,
                    4,
                    4,
                    4,
                    4,
                    4,
                    4,
                    4,
                    4,
                    4,
                    4,
                    4,
                    4,
                    4,
                    4,
                    4,
                    4,
                    4,
                    4,
                    4,
                    4,
                    4
                  ],
                  "y": [
                    35,
                    37,
                    37,
                    38,
                    39,
                    40,
                    40,
                    40,
                    40,
                    40,
                    40,
                    40,
                    41,
                    41,
                    41,
                    41,
                    42,
                    42,
                    42,
                    42,
                    43,
                    44,
                    44,
                    45,
                    45,
                    45,
                    45,
                    45,
                    45,
                    45,
                    45,
                    46,
                    46
                  ]
                },
                {
                  "hoverinfo": "text",
                  "hoverlabel": {
                    "font": {
                      "size": 18
                    }
                  },
                  "marker": {
                    "color": "#2F42FF",
                    "size": 8
                  },
                  "mode": "markers",
                  "name": "",
                  "showlegend": false,
                  "text": [
                    "<b>Package</b>: date-fns<br><b>Version</b>: 2.0.0<br><b>Count</b>: 1",
                    "<b>Package</b>: date-fns<br><b>Version</b>: 2.16.1<br><b>Count</b>: 4",
                    "<b>Package</b>: date-fns<br><b>Version</b>: 2.16.1<br><b>Count</b>: 4",
                    "<b>Package</b>: date-fns<br><b>Version</b>: 2.16.1<br><b>Count</b>: 4",
                    "<b>Package</b>: date-fns<br><b>Version</b>: 2.16.1<br><b>Count</b>: 4",
                    "<b>Package</b>: date-fns<br><b>Version</b>: 2.25.0<br><b>Count</b>: 1",
                    "<b>Package</b>: date-fns<br><b>Version</b>: 2.28.0<br><b>Count</b>: 3",
                    "<b>Package</b>: date-fns<br><b>Version</b>: 2.28.0<br><b>Count</b>: 3",
                    "<b>Package</b>: date-fns<br><b>Version</b>: 2.28.0<br><b>Count</b>: 3",
                    "<b>Package</b>: date-fns<br><b>Version</b>: 2.29.3<br><b>Count</b>: 3",
                    "<b>Package</b>: date-fns<br><b>Version</b>: 2.29.3<br><b>Count</b>: 3",
                    "<b>Package</b>: date-fns<br><b>Version</b>: 2.29.3<br><b>Count</b>: 3",
                    "<b>Package</b>: date-fns<br><b>Version</b>: 2.30.0<br><b>Count</b>: 6",
                    "<b>Package</b>: date-fns<br><b>Version</b>: 2.30.0<br><b>Count</b>: 6",
                    "<b>Package</b>: date-fns<br><b>Version</b>: 2.30.0<br><b>Count</b>: 6",
                    "<b>Package</b>: date-fns<br><b>Version</b>: 2.30.0<br><b>Count</b>: 6",
                    "<b>Package</b>: date-fns<br><b>Version</b>: 2.30.0<br><b>Count</b>: 6",
                    "<b>Package</b>: date-fns<br><b>Version</b>: 2.30.0<br><b>Count</b>: 6",
                    "<b>Package</b>: date-fns<br><b>Version</b>: 3.0.0<br><b>Count</b>: 1",
                    "<b>Package</b>: date-fns<br><b>Version</b>: 3.3.1<br><b>Count</b>: 2",
                    "<b>Package</b>: date-fns<br><b>Version</b>: 3.3.1<br><b>Count</b>: 2",
                    "<b>Package</b>: date-fns<br><b>Version</b>: 3.6.0<br><b>Count</b>: 6",
                    "<b>Package</b>: date-fns<br><b>Version</b>: 3.6.0<br><b>Count</b>: 6",
                    "<b>Package</b>: date-fns<br><b>Version</b>: 3.6.0<br><b>Count</b>: 6",
                    "<b>Package</b>: date-fns<br><b>Version</b>: 3.6.0<br><b>Count</b>: 6",
                    "<b>Package</b>: date-fns<br><b>Version</b>: 3.6.0<br><b>Count</b>: 6",
                    "<b>Package</b>: date-fns<br><b>Version</b>: 3.6.0<br><b>Count</b>: 6"
                  ],
                  "type": "scatter",
                  "x": [
                    3,
                    3,
                    3,
                    3,
                    3,
                    3,
                    3,
                    3,
                    3,
                    3,
                    3,
                    3,
                    3,
                    3,
                    3,
                    3,
                    3,
                    3,
                    3,
                    3,
                    3,
                    3,
                    3,
                    3,
                    3,
                    3,
                    3
                  ],
                  "y": [
                    48,
                    52,
                    52,
                    52,
                    52,
                    59,
                    60,
                    60,
                    60,
                    62,
                    62,
                    62,
                    64,
                    64,
                    64,
                    64,
                    64,
                    64,
                    66,
                    73,
                    73,
                    78,
                    78,
                    78,
                    78,
                    78,
                    78
                  ]
                },
                {
                  "bandwidth": 0.4,
                  "fillcolor": "black",
                  "hoverinfo": "none",
                  "hoveron": "points",
                  "line": {
                    "color": "black"
                  },
                  "opacity": 0.15,
                  "showlegend": false,
                  "type": "violin",
                  "width": 0.7,
                  "x": [
                    3,
                    3,
                    3,
                    3,
                    3,
                    3,
                    3,
                    3,
                    3,
                    3,
                    3,
                    3,
                    3,
                    3,
                    3,
                    3,
                    3,
                    3,
                    3,
                    3,
                    3,
                    3,
                    3,
                    3,
                    3,
                    3,
                    3
                  ],
                  "y": [
                    48,
                    52,
                    52,
                    52,
                    52,
                    59,
                    60,
                    60,
                    60,
                    62,
                    62,
                    62,
                    64,
                    64,
                    64,
                    64,
                    64,
                    64,
                    66,
                    73,
                    73,
                    78,
                    78,
                    78,
                    78,
                    78,
                    78
                  ]
                },
                {
                  "hoverinfo": "text",
                  "hoverlabel": {
                    "font": {
                      "size": 18
                    }
                  },
                  "marker": {
                    "color": "#001A3E",
                    "size": 8
                  },
                  "mode": "markers",
                  "name": "",
                  "showlegend": false,
                  "text": [
                    "<b>Package</b>: nanoid<br><b>Version</b>: 2.0.0<br><b>Count</b>: 1",
                    "<b>Package</b>: nanoid<br><b>Version</b>: 3.1.12<br><b>Count</b>: 1",
                    "<b>Package</b>: nanoid<br><b>Version</b>: 3.1.16<br><b>Count</b>: 1",
                    "<b>Package</b>: nanoid<br><b>Version</b>: 3.1.31<br><b>Count</b>: 1",
                    "<b>Package</b>: nanoid<br><b>Version</b>: 3.2.0<br><b>Count</b>: 2",
                    "<b>Package</b>: nanoid<br><b>Version</b>: 3.2.0<br><b>Count</b>: 2",
                    "<b>Package</b>: nanoid<br><b>Version</b>: 3.3.0<br><b>Count</b>: 1",
                    "<b>Package</b>: nanoid<br><b>Version</b>: 3.3.3<br><b>Count</b>: 2",
                    "<b>Package</b>: nanoid<br><b>Version</b>: 3.3.3<br><b>Count</b>: 2",
                    "<b>Package</b>: nanoid<br><b>Version</b>: 3.3.4<br><b>Count</b>: 3",
                    "<b>Package</b>: nanoid<br><b>Version</b>: 3.3.4<br><b>Count</b>: 3",
                    "<b>Package</b>: nanoid<br><b>Version</b>: 3.3.4<br><b>Count</b>: 3",
                    "<b>Package</b>: nanoid<br><b>Version</b>: 3.3.6<br><b>Count</b>: 3",
                    "<b>Package</b>: nanoid<br><b>Version</b>: 3.3.6<br><b>Count</b>: 3",
                    "<b>Package</b>: nanoid<br><b>Version</b>: 3.3.6<br><b>Count</b>: 3",
                    "<b>Package</b>: nanoid<br><b>Version</b>: 4.0.1<br><b>Count</b>: 1",
                    "<b>Package</b>: nanoid<br><b>Version</b>: 4.0.2<br><b>Count</b>: 1",
                    "<b>Package</b>: nanoid<br><b>Version</b>: 5.0.1<br><b>Count</b>: 2",
                    "<b>Package</b>: nanoid<br><b>Version</b>: 5.0.1<br><b>Count</b>: 2",
                    "<b>Package</b>: nanoid<br><b>Version</b>: 5.0.3<br><b>Count</b>: 1",
                    "<b>Package</b>: nanoid<br><b>Version</b>: 5.0.4<br><b>Count</b>: 1",
                    "<b>Package</b>: nanoid<br><b>Version</b>: 5.0.5<br><b>Count</b>: 2",
                    "<b>Package</b>: nanoid<br><b>Version</b>: 5.0.5<br><b>Count</b>: 2",
                    "<b>Package</b>: nanoid<br><b>Version</b>: 5.0.7<br><b>Count</b>: 1"
                  ],
                  "type": "scatter",
                  "x": [
                    11,
                    11,
                    11,
                    11,
                    11,
                    11,
                    11,
                    11,
                    11,
                    11,
                    11,
                    11,
                    11,
                    11,
                    11,
                    11,
                    11,
                    11,
                    11,
                    11,
                    11,
                    11,
                    11,
                    11
                  ],
                  "y": [
                    48,
                    68,
                    69,
                    70,
                    71,
                    71,
                    72,
                    75,
                    75,
                    76,
                    76,
                    76,
                    77,
                    77,
                    77,
                    85,
                    86,
                    102,
                    102,
                    103,
                    104,
                    105,
                    105,
                    106
                  ]
                },
                {
                  "bandwidth": 0.4,
                  "fillcolor": "black",
                  "hoverinfo": "none",
                  "hoveron": "points",
                  "line": {
                    "color": "black"
                  },
                  "opacity": 0.15,
                  "showlegend": false,
                  "type": "violin",
                  "width": 0.7,
                  "x": [
                    11,
                    11,
                    11,
                    11,
                    11,
                    11,
                    11,
                    11,
                    11,
                    11,
                    11,
                    11,
                    11,
                    11,
                    11,
                    11,
                    11,
                    11,
                    11,
                    11,
                    11,
                    11,
                    11,
                    11
                  ],
                  "y": [
                    48,
                    68,
                    69,
                    70,
                    71,
                    71,
                    72,
                    75,
                    75,
                    76,
                    76,
                    76,
                    77,
                    77,
                    77,
                    85,
                    86,
                    102,
                    102,
                    103,
                    104,
                    105,
                    105,
                    106
                  ]
                },
                {
                  "hoverinfo": "text",
                  "hoverlabel": {
                    "font": {
                      "size": 18
                    }
                  },
                  "marker": {
                    "color": "#27AA88",
                    "size": 8
                  },
                  "mode": "markers",
                  "name": "",
                  "showlegend": false,
                  "text": [
                    "<b>Package</b>: deepmerge<br><b>Version</b>: 2.2.1<br><b>Count</b>: 1",
                    "<b>Package</b>: deepmerge<br><b>Version</b>: 4.0.0<br><b>Count</b>: 1",
                    "<b>Package</b>: deepmerge<br><b>Version</b>: 4.2.0<br><b>Count</b>: 1",
                    "<b>Package</b>: deepmerge<br><b>Version</b>: 4.2.2<br><b>Count</b>: 2",
                    "<b>Package</b>: deepmerge<br><b>Version</b>: 4.2.2<br><b>Count</b>: 2"
                  ],
                  "type": "scatter",
                  "x": [
                    5,
                    5,
                    5,
                    5,
                    5
                  ],
                  "y": [
                    50,
                    84,
                    89,
                    90,
                    90
                  ]
                },
                {
                  "bandwidth": 0.4,
                  "fillcolor": "black",
                  "hoverinfo": "none",
                  "hoveron": "points",
                  "line": {
                    "color": "black"
                  },
                  "opacity": 0.15,
                  "showlegend": false,
                  "type": "violin",
                  "width": 0.7,
                  "x": [
                    5,
                    5,
                    5,
                    5,
                    5
                  ],
                  "y": [
                    50,
                    84,
                    89,
                    90,
                    90
                  ]
                },
                {
                  "hoverinfo": "text",
                  "hoverlabel": {
                    "font": {
                      "size": 18
                    }
                  },
                  "marker": {
                    "color": "#C4E5C8",
                    "size": 8
                  },
                  "mode": "markers",
                  "name": "",
                  "showlegend": false,
                  "text": [
                    "<b>Package</b>: shortid<br><b>Version</b>: 2.2.14<br><b>Count</b>: 1"
                  ],
                  "type": "scatter",
                  "x": [
                    14
                  ],
                  "y": [
                    51
                  ]
                },
                {
                  "bandwidth": 0.4,
                  "fillcolor": "black",
                  "hoverinfo": "none",
                  "hoveron": "points",
                  "line": {
                    "color": "black"
                  },
                  "opacity": 0.15,
                  "showlegend": false,
                  "type": "violin",
                  "width": 0.7,
                  "x": [
                    14
                  ],
                  "y": [
                    51
                  ]
                },
                {
                  "hoverinfo": "text",
                  "hoverlabel": {
                    "font": {
                      "size": 18
                    }
                  },
                  "marker": {
                    "color": "#7E9BD3",
                    "size": 8
                  },
                  "mode": "markers",
                  "name": "",
                  "showlegend": false,
                  "text": [
                    "<b>Package</b>: crypto-js<br><b>Version</b>: 4.1.1<br><b>Count</b>: 1",
                    "<b>Package</b>: crypto-js<br><b>Version</b>: 4.2.0<br><b>Count</b>: 3",
                    "<b>Package</b>: crypto-js<br><b>Version</b>: 4.2.0<br><b>Count</b>: 3",
                    "<b>Package</b>: crypto-js<br><b>Version</b>: 4.2.0<br><b>Count</b>: 3"
                  ],
                  "type": "scatter",
                  "x": [
                    2,
                    2,
                    2,
                    2
                  ],
                  "y": [
                    88,
                    89,
                    89,
                    89
                  ]
                },
                {
                  "bandwidth": 0.4,
                  "fillcolor": "black",
                  "hoverinfo": "none",
                  "hoveron": "points",
                  "line": {
                    "color": "black"
                  },
                  "opacity": 0.15,
                  "showlegend": false,
                  "type": "violin",
                  "width": 0.7,
                  "x": [
                    2,
                    2,
                    2,
                    2
                  ],
                  "y": [
                    88,
                    89,
                    89,
                    89
                  ]
                },
                {
                  "hoverinfo": "text",
                  "hoverlabel": {
                    "font": {
                      "size": 18
                    }
                  },
                  "marker": {
                    "color": "#2F42FF",
                    "size": 8
                  },
                  "mode": "markers",
                  "name": "",
                  "showlegend": false,
                  "text": [
                    "<b>Package</b>: faker<br><b>Version</b>: 5.5.3<br><b>Count</b>: 2",
                    "<b>Package</b>: faker<br><b>Version</b>: 5.5.3<br><b>Count</b>: 2"
                  ],
                  "type": "scatter",
                  "x": [
                    6,
                    6
                  ],
                  "y": [
                    107,
                    107
                  ]
                },
                {
                  "bandwidth": 0.4,
                  "fillcolor": "black",
                  "hoverinfo": "none",
                  "hoveron": "points",
                  "line": {
                    "color": "black"
                  },
                  "opacity": 0.15,
                  "showlegend": false,
                  "type": "violin",
                  "width": 0.7,
                  "x": [
                    6,
                    6
                  ],
                  "y": [
                    107,
                    107
                  ]
                },
                {
                  "hoverinfo": "text",
                  "hoverlabel": {
                    "font": {
                      "size": 18
                    }
                  },
                  "marker": {
                    "color": "#001A3E",
                    "size": 8
                  },
                  "mode": "markers",
                  "name": "",
                  "showlegend": false,
                  "text": [
                    "<b>Package</b>: validator<br><b>Version</b>: 6.2.0<br><b>Count</b>: 1",
                    "<b>Package</b>: validator<br><b>Version</b>: 13.0.0<br><b>Count</b>: 2",
                    "<b>Package</b>: validator<br><b>Version</b>: 13.0.0<br><b>Count</b>: 2",
                    "<b>Package</b>: validator<br><b>Version</b>: 13.1.1<br><b>Count</b>: 1",
                    "<b>Package</b>: validator<br><b>Version</b>: 13.7.0<br><b>Count</b>: 1",
                    "<b>Package</b>: validator<br><b>Version</b>: 13.9.0<br><b>Count</b>: 2",
                    "<b>Package</b>: validator<br><b>Version</b>: 13.9.0<br><b>Count</b>: 2",
                    "<b>Package</b>: validator<br><b>Version</b>: 13.11.0<br><b>Count</b>: 1",
                    "<b>Package</b>: validator<br><b>Version</b>: 13.12.0<br><b>Count</b>: 2",
                    "<b>Package</b>: validator<br><b>Version</b>: 13.12.0<br><b>Count</b>: 2"
                  ],
                  "type": "scatter",
                  "x": [
                    17,
                    17,
                    17,
                    17,
                    17,
                    17,
                    17,
                    17,
                    17,
                    17
                  ],
                  "y": [
                    108,
                    132,
                    132,
                    134,
                    135,
                    136,
                    136,
                    137,
                    138,
                    138
                  ]
                },
                {
                  "bandwidth": 0.4,
                  "fillcolor": "black",
                  "hoverinfo": "none",
                  "hoveron": "points",
                  "line": {
                    "color": "black"
                  },
                  "opacity": 0.15,
                  "showlegend": false,
                  "type": "violin",
                  "width": 0.7,
                  "x": [
                    17,
                    17,
                    17,
                    17,
                    17,
                    17,
                    17,
                    17,
                    17,
                    17
                  ],
                  "y": [
                    108,
                    132,
                    132,
                    134,
                    135,
                    136,
                    136,
                    137,
                    138,
                    138
                  ]
                },
                {
                  "hoverinfo": "text",
                  "hoverlabel": {
                    "font": {
                      "size": 18
                    }
                  },
                  "marker": {
                    "color": "#27AA88",
                    "size": 8
                  },
                  "mode": "markers",
                  "name": "",
                  "showlegend": false,
                  "text": [
                    "<b>Package</b>: rxjs<br><b>Version</b>: 6.2.1<br><b>Count</b>: 1",
                    "<b>Package</b>: rxjs<br><b>Version</b>: 6.3.3<br><b>Count</b>: 1",
                    "<b>Package</b>: rxjs<br><b>Version</b>: 6.5.2<br><b>Count</b>: 1",
                    "<b>Package</b>: rxjs<br><b>Version</b>: 6.5.3<br><b>Count</b>: 1",
                    "<b>Package</b>: rxjs<br><b>Version</b>: 6.5.4<br><b>Count</b>: 1",
                    "<b>Package</b>: rxjs<br><b>Version</b>: 6.6.0<br><b>Count</b>: 1",
                    "<b>Package</b>: rxjs<br><b>Version</b>: 6.6.3<br><b>Count</b>: 1",
                    "<b>Package</b>: rxjs<br><b>Version</b>: 6.6.6<br><b>Count</b>: 1",
                    "<b>Package</b>: rxjs<br><b>Version</b>: 7.x<br><b>Count</b>: 1",
                    "<b>Package</b>: rxjs<br><b>Version</b>: 7.0.0<br><b>Count</b>: 1",
                    "<b>Package</b>: rxjs<br><b>Version</b>: 7.2.0<br><b>Count</b>: 1",
                    "<b>Package</b>: rxjs<br><b>Version</b>: 7.4.0<br><b>Count</b>: 2",
                    "<b>Package</b>: rxjs<br><b>Version</b>: 7.4.0<br><b>Count</b>: 2",
                    "<b>Package</b>: rxjs<br><b>Version</b>: 7.5.0<br><b>Count</b>: 3",
                    "<b>Package</b>: rxjs<br><b>Version</b>: 7.5.0<br><b>Count</b>: 3",
                    "<b>Package</b>: rxjs<br><b>Version</b>: 7.5.0<br><b>Count</b>: 3",
                    "<b>Package</b>: rxjs<br><b>Version</b>: 7.5.5<br><b>Count</b>: 1",
                    "<b>Package</b>: rxjs<br><b>Version</b>: 7.8.0<br><b>Count</b>: 8",
                    "<b>Package</b>: rxjs<br><b>Version</b>: 7.8.0<br><b>Count</b>: 8",
                    "<b>Package</b>: rxjs<br><b>Version</b>: 7.8.0<br><b>Count</b>: 8",
                    "<b>Package</b>: rxjs<br><b>Version</b>: 7.8.0<br><b>Count</b>: 8",
                    "<b>Package</b>: rxjs<br><b>Version</b>: 7.8.0<br><b>Count</b>: 8",
                    "<b>Package</b>: rxjs<br><b>Version</b>: 7.8.0<br><b>Count</b>: 8",
                    "<b>Package</b>: rxjs<br><b>Version</b>: 7.8.0<br><b>Count</b>: 8",
                    "<b>Package</b>: rxjs<br><b>Version</b>: 7.8.0<br><b>Count</b>: 8",
                    "<b>Package</b>: rxjs<br><b>Version</b>: 7.8.1<br><b>Count</b>: 15",
                    "<b>Package</b>: rxjs<br><b>Version</b>: 7.8.1<br><b>Count</b>: 15",
                    "<b>Package</b>: rxjs<br><b>Version</b>: 7.8.1<br><b>Count</b>: 15",
                    "<b>Package</b>: rxjs<br><b>Version</b>: 7.8.1<br><b>Count</b>: 15",
                    "<b>Package</b>: rxjs<br><b>Version</b>: 7.8.1<br><b>Count</b>: 15",
                    "<b>Package</b>: rxjs<br><b>Version</b>: 7.8.1<br><b>Count</b>: 15",
                    "<b>Package</b>: rxjs<br><b>Version</b>: 7.8.1<br><b>Count</b>: 15",
                    "<b>Package</b>: rxjs<br><b>Version</b>: 7.8.1<br><b>Count</b>: 15",
                    "<b>Package</b>: rxjs<br><b>Version</b>: 7.8.1<br><b>Count</b>: 15",
                    "<b>Package</b>: rxjs<br><b>Version</b>: 7.8.1<br><b>Count</b>: 15",
                    "<b>Package</b>: rxjs<br><b>Version</b>: 7.8.1<br><b>Count</b>: 15",
                    "<b>Package</b>: rxjs<br><b>Version</b>: 7.8.1<br><b>Count</b>: 15",
                    "<b>Package</b>: rxjs<br><b>Version</b>: 7.8.1<br><b>Count</b>: 15",
                    "<b>Package</b>: rxjs<br><b>Version</b>: 7.8.1<br><b>Count</b>: 15",
                    "<b>Package</b>: rxjs<br><b>Version</b>: 7.8.1<br><b>Count</b>: 15"
                  ],
                  "type": "scatter",
                  "x": [
                    13,
                    13,
                    13,
                    13,
                    13,
                    13,
                    13,
                    13,
                    13,
                    13,
                    13,
                    13,
                    13,
                    13,
                    13,
                    13,
                    13,
                    13,
                    13,
                    13,
                    13,
                    13,
                    13,
                    13,
                    13,
                    13,
                    13,
                    13,
                    13,
                    13,
                    13,
                    13,
                    13,
                    13,
                    13,
                    13,
                    13,
                    13,
                    13,
                    13
                  ],
                  "y": [
                    109,
                    110,
                    111,
                    112,
                    113,
                    114,
                    115,
                    116,
                    117,
                    118,
                    120,
                    121,
                    121,
                    122,
                    122,
                    122,
                    123,
                    124,
                    124,
                    124,
                    124,
                    124,
                    124,
                    124,
                    124,
                    125,
                    125,
                    125,
                    125,
                    125,
                    125,
                    125,
                    125,
                    125,
                    125,
                    125,
                    125,
                    125,
                    125,
                    125
                  ]
                },
                {
                  "bandwidth": 0.4,
                  "fillcolor": "black",
                  "hoverinfo": "none",
                  "hoveron": "points",
                  "line": {
                    "color": "black"
                  },
                  "opacity": 0.15,
                  "showlegend": false,
                  "type": "violin",
                  "width": 0.7,
                  "x": [
                    13,
                    13,
                    13,
                    13,
                    13,
                    13,
                    13,
                    13,
                    13,
                    13,
                    13,
                    13,
                    13,
                    13,
                    13,
                    13,
                    13,
                    13,
                    13,
                    13,
                    13,
                    13,
                    13,
                    13,
                    13,
                    13,
                    13,
                    13,
                    13,
                    13,
                    13,
                    13,
                    13,
                    13,
                    13,
                    13,
                    13,
                    13,
                    13,
                    13
                  ],
                  "y": [
                    109,
                    110,
                    111,
                    112,
                    113,
                    114,
                    115,
                    116,
                    117,
                    118,
                    120,
                    121,
                    121,
                    122,
                    122,
                    122,
                    123,
                    124,
                    124,
                    124,
                    124,
                    124,
                    124,
                    124,
                    124,
                    125,
                    125,
                    125,
                    125,
                    125,
                    125,
                    125,
                    125,
                    125,
                    125,
                    125,
                    125,
                    125,
                    125,
                    125
                  ]
                },
                {
                  "hoverinfo": "text",
                  "hoverlabel": {
                    "font": {
                      "size": 18
                    }
                  },
                  "marker": {
                    "color": "#C4E5C8",
                    "size": 8
                  },
                  "mode": "markers",
                  "name": "",
                  "showlegend": false,
                  "text": [
                    "<b>Package</b>: mathjs<br><b>Version</b>: 11.9.1<br><b>Count</b>: 1",
                    "<b>Package</b>: mathjs<br><b>Version</b>: 13.0.2<br><b>Count</b>: 2",
                    "<b>Package</b>: mathjs<br><b>Version</b>: 13.0.2<br><b>Count</b>: 2"
                  ],
                  "type": "scatter",
                  "x": [
                    9,
                    9,
                    9
                  ],
                  "y": [
                    131,
                    133,
                    133
                  ]
                },
                {
                  "bandwidth": 0.4,
                  "fillcolor": "black",
                  "hoverinfo": "none",
                  "hoveron": "points",
                  "line": {
                    "color": "black"
                  },
                  "opacity": 0.15,
                  "showlegend": false,
                  "type": "violin",
                  "width": 0.7,
                  "x": [
                    9,
                    9,
                    9
                  ],
                  "y": [
                    131,
                    133,
                    133
                  ]
                }
              ],
              "layout": {
                "height": 4448,
                "template": {
                  "data": {
                    "bar": [
                      {
                        "error_x": {
                          "color": "#2a3f5f"
                        },
                        "error_y": {
                          "color": "#2a3f5f"
                        },
                        "marker": {
                          "line": {
                            "color": "#E5ECF6",
                            "width": 0.5
                          },
                          "pattern": {
                            "fillmode": "overlay",
                            "size": 10,
                            "solidity": 0.2
                          }
                        },
                        "type": "bar"
                      }
                    ],
                    "barpolar": [
                      {
                        "marker": {
                          "line": {
                            "color": "#E5ECF6",
                            "width": 0.5
                          },
                          "pattern": {
                            "fillmode": "overlay",
                            "size": 10,
                            "solidity": 0.2
                          }
                        },
                        "type": "barpolar"
                      }
                    ],
                    "carpet": [
                      {
                        "aaxis": {
                          "endlinecolor": "#2a3f5f",
                          "gridcolor": "white",
                          "linecolor": "white",
                          "minorgridcolor": "white",
                          "startlinecolor": "#2a3f5f"
                        },
                        "baxis": {
                          "endlinecolor": "#2a3f5f",
                          "gridcolor": "white",
                          "linecolor": "white",
                          "minorgridcolor": "white",
                          "startlinecolor": "#2a3f5f"
                        },
                        "type": "carpet"
                      }
                    ],
                    "choropleth": [
                      {
                        "colorbar": {
                          "outlinewidth": 0,
                          "ticks": ""
                        },
                        "type": "choropleth"
                      }
                    ],
                    "contour": [
                      {
                        "colorbar": {
                          "outlinewidth": 0,
                          "ticks": ""
                        },
                        "colorscale": [
                          [
                            0,
                            "#0d0887"
                          ],
                          [
                            0.1111111111111111,
                            "#46039f"
                          ],
                          [
                            0.2222222222222222,
                            "#7201a8"
                          ],
                          [
                            0.3333333333333333,
                            "#9c179e"
                          ],
                          [
                            0.4444444444444444,
                            "#bd3786"
                          ],
                          [
                            0.5555555555555556,
                            "#d8576b"
                          ],
                          [
                            0.6666666666666666,
                            "#ed7953"
                          ],
                          [
                            0.7777777777777778,
                            "#fb9f3a"
                          ],
                          [
                            0.8888888888888888,
                            "#fdca26"
                          ],
                          [
                            1,
                            "#f0f921"
                          ]
                        ],
                        "type": "contour"
                      }
                    ],
                    "contourcarpet": [
                      {
                        "colorbar": {
                          "outlinewidth": 0,
                          "ticks": ""
                        },
                        "type": "contourcarpet"
                      }
                    ],
                    "heatmap": [
                      {
                        "colorbar": {
                          "outlinewidth": 0,
                          "ticks": ""
                        },
                        "colorscale": [
                          [
                            0,
                            "#0d0887"
                          ],
                          [
                            0.1111111111111111,
                            "#46039f"
                          ],
                          [
                            0.2222222222222222,
                            "#7201a8"
                          ],
                          [
                            0.3333333333333333,
                            "#9c179e"
                          ],
                          [
                            0.4444444444444444,
                            "#bd3786"
                          ],
                          [
                            0.5555555555555556,
                            "#d8576b"
                          ],
                          [
                            0.6666666666666666,
                            "#ed7953"
                          ],
                          [
                            0.7777777777777778,
                            "#fb9f3a"
                          ],
                          [
                            0.8888888888888888,
                            "#fdca26"
                          ],
                          [
                            1,
                            "#f0f921"
                          ]
                        ],
                        "type": "heatmap"
                      }
                    ],
                    "heatmapgl": [
                      {
                        "colorbar": {
                          "outlinewidth": 0,
                          "ticks": ""
                        },
                        "colorscale": [
                          [
                            0,
                            "#0d0887"
                          ],
                          [
                            0.1111111111111111,
                            "#46039f"
                          ],
                          [
                            0.2222222222222222,
                            "#7201a8"
                          ],
                          [
                            0.3333333333333333,
                            "#9c179e"
                          ],
                          [
                            0.4444444444444444,
                            "#bd3786"
                          ],
                          [
                            0.5555555555555556,
                            "#d8576b"
                          ],
                          [
                            0.6666666666666666,
                            "#ed7953"
                          ],
                          [
                            0.7777777777777778,
                            "#fb9f3a"
                          ],
                          [
                            0.8888888888888888,
                            "#fdca26"
                          ],
                          [
                            1,
                            "#f0f921"
                          ]
                        ],
                        "type": "heatmapgl"
                      }
                    ],
                    "histogram": [
                      {
                        "marker": {
                          "pattern": {
                            "fillmode": "overlay",
                            "size": 10,
                            "solidity": 0.2
                          }
                        },
                        "type": "histogram"
                      }
                    ],
                    "histogram2d": [
                      {
                        "colorbar": {
                          "outlinewidth": 0,
                          "ticks": ""
                        },
                        "colorscale": [
                          [
                            0,
                            "#0d0887"
                          ],
                          [
                            0.1111111111111111,
                            "#46039f"
                          ],
                          [
                            0.2222222222222222,
                            "#7201a8"
                          ],
                          [
                            0.3333333333333333,
                            "#9c179e"
                          ],
                          [
                            0.4444444444444444,
                            "#bd3786"
                          ],
                          [
                            0.5555555555555556,
                            "#d8576b"
                          ],
                          [
                            0.6666666666666666,
                            "#ed7953"
                          ],
                          [
                            0.7777777777777778,
                            "#fb9f3a"
                          ],
                          [
                            0.8888888888888888,
                            "#fdca26"
                          ],
                          [
                            1,
                            "#f0f921"
                          ]
                        ],
                        "type": "histogram2d"
                      }
                    ],
                    "histogram2dcontour": [
                      {
                        "colorbar": {
                          "outlinewidth": 0,
                          "ticks": ""
                        },
                        "colorscale": [
                          [
                            0,
                            "#0d0887"
                          ],
                          [
                            0.1111111111111111,
                            "#46039f"
                          ],
                          [
                            0.2222222222222222,
                            "#7201a8"
                          ],
                          [
                            0.3333333333333333,
                            "#9c179e"
                          ],
                          [
                            0.4444444444444444,
                            "#bd3786"
                          ],
                          [
                            0.5555555555555556,
                            "#d8576b"
                          ],
                          [
                            0.6666666666666666,
                            "#ed7953"
                          ],
                          [
                            0.7777777777777778,
                            "#fb9f3a"
                          ],
                          [
                            0.8888888888888888,
                            "#fdca26"
                          ],
                          [
                            1,
                            "#f0f921"
                          ]
                        ],
                        "type": "histogram2dcontour"
                      }
                    ],
                    "mesh3d": [
                      {
                        "colorbar": {
                          "outlinewidth": 0,
                          "ticks": ""
                        },
                        "type": "mesh3d"
                      }
                    ],
                    "parcoords": [
                      {
                        "line": {
                          "colorbar": {
                            "outlinewidth": 0,
                            "ticks": ""
                          }
                        },
                        "type": "parcoords"
                      }
                    ],
                    "pie": [
                      {
                        "automargin": true,
                        "type": "pie"
                      }
                    ],
                    "scatter": [
                      {
                        "fillpattern": {
                          "fillmode": "overlay",
                          "size": 10,
                          "solidity": 0.2
                        },
                        "type": "scatter"
                      }
                    ],
                    "scatter3d": [
                      {
                        "line": {
                          "colorbar": {
                            "outlinewidth": 0,
                            "ticks": ""
                          }
                        },
                        "marker": {
                          "colorbar": {
                            "outlinewidth": 0,
                            "ticks": ""
                          }
                        },
                        "type": "scatter3d"
                      }
                    ],
                    "scattercarpet": [
                      {
                        "marker": {
                          "colorbar": {
                            "outlinewidth": 0,
                            "ticks": ""
                          }
                        },
                        "type": "scattercarpet"
                      }
                    ],
                    "scattergeo": [
                      {
                        "marker": {
                          "colorbar": {
                            "outlinewidth": 0,
                            "ticks": ""
                          }
                        },
                        "type": "scattergeo"
                      }
                    ],
                    "scattergl": [
                      {
                        "marker": {
                          "colorbar": {
                            "outlinewidth": 0,
                            "ticks": ""
                          }
                        },
                        "type": "scattergl"
                      }
                    ],
                    "scattermapbox": [
                      {
                        "marker": {
                          "colorbar": {
                            "outlinewidth": 0,
                            "ticks": ""
                          }
                        },
                        "type": "scattermapbox"
                      }
                    ],
                    "scatterpolar": [
                      {
                        "marker": {
                          "colorbar": {
                            "outlinewidth": 0,
                            "ticks": ""
                          }
                        },
                        "type": "scatterpolar"
                      }
                    ],
                    "scatterpolargl": [
                      {
                        "marker": {
                          "colorbar": {
                            "outlinewidth": 0,
                            "ticks": ""
                          }
                        },
                        "type": "scatterpolargl"
                      }
                    ],
                    "scatterternary": [
                      {
                        "marker": {
                          "colorbar": {
                            "outlinewidth": 0,
                            "ticks": ""
                          }
                        },
                        "type": "scatterternary"
                      }
                    ],
                    "surface": [
                      {
                        "colorbar": {
                          "outlinewidth": 0,
                          "ticks": ""
                        },
                        "colorscale": [
                          [
                            0,
                            "#0d0887"
                          ],
                          [
                            0.1111111111111111,
                            "#46039f"
                          ],
                          [
                            0.2222222222222222,
                            "#7201a8"
                          ],
                          [
                            0.3333333333333333,
                            "#9c179e"
                          ],
                          [
                            0.4444444444444444,
                            "#bd3786"
                          ],
                          [
                            0.5555555555555556,
                            "#d8576b"
                          ],
                          [
                            0.6666666666666666,
                            "#ed7953"
                          ],
                          [
                            0.7777777777777778,
                            "#fb9f3a"
                          ],
                          [
                            0.8888888888888888,
                            "#fdca26"
                          ],
                          [
                            1,
                            "#f0f921"
                          ]
                        ],
                        "type": "surface"
                      }
                    ],
                    "table": [
                      {
                        "cells": {
                          "fill": {
                            "color": "#EBF0F8"
                          },
                          "line": {
                            "color": "white"
                          }
                        },
                        "header": {
                          "fill": {
                            "color": "#C8D4E3"
                          },
                          "line": {
                            "color": "white"
                          }
                        },
                        "type": "table"
                      }
                    ]
                  },
                  "layout": {
                    "annotationdefaults": {
                      "arrowcolor": "#2a3f5f",
                      "arrowhead": 0,
                      "arrowwidth": 1
                    },
                    "autotypenumbers": "strict",
                    "coloraxis": {
                      "colorbar": {
                        "outlinewidth": 0,
                        "ticks": ""
                      }
                    },
                    "colorscale": {
                      "diverging": [
                        [
                          0,
                          "#8e0152"
                        ],
                        [
                          0.1,
                          "#c51b7d"
                        ],
                        [
                          0.2,
                          "#de77ae"
                        ],
                        [
                          0.3,
                          "#f1b6da"
                        ],
                        [
                          0.4,
                          "#fde0ef"
                        ],
                        [
                          0.5,
                          "#f7f7f7"
                        ],
                        [
                          0.6,
                          "#e6f5d0"
                        ],
                        [
                          0.7,
                          "#b8e186"
                        ],
                        [
                          0.8,
                          "#7fbc41"
                        ],
                        [
                          0.9,
                          "#4d9221"
                        ],
                        [
                          1,
                          "#276419"
                        ]
                      ],
                      "sequential": [
                        [
                          0,
                          "#0d0887"
                        ],
                        [
                          0.1111111111111111,
                          "#46039f"
                        ],
                        [
                          0.2222222222222222,
                          "#7201a8"
                        ],
                        [
                          0.3333333333333333,
                          "#9c179e"
                        ],
                        [
                          0.4444444444444444,
                          "#bd3786"
                        ],
                        [
                          0.5555555555555556,
                          "#d8576b"
                        ],
                        [
                          0.6666666666666666,
                          "#ed7953"
                        ],
                        [
                          0.7777777777777778,
                          "#fb9f3a"
                        ],
                        [
                          0.8888888888888888,
                          "#fdca26"
                        ],
                        [
                          1,
                          "#f0f921"
                        ]
                      ],
                      "sequentialminus": [
                        [
                          0,
                          "#0d0887"
                        ],
                        [
                          0.1111111111111111,
                          "#46039f"
                        ],
                        [
                          0.2222222222222222,
                          "#7201a8"
                        ],
                        [
                          0.3333333333333333,
                          "#9c179e"
                        ],
                        [
                          0.4444444444444444,
                          "#bd3786"
                        ],
                        [
                          0.5555555555555556,
                          "#d8576b"
                        ],
                        [
                          0.6666666666666666,
                          "#ed7953"
                        ],
                        [
                          0.7777777777777778,
                          "#fb9f3a"
                        ],
                        [
                          0.8888888888888888,
                          "#fdca26"
                        ],
                        [
                          1,
                          "#f0f921"
                        ]
                      ]
                    },
                    "colorway": [
                      "#636efa",
                      "#EF553B",
                      "#00cc96",
                      "#ab63fa",
                      "#FFA15A",
                      "#19d3f3",
                      "#FF6692",
                      "#B6E880",
                      "#FF97FF",
                      "#FECB52"
                    ],
                    "font": {
                      "color": "#2a3f5f"
                    },
                    "geo": {
                      "bgcolor": "white",
                      "lakecolor": "white",
                      "landcolor": "#E5ECF6",
                      "showlakes": true,
                      "showland": true,
                      "subunitcolor": "white"
                    },
                    "hoverlabel": {
                      "align": "left"
                    },
                    "hovermode": "closest",
                    "mapbox": {
                      "style": "light"
                    },
                    "paper_bgcolor": "white",
                    "plot_bgcolor": "#E5ECF6",
                    "polar": {
                      "angularaxis": {
                        "gridcolor": "white",
                        "linecolor": "white",
                        "ticks": ""
                      },
                      "bgcolor": "#E5ECF6",
                      "radialaxis": {
                        "gridcolor": "white",
                        "linecolor": "white",
                        "ticks": ""
                      }
                    },
                    "scene": {
                      "xaxis": {
                        "backgroundcolor": "#E5ECF6",
                        "gridcolor": "white",
                        "gridwidth": 2,
                        "linecolor": "white",
                        "showbackground": true,
                        "ticks": "",
                        "zerolinecolor": "white"
                      },
                      "yaxis": {
                        "backgroundcolor": "#E5ECF6",
                        "gridcolor": "white",
                        "gridwidth": 2,
                        "linecolor": "white",
                        "showbackground": true,
                        "ticks": "",
                        "zerolinecolor": "white"
                      },
                      "zaxis": {
                        "backgroundcolor": "#E5ECF6",
                        "gridcolor": "white",
                        "gridwidth": 2,
                        "linecolor": "white",
                        "showbackground": true,
                        "ticks": "",
                        "zerolinecolor": "white"
                      }
                    },
                    "shapedefaults": {
                      "line": {
                        "color": "#2a3f5f"
                      }
                    },
                    "ternary": {
                      "aaxis": {
                        "gridcolor": "white",
                        "linecolor": "white",
                        "ticks": ""
                      },
                      "baxis": {
                        "gridcolor": "white",
                        "linecolor": "white",
                        "ticks": ""
                      },
                      "bgcolor": "#E5ECF6",
                      "caxis": {
                        "gridcolor": "white",
                        "linecolor": "white",
                        "ticks": ""
                      }
                    },
                    "title": {
                      "x": 0.05
                    },
                    "xaxis": {
                      "automargin": true,
                      "gridcolor": "white",
                      "linecolor": "white",
                      "ticks": "",
                      "title": {
                        "standoff": 15
                      },
                      "zerolinecolor": "white",
                      "zerolinewidth": 2
                    },
                    "yaxis": {
                      "automargin": true,
                      "gridcolor": "white",
                      "linecolor": "white",
                      "ticks": "",
                      "title": {
                        "standoff": 15
                      },
                      "zerolinecolor": "white",
                      "zerolinewidth": 2
                    }
                  }
                },
                "title": {
                  "text": "Package versions in use"
                },
                "width": 1520,
                "xaxis": {
                  "tickfont": {
                    "size": 13
                  },
                  "tickmode": "array",
                  "ticktext": [
                    "axios",
                    "chance",
                    "crypto-js",
                    "date-fns",
                    "dayjs",
                    "deepmerge",
                    "faker",
                    "js-yaml",
                    "lodash",
                    "mathjs",
                    "moment",
                    "nanoid",
                    "ramda",
                    "rxjs",
                    "shortid",
                    "underscore",
                    "uuid",
                    "validator",
                    "xml2js"
                  ],
                  "tickvals": [
                    0,
                    1,
                    2,
                    3,
                    4,
                    5,
                    6,
                    7,
                    8,
                    9,
                    10,
                    11,
                    12,
                    13,
                    14,
                    15,
                    16,
                    17,
                    18
                  ],
                  "title": {
                    "text": "Packages"
                  }
                },
                "yaxis": {
                  "tickfont": {
                    "size": 13
                  },
                  "tickmode": "array",
                  "ticktext": [
                    "file:../../..",
                    "file:../../../..",
                    "*",
                    "latest",
                    "0.2.1",
                    "0.5.0",
                    "0.6.2",
                    "0.15.3",
                    "0.16.1",
                    "0.18.0",
                    "0.19.0",
                    "0.21.1",
                    "0.21.4",
                    "0.26.0",
                    "0.26.1",
                    "0.27.2",
                    "0.28.0",
                    "0.28.1",
                    "1.1.3",
                    "1.1.8",
                    "1.1.9",
                    "1.2.1",
                    "1.2.2",
                    "1.4.0",
                    "1.5.1",
                    "1.6.0",
                    "1.6.1",
                    "1.6.2",
                    "1.6.3",
                    "1.6.5",
                    "1.6.7",
                    "1.6.8",
                    "1.7.2",
                    "1.7.3",
                    "1.8.3",
                    "1.8.36",
                    "1.8.x",
                    "1.10.4",
                    "1.10.6",
                    "1.10.7",
                    "1.11.10",
                    "1.11.11",
                    "1.11.12",
                    "1.11.5",
                    "1.11.6",
                    "1.11.7",
                    "1.11.9",
                    "1.12.1",
                    "2.0.0",
                    "2.0.1",
                    "2.2.1",
                    "2.2.14",
                    "2.16.1",
                    "2.17.1",
                    "2.18.1",
                    "2.19.3",
                    "2.20.1",
                    "2.23.0",
                    "2.24.0",
                    "2.25.0",
                    "2.28.0",
                    "2.29.1",
                    "2.29.3",
                    "2.29.4",
                    "2.30.0",
                    "2.30.1",
                    "3.0.0",
                    "3.1.0",
                    "3.1.12",
                    "3.1.16",
                    "3.1.31",
                    "3.2.0",
                    "3.3.0",
                    "3.3.1",
                    "3.3.2",
                    "3.3.3",
                    "3.3.4",
                    "3.3.6",
                    "3.6.0",
                    "3.10.0",
                    "3.10.1",
                    "3.12.1",
                    "3.13.1",
                    "3.14.0",
                    "4.0.0",
                    "4.0.1",
                    "4.0.2",
                    "4.1.0",
                    "4.1.1",
                    "4.2.0",
                    "4.2.2",
                    "4.12.0",
                    "4.13.1",
                    "4.17.10",
                    "4.17.11",
                    "4.17.15",
                    "4.17.19",
                    "4.17.2",
                    "4.17.20",
                    "4.17.21",
                    "4.17.4",
                    "4.17.5",
                    "5.0.1",
                    "5.0.3",
                    "5.0.4",
                    "5.0.5",
                    "5.0.7",
                    "5.5.3",
                    "6.2.0",
                    "6.2.1",
                    "6.3.3",
                    "6.5.2",
                    "6.5.3",
                    "6.5.4",
                    "6.6.0",
                    "6.6.3",
                    "6.6.6",
                    "7.x",
                    "7.0.0",
                    "7.0.1",
                    "7.2.0",
                    "7.4.0",
                    "7.5.0",
                    "7.5.5",
                    "7.8.0",
                    "7.8.1",
                    "8.1.0",
                    "8.3.2",
                    "9.0.0",
                    "9.0.1",
                    "10.0.0",
                    "11.9.1",
                    "13.0.0",
                    "13.0.2",
                    "13.1.1",
                    "13.7.0",
                    "13.9.0",
                    "13.11.0",
                    "13.12.0"
                  ],
                  "tickvals": [
                    0,
                    1,
                    2,
                    3,
                    4,
                    5,
                    6,
                    7,
                    8,
                    9,
                    10,
                    11,
                    12,
                    13,
                    14,
                    15,
                    16,
                    17,
                    18,
                    19,
                    20,
                    21,
                    22,
                    23,
                    24,
                    25,
                    26,
                    27,
                    28,
                    29,
                    30,
                    31,
                    32,
                    33,
                    34,
                    35,
                    36,
                    37,
                    38,
                    39,
                    40,
                    41,
                    42,
                    43,
                    44,
                    45,
                    46,
                    47,
                    48,
                    49,
                    50,
                    51,
                    52,
                    53,
                    54,
                    55,
                    56,
                    57,
                    58,
                    59,
                    60,
                    61,
                    62,
                    63,
                    64,
                    65,
                    66,
                    67,
                    68,
                    69,
                    70,
                    71,
                    72,
                    73,
                    74,
                    75,
                    76,
                    77,
                    78,
                    79,
                    80,
                    81,
                    82,
                    83,
                    84,
                    85,
                    86,
                    87,
                    88,
                    89,
                    90,
                    91,
                    92,
                    93,
                    94,
                    95,
                    96,
                    97,
                    98,
                    99,
                    100,
                    101,
                    102,
                    103,
                    104,
                    105,
                    106,
                    107,
                    108,
                    109,
                    110,
                    111,
                    112,
                    113,
                    114,
                    115,
                    116,
                    117,
                    118,
                    119,
                    120,
                    121,
                    122,
                    123,
                    124,
                    125,
                    126,
                    127,
                    128,
                    129,
                    130,
                    131,
                    132,
                    133,
                    134,
                    135,
                    136,
                    137,
                    138
                  ],
                  "title": {
                    "text": "Versions"
                  }
                }
              }
            }
          },
          "metadata": {},
          "output_type": "display_data"
        }
      ],
      "source": [
        "import plotly.graph_objects as go\n",
        "import code_data_science.palette as palette\n",
        "\n",
        "colors = palette.colors_by_weight(500)\n",
        "\n",
        "fig = go.Figure()\n",
        "\n",
        "# Add a trace to the plot for each category\n",
        "for i, category in enumerate(df[\"nName\"].unique()):\n",
        "    category_data = df[df[\"nName\"] == category]\n",
        "\n",
        "    # Calculate counts for each dependency and version combination\n",
        "    counts = (\n",
        "        category_data.groupby(\"nVersion\")[\"nName\"].count().reset_index(name=\"count\")\n",
        "    )\n",
        "\n",
        "    category_data_with_counts = category_data.merge(counts, on=\"nVersion\")\n",
        "\n",
        "    # Generate hover text including the count information\n",
        "    hover_text = category_data_with_counts.apply(\n",
        "        lambda row: f'<b>Package</b>: {row[\"name\"]}<br><b>Version</b>: {row[\"version\"]}<br><b>Count</b>: {row[\"count\"]}',\n",
        "        axis=1,\n",
        "    )\n",
        "\n",
        "    fig.add_trace(\n",
        "        go.Scatter(\n",
        "            x=category_data[\"nName\"],\n",
        "            y=category_data[\"nVersion\"],\n",
        "            mode=\"markers\",\n",
        "            marker=dict(color=colors[i % len(colors)], size=8),\n",
        "            showlegend=False,\n",
        "            name=\"\",\n",
        "            text=hover_text,\n",
        "            hoverinfo=\"text\",\n",
        "            hoverlabel=dict(font=dict(size=18)),\n",
        "        )\n",
        "    )\n",
        "\n",
        "    fig.add_trace(\n",
        "        go.Violin(\n",
        "            x=category_data[\"nName\"],\n",
        "            y=category_data[\"nVersion\"],\n",
        "            fillcolor=\"black\",\n",
        "            opacity=0.15,\n",
        "            line_color=\"black\",\n",
        "            showlegend=False,\n",
        "            width=0.7,\n",
        "            bandwidth=0.4,\n",
        "            hoverinfo=\"none\",\n",
        "            hoveron=\"points\",\n",
        "        )\n",
        "    )\n",
        "\n",
        "num_versions = df[\"nVersion\"].nunique()\n",
        "height_per_version = 32\n",
        "width_per_dependency = 80\n",
        "fig_height = max(num_versions * height_per_version, 900)\n",
        "fig_width = max(len(list(nmap.values())) * width_per_dependency, 900)\n",
        "tick_font_size = 13\n",
        "# Customizing the layout\n",
        "fig.update_layout(\n",
        "    title=\"Package versions in use\",\n",
        "    xaxis_title=\"Packages\",\n",
        "    yaxis_title=\"Versions\",\n",
        "    height=fig_height,\n",
        "    width=fig_width,\n",
        "    xaxis=dict(\n",
        "        tickfont=dict(size=tick_font_size),\n",
        "        tickmode=\"array\",\n",
        "        tickvals=list(nmap.values()),\n",
        "        ticktext=list(nmap.keys()),\n",
        "    ),\n",
        "    yaxis=dict(\n",
        "        tickfont=dict(size=tick_font_size),\n",
        "        tickmode=\"array\",\n",
        "        tickvals=list(vmap.values()),\n",
        "        ticktext=list(vmap.keys()),\n",
        "    ),\n",
        ")\n",
        "\n",
        "fig.show()"
      ]
    }
  ],
  "metadata": {
    "kernelspec": {
      "display_name": "Python 3",
      "language": "python",
      "name": "python3"
    },
    "language_info": {
      "codemirror_mode": {
        "name": "ipython",
        "version": 3
      },
      "file_extension": ".py",
      "mimetype": "text/x-python",
      "name": "python",
      "nbconvert_exporter": "python",
      "pygments_lexer": "ipython3",
      "version": "3.11.4"
    }
  },
  "nbformat": 4,
  "nbformat_minor": 2
}
