{
 "cells": [
  {
   "cell_type": "code",
   "execution_count": null,
   "id": "3ec2bc7b-86ad-44fa-afba-b737251e93a3",
   "metadata": {},
   "outputs": [],
   "source": [
    "import pandas as pd\n",
    "import graphviz\n",
    "from code_data_science import data_table as dt\n",
    "\n",
    "df = dt.read_csv('../samples/cobol_find_copy_book.csv')\n",
    "df"
   ]
  },
  {
   "cell_type": "code",
   "execution_count": null,
   "id": "935639b2",
   "metadata": {},
   "outputs": [],
   "source": [
    "df.describe()"
   ]
  },
  {
   "cell_type": "code",
   "execution_count": null,
   "id": "cf6e9f1f-609e-440c-93bf-757b8f26afde",
   "metadata": {},
   "outputs": [],
   "source": [
    "graphviz.set_jupyter_format('svg')\n",
    "dot = graphviz.Digraph('copybook-usage', comment='Usage of COBOL copybooks')  \n",
    "\n",
    "def styleNode(value):\n",
    "    if value == 'MISSING_SOURCE': \n",
    "        return 'red'\n",
    "    return 'white'\n",
    "\n",
    "def describeNode(value):\n",
    "    if value == 'MISSING_SOURCE':\n",
    "        return 'missing copy book'\n",
    "    return 'copy book'\n",
    "\n",
    "def mapCopybookToSource(row):\n",
    "    dot.node(row['copyBookName'], style='filled', fillcolor=styleNode(row['resolutionStatus']))\n",
    "    dot.node(row['sourcePath'])\n",
    "    dot.edge(row['sourcePath'], row['copyBookName'], describeNode((row['resolutionStatus'])))\n",
    "\n",
    "df.apply(mapCopybookToSource, axis=1)\n",
    "\n",
    "dot"
   ]
  }
 ],
 "metadata": {
  "kernelspec": {
   "display_name": "Python 3 (ipykernel)",
   "language": "python",
   "name": "python3"
  },
  "language_info": {
   "codemirror_mode": {
    "name": "ipython",
    "version": 3
   },
   "file_extension": ".py",
   "mimetype": "text/x-python",
   "name": "python",
   "nbconvert_exporter": "python",
   "pygments_lexer": "ipython3",
   "version": "3.9.13"
  }
 },
 "nbformat": 4,
 "nbformat_minor": 5
}
