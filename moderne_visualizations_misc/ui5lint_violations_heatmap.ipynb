{
 "cells": [
  {
   "cell_type": "markdown",
   "metadata": {},
   "source": [
    "UI5Lint violations heatmap"
   ]
  },
  {
   "cell_type": "code",
   "execution_count": null,
   "metadata": {},
   "outputs": [],
   "source": [
    "import plotly.express as px\n",
    "from code_data_science import data_table as dt\n",
    "import code_data_science.palette as palette\n",
    "\n",
    "df = dt.read_csv(\"../samples/ui5_lint.csv\")\n",
    "\n",
    "df[\"repository\"] = df[\"repositoryPath\"] + \":\" + df[\"repositoryBranch\"]\n",
    "\n",
    "df_heat = df.groupby([\"repository\", \"ruleId\"]).size().reset_index(name=\"count\")\n",
    "\n",
    "pivot_table = df_heat.pivot(\n",
    "    index=\"repository\", columns=\"ruleId\", values=\"count\"\n",
    ").fillna(0)\n",
    "\n",
    "colors = palette.color_gradient(\"yellow\")[0:4] + palette.color_gradient(\"red\")[3:6]\n",
    "\n",
    "fig_heat = px.imshow(\n",
    "    pivot_table,\n",
    "    text_auto=True,\n",
    "    aspect=\"auto\",\n",
    "    title=\"Heatmap of Rule Violations by Repository\",\n",
    "    color_continuous_scale=colors,\n",
    ")\n",
    "\n",
    "fig_heat.update_traces(\n",
    "    hovertemplate=\"Rule id: %{x}<br>Repository: %{y}<br>Count: %{z}<extra></extra>\"\n",
    ")\n",
    "\n",
    "fig_heat.show()"
   ]
  },
  {
   "cell_type": "code",
   "execution_count": null,
   "metadata": {},
   "outputs": [],
   "source": []
  }
 ],
 "metadata": {
  "kernelspec": {
   "display_name": ".venv",
   "language": "python",
   "name": "python3"
  },
  "language_info": {
   "codemirror_mode": {
    "name": "ipython",
    "version": 3
   },
   "file_extension": ".py",
   "mimetype": "text/x-python",
   "name": "python",
   "nbconvert_exporter": "python",
   "pygments_lexer": "ipython3",
   "version": "3.9.6"
  }
 },
 "nbformat": 4,
 "nbformat_minor": 4
}
