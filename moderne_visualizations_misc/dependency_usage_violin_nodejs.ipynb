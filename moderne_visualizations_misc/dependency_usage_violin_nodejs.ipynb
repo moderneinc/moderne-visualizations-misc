{
 "cells": [
  {
   "cell_type": "code",
   "execution_count": 1,
   "metadata": {},
   "outputs": [],
   "source": [
    "from code_data_science import data_table as dt\n",
    "\n",
    "df = dt.read_csv(\"../samples/dependency_usage_violin_nodejs.csv\")"
   ]
  },
  {
   "cell_type": "code",
   "execution_count": 3,
   "metadata": {},
   "outputs": [],
   "source": [
    "df = df[[\"name\", \"requestedVersion\"]]"
   ]
  },
  {
   "cell_type": "code",
   "execution_count": 17,
   "metadata": {},
   "outputs": [],
   "source": [
    "from code_data_science.versions import index as index_versions\n",
    "import re\n",
    "\n",
    "# make sure version is a string\n",
    "df[\"requestedVersion\"] = df[\"requestedVersion\"].astype(str)\n",
    "df[\"version\"] = list(map(lambda v: v.removeprefix(\"^\").removeprefix(\"~\").removeprefix(\">\").removeprefix(\"=\"), df.requestedVersion))\n",
    "\n",
    "vmap = index_versions(df.version)\n",
    "df[\"nVersion\"] = list(map(lambda v: vmap[v], df.version))\n",
    "\n",
    "def index_name(names):\n",
    "    sorted_names = sorted(list(set(names)))\n",
    "    return {name: sorted_names.index(name) for name in sorted_names}\n",
    "\n",
    "nmap = index_name(df.name)\n",
    "df[\"nName\"] = list(map(lambda g: nmap[g], df.name))\n",
    "\n",
    "df = df.sort_values(by=[\"nVersion\", \"nName\"])"
   ]
  },
  {
   "cell_type": "code",
   "execution_count": 18,
   "metadata": {},
   "outputs": [
    {
     "data": {
      "application/vnd.plotly.v1+json": {
       "config": {
        "plotlyServerURL": "https://plot.ly"
       },
       "data": [
        {
         "hoverinfo": "text",
         "hoverlabel": {
          "font": {
           "size": 18
          }
         },
         "marker": {
          "color": "#293be3",
          "size": 8
         },
         "mode": "markers",
         "name": "",
         "showlegend": false,
         "text": [
          "<b>Package</b>: lodash<br><b>Version</b>: *<br><b>Count</b>: 13",
          "<b>Package</b>: lodash<br><b>Version</b>: *<br><b>Count</b>: 13",
          "<b>Package</b>: lodash<br><b>Version</b>: *<br><b>Count</b>: 13",
          "<b>Package</b>: lodash<br><b>Version</b>: *<br><b>Count</b>: 13",
          "<b>Package</b>: lodash<br><b>Version</b>: *<br><b>Count</b>: 13",
          "<b>Package</b>: lodash<br><b>Version</b>: *<br><b>Count</b>: 13",
          "<b>Package</b>: lodash<br><b>Version</b>: *<br><b>Count</b>: 13",
          "<b>Package</b>: lodash<br><b>Version</b>: *<br><b>Count</b>: 13",
          "<b>Package</b>: lodash<br><b>Version</b>: *<br><b>Count</b>: 13",
          "<b>Package</b>: lodash<br><b>Version</b>: *<br><b>Count</b>: 13",
          "<b>Package</b>: lodash<br><b>Version</b>: *<br><b>Count</b>: 13",
          "<b>Package</b>: lodash<br><b>Version</b>: *<br><b>Count</b>: 13",
          "<b>Package</b>: lodash<br><b>Version</b>: *<br><b>Count</b>: 13",
          "<b>Package</b>: lodash<br><b>Version</b>: 0.2.1<br><b>Count</b>: 1",
          "<b>Package</b>: lodash<br><b>Version</b>: 3.10.1<br><b>Count</b>: 1",
          "<b>Package</b>: lodash<br><b>Version</b>: 4.1.0<br><b>Count</b>: 1",
          "<b>Package</b>: lodash<br><b>Version</b>: 4.12.0<br><b>Count</b>: 2",
          "<b>Package</b>: lodash<br><b>Version</b>: 4.12.0<br><b>Count</b>: 2",
          "<b>Package</b>: lodash<br><b>Version</b>: 4.17.0<br><b>Count</b>: 3",
          "<b>Package</b>: lodash<br><b>Version</b>: 4.17.0<br><b>Count</b>: 3",
          "<b>Package</b>: lodash<br><b>Version</b>: 4.17.0<br><b>Count</b>: 3",
          "<b>Package</b>: lodash<br><b>Version</b>: 4.17.10<br><b>Count</b>: 1",
          "<b>Package</b>: lodash<br><b>Version</b>: 4.17.11<br><b>Count</b>: 11",
          "<b>Package</b>: lodash<br><b>Version</b>: 4.17.11<br><b>Count</b>: 11",
          "<b>Package</b>: lodash<br><b>Version</b>: 4.17.11<br><b>Count</b>: 11",
          "<b>Package</b>: lodash<br><b>Version</b>: 4.17.11<br><b>Count</b>: 11",
          "<b>Package</b>: lodash<br><b>Version</b>: 4.17.11<br><b>Count</b>: 11",
          "<b>Package</b>: lodash<br><b>Version</b>: 4.17.11<br><b>Count</b>: 11",
          "<b>Package</b>: lodash<br><b>Version</b>: 4.17.11<br><b>Count</b>: 11",
          "<b>Package</b>: lodash<br><b>Version</b>: 4.17.11<br><b>Count</b>: 11",
          "<b>Package</b>: lodash<br><b>Version</b>: 4.17.11<br><b>Count</b>: 11",
          "<b>Package</b>: lodash<br><b>Version</b>: 4.17.11<br><b>Count</b>: 11",
          "<b>Package</b>: lodash<br><b>Version</b>: 4.17.11<br><b>Count</b>: 11",
          "<b>Package</b>: lodash<br><b>Version</b>: 4.17.15<br><b>Count</b>: 15",
          "<b>Package</b>: lodash<br><b>Version</b>: 4.17.15<br><b>Count</b>: 15",
          "<b>Package</b>: lodash<br><b>Version</b>: 4.17.15<br><b>Count</b>: 15",
          "<b>Package</b>: lodash<br><b>Version</b>: 4.17.15<br><b>Count</b>: 15",
          "<b>Package</b>: lodash<br><b>Version</b>: 4.17.15<br><b>Count</b>: 15",
          "<b>Package</b>: lodash<br><b>Version</b>: 4.17.15<br><b>Count</b>: 15",
          "<b>Package</b>: lodash<br><b>Version</b>: 4.17.15<br><b>Count</b>: 15",
          "<b>Package</b>: lodash<br><b>Version</b>: 4.17.15<br><b>Count</b>: 15",
          "<b>Package</b>: lodash<br><b>Version</b>: 4.17.15<br><b>Count</b>: 15",
          "<b>Package</b>: lodash<br><b>Version</b>: 4.17.15<br><b>Count</b>: 15",
          "<b>Package</b>: lodash<br><b>Version</b>: 4.17.15<br><b>Count</b>: 15",
          "<b>Package</b>: lodash<br><b>Version</b>: 4.17.15<br><b>Count</b>: 15",
          "<b>Package</b>: lodash<br><b>Version</b>: 4.17.15<br><b>Count</b>: 15",
          "<b>Package</b>: lodash<br><b>Version</b>: 4.17.15<br><b>Count</b>: 15",
          "<b>Package</b>: lodash<br><b>Version</b>: 4.17.15<br><b>Count</b>: 15",
          "<b>Package</b>: lodash<br><b>Version</b>: 4.17.19<br><b>Count</b>: 1",
          "<b>Package</b>: lodash<br><b>Version</b>: 4.17.2<br><b>Count</b>: 1",
          "<b>Package</b>: lodash<br><b>Version</b>: 4.17.20<br><b>Count</b>: 4",
          "<b>Package</b>: lodash<br><b>Version</b>: 4.17.20<br><b>Count</b>: 4",
          "<b>Package</b>: lodash<br><b>Version</b>: 4.17.20<br><b>Count</b>: 4",
          "<b>Package</b>: lodash<br><b>Version</b>: 4.17.20<br><b>Count</b>: 4",
          "<b>Package</b>: lodash<br><b>Version</b>: 4.17.21<br><b>Count</b>: 65",
          "<b>Package</b>: lodash<br><b>Version</b>: 4.17.21<br><b>Count</b>: 65",
          "<b>Package</b>: lodash<br><b>Version</b>: 4.17.21<br><b>Count</b>: 65",
          "<b>Package</b>: lodash<br><b>Version</b>: 4.17.21<br><b>Count</b>: 65",
          "<b>Package</b>: lodash<br><b>Version</b>: 4.17.21<br><b>Count</b>: 65",
          "<b>Package</b>: lodash<br><b>Version</b>: 4.17.21<br><b>Count</b>: 65",
          "<b>Package</b>: lodash<br><b>Version</b>: 4.17.21<br><b>Count</b>: 65",
          "<b>Package</b>: lodash<br><b>Version</b>: 4.17.21<br><b>Count</b>: 65",
          "<b>Package</b>: lodash<br><b>Version</b>: 4.17.21<br><b>Count</b>: 65",
          "<b>Package</b>: lodash<br><b>Version</b>: 4.17.21<br><b>Count</b>: 65",
          "<b>Package</b>: lodash<br><b>Version</b>: 4.17.21<br><b>Count</b>: 65",
          "<b>Package</b>: lodash<br><b>Version</b>: 4.17.21<br><b>Count</b>: 65",
          "<b>Package</b>: lodash<br><b>Version</b>: 4.17.21<br><b>Count</b>: 65",
          "<b>Package</b>: lodash<br><b>Version</b>: 4.17.21<br><b>Count</b>: 65",
          "<b>Package</b>: lodash<br><b>Version</b>: 4.17.21<br><b>Count</b>: 65",
          "<b>Package</b>: lodash<br><b>Version</b>: 4.17.21<br><b>Count</b>: 65",
          "<b>Package</b>: lodash<br><b>Version</b>: 4.17.21<br><b>Count</b>: 65",
          "<b>Package</b>: lodash<br><b>Version</b>: 4.17.21<br><b>Count</b>: 65",
          "<b>Package</b>: lodash<br><b>Version</b>: 4.17.21<br><b>Count</b>: 65",
          "<b>Package</b>: lodash<br><b>Version</b>: 4.17.21<br><b>Count</b>: 65",
          "<b>Package</b>: lodash<br><b>Version</b>: 4.17.21<br><b>Count</b>: 65",
          "<b>Package</b>: lodash<br><b>Version</b>: 4.17.21<br><b>Count</b>: 65",
          "<b>Package</b>: lodash<br><b>Version</b>: 4.17.21<br><b>Count</b>: 65",
          "<b>Package</b>: lodash<br><b>Version</b>: 4.17.21<br><b>Count</b>: 65",
          "<b>Package</b>: lodash<br><b>Version</b>: 4.17.21<br><b>Count</b>: 65",
          "<b>Package</b>: lodash<br><b>Version</b>: 4.17.21<br><b>Count</b>: 65",
          "<b>Package</b>: lodash<br><b>Version</b>: 4.17.21<br><b>Count</b>: 65",
          "<b>Package</b>: lodash<br><b>Version</b>: 4.17.21<br><b>Count</b>: 65",
          "<b>Package</b>: lodash<br><b>Version</b>: 4.17.21<br><b>Count</b>: 65",
          "<b>Package</b>: lodash<br><b>Version</b>: 4.17.21<br><b>Count</b>: 65",
          "<b>Package</b>: lodash<br><b>Version</b>: 4.17.21<br><b>Count</b>: 65",
          "<b>Package</b>: lodash<br><b>Version</b>: 4.17.21<br><b>Count</b>: 65",
          "<b>Package</b>: lodash<br><b>Version</b>: 4.17.21<br><b>Count</b>: 65",
          "<b>Package</b>: lodash<br><b>Version</b>: 4.17.21<br><b>Count</b>: 65",
          "<b>Package</b>: lodash<br><b>Version</b>: 4.17.21<br><b>Count</b>: 65",
          "<b>Package</b>: lodash<br><b>Version</b>: 4.17.21<br><b>Count</b>: 65",
          "<b>Package</b>: lodash<br><b>Version</b>: 4.17.21<br><b>Count</b>: 65",
          "<b>Package</b>: lodash<br><b>Version</b>: 4.17.21<br><b>Count</b>: 65",
          "<b>Package</b>: lodash<br><b>Version</b>: 4.17.21<br><b>Count</b>: 65",
          "<b>Package</b>: lodash<br><b>Version</b>: 4.17.21<br><b>Count</b>: 65",
          "<b>Package</b>: lodash<br><b>Version</b>: 4.17.21<br><b>Count</b>: 65",
          "<b>Package</b>: lodash<br><b>Version</b>: 4.17.21<br><b>Count</b>: 65",
          "<b>Package</b>: lodash<br><b>Version</b>: 4.17.21<br><b>Count</b>: 65",
          "<b>Package</b>: lodash<br><b>Version</b>: 4.17.21<br><b>Count</b>: 65",
          "<b>Package</b>: lodash<br><b>Version</b>: 4.17.21<br><b>Count</b>: 65",
          "<b>Package</b>: lodash<br><b>Version</b>: 4.17.21<br><b>Count</b>: 65",
          "<b>Package</b>: lodash<br><b>Version</b>: 4.17.21<br><b>Count</b>: 65",
          "<b>Package</b>: lodash<br><b>Version</b>: 4.17.21<br><b>Count</b>: 65",
          "<b>Package</b>: lodash<br><b>Version</b>: 4.17.21<br><b>Count</b>: 65",
          "<b>Package</b>: lodash<br><b>Version</b>: 4.17.21<br><b>Count</b>: 65",
          "<b>Package</b>: lodash<br><b>Version</b>: 4.17.21<br><b>Count</b>: 65",
          "<b>Package</b>: lodash<br><b>Version</b>: 4.17.21<br><b>Count</b>: 65",
          "<b>Package</b>: lodash<br><b>Version</b>: 4.17.21<br><b>Count</b>: 65",
          "<b>Package</b>: lodash<br><b>Version</b>: 4.17.21<br><b>Count</b>: 65",
          "<b>Package</b>: lodash<br><b>Version</b>: 4.17.21<br><b>Count</b>: 65",
          "<b>Package</b>: lodash<br><b>Version</b>: 4.17.21<br><b>Count</b>: 65",
          "<b>Package</b>: lodash<br><b>Version</b>: 4.17.21<br><b>Count</b>: 65",
          "<b>Package</b>: lodash<br><b>Version</b>: 4.17.21<br><b>Count</b>: 65",
          "<b>Package</b>: lodash<br><b>Version</b>: 4.17.21<br><b>Count</b>: 65",
          "<b>Package</b>: lodash<br><b>Version</b>: 4.17.21<br><b>Count</b>: 65",
          "<b>Package</b>: lodash<br><b>Version</b>: 4.17.21<br><b>Count</b>: 65",
          "<b>Package</b>: lodash<br><b>Version</b>: 4.17.21<br><b>Count</b>: 65",
          "<b>Package</b>: lodash<br><b>Version</b>: 4.17.21<br><b>Count</b>: 65",
          "<b>Package</b>: lodash<br><b>Version</b>: 4.17.21<br><b>Count</b>: 65",
          "<b>Package</b>: lodash<br><b>Version</b>: 4.17.21<br><b>Count</b>: 65",
          "<b>Package</b>: lodash<br><b>Version</b>: 4.17.4<br><b>Count</b>: 2",
          "<b>Package</b>: lodash<br><b>Version</b>: 4.17.4<br><b>Count</b>: 2"
         ],
         "type": "scatter",
         "x": [
          0,
          0,
          0,
          0,
          0,
          0,
          0,
          0,
          0,
          0,
          0,
          0,
          0,
          0,
          0,
          0,
          0,
          0,
          0,
          0,
          0,
          0,
          0,
          0,
          0,
          0,
          0,
          0,
          0,
          0,
          0,
          0,
          0,
          0,
          0,
          0,
          0,
          0,
          0,
          0,
          0,
          0,
          0,
          0,
          0,
          0,
          0,
          0,
          0,
          0,
          0,
          0,
          0,
          0,
          0,
          0,
          0,
          0,
          0,
          0,
          0,
          0,
          0,
          0,
          0,
          0,
          0,
          0,
          0,
          0,
          0,
          0,
          0,
          0,
          0,
          0,
          0,
          0,
          0,
          0,
          0,
          0,
          0,
          0,
          0,
          0,
          0,
          0,
          0,
          0,
          0,
          0,
          0,
          0,
          0,
          0,
          0,
          0,
          0,
          0,
          0,
          0,
          0,
          0,
          0,
          0,
          0,
          0,
          0,
          0,
          0,
          0,
          0,
          0,
          0,
          0,
          0,
          0,
          0,
          0,
          0
         ],
         "y": [
          0,
          0,
          0,
          0,
          0,
          0,
          0,
          0,
          0,
          0,
          0,
          0,
          0,
          1,
          2,
          4,
          14,
          14,
          15,
          15,
          15,
          16,
          17,
          17,
          17,
          17,
          17,
          17,
          17,
          17,
          17,
          17,
          17,
          18,
          18,
          18,
          18,
          18,
          18,
          18,
          18,
          18,
          18,
          18,
          18,
          18,
          18,
          18,
          19,
          20,
          21,
          21,
          21,
          21,
          22,
          22,
          22,
          22,
          22,
          22,
          22,
          22,
          22,
          22,
          22,
          22,
          22,
          22,
          22,
          22,
          22,
          22,
          22,
          22,
          22,
          22,
          22,
          22,
          22,
          22,
          22,
          22,
          22,
          22,
          22,
          22,
          22,
          22,
          22,
          22,
          22,
          22,
          22,
          22,
          22,
          22,
          22,
          22,
          22,
          22,
          22,
          22,
          22,
          22,
          22,
          22,
          22,
          22,
          22,
          22,
          22,
          22,
          22,
          22,
          22,
          22,
          22,
          22,
          22,
          23,
          23
         ]
        },
        {
         "bandwidth": 0.4,
         "fillcolor": "black",
         "hoverinfo": "none",
         "hoveron": "points",
         "line": {
          "color": "black"
         },
         "opacity": 0.15,
         "showlegend": false,
         "type": "violin",
         "width": 0.7,
         "x": [
          0,
          0,
          0,
          0,
          0,
          0,
          0,
          0,
          0,
          0,
          0,
          0,
          0,
          0,
          0,
          0,
          0,
          0,
          0,
          0,
          0,
          0,
          0,
          0,
          0,
          0,
          0,
          0,
          0,
          0,
          0,
          0,
          0,
          0,
          0,
          0,
          0,
          0,
          0,
          0,
          0,
          0,
          0,
          0,
          0,
          0,
          0,
          0,
          0,
          0,
          0,
          0,
          0,
          0,
          0,
          0,
          0,
          0,
          0,
          0,
          0,
          0,
          0,
          0,
          0,
          0,
          0,
          0,
          0,
          0,
          0,
          0,
          0,
          0,
          0,
          0,
          0,
          0,
          0,
          0,
          0,
          0,
          0,
          0,
          0,
          0,
          0,
          0,
          0,
          0,
          0,
          0,
          0,
          0,
          0,
          0,
          0,
          0,
          0,
          0,
          0,
          0,
          0,
          0,
          0,
          0,
          0,
          0,
          0,
          0,
          0,
          0,
          0,
          0,
          0,
          0,
          0,
          0,
          0,
          0,
          0
         ],
         "y": [
          0,
          0,
          0,
          0,
          0,
          0,
          0,
          0,
          0,
          0,
          0,
          0,
          0,
          1,
          2,
          4,
          14,
          14,
          15,
          15,
          15,
          16,
          17,
          17,
          17,
          17,
          17,
          17,
          17,
          17,
          17,
          17,
          17,
          18,
          18,
          18,
          18,
          18,
          18,
          18,
          18,
          18,
          18,
          18,
          18,
          18,
          18,
          18,
          19,
          20,
          21,
          21,
          21,
          21,
          22,
          22,
          22,
          22,
          22,
          22,
          22,
          22,
          22,
          22,
          22,
          22,
          22,
          22,
          22,
          22,
          22,
          22,
          22,
          22,
          22,
          22,
          22,
          22,
          22,
          22,
          22,
          22,
          22,
          22,
          22,
          22,
          22,
          22,
          22,
          22,
          22,
          22,
          22,
          22,
          22,
          22,
          22,
          22,
          22,
          22,
          22,
          22,
          22,
          22,
          22,
          22,
          22,
          22,
          22,
          22,
          22,
          22,
          22,
          22,
          22,
          22,
          22,
          22,
          22,
          23,
          23
         ]
        },
        {
         "hoverinfo": "text",
         "hoverlabel": {
          "font": {
           "size": 18
          }
         },
         "marker": {
          "color": "#e3163f",
          "size": 8
         },
         "mode": "markers",
         "name": "",
         "showlegend": false,
         "text": [
          "<b>Package</b>: lodash.debounce<br><b>Version</b>: 4.0.8<br><b>Count</b>: 8",
          "<b>Package</b>: lodash.debounce<br><b>Version</b>: 4.0.8<br><b>Count</b>: 8",
          "<b>Package</b>: lodash.debounce<br><b>Version</b>: 4.0.8<br><b>Count</b>: 8",
          "<b>Package</b>: lodash.debounce<br><b>Version</b>: 4.0.8<br><b>Count</b>: 8",
          "<b>Package</b>: lodash.debounce<br><b>Version</b>: 4.0.8<br><b>Count</b>: 8",
          "<b>Package</b>: lodash.debounce<br><b>Version</b>: 4.0.8<br><b>Count</b>: 8",
          "<b>Package</b>: lodash.debounce<br><b>Version</b>: 4.0.8<br><b>Count</b>: 8",
          "<b>Package</b>: lodash.debounce<br><b>Version</b>: 4.0.8<br><b>Count</b>: 8"
         ],
         "type": "scatter",
         "x": [
          4,
          4,
          4,
          4,
          4,
          4,
          4,
          4
         ],
         "y": [
          3,
          3,
          3,
          3,
          3,
          3,
          3,
          3
         ]
        },
        {
         "bandwidth": 0.4,
         "fillcolor": "black",
         "hoverinfo": "none",
         "hoveron": "points",
         "line": {
          "color": "black"
         },
         "opacity": 0.15,
         "showlegend": false,
         "type": "violin",
         "width": 0.7,
         "x": [
          4,
          4,
          4,
          4,
          4,
          4,
          4,
          4
         ],
         "y": [
          3,
          3,
          3,
          3,
          3,
          3,
          3,
          3
         ]
        },
        {
         "hoverinfo": "text",
         "hoverlabel": {
          "font": {
           "size": 18
          }
         },
         "marker": {
          "color": "#dd9618",
          "size": 8
         },
         "mode": "markers",
         "name": "",
         "showlegend": false,
         "text": [
          "<b>Package</b>: lodash.kebabcase<br><b>Version</b>: 4.1.1<br><b>Count</b>: 2",
          "<b>Package</b>: lodash.kebabcase<br><b>Version</b>: 4.1.1<br><b>Count</b>: 2"
         ],
         "type": "scatter",
         "x": [
          9,
          9
         ],
         "y": [
          5,
          5
         ]
        },
        {
         "bandwidth": 0.4,
         "fillcolor": "black",
         "hoverinfo": "none",
         "hoveron": "points",
         "line": {
          "color": "black"
         },
         "opacity": 0.15,
         "showlegend": false,
         "type": "violin",
         "width": 0.7,
         "x": [
          9,
          9
         ],
         "y": [
          5,
          5
         ]
        },
        {
         "hoverinfo": "text",
         "hoverlabel": {
          "font": {
           "size": 18
          }
         },
         "marker": {
          "color": "#2de388",
          "size": 8
         },
         "mode": "markers",
         "name": "",
         "showlegend": false,
         "text": [
          "<b>Package</b>: lodash.snakecase<br><b>Version</b>: 4.1.1<br><b>Count</b>: 1"
         ],
         "type": "scatter",
         "x": [
          13
         ],
         "y": [
          5
         ]
        },
        {
         "bandwidth": 0.4,
         "fillcolor": "black",
         "hoverinfo": "none",
         "hoveron": "points",
         "line": {
          "color": "black"
         },
         "opacity": 0.15,
         "showlegend": false,
         "type": "violin",
         "width": 0.7,
         "x": [
          13
         ],
         "y": [
          5
         ]
        },
        {
         "hoverinfo": "text",
         "hoverlabel": {
          "font": {
           "size": 18
          }
         },
         "marker": {
          "color": "#001635",
          "size": 8
         },
         "mode": "markers",
         "name": "",
         "showlegend": false,
         "text": [
          "<b>Package</b>: lodash.throttle<br><b>Version</b>: 4.1.1<br><b>Count</b>: 2",
          "<b>Package</b>: lodash.throttle<br><b>Version</b>: 4.1.1<br><b>Count</b>: 2"
         ],
         "type": "scatter",
         "x": [
          16,
          16
         ],
         "y": [
          5,
          5
         ]
        },
        {
         "bandwidth": 0.4,
         "fillcolor": "black",
         "hoverinfo": "none",
         "hoveron": "points",
         "line": {
          "color": "black"
         },
         "opacity": 0.15,
         "showlegend": false,
         "type": "violin",
         "width": 0.7,
         "x": [
          16,
          16
         ],
         "y": [
          5,
          5
         ]
        },
        {
         "hoverinfo": "text",
         "hoverlabel": {
          "font": {
           "size": 18
          }
         },
         "marker": {
          "color": "#293be3",
          "size": 8
         },
         "mode": "markers",
         "name": "",
         "showlegend": false,
         "text": [
          "<b>Package</b>: lodash.sample<br><b>Version</b>: 4.2.1<br><b>Count</b>: 1"
         ],
         "type": "scatter",
         "x": [
          12
         ],
         "y": [
          6
         ]
        },
        {
         "bandwidth": 0.4,
         "fillcolor": "black",
         "hoverinfo": "none",
         "hoveron": "points",
         "line": {
          "color": "black"
         },
         "opacity": 0.15,
         "showlegend": false,
         "type": "violin",
         "width": 0.7,
         "x": [
          12
         ],
         "y": [
          6
         ]
        },
        {
         "hoverinfo": "text",
         "hoverlabel": {
          "font": {
           "size": 18
          }
         },
         "marker": {
          "color": "#e3163f",
          "size": 8
         },
         "mode": "markers",
         "name": "",
         "showlegend": false,
         "text": [
          "<b>Package</b>: lodash.camelcase<br><b>Version</b>: 4.3.0<br><b>Count</b>: 2",
          "<b>Package</b>: lodash.camelcase<br><b>Version</b>: 4.3.0<br><b>Count</b>: 2"
         ],
         "type": "scatter",
         "x": [
          2,
          2
         ],
         "y": [
          7,
          7
         ]
        },
        {
         "bandwidth": 0.4,
         "fillcolor": "black",
         "hoverinfo": "none",
         "hoveron": "points",
         "line": {
          "color": "black"
         },
         "opacity": 0.15,
         "showlegend": false,
         "type": "violin",
         "width": 0.7,
         "x": [
          2,
          2
         ],
         "y": [
          7,
          7
         ]
        },
        {
         "hoverinfo": "text",
         "hoverlabel": {
          "font": {
           "size": 18
          }
         },
         "marker": {
          "color": "#dd9618",
          "size": 8
         },
         "mode": "markers",
         "name": "",
         "showlegend": false,
         "text": [
          "<b>Package</b>: lodash.flatten<br><b>Version</b>: 4.4.0<br><b>Count</b>: 1"
         ],
         "type": "scatter",
         "x": [
          7
         ],
         "y": [
          8
         ]
        },
        {
         "bandwidth": 0.4,
         "fillcolor": "black",
         "hoverinfo": "none",
         "hoveron": "points",
         "line": {
          "color": "black"
         },
         "opacity": 0.15,
         "showlegend": false,
         "type": "violin",
         "width": 0.7,
         "x": [
          7
         ],
         "y": [
          8
         ]
        },
        {
         "hoverinfo": "text",
         "hoverlabel": {
          "font": {
           "size": 18
          }
         },
         "marker": {
          "color": "#2de388",
          "size": 8
         },
         "mode": "markers",
         "name": "",
         "showlegend": false,
         "text": [
          "<b>Package</b>: lodash.get<br><b>Version</b>: 4.4.2<br><b>Count</b>: 1"
         ],
         "type": "scatter",
         "x": [
          8
         ],
         "y": [
          9
         ]
        },
        {
         "bandwidth": 0.4,
         "fillcolor": "black",
         "hoverinfo": "none",
         "hoveron": "points",
         "line": {
          "color": "black"
         },
         "opacity": 0.15,
         "showlegend": false,
         "type": "violin",
         "width": 0.7,
         "x": [
          8
         ],
         "y": [
          9
         ]
        },
        {
         "hoverinfo": "text",
         "hoverlabel": {
          "font": {
           "size": 18
          }
         },
         "marker": {
          "color": "#001635",
          "size": 8
         },
         "mode": "markers",
         "name": "",
         "showlegend": false,
         "text": [
          "<b>Package</b>: lodash.clonedeep<br><b>Version</b>: 4.5.0<br><b>Count</b>: 2",
          "<b>Package</b>: lodash.clonedeep<br><b>Version</b>: 4.5.0<br><b>Count</b>: 2"
         ],
         "type": "scatter",
         "x": [
          3,
          3
         ],
         "y": [
          10,
          10
         ]
        },
        {
         "bandwidth": 0.4,
         "fillcolor": "black",
         "hoverinfo": "none",
         "hoveron": "points",
         "line": {
          "color": "black"
         },
         "opacity": 0.15,
         "showlegend": false,
         "type": "violin",
         "width": 0.7,
         "x": [
          3,
          3
         ],
         "y": [
          10,
          10
         ]
        },
        {
         "hoverinfo": "text",
         "hoverlabel": {
          "font": {
           "size": 18
          }
         },
         "marker": {
          "color": "#293be3",
          "size": 8
         },
         "mode": "markers",
         "name": "",
         "showlegend": false,
         "text": [
          "<b>Package</b>: lodash.template<br><b>Version</b>: 4.5.0<br><b>Count</b>: 1"
         ],
         "type": "scatter",
         "x": [
          15
         ],
         "y": [
          10
         ]
        },
        {
         "bandwidth": 0.4,
         "fillcolor": "black",
         "hoverinfo": "none",
         "hoveron": "points",
         "line": {
          "color": "black"
         },
         "opacity": 0.15,
         "showlegend": false,
         "type": "violin",
         "width": 0.7,
         "x": [
          15
         ],
         "y": [
          10
         ]
        },
        {
         "hoverinfo": "text",
         "hoverlabel": {
          "font": {
           "size": 18
          }
         },
         "marker": {
          "color": "#e3163f",
          "size": 8
         },
         "mode": "markers",
         "name": "",
         "showlegend": false,
         "text": [
          "<b>Package</b>: lodash.uniq<br><b>Version</b>: 4.5.0<br><b>Count</b>: 3",
          "<b>Package</b>: lodash.uniq<br><b>Version</b>: 4.5.0<br><b>Count</b>: 3",
          "<b>Package</b>: lodash.uniq<br><b>Version</b>: 4.5.0<br><b>Count</b>: 3"
         ],
         "type": "scatter",
         "x": [
          17,
          17,
          17
         ],
         "y": [
          10,
          10,
          10
         ]
        },
        {
         "bandwidth": 0.4,
         "fillcolor": "black",
         "hoverinfo": "none",
         "hoveron": "points",
         "line": {
          "color": "black"
         },
         "opacity": 0.15,
         "showlegend": false,
         "type": "violin",
         "width": 0.7,
         "x": [
          17,
          17,
          17
         ],
         "y": [
          10,
          10,
          10
         ]
        },
        {
         "hoverinfo": "text",
         "hoverlabel": {
          "font": {
           "size": 18
          }
         },
         "marker": {
          "color": "#dd9618",
          "size": 8
         },
         "mode": "markers",
         "name": "",
         "showlegend": false,
         "text": [
          "<b>Package</b>: lodash.defaultsdeep<br><b>Version</b>: 4.6.0<br><b>Count</b>: 2",
          "<b>Package</b>: lodash.defaultsdeep<br><b>Version</b>: 4.6.0<br><b>Count</b>: 2"
         ],
         "type": "scatter",
         "x": [
          5,
          5
         ],
         "y": [
          11,
          11
         ]
        },
        {
         "bandwidth": 0.4,
         "fillcolor": "black",
         "hoverinfo": "none",
         "hoveron": "points",
         "line": {
          "color": "black"
         },
         "opacity": 0.15,
         "showlegend": false,
         "type": "violin",
         "width": 0.7,
         "x": [
          5,
          5
         ],
         "y": [
          11,
          11
         ]
        },
        {
         "hoverinfo": "text",
         "hoverlabel": {
          "font": {
           "size": 18
          }
         },
         "marker": {
          "color": "#2de388",
          "size": 8
         },
         "mode": "markers",
         "name": "",
         "showlegend": false,
         "text": [
          "<b>Package</b>: lodash.findkey<br><b>Version</b>: 4.6.0<br><b>Count</b>: 1"
         ],
         "type": "scatter",
         "x": [
          6
         ],
         "y": [
          11
         ]
        },
        {
         "bandwidth": 0.4,
         "fillcolor": "black",
         "hoverinfo": "none",
         "hoveron": "points",
         "line": {
          "color": "black"
         },
         "opacity": 0.15,
         "showlegend": false,
         "type": "violin",
         "width": 0.7,
         "x": [
          6
         ],
         "y": [
          11
         ]
        },
        {
         "hoverinfo": "text",
         "hoverlabel": {
          "font": {
           "size": 18
          }
         },
         "marker": {
          "color": "#001635",
          "size": 8
         },
         "mode": "markers",
         "name": "",
         "showlegend": false,
         "text": [
          "<b>Package</b>: lodash.omitby<br><b>Version</b>: 4.6.0<br><b>Count</b>: 1"
         ],
         "type": "scatter",
         "x": [
          11
         ],
         "y": [
          11
         ]
        },
        {
         "bandwidth": 0.4,
         "fillcolor": "black",
         "hoverinfo": "none",
         "hoveron": "points",
         "line": {
          "color": "black"
         },
         "opacity": 0.15,
         "showlegend": false,
         "type": "violin",
         "width": 0.7,
         "x": [
          11
         ],
         "y": [
          11
         ]
        },
        {
         "hoverinfo": "text",
         "hoverlabel": {
          "font": {
           "size": 18
          }
         },
         "marker": {
          "color": "#293be3",
          "size": 8
         },
         "mode": "markers",
         "name": "",
         "showlegend": false,
         "text": [
          "<b>Package</b>: lodash.merge<br><b>Version</b>: 4.6.2<br><b>Count</b>: 1"
         ],
         "type": "scatter",
         "x": [
          10
         ],
         "y": [
          12
         ]
        },
        {
         "bandwidth": 0.4,
         "fillcolor": "black",
         "hoverinfo": "none",
         "hoveron": "points",
         "line": {
          "color": "black"
         },
         "opacity": 0.15,
         "showlegend": false,
         "type": "violin",
         "width": 0.7,
         "x": [
          10
         ],
         "y": [
          12
         ]
        },
        {
         "hoverinfo": "text",
         "hoverlabel": {
          "font": {
           "size": 18
          }
         },
         "marker": {
          "color": "#e3163f",
          "size": 8
         },
         "mode": "markers",
         "name": "",
         "showlegend": false,
         "text": [
          "<b>Package</b>: lodash.sortby<br><b>Version</b>: 4.7.0<br><b>Count</b>: 1"
         ],
         "type": "scatter",
         "x": [
          14
         ],
         "y": [
          13
         ]
        },
        {
         "bandwidth": 0.4,
         "fillcolor": "black",
         "hoverinfo": "none",
         "hoveron": "points",
         "line": {
          "color": "black"
         },
         "opacity": 0.15,
         "showlegend": false,
         "type": "violin",
         "width": 0.7,
         "x": [
          14
         ],
         "y": [
          13
         ]
        },
        {
         "hoverinfo": "text",
         "hoverlabel": {
          "font": {
           "size": 18
          }
         },
         "marker": {
          "color": "#dd9618",
          "size": 8
         },
         "mode": "markers",
         "name": "",
         "showlegend": false,
         "text": [
          "<b>Package</b>: lodash.uniqby<br><b>Version</b>: 4.7.0<br><b>Count</b>: 1"
         ],
         "type": "scatter",
         "x": [
          18
         ],
         "y": [
          13
         ]
        },
        {
         "bandwidth": 0.4,
         "fillcolor": "black",
         "hoverinfo": "none",
         "hoveron": "points",
         "line": {
          "color": "black"
         },
         "opacity": 0.15,
         "showlegend": false,
         "type": "violin",
         "width": 0.7,
         "x": [
          18
         ],
         "y": [
          13
         ]
        },
        {
         "hoverinfo": "text",
         "hoverlabel": {
          "font": {
           "size": 18
          }
         },
         "marker": {
          "color": "#2de388",
          "size": 8
         },
         "mode": "markers",
         "name": "",
         "showlegend": false,
         "text": [
          "<b>Package</b>: lodash-es<br><b>Version</b>: 4.17.21<br><b>Count</b>: 7",
          "<b>Package</b>: lodash-es<br><b>Version</b>: 4.17.21<br><b>Count</b>: 7",
          "<b>Package</b>: lodash-es<br><b>Version</b>: 4.17.21<br><b>Count</b>: 7",
          "<b>Package</b>: lodash-es<br><b>Version</b>: 4.17.21<br><b>Count</b>: 7",
          "<b>Package</b>: lodash-es<br><b>Version</b>: 4.17.21<br><b>Count</b>: 7",
          "<b>Package</b>: lodash-es<br><b>Version</b>: 4.17.21<br><b>Count</b>: 7",
          "<b>Package</b>: lodash-es<br><b>Version</b>: 4.17.21<br><b>Count</b>: 7"
         ],
         "type": "scatter",
         "x": [
          1,
          1,
          1,
          1,
          1,
          1,
          1
         ],
         "y": [
          22,
          22,
          22,
          22,
          22,
          22,
          22
         ]
        },
        {
         "bandwidth": 0.4,
         "fillcolor": "black",
         "hoverinfo": "none",
         "hoveron": "points",
         "line": {
          "color": "black"
         },
         "opacity": 0.15,
         "showlegend": false,
         "type": "violin",
         "width": 0.7,
         "x": [
          1,
          1,
          1,
          1,
          1,
          1,
          1
         ],
         "y": [
          22,
          22,
          22,
          22,
          22,
          22,
          22
         ]
        }
       ],
       "layout": {
        "height": 900,
        "template": {
         "data": {
          "bar": [
           {
            "error_x": {
             "color": "#2a3f5f"
            },
            "error_y": {
             "color": "#2a3f5f"
            },
            "marker": {
             "line": {
              "color": "#E5ECF6",
              "width": 0.5
             },
             "pattern": {
              "fillmode": "overlay",
              "size": 10,
              "solidity": 0.2
             }
            },
            "type": "bar"
           }
          ],
          "barpolar": [
           {
            "marker": {
             "line": {
              "color": "#E5ECF6",
              "width": 0.5
             },
             "pattern": {
              "fillmode": "overlay",
              "size": 10,
              "solidity": 0.2
             }
            },
            "type": "barpolar"
           }
          ],
          "carpet": [
           {
            "aaxis": {
             "endlinecolor": "#2a3f5f",
             "gridcolor": "white",
             "linecolor": "white",
             "minorgridcolor": "white",
             "startlinecolor": "#2a3f5f"
            },
            "baxis": {
             "endlinecolor": "#2a3f5f",
             "gridcolor": "white",
             "linecolor": "white",
             "minorgridcolor": "white",
             "startlinecolor": "#2a3f5f"
            },
            "type": "carpet"
           }
          ],
          "choropleth": [
           {
            "colorbar": {
             "outlinewidth": 0,
             "ticks": ""
            },
            "type": "choropleth"
           }
          ],
          "contour": [
           {
            "colorbar": {
             "outlinewidth": 0,
             "ticks": ""
            },
            "colorscale": [
             [
              0,
              "#0d0887"
             ],
             [
              0.1111111111111111,
              "#46039f"
             ],
             [
              0.2222222222222222,
              "#7201a8"
             ],
             [
              0.3333333333333333,
              "#9c179e"
             ],
             [
              0.4444444444444444,
              "#bd3786"
             ],
             [
              0.5555555555555556,
              "#d8576b"
             ],
             [
              0.6666666666666666,
              "#ed7953"
             ],
             [
              0.7777777777777778,
              "#fb9f3a"
             ],
             [
              0.8888888888888888,
              "#fdca26"
             ],
             [
              1,
              "#f0f921"
             ]
            ],
            "type": "contour"
           }
          ],
          "contourcarpet": [
           {
            "colorbar": {
             "outlinewidth": 0,
             "ticks": ""
            },
            "type": "contourcarpet"
           }
          ],
          "heatmap": [
           {
            "colorbar": {
             "outlinewidth": 0,
             "ticks": ""
            },
            "colorscale": [
             [
              0,
              "#0d0887"
             ],
             [
              0.1111111111111111,
              "#46039f"
             ],
             [
              0.2222222222222222,
              "#7201a8"
             ],
             [
              0.3333333333333333,
              "#9c179e"
             ],
             [
              0.4444444444444444,
              "#bd3786"
             ],
             [
              0.5555555555555556,
              "#d8576b"
             ],
             [
              0.6666666666666666,
              "#ed7953"
             ],
             [
              0.7777777777777778,
              "#fb9f3a"
             ],
             [
              0.8888888888888888,
              "#fdca26"
             ],
             [
              1,
              "#f0f921"
             ]
            ],
            "type": "heatmap"
           }
          ],
          "heatmapgl": [
           {
            "colorbar": {
             "outlinewidth": 0,
             "ticks": ""
            },
            "colorscale": [
             [
              0,
              "#0d0887"
             ],
             [
              0.1111111111111111,
              "#46039f"
             ],
             [
              0.2222222222222222,
              "#7201a8"
             ],
             [
              0.3333333333333333,
              "#9c179e"
             ],
             [
              0.4444444444444444,
              "#bd3786"
             ],
             [
              0.5555555555555556,
              "#d8576b"
             ],
             [
              0.6666666666666666,
              "#ed7953"
             ],
             [
              0.7777777777777778,
              "#fb9f3a"
             ],
             [
              0.8888888888888888,
              "#fdca26"
             ],
             [
              1,
              "#f0f921"
             ]
            ],
            "type": "heatmapgl"
           }
          ],
          "histogram": [
           {
            "marker": {
             "pattern": {
              "fillmode": "overlay",
              "size": 10,
              "solidity": 0.2
             }
            },
            "type": "histogram"
           }
          ],
          "histogram2d": [
           {
            "colorbar": {
             "outlinewidth": 0,
             "ticks": ""
            },
            "colorscale": [
             [
              0,
              "#0d0887"
             ],
             [
              0.1111111111111111,
              "#46039f"
             ],
             [
              0.2222222222222222,
              "#7201a8"
             ],
             [
              0.3333333333333333,
              "#9c179e"
             ],
             [
              0.4444444444444444,
              "#bd3786"
             ],
             [
              0.5555555555555556,
              "#d8576b"
             ],
             [
              0.6666666666666666,
              "#ed7953"
             ],
             [
              0.7777777777777778,
              "#fb9f3a"
             ],
             [
              0.8888888888888888,
              "#fdca26"
             ],
             [
              1,
              "#f0f921"
             ]
            ],
            "type": "histogram2d"
           }
          ],
          "histogram2dcontour": [
           {
            "colorbar": {
             "outlinewidth": 0,
             "ticks": ""
            },
            "colorscale": [
             [
              0,
              "#0d0887"
             ],
             [
              0.1111111111111111,
              "#46039f"
             ],
             [
              0.2222222222222222,
              "#7201a8"
             ],
             [
              0.3333333333333333,
              "#9c179e"
             ],
             [
              0.4444444444444444,
              "#bd3786"
             ],
             [
              0.5555555555555556,
              "#d8576b"
             ],
             [
              0.6666666666666666,
              "#ed7953"
             ],
             [
              0.7777777777777778,
              "#fb9f3a"
             ],
             [
              0.8888888888888888,
              "#fdca26"
             ],
             [
              1,
              "#f0f921"
             ]
            ],
            "type": "histogram2dcontour"
           }
          ],
          "mesh3d": [
           {
            "colorbar": {
             "outlinewidth": 0,
             "ticks": ""
            },
            "type": "mesh3d"
           }
          ],
          "parcoords": [
           {
            "line": {
             "colorbar": {
              "outlinewidth": 0,
              "ticks": ""
             }
            },
            "type": "parcoords"
           }
          ],
          "pie": [
           {
            "automargin": true,
            "type": "pie"
           }
          ],
          "scatter": [
           {
            "fillpattern": {
             "fillmode": "overlay",
             "size": 10,
             "solidity": 0.2
            },
            "type": "scatter"
           }
          ],
          "scatter3d": [
           {
            "line": {
             "colorbar": {
              "outlinewidth": 0,
              "ticks": ""
             }
            },
            "marker": {
             "colorbar": {
              "outlinewidth": 0,
              "ticks": ""
             }
            },
            "type": "scatter3d"
           }
          ],
          "scattercarpet": [
           {
            "marker": {
             "colorbar": {
              "outlinewidth": 0,
              "ticks": ""
             }
            },
            "type": "scattercarpet"
           }
          ],
          "scattergeo": [
           {
            "marker": {
             "colorbar": {
              "outlinewidth": 0,
              "ticks": ""
             }
            },
            "type": "scattergeo"
           }
          ],
          "scattergl": [
           {
            "marker": {
             "colorbar": {
              "outlinewidth": 0,
              "ticks": ""
             }
            },
            "type": "scattergl"
           }
          ],
          "scattermapbox": [
           {
            "marker": {
             "colorbar": {
              "outlinewidth": 0,
              "ticks": ""
             }
            },
            "type": "scattermapbox"
           }
          ],
          "scatterpolar": [
           {
            "marker": {
             "colorbar": {
              "outlinewidth": 0,
              "ticks": ""
             }
            },
            "type": "scatterpolar"
           }
          ],
          "scatterpolargl": [
           {
            "marker": {
             "colorbar": {
              "outlinewidth": 0,
              "ticks": ""
             }
            },
            "type": "scatterpolargl"
           }
          ],
          "scatterternary": [
           {
            "marker": {
             "colorbar": {
              "outlinewidth": 0,
              "ticks": ""
             }
            },
            "type": "scatterternary"
           }
          ],
          "surface": [
           {
            "colorbar": {
             "outlinewidth": 0,
             "ticks": ""
            },
            "colorscale": [
             [
              0,
              "#0d0887"
             ],
             [
              0.1111111111111111,
              "#46039f"
             ],
             [
              0.2222222222222222,
              "#7201a8"
             ],
             [
              0.3333333333333333,
              "#9c179e"
             ],
             [
              0.4444444444444444,
              "#bd3786"
             ],
             [
              0.5555555555555556,
              "#d8576b"
             ],
             [
              0.6666666666666666,
              "#ed7953"
             ],
             [
              0.7777777777777778,
              "#fb9f3a"
             ],
             [
              0.8888888888888888,
              "#fdca26"
             ],
             [
              1,
              "#f0f921"
             ]
            ],
            "type": "surface"
           }
          ],
          "table": [
           {
            "cells": {
             "fill": {
              "color": "#EBF0F8"
             },
             "line": {
              "color": "white"
             }
            },
            "header": {
             "fill": {
              "color": "#C8D4E3"
             },
             "line": {
              "color": "white"
             }
            },
            "type": "table"
           }
          ]
         },
         "layout": {
          "annotationdefaults": {
           "arrowcolor": "#2a3f5f",
           "arrowhead": 0,
           "arrowwidth": 1
          },
          "autotypenumbers": "strict",
          "coloraxis": {
           "colorbar": {
            "outlinewidth": 0,
            "ticks": ""
           }
          },
          "colorscale": {
           "diverging": [
            [
             0,
             "#8e0152"
            ],
            [
             0.1,
             "#c51b7d"
            ],
            [
             0.2,
             "#de77ae"
            ],
            [
             0.3,
             "#f1b6da"
            ],
            [
             0.4,
             "#fde0ef"
            ],
            [
             0.5,
             "#f7f7f7"
            ],
            [
             0.6,
             "#e6f5d0"
            ],
            [
             0.7,
             "#b8e186"
            ],
            [
             0.8,
             "#7fbc41"
            ],
            [
             0.9,
             "#4d9221"
            ],
            [
             1,
             "#276419"
            ]
           ],
           "sequential": [
            [
             0,
             "#0d0887"
            ],
            [
             0.1111111111111111,
             "#46039f"
            ],
            [
             0.2222222222222222,
             "#7201a8"
            ],
            [
             0.3333333333333333,
             "#9c179e"
            ],
            [
             0.4444444444444444,
             "#bd3786"
            ],
            [
             0.5555555555555556,
             "#d8576b"
            ],
            [
             0.6666666666666666,
             "#ed7953"
            ],
            [
             0.7777777777777778,
             "#fb9f3a"
            ],
            [
             0.8888888888888888,
             "#fdca26"
            ],
            [
             1,
             "#f0f921"
            ]
           ],
           "sequentialminus": [
            [
             0,
             "#0d0887"
            ],
            [
             0.1111111111111111,
             "#46039f"
            ],
            [
             0.2222222222222222,
             "#7201a8"
            ],
            [
             0.3333333333333333,
             "#9c179e"
            ],
            [
             0.4444444444444444,
             "#bd3786"
            ],
            [
             0.5555555555555556,
             "#d8576b"
            ],
            [
             0.6666666666666666,
             "#ed7953"
            ],
            [
             0.7777777777777778,
             "#fb9f3a"
            ],
            [
             0.8888888888888888,
             "#fdca26"
            ],
            [
             1,
             "#f0f921"
            ]
           ]
          },
          "colorway": [
           "#636efa",
           "#EF553B",
           "#00cc96",
           "#ab63fa",
           "#FFA15A",
           "#19d3f3",
           "#FF6692",
           "#B6E880",
           "#FF97FF",
           "#FECB52"
          ],
          "font": {
           "color": "#2a3f5f"
          },
          "geo": {
           "bgcolor": "white",
           "lakecolor": "white",
           "landcolor": "#E5ECF6",
           "showlakes": true,
           "showland": true,
           "subunitcolor": "white"
          },
          "hoverlabel": {
           "align": "left"
          },
          "hovermode": "closest",
          "mapbox": {
           "style": "light"
          },
          "paper_bgcolor": "white",
          "plot_bgcolor": "#E5ECF6",
          "polar": {
           "angularaxis": {
            "gridcolor": "white",
            "linecolor": "white",
            "ticks": ""
           },
           "bgcolor": "#E5ECF6",
           "radialaxis": {
            "gridcolor": "white",
            "linecolor": "white",
            "ticks": ""
           }
          },
          "scene": {
           "xaxis": {
            "backgroundcolor": "#E5ECF6",
            "gridcolor": "white",
            "gridwidth": 2,
            "linecolor": "white",
            "showbackground": true,
            "ticks": "",
            "zerolinecolor": "white"
           },
           "yaxis": {
            "backgroundcolor": "#E5ECF6",
            "gridcolor": "white",
            "gridwidth": 2,
            "linecolor": "white",
            "showbackground": true,
            "ticks": "",
            "zerolinecolor": "white"
           },
           "zaxis": {
            "backgroundcolor": "#E5ECF6",
            "gridcolor": "white",
            "gridwidth": 2,
            "linecolor": "white",
            "showbackground": true,
            "ticks": "",
            "zerolinecolor": "white"
           }
          },
          "shapedefaults": {
           "line": {
            "color": "#2a3f5f"
           }
          },
          "ternary": {
           "aaxis": {
            "gridcolor": "white",
            "linecolor": "white",
            "ticks": ""
           },
           "baxis": {
            "gridcolor": "white",
            "linecolor": "white",
            "ticks": ""
           },
           "bgcolor": "#E5ECF6",
           "caxis": {
            "gridcolor": "white",
            "linecolor": "white",
            "ticks": ""
           }
          },
          "title": {
           "x": 0.05
          },
          "xaxis": {
           "automargin": true,
           "gridcolor": "white",
           "linecolor": "white",
           "ticks": "",
           "title": {
            "standoff": 15
           },
           "zerolinecolor": "white",
           "zerolinewidth": 2
          },
          "yaxis": {
           "automargin": true,
           "gridcolor": "white",
           "linecolor": "white",
           "ticks": "",
           "title": {
            "standoff": 15
           },
           "zerolinecolor": "white",
           "zerolinewidth": 2
          }
         }
        },
        "title": {
         "text": "Package versions in use"
        },
        "width": 1520,
        "xaxis": {
         "tickfont": {
          "size": 13
         },
         "tickmode": "array",
         "ticktext": [
          "lodash",
          "lodash-es",
          "lodash.camelcase",
          "lodash.clonedeep",
          "lodash.debounce",
          "lodash.defaultsdeep",
          "lodash.findkey",
          "lodash.flatten",
          "lodash.get",
          "lodash.kebabcase",
          "lodash.merge",
          "lodash.omitby",
          "lodash.sample",
          "lodash.snakecase",
          "lodash.sortby",
          "lodash.template",
          "lodash.throttle",
          "lodash.uniq",
          "lodash.uniqby"
         ],
         "tickvals": [
          0,
          1,
          2,
          3,
          4,
          5,
          6,
          7,
          8,
          9,
          10,
          11,
          12,
          13,
          14,
          15,
          16,
          17,
          18
         ],
         "title": {
          "text": "Packages"
         }
        },
        "yaxis": {
         "tickfont": {
          "size": 13
         },
         "tickmode": "array",
         "ticktext": [
          "*",
          "0.2.1",
          "3.10.1",
          "4.0.8",
          "4.1.0",
          "4.1.1",
          "4.2.1",
          "4.3.0",
          "4.4.0",
          "4.4.2",
          "4.5.0",
          "4.6.0",
          "4.6.2",
          "4.7.0",
          "4.12.0",
          "4.17.0",
          "4.17.10",
          "4.17.11",
          "4.17.15",
          "4.17.19",
          "4.17.2",
          "4.17.20",
          "4.17.21",
          "4.17.4"
         ],
         "tickvals": [
          0,
          1,
          2,
          3,
          4,
          5,
          6,
          7,
          8,
          9,
          10,
          11,
          12,
          13,
          14,
          15,
          16,
          17,
          18,
          19,
          20,
          21,
          22,
          23
         ],
         "title": {
          "text": "Versions"
         }
        }
       }
      }
     },
     "metadata": {},
     "output_type": "display_data"
    }
   ],
   "source": [
    "import plotly.graph_objects as go\n",
    "import code_data_science.palette as palette\n",
    "\n",
    "colors = palette.colors_by_weight(500)\n",
    "\n",
    "fig = go.Figure()\n",
    "\n",
    "# Add a trace to the plot for each category\n",
    "for i, category in enumerate(df[\"nName\"].unique()):\n",
    "    category_data = df[df[\"nName\"] == category]\n",
    "\n",
    "    # Calculate counts for each dependency and version combination\n",
    "    counts = (\n",
    "        category_data.groupby(\"nVersion\")[\"nName\"]\n",
    "        .count()\n",
    "        .reset_index(name=\"count\")\n",
    "    )\n",
    "\n",
    "    category_data_with_counts = category_data.merge(counts, on=\"nVersion\")\n",
    "\n",
    "    # Generate hover text including the count information\n",
    "    hover_text = category_data_with_counts.apply(\n",
    "        lambda row: f'<b>Package</b>: {row[\"name\"]}<br><b>Version</b>: {row[\"version\"]}<br><b>Count</b>: {row[\"count\"]}',\n",
    "        axis=1,\n",
    "    )\n",
    "\n",
    "    fig.add_trace(\n",
    "        go.Scatter(\n",
    "            x=category_data[\"nName\"],\n",
    "            y=category_data[\"nVersion\"],\n",
    "            mode=\"markers\",\n",
    "            marker=dict(color=colors[i % len(colors)], size=8),\n",
    "            showlegend=False,\n",
    "            name=\"\",\n",
    "            text=hover_text,\n",
    "            hoverinfo=\"text\",\n",
    "            hoverlabel=dict(font=dict(size=18)),\n",
    "        )\n",
    "    )\n",
    "\n",
    "    fig.add_trace(\n",
    "        go.Violin(\n",
    "            x=category_data[\"nName\"],\n",
    "            y=category_data[\"nVersion\"],\n",
    "            fillcolor=\"black\",\n",
    "            opacity=0.15,\n",
    "            line_color=\"black\",\n",
    "            showlegend=False,\n",
    "            width=0.7,\n",
    "            bandwidth=0.4,\n",
    "            hoverinfo=\"none\",\n",
    "            hoveron=\"points\",\n",
    "        )\n",
    "    )\n",
    "\n",
    "num_versions = df[\"nVersion\"].nunique()\n",
    "height_per_version = 32\n",
    "width_per_dependency = 80\n",
    "fig_height = max(num_versions * height_per_version, 900)\n",
    "fig_width = max(len(list(nmap.values())) * width_per_dependency, 900)\n",
    "tick_font_size = 13\n",
    "# Customizing the layout\n",
    "fig.update_layout(\n",
    "    title=\"Package versions in use\",\n",
    "    xaxis_title=\"Packages\",\n",
    "    yaxis_title=\"Versions\",\n",
    "    height=fig_height,\n",
    "    width=fig_width,\n",
    "    xaxis=dict(\n",
    "        tickfont=dict(size=tick_font_size),\n",
    "        tickmode=\"array\",\n",
    "        tickvals=list(nmap.values()),\n",
    "        ticktext=list(nmap.keys()),\n",
    "    ),\n",
    "    yaxis=dict(\n",
    "        tickfont=dict(size=tick_font_size),\n",
    "        tickmode=\"array\",\n",
    "        tickvals=list(vmap.values()),\n",
    "        ticktext=list(vmap.keys()),\n",
    "    ),\n",
    ")\n",
    "\n",
    "fig.show()"
   ]
  }
 ],
 "metadata": {
  "kernelspec": {
   "display_name": "Python 3",
   "language": "python",
   "name": "python3"
  },
  "language_info": {
   "codemirror_mode": {
    "name": "ipython",
    "version": 3
   },
   "file_extension": ".py",
   "mimetype": "text/x-python",
   "name": "python",
   "nbconvert_exporter": "python",
   "pygments_lexer": "ipython3",
   "version": "3.12.2"
  }
 },
 "nbformat": 4,
 "nbformat_minor": 2
}
