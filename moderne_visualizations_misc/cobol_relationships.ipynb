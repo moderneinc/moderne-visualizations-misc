{
 "cells": [
  {
   "cell_type": "code",
   "execution_count": null,
   "id": "fe0ea925",
   "metadata": {
    "collapsed": false,
    "tags": [
     "parameters"
    ]
   },
   "outputs": [],
   "source": [
    "node_shape: str = \"ellipse\""
   ]
  },
  {
   "cell_type": "code",
   "execution_count": null,
   "id": "1934da7b",
   "metadata": {
    "collapsed": false
   },
   "outputs": [],
   "source": [
    "import graphviz\n",
    "import re\n",
    "from code_data_science import data_table as dt\n",
    "import code_data_science.palette as palette\n",
    "\n",
    "df = dt.read_csv(\"../samples/cobol_relationships.csv\")"
   ]
  },
  {
   "cell_type": "code",
   "execution_count": null,
   "id": "def9e15f-7027-4ca6-88c0-84e67ca9417b",
   "metadata": {
    "ExecuteTime": {
     "end_time": "2023-08-04T16:02:27.603653Z",
     "start_time": "2023-08-04T16:02:26.607939Z"
    }
   },
   "outputs": [],
   "source": [
    "graphviz.set_jupyter_format(\"svg\")\n",
    "graphviz.set_default_engine(\"sfdp\")\n",
    "dot = graphviz.Digraph(\"cobol-relationships\", comment=\"COBOL relationships\")\n",
    "\n",
    "# clean dependent field remove all content up to first slash\n",
    "df[\"dependent\"] = df[\"dependent\"].apply(lambda x: re.sub(r\"^.*\\/\", \"\", x))\n",
    "\n",
    "\n",
    "def style_node(isMissing, dependencyType):\n",
    "    if isMissing == \"true\":\n",
    "        return palette.__moderneColorMap[\"red\"][200]\n",
    "    if dependencyType == \"COBOL\":\n",
    "        return palette.__moderneColorMap[\"blue\"][400]\n",
    "    if dependencyType == \"COPYBOOK\":\n",
    "        return palette.__moderneColorMap[\"blue\"][200]\n",
    "    if dependencyType == \"LINKEDIT\":\n",
    "        return palette.__moderneColorMap[\"yellow\"][200]\n",
    "    if dependencyType == \"BINDPACKAGE\":\n",
    "        return palette.__moderneColorMap[\"green\"][200]\n",
    "    if dependencyType == \"BINDPLAN\":\n",
    "        return palette.__moderneColorMap[\"green\"][400]\n",
    "    return \"white\"\n",
    "\n",
    "\n",
    "def addAnnotation(value, docType):\n",
    "    return f\"<<b>{value}</b><br/><i>({docType})</i>>\"\n",
    "\n",
    "\n",
    "def map_relationship(row):\n",
    "    dot.node(\n",
    "        row[\"dependent\"],\n",
    "        shape=node_shape,\n",
    "        label=addAnnotation(row[\"dependent\"], row[\"dependentType\"]),\n",
    "        style=\"filled\",\n",
    "        fillcolor=style_node(row[\"dependencyMissing\"], row[\"dependentType\"]),\n",
    "    )\n",
    "    dot.node(\n",
    "        row[\"dependency\"],\n",
    "        shape=node_shape,\n",
    "        label=addAnnotation(row[\"dependency\"], row[\"dependencyType\"]),\n",
    "        style=\"filled\",\n",
    "        fillcolor=style_node(row[\"dependencyMissing\"], row[\"dependencyType\"]),\n",
    "    )\n",
    "    dot.edge(row[\"dependent\"], row[\"dependency\"], row[\"action\"])\n",
    "\n",
    "\n",
    "df.apply(map_relationship, axis=1)\n",
    "\n",
    "dot"
   ]
  }
 ],
 "metadata": {
  "kernelspec": {
   "display_name": "Python 3 (ipykernel)",
   "language": "python",
   "name": "python3"
  },
  "language_info": {
   "codemirror_mode": {
    "name": "ipython",
    "version": 3
   },
   "file_extension": ".py",
   "mimetype": "text/x-python",
   "name": "python",
   "nbconvert_exporter": "python",
   "pygments_lexer": "ipython3",
   "version": "3.11.4"
  }
 },
 "nbformat": 4,
 "nbformat_minor": 5
}
