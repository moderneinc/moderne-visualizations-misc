{
 "cells": [
  {
   "cell_type": "code",
   "execution_count": null,
   "metadata": {
    "tags": [
     "parameters"
    ]
   },
   "outputs": [],
   "source": [
    "filter_by_fqn: str = \"\"\n",
    "filter_by_method_name: str = \"\""
   ]
  },
  {
   "cell_type": "markdown",
   "metadata": {},
   "source": [
    "Bring in data table and do initial cleaning"
   ]
  },
  {
   "cell_type": "code",
   "execution_count": null,
   "metadata": {},
   "outputs": [],
   "source": [
    "from code_data_science import data_table as dt\n",
    "\n",
    "df = dt.read_csv(\"../samples/call_graph.csv\")\n",
    "\n",
    "# drop all columns except fromClass, fromName, toClass, toName\n",
    "df = df[[\"fromClass\", \"fromName\", \"toClass\", \"toName\"]]\n",
    "\n",
    "if filter_by_fqn:\n",
    "    df = df[(df[\"fromClass\"] == filter_by_fqn) | (df[\"toClass\"] == filter_by_fqn)]\n",
    "\n",
    "if filter_by_method_name:\n",
    "    df = df[\n",
    "        (df[\"fromName\"] == filter_by_method_name)\n",
    "        | (df[\"toName\"] == filter_by_method_name)\n",
    "    ]\n",
    "\n",
    "if df.empty:\n",
    "    raise Exception(\"DataFrame is empty\")"
   ]
  },
  {
   "cell_type": "code",
   "execution_count": null,
   "metadata": {},
   "outputs": [],
   "source": [
    "plantuml_code = [\"@startuml\"]\n",
    "# TODO: add dynamic coloring based on actions or something in the future\n",
    "colors = [\"black\", \"red\", \"blue\", \"purple\"]\n",
    "\n",
    "classes = {}\n",
    "\n",
    "\n",
    "def is_valid_class(class_name):\n",
    "    if filter_by_fqn:\n",
    "        return (\n",
    "            True\n",
    "            if isinstance(class_name, str) and class_name == filter_by_fqn\n",
    "            else False\n",
    "        )\n",
    "\n",
    "    return True\n",
    "\n",
    "\n",
    "def is_valid_method(method_name):\n",
    "    if filter_by_method_name:\n",
    "        return (\n",
    "            True\n",
    "            if isinstance(method_name, str) and method_name == filter_by_method_name\n",
    "            else False\n",
    "        )\n",
    "\n",
    "    return True\n",
    "\n",
    "\n",
    "def make_method(name):\n",
    "    # return f\"{name}(arguments)\" if isinstance(arguments, str) else f\"{name}()\"\n",
    "    # overloads are not supported in v1.\n",
    "    return f\"{name}()\"\n",
    "\n",
    "\n",
    "def add_method_to_class(class_name, method_name):\n",
    "    if class_name not in classes:\n",
    "        classes[class_name] = set()\n",
    "    members = classes[class_name]\n",
    "    method = make_method(method_name)\n",
    "    if method not in members:\n",
    "        members.add(method)\n",
    "\n",
    "\n",
    "for i, row in df.iterrows():\n",
    "    from_class, to_class = row[\"fromClass\"], row[\"toClass\"]\n",
    "    from_name, to_name = row[\"fromName\"], row[\"toName\"]\n",
    "\n",
    "    if is_valid_class(from_class) and is_valid_method(from_name):\n",
    "        add_method_to_class(from_class, from_name)\n",
    "        add_method_to_class(to_class, to_name)\n",
    "\n",
    "        from_method = make_method(from_name)\n",
    "        to_method = make_method(to_name)\n",
    "        plantuml_code.append(\n",
    "            f'\"{from_class}::{from_method}\" --> \"{to_class}::{to_method}\"'\n",
    "        )\n",
    "\n",
    "    if is_valid_class(to_class) and is_valid_method(to_name):\n",
    "        add_method_to_class(to_class, to_name)\n",
    "        add_method_to_class(from_class, from_name)\n",
    "\n",
    "        from_method = make_method(from_name)\n",
    "        to_method = make_method(to_name)\n",
    "        plantuml_code.append(\n",
    "            f'\"{to_class}::{to_method}\" <-- \"{from_class}::{from_method}\"'\n",
    "        )"
   ]
  },
  {
   "cell_type": "code",
   "execution_count": null,
   "metadata": {},
   "outputs": [],
   "source": [
    "# Create classes\n",
    "for _class in classes:\n",
    "    plantuml_code.append(f'class \"{_class}\"')\n",
    "    plantuml_code.append(\"{\")\n",
    "    for member in classes[_class]:\n",
    "        plantuml_code.append(f\"    +{member}\")\n",
    "    plantuml_code.append(\"}\")\n",
    "\n",
    "# empty line needed for whatever reason plantuml needs it for when it needs it ¯\\_(ツ)_/¯\n",
    "plantuml_code.append(\"\")\n",
    "\n",
    "plantuml_code.append(\"@enduml\")\n",
    "\n",
    "plantuml_code_string = \"\\n\".join(plantuml_code)\n",
    "\n",
    "# print(plantuml_code_string)"
   ]
  },
  {
   "cell_type": "markdown",
   "metadata": {},
   "source": [
    "Run the plantUML code and display the image. \\\n",
    "Here we are using the `-pipe` option to avoid creating temporary files."
   ]
  },
  {
   "cell_type": "code",
   "execution_count": null,
   "metadata": {},
   "outputs": [],
   "source": [
    "# TODO: refactor this into code-data-science\n",
    "from subprocess import run\n",
    "from IPython.display import SVG\n",
    "\n",
    "jarpath = \"./resources/plantuml.jar\"\n",
    "cmd = [\"java\", \"-jar\", jarpath, \"-tsvg\", \"-pipe\"]\n",
    "compl = run(cmd, input=plantuml_code_string, text=True, capture_output=True)\n",
    "SVG(compl.stdout)"
   ]
  }
 ],
 "metadata": {
  "kernelspec": {
   "display_name": "Python 3",
   "language": "python",
   "name": "python3"
  },
  "language_info": {
   "codemirror_mode": {
    "name": "ipython",
    "version": 3
   },
   "file_extension": ".py",
   "mimetype": "text/x-python",
   "name": "python",
   "nbconvert_exporter": "python",
   "pygments_lexer": "ipython3",
   "version": "3.11.4"
  },
  "orig_nbformat": 4
 },
 "nbformat": 4,
 "nbformat_minor": 2
}
